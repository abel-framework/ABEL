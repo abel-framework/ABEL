{
 "cells": [
  {
   "cell_type": "code",
   "execution_count": null,
   "id": "0c6a9458-ab7a-4a45-980e-2c96a0623537",
   "metadata": {},
   "outputs": [],
   "source": [
    "import sys\n",
    "sys.path.append('../')\n",
    "from opal import SourceBasic, StageBasic, BeamDeliverySystemFACET2Basic, SpectrometerFACET2Basic, Experiment, QuadrupoleBasic\n",
    "\n",
    "# define beam\n",
    "source = SourceBasic()\n",
    "source.L = 0 # [m]\n",
    "source.Q = -1e-9 # [C]\n",
    "source.E0 = 10e9 # [eV]\n",
    "source.sigE = 0.01*source.E0 # [eV]\n",
    "source.sigz = 10e-6 # [m]\n",
    "source.z = -100e-6 # [m]\n",
    "source.emitnx = 5e-6 # [m rad]\n",
    "source.emitny = 2e-6 # [m rad]\n",
    "source.betax = 20e-3 # [m]\n",
    "source.betay = source.betax\n",
    "source.Npart = 10000\n",
    "\n",
    "# define beamline\n",
    "bds = BeamDeliverySystemFACET2Basic()\n",
    "bds.beta_waist = 0.05 # [m]\n",
    "bds.s_waist = 0 # [m]\n",
    "\n",
    "# define stage\n",
    "stage = StageBasic()\n",
    "stage.deltaE = 4e9 # [eV]\n",
    "stage.L = 0.5 # [m]\n",
    "#stage.n0 = 1e22 # [m^-3]\n",
    "#stage.kRb = 2.5\n",
    "\n",
    "# define spectrometer\n",
    "spectrometer = SpectrometerFACET2Basic()\n",
    "spectrometer.B_dip = 0.5 # [T]\n",
    "spectrometer.s_obj = 0 # [m]\n",
    "\n",
    "# define experiment\n",
    "experiment = Experiment(source, bds, stage, spectrometer)\n",
    "beam = experiment.run(\"FACET-II\")\n",
    "\n",
    "# see output\n",
    "experiment.plotSpectrometerScreen()\n",
    "beam0 = source.track()\n",
    "beam.plotLPS()"
   ]
  },
  {
   "cell_type": "code",
   "execution_count": null,
   "id": "5236ad5d-5589-4cb9-90ac-d517ee1fe301",
   "metadata": {},
   "outputs": [],
   "source": [
    "drift_0 = QuadrupoleBasic(1, 0)\n",
    "quad_0 = QuadrupoleBasic(1, 1)\n",
    "drift_1 = QuadrupoleBasic(1, 0)\n",
    "quad_1 = QuadrupoleBasic(1, -1)\n",
    "drift_2 = QuadrupoleBasic(1, 0)\n",
    "quad_2 = QuadrupoleBasic(1, -2)\n",
    "drift_3 = QuadrupoleBasic(1, 0)"
   ]
  },
  {
   "cell_type": "code",
   "execution_count": null,
   "id": "5412ca59-8003-4e67-a360-0d97e2cec430",
   "metadata": {},
   "outputs": [],
   "source": [
    "test = spectrometer.transferMatrix(quad_0,quad_1,quad_2, drift_0, drift_1, drift_2, drift_3)"
   ]
  },
  {
   "cell_type": "code",
   "execution_count": null,
   "id": "e35269ae-66c1-4a8d-92c1-8b2cb0d55d96",
   "metadata": {},
   "outputs": [],
   "source": [
    "test"
   ]
  },
  {
   "cell_type": "code",
   "execution_count": null,
   "id": "919cc117-a282-4d89-8af5-57e76388684c",
   "metadata": {},
   "outputs": [],
   "source": [
    "x0 = [2,-1,-1]"
   ]
  },
  {
   "cell_type": "code",
   "execution_count": null,
   "id": "70993d9c-ff5d-438a-be1b-b8b87dea4151",
   "metadata": {},
   "outputs": [],
   "source": [
    "test = spectrometer.minimize(x0)"
   ]
  },
  {
   "cell_type": "code",
   "execution_count": null,
   "id": "1cbebf48-8297-427b-82c8-ced1dc782a39",
   "metadata": {},
   "outputs": [],
   "source": [
    "test.x"
   ]
  },
  {
   "cell_type": "code",
   "execution_count": null,
   "id": "71892c15-c43f-4dc0-8e39-688361debbdb",
   "metadata": {},
   "outputs": [],
   "source": [
    "beam.beamSizeX()"
   ]
  },
  {
   "cell_type": "code",
   "execution_count": null,
   "id": "183d0df7-675e-4ca7-b83a-95fbf0cc3613",
   "metadata": {},
   "outputs": [],
   "source": [
    "beam0.beamSizeX()"
   ]
  },
  {
   "cell_type": "code",
   "execution_count": null,
   "id": "717c18fa-c559-42ce-84f8-de9a97a2ef59",
   "metadata": {},
   "outputs": [],
   "source": []
  }
 ],
 "metadata": {
  "kernelspec": {
   "display_name": "Python 3",
   "language": "python",
   "name": "python3"
  },
  "language_info": {
   "codemirror_mode": {
    "name": "ipython",
    "version": 3
   },
   "file_extension": ".py",
   "mimetype": "text/x-python",
   "name": "python",
   "nbconvert_exporter": "python",
   "pygments_lexer": "ipython3",
   "version": "3.8.8"
  }
 },
 "nbformat": 4,
 "nbformat_minor": 5
}
