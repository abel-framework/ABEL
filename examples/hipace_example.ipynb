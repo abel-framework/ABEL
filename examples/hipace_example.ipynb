{
 "cells": [
  {
   "cell_type": "markdown",
   "id": "35b4299f-1afc-4fc2-84ef-1af913515b36",
   "metadata": {},
   "source": [
    "# ABEL HiPACE++ example\n",
    "\n",
    "By Carl A. Lindstrøm (University of Oslo), 8 Sep 2023"
   ]
  },
  {
   "cell_type": "markdown",
   "id": "13270181-9972-4f1f-808a-a86d2e17d53b",
   "metadata": {},
   "source": [
    "### Import ABEL framework"
   ]
  },
  {
   "cell_type": "code",
   "execution_count": 1,
   "id": "e290fd8e-eb5a-4a89-90d3-77765398b1c9",
   "metadata": {},
   "outputs": [],
   "source": [
    "from abel import *\n",
    "%load_ext autoreload\n",
    "%autoreload 2"
   ]
  },
  {
   "cell_type": "markdown",
   "id": "92996b82-518c-4e23-bf59-56b55f4021f4",
   "metadata": {},
   "source": [
    "### Define the input beams"
   ]
  },
  {
   "cell_type": "code",
   "execution_count": 2,
   "id": "1dd28e43-b2d8-473e-8569-c3246b02d627",
   "metadata": {},
   "outputs": [],
   "source": [
    "# define drive bunch\n",
    "driver = SourceBasic()\n",
    "driver.charge = -2e-9 # [C]\n",
    "driver.energy = 10e9 # [eV]\n",
    "driver.rel_energy_spread = 0.01\n",
    "driver.bunch_length = 20e-6 # [m]\n",
    "driver.z_offset = 100e-6 # [m]\n",
    "driver.emit_nx, driver.emit_ny = 10e-6, 10e-6 # [m rad]\n",
    "driver.beta_x, driver.beta_y = 50e-3, 50e-3 # [m]\n",
    "driver.num_particles = 100000\n",
    "driver.symmetrize = True\n",
    "\n",
    "# define stage\n",
    "stage = StageHipace()\n",
    "stage.driver_source = driver\n",
    "stage.length = 0.05 # [m]\n",
    "stage.plasma_density = 1e22 # [m^-3]\n",
    "stage.ion_motion = False\n",
    "stage.beam_ionization = False"
   ]
  },
  {
   "cell_type": "code",
   "execution_count": 6,
   "id": "392dc163-469e-4a0e-b98a-376a5d6eef02",
   "metadata": {},
   "outputs": [],
   "source": [
    "# define witness bunch\n",
    "source = SourceBasic()\n",
    "source.charge = -0.6e-9 # [C]\n",
    "source.energy = 100e6 # [eV]\n",
    "source.rel_energy_spread = 0.01\n",
    "source.bunch_length = 10e-6 # [m]\n",
    "source.z_offset = -160e-6 # [m]\n",
    "source.emit_nx, source.emit_ny = 1e-6, 1e-6 # [m rad]\n",
    "source.beta_x, source.beta_y = 10e-3, 10e-3 # [m]\n",
    "source.num_particles = 100000\n",
    "source.x_offset, source.y_offset = 5e-6, 1e-6 # [m]\n",
    "source.jitter.x = 5e-6\n",
    "\n",
    "# define RF accelerator\n",
    "rf_accelerator = RFAcceleratorBasic()\n",
    "rf_accelerator.nom_energy_gain = driver.energy-source.energy\n",
    "rf_accelerator.nom_accel_gradient = 10e6\n",
    "\n",
    "# define beam delivery system\n",
    "bds = BeamDeliverySystemBasic()\n",
    "bds.beta_x = stage.matched_beta_function(source.energy) # [m]\n",
    "bds.beta_y = stage.matched_beta_function(source.energy) # [m]\n",
    "\n",
    "# define linac\n",
    "linac = ConventionalLinac()\n",
    "linac.source = source\n",
    "linac.rf_accelerator = rf_accelerator\n",
    "linac.bds = bds"
   ]
  },
  {
   "cell_type": "markdown",
   "id": "da630165-fc24-48a4-a8d5-12faf2e131b7",
   "metadata": {
    "tags": []
   },
   "source": [
    "### Define the experimental setup"
   ]
  },
  {
   "cell_type": "code",
   "execution_count": 7,
   "id": "b6dad1c8-5d0b-462a-a5c3-30d42168d60f",
   "metadata": {},
   "outputs": [],
   "source": [
    "# define experiment\n",
    "experiment = ExperimentPWFA(linac, stage)"
   ]
  },
  {
   "cell_type": "markdown",
   "id": "f1fc417e-7af7-4b30-9191-26186b18a1ff",
   "metadata": {},
   "source": [
    "### Perform linac tracking"
   ]
  },
  {
   "cell_type": "code",
   "execution_count": 8,
   "id": "be147202-d55f-4d20-8f39-dabc5b536e3c",
   "metadata": {},
   "outputs": [
    {
     "name": "stdout",
     "output_type": "stream",
     "text": [
      "\u001b[37mTracked #0 \u001b[39m \u001b[1mSourceBasic            \u001b[21m \u001b[37m(s =\u001b[39m \u001b[1m   0.0\u001b[21m m\u001b[37m)\u001b[39m :   \u001b[37mE =\u001b[39m\u001b[1m   0.1\u001b[21m GeV\u001b[37m, Q =\u001b[39m\u001b[1m -0.60\u001b[21m nC\u001b[37m, σz =\u001b[39m \u001b[1m 10.0\u001b[21m µm\u001b[37m, σE =\u001b[39m\u001b[1m  1.0%\u001b[21m\u001b[37m, ε =\u001b[39m\u001b[1m   1.0\u001b[21m/\u001b[1m1.0\u001b[21m mm-mrad\u001b[0m\n",
      "\u001b[37m    ... #1 \u001b[39m \u001b[1mRFAcceleratorBasic     \u001b[21m \u001b[37m(s =\u001b[39m \u001b[1m 990.0\u001b[21m m\u001b[37m)\u001b[39m :   \u001b[37mE =\u001b[39m\u001b[1m  10.0\u001b[21m GeV\u001b[37m, Q =\u001b[39m\u001b[1m -0.60\u001b[21m nC\u001b[37m, σz =\u001b[39m \u001b[1m 10.0\u001b[21m µm\u001b[37m, σE =\u001b[39m\u001b[1m  0.0%\u001b[21m\u001b[37m, ε =\u001b[39m\u001b[1m   1.0\u001b[21m/\u001b[1m1.0\u001b[21m mm-mrad\u001b[0m\n",
      "\u001b[37m    ... #2 \u001b[39m \u001b[1mBeamDeliverySystemBasic\u001b[21m \u001b[37m(s =\u001b[39m \u001b[1m1308.2\u001b[21m m\u001b[37m)\u001b[39m :   \u001b[37mE =\u001b[39m\u001b[1m  10.0\u001b[21m GeV\u001b[37m, Q =\u001b[39m\u001b[1m -0.60\u001b[21m nC\u001b[37m, σz =\u001b[39m \u001b[1m 10.0\u001b[21m µm\u001b[37m, σE =\u001b[39m\u001b[1m  0.0%\u001b[21m\u001b[37m, ε =\u001b[39m\u001b[1m   1.0\u001b[21m/\u001b[1m1.0\u001b[21m mm-mrad\u001b[0m\n",
      ">> Finished HiPACE++ (job 8165158): 100%|\u001b[32m████████████████████████████████████\u001b[0m| 135/135 [00:24<00:00,  5.44 steps/s]\u001b[0m\n"
     ]
    },
    {
     "name": "stderr",
     "output_type": "stream",
     "text": [
      "[AbstractIOHandlerImpl] IO Task OPEN_FILE failed with exception. Clearing IO queue and passing on the exception.\n",
      "[AbstractIOHandlerImpl] IO Task OPEN_FILE failed with exception. Clearing IO queue and passing on the exception.\n"
     ]
    },
    {
     "ename": "Error",
     "evalue": "Read Error in backend HDF5\nObject type:\tFile\nError type:\tInaccessible\nFurther description:\tSupplied directory is not valid: run_data/temp/ca096a72-d798-41c8-8111-cc46b9935ffc/diags/hdf5/",
     "output_type": "error",
     "traceback": [
      "\u001b[0;31m---------------------------------------------------------------------------\u001b[0m",
      "\u001b[0;31mError\u001b[0m                                     Traceback (most recent call last)",
      "Cell \u001b[0;32mIn[8], line 3\u001b[0m\n\u001b[1;32m      1\u001b[0m \u001b[38;5;66;03m# perform experiment tracking\u001b[39;00m\n\u001b[1;32m      2\u001b[0m experiment\u001b[38;5;241m.\u001b[39mstage\u001b[38;5;241m.\u001b[39mnum_nodes \u001b[38;5;241m=\u001b[39m \u001b[38;5;241m1\u001b[39m\n\u001b[0;32m----> 3\u001b[0m beam \u001b[38;5;241m=\u001b[39m \u001b[43mexperiment\u001b[49m\u001b[38;5;241;43m.\u001b[39;49m\u001b[43mrun\u001b[49m\u001b[43m(\u001b[49m\u001b[38;5;124;43m'\u001b[39;49m\u001b[38;5;124;43mhipace_example\u001b[39;49m\u001b[38;5;124;43m'\u001b[39;49m\u001b[43m,\u001b[49m\u001b[43m \u001b[49m\u001b[43moverwrite\u001b[49m\u001b[38;5;241;43m=\u001b[39;49m\u001b[38;5;28;43;01mTrue\u001b[39;49;00m\u001b[43m)\u001b[49m\n",
      "File \u001b[0;32m/pfs/lustrep4/scratch/project_465001375/carlal/ABEL_dev/abel/classes/runnable.py:137\u001b[0m, in \u001b[0;36mRunnable.run\u001b[0;34m(self, run_name, num_shots, savedepth, verbose, overwrite, parallel, max_cores)\u001b[0m\n\u001b[1;32m    134\u001b[0m     overwrite \u001b[38;5;241m=\u001b[39m \u001b[38;5;28;01mFalse\u001b[39;00m\n\u001b[1;32m    136\u001b[0m \u001b[38;5;66;03m# perform a scan with only one step\u001b[39;00m\n\u001b[0;32m--> 137\u001b[0m \u001b[38;5;28;43mself\u001b[39;49m\u001b[38;5;241;43m.\u001b[39;49m\u001b[43mscan\u001b[49m\u001b[43m(\u001b[49m\u001b[43mrun_name\u001b[49m\u001b[38;5;241;43m=\u001b[39;49m\u001b[38;5;28;43mself\u001b[39;49m\u001b[38;5;241;43m.\u001b[39;49m\u001b[43mrun_name\u001b[49m\u001b[43m,\u001b[49m\u001b[43m \u001b[49m\u001b[43mnum_shots_per_step\u001b[49m\u001b[38;5;241;43m=\u001b[39;49m\u001b[43mnum_shots\u001b[49m\u001b[43m,\u001b[49m\u001b[43m \u001b[49m\u001b[43msavedepth\u001b[49m\u001b[38;5;241;43m=\u001b[39;49m\u001b[43msavedepth\u001b[49m\u001b[43m,\u001b[49m\u001b[43m \u001b[49m\u001b[43mverbose\u001b[49m\u001b[38;5;241;43m=\u001b[39;49m\u001b[43mverbose\u001b[49m\u001b[43m,\u001b[49m\u001b[43m \u001b[49m\u001b[43moverwrite\u001b[49m\u001b[38;5;241;43m=\u001b[39;49m\u001b[43moverwrite\u001b[49m\u001b[43m,\u001b[49m\u001b[43m \u001b[49m\u001b[43mparallel\u001b[49m\u001b[38;5;241;43m=\u001b[39;49m\u001b[43mparallel\u001b[49m\u001b[43m,\u001b[49m\u001b[43m \u001b[49m\u001b[43mmax_cores\u001b[49m\u001b[38;5;241;43m=\u001b[39;49m\u001b[43mmax_cores\u001b[49m\u001b[43m)\u001b[49m\n",
      "File \u001b[0;32m/pfs/lustrep4/scratch/project_465001375/carlal/ABEL_dev/abel/classes/runnable.py:116\u001b[0m, in \u001b[0;36mRunnable.scan\u001b[0;34m(self, run_name, fcn, vals, label, scale, num_shots_per_step, step_filter, shot_filter, savedepth, verbose, overwrite, parallel, max_cores)\u001b[0m\n\u001b[1;32m    112\u001b[0m \u001b[38;5;28;01melse\u001b[39;00m:   \n\u001b[1;32m    113\u001b[0m     \n\u001b[1;32m    114\u001b[0m     \u001b[38;5;66;03m# perform in-series tracking\u001b[39;00m\n\u001b[1;32m    115\u001b[0m     \u001b[38;5;28;01mfor\u001b[39;00m shot \u001b[38;5;129;01min\u001b[39;00m shots_to_perform:\n\u001b[0;32m--> 116\u001b[0m         \u001b[38;5;28;43mself\u001b[39;49m\u001b[38;5;241;43m.\u001b[39;49m\u001b[43mperform_shot\u001b[49m\u001b[43m(\u001b[49m\u001b[43mshot\u001b[49m\u001b[43m)\u001b[49m\n\u001b[1;32m    118\u001b[0m \u001b[38;5;66;03m# return final beam from first shot\u001b[39;00m\n\u001b[1;32m    119\u001b[0m \u001b[38;5;28mself\u001b[39m\u001b[38;5;241m.\u001b[39m\u001b[38;5;18m__dict__\u001b[39m\u001b[38;5;241m.\u001b[39mupdate(\u001b[38;5;28mself\u001b[39m\u001b[38;5;241m.\u001b[39mload(shot\u001b[38;5;241m=\u001b[39mshots_to_perform[\u001b[38;5;241m0\u001b[39m])\u001b[38;5;241m.\u001b[39m\u001b[38;5;18m__dict__\u001b[39m)\n",
      "File \u001b[0;32m/pfs/lustrep4/scratch/project_465001375/carlal/ABEL_dev/abel/classes/runnable.py:45\u001b[0m, in \u001b[0;36mRunnable.perform_shot\u001b[0;34m(self, shot)\u001b[0m\n\u001b[1;32m     42\u001b[0m     \u001b[38;5;28mprint\u001b[39m(\u001b[38;5;124m'\u001b[39m\u001b[38;5;124m>> SHOT \u001b[39m\u001b[38;5;124m'\u001b[39m \u001b[38;5;241m+\u001b[39m \u001b[38;5;28mstr\u001b[39m(shot\u001b[38;5;241m+\u001b[39m\u001b[38;5;241m1\u001b[39m) \u001b[38;5;241m+\u001b[39m \u001b[38;5;124m'\u001b[39m\u001b[38;5;124m/\u001b[39m\u001b[38;5;124m'\u001b[39m \u001b[38;5;241m+\u001b[39m \u001b[38;5;28mstr\u001b[39m(\u001b[38;5;28mself\u001b[39m\u001b[38;5;241m.\u001b[39mnum_shots), flush\u001b[38;5;241m=\u001b[39m\u001b[38;5;28;01mTrue\u001b[39;00m)\n\u001b[1;32m     44\u001b[0m \u001b[38;5;66;03m# if overwrite_from is None: # TODO\u001b[39;00m\n\u001b[0;32m---> 45\u001b[0m \u001b[38;5;28;43mself\u001b[39;49m\u001b[38;5;241;43m.\u001b[39;49m\u001b[43mtrack\u001b[49m\u001b[43m(\u001b[49m\u001b[43mbeam\u001b[49m\u001b[38;5;241;43m=\u001b[39;49m\u001b[38;5;28;43;01mNone\u001b[39;49;00m\u001b[43m,\u001b[49m\u001b[43m \u001b[49m\u001b[43msavedepth\u001b[49m\u001b[38;5;241;43m=\u001b[39;49m\u001b[38;5;28;43mself\u001b[39;49m\u001b[38;5;241;43m.\u001b[39;49m\u001b[43msavedepth\u001b[49m\u001b[43m,\u001b[49m\u001b[43m \u001b[49m\u001b[43mrunnable\u001b[49m\u001b[38;5;241;43m=\u001b[39;49m\u001b[38;5;28;43mself\u001b[39;49m\u001b[43m,\u001b[49m\u001b[43m \u001b[49m\u001b[43mverbose\u001b[49m\u001b[38;5;241;43m=\u001b[39;49m\u001b[38;5;28;43mself\u001b[39;49m\u001b[38;5;241;43m.\u001b[39;49m\u001b[43mverbose\u001b[49m\u001b[43m)\u001b[49m\n\u001b[1;32m     47\u001b[0m \u001b[38;5;66;03m# save object to file\u001b[39;00m\n\u001b[1;32m     48\u001b[0m \u001b[38;5;28mself\u001b[39m\u001b[38;5;241m.\u001b[39msave()\n",
      "File \u001b[0;32m/pfs/lustrep4/scratch/project_465001375/carlal/ABEL_dev/abel/classes/beamline/beamline.py:40\u001b[0m, in \u001b[0;36mBeamline.track\u001b[0;34m(self, beam, savedepth, runnable, verbose)\u001b[0m\n\u001b[1;32m     38\u001b[0m \u001b[38;5;66;03m# perform element-wise tracking\u001b[39;00m\n\u001b[1;32m     39\u001b[0m \u001b[38;5;28;01mfor\u001b[39;00m trackable \u001b[38;5;129;01min\u001b[39;00m \u001b[38;5;28mself\u001b[39m\u001b[38;5;241m.\u001b[39mtrackables:\n\u001b[0;32m---> 40\u001b[0m     beam \u001b[38;5;241m=\u001b[39m \u001b[43mtrackable\u001b[49m\u001b[38;5;241;43m.\u001b[39;49m\u001b[43mtrack\u001b[49m\u001b[43m(\u001b[49m\u001b[43mbeam\u001b[49m\u001b[43m,\u001b[49m\u001b[43m \u001b[49m\u001b[43msavedepth\u001b[49m\u001b[38;5;241;43m-\u001b[39;49m\u001b[38;5;241;43m1\u001b[39;49m\u001b[43m,\u001b[49m\u001b[43m \u001b[49m\u001b[43mrunnable\u001b[49m\u001b[43m,\u001b[49m\u001b[43m \u001b[49m\u001b[43mverbose\u001b[49m\u001b[43m)\u001b[49m\n\u001b[1;32m     42\u001b[0m \u001b[38;5;28;01mreturn\u001b[39;00m beam\n",
      "File \u001b[0;32m/pfs/lustrep4/scratch/project_465001375/carlal/ABEL_dev/abel/classes/stage/impl/stage_hipace.py:154\u001b[0m, in \u001b[0;36mStageHipace.track\u001b[0;34m(self, beam0, savedepth, runnable, verbose)\u001b[0m\n\u001b[1;32m    151\u001b[0m hipace_write_jobscript(filename_job_script, filename_input, num_nodes\u001b[38;5;241m=\u001b[39m\u001b[38;5;28mself\u001b[39m\u001b[38;5;241m.\u001b[39mnum_nodes)\n\u001b[1;32m    153\u001b[0m \u001b[38;5;66;03m# run HiPACE++\u001b[39;00m\n\u001b[0;32m--> 154\u001b[0m beam, driver \u001b[38;5;241m=\u001b[39m \u001b[43mhipace_run\u001b[49m\u001b[43m(\u001b[49m\u001b[43mfilename_job_script\u001b[49m\u001b[43m,\u001b[49m\u001b[43m \u001b[49m\u001b[38;5;28;43mself\u001b[39;49m\u001b[38;5;241;43m.\u001b[39;49m\u001b[43mnum_steps\u001b[49m\u001b[43m)\u001b[49m\n\u001b[1;32m    155\u001b[0m \u001b[38;5;28;01mif\u001b[39;00m \u001b[38;5;28mself\u001b[39m\u001b[38;5;241m.\u001b[39mdriver_only:\n\u001b[1;32m    156\u001b[0m     beam \u001b[38;5;241m=\u001b[39m beam0\n",
      "File \u001b[0;32m/pfs/lustrep4/scratch/project_465001375/carlal/ABEL_dev/abel/apis/hipace/hipace_api.py:132\u001b[0m, in \u001b[0;36mhipace_run\u001b[0;34m(filename_job_script, num_steps, runfolder, quiet)\u001b[0m\n\u001b[1;32m    130\u001b[0m \u001b[38;5;28;01mexcept\u001b[39;00m:\n\u001b[1;32m    131\u001b[0m     beam \u001b[38;5;241m=\u001b[39m \u001b[38;5;28;01mNone\u001b[39;00m\n\u001b[0;32m--> 132\u001b[0m driver \u001b[38;5;241m=\u001b[39m \u001b[43mBeam\u001b[49m\u001b[38;5;241;43m.\u001b[39;49m\u001b[43mload\u001b[49m\u001b[43m(\u001b[49m\u001b[43mfilename\u001b[49m\u001b[43m,\u001b[49m\u001b[43m \u001b[49m\u001b[43mbeam_name\u001b[49m\u001b[38;5;241;43m=\u001b[39;49m\u001b[38;5;124;43m'\u001b[39;49m\u001b[38;5;124;43mdriver\u001b[39;49m\u001b[38;5;124;43m'\u001b[39;49m\u001b[43m)\u001b[49m\n\u001b[1;32m    134\u001b[0m \u001b[38;5;28;01mreturn\u001b[39;00m beam, driver\n",
      "File \u001b[0;32m/pfs/lustrep4/scratch/project_465001375/carlal/ABEL_dev/abel/classes/beam.py:1056\u001b[0m, in \u001b[0;36mBeam.load\u001b[0;34m(_, filename, beam_name)\u001b[0m\n\u001b[1;32m   1052\u001b[0m \u001b[38;5;129m@classmethod\u001b[39m\n\u001b[1;32m   1053\u001b[0m \u001b[38;5;28;01mdef\u001b[39;00m \u001b[38;5;21mload\u001b[39m(_, filename, beam_name\u001b[38;5;241m=\u001b[39m\u001b[38;5;124m'\u001b[39m\u001b[38;5;124mbeam\u001b[39m\u001b[38;5;124m'\u001b[39m):\n\u001b[1;32m   1054\u001b[0m     \n\u001b[1;32m   1055\u001b[0m     \u001b[38;5;66;03m# load file\u001b[39;00m\n\u001b[0;32m-> 1056\u001b[0m     series \u001b[38;5;241m=\u001b[39m \u001b[43mio\u001b[49m\u001b[38;5;241;43m.\u001b[39;49m\u001b[43mSeries\u001b[49m\u001b[43m(\u001b[49m\u001b[43mfilename\u001b[49m\u001b[43m,\u001b[49m\u001b[43m \u001b[49m\u001b[43mio\u001b[49m\u001b[38;5;241;43m.\u001b[39;49m\u001b[43mAccess\u001b[49m\u001b[38;5;241;43m.\u001b[39;49m\u001b[43mread_only\u001b[49m\u001b[43m)\u001b[49m\n\u001b[1;32m   1058\u001b[0m     \u001b[38;5;66;03m# find index (use last one)\u001b[39;00m\n\u001b[1;32m   1059\u001b[0m     \u001b[38;5;241m*\u001b[39m_, index \u001b[38;5;241m=\u001b[39m series\u001b[38;5;241m.\u001b[39miterations\n",
      "\u001b[0;31mError\u001b[0m: Read Error in backend HDF5\nObject type:\tFile\nError type:\tInaccessible\nFurther description:\tSupplied directory is not valid: run_data/temp/ca096a72-d798-41c8-8111-cc46b9935ffc/diags/hdf5/"
     ]
    }
   ],
   "source": [
    "# perform experiment tracking\n",
    "experiment.stage.num_nodes = 1\n",
    "beam = experiment.run('hipace_example', overwrite=True)"
   ]
  },
  {
   "cell_type": "markdown",
   "id": "be3e5073-4225-461b-ba48-a1046a273183",
   "metadata": {},
   "source": [
    "### Plot the wakefield"
   ]
  },
  {
   "cell_type": "code",
   "execution_count": null,
   "id": "d3e7bf1f-2fb0-493c-851e-e8d54d39b8b1",
   "metadata": {
    "tags": []
   },
   "outputs": [],
   "source": [
    "# plot wakefield\n",
    "experiment.stage.plot_wakefield()\n",
    "experiment.stage.plot_wake()\n",
    "experiment.stage.plot_evolution()"
   ]
  },
  {
   "cell_type": "markdown",
   "id": "395456ea-d30d-404e-ad5e-276d8dfaf576",
   "metadata": {},
   "source": [
    "### Plot the spectrometer screen"
   ]
  },
  {
   "cell_type": "markdown",
   "id": "ea2437f9-7cce-4929-839c-a86a4d11f01d",
   "metadata": {},
   "source": [
    "### Plot longitudinal phase space"
   ]
  },
  {
   "cell_type": "code",
   "execution_count": null,
   "id": "2002d963-f266-4bc7-aac7-2fcd94e322ea",
   "metadata": {},
   "outputs": [],
   "source": [
    "# plot the longitudinal phase space (at the beginning and end of the stage)\n",
    "experiment.initial_beam.plot_lps()\n",
    "experiment.get_beam(-2).plot_lps()"
   ]
  },
  {
   "cell_type": "code",
   "execution_count": null,
   "id": "cebf7165-5679-4615-bc2a-c23b4ff54b10",
   "metadata": {},
   "outputs": [],
   "source": []
  }
 ],
 "metadata": {
  "kernelspec": {
   "display_name": "Python 3 (ipykernel)",
   "language": "python",
   "name": "python3"
  },
  "language_info": {
   "codemirror_mode": {
    "name": "ipython",
    "version": 3
   },
   "file_extension": ".py",
   "mimetype": "text/x-python",
   "name": "python",
   "nbconvert_exporter": "python",
   "pygments_lexer": "ipython3",
   "version": "3.9.12"
  }
 },
 "nbformat": 4,
 "nbformat_minor": 5
}
