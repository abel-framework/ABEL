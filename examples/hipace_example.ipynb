{
 "cells": [
  {
   "cell_type": "markdown",
   "id": "35b4299f-1afc-4fc2-84ef-1af913515b36",
   "metadata": {},
   "source": [
    "# OPAL experiment tracking example\n",
    "\n",
    "By Carl A. Lindstrøm (University of Oslo), 2 Jun 2023"
   ]
  },
  {
   "cell_type": "markdown",
   "id": "13270181-9972-4f1f-808a-a86d2e17d53b",
   "metadata": {},
   "source": [
    "### Import OPAL framework"
   ]
  },
  {
   "cell_type": "code",
   "execution_count": 1,
   "id": "e290fd8e-eb5a-4a89-90d3-77765398b1c9",
   "metadata": {},
   "outputs": [
    {
     "name": "stdout",
     "output_type": "stream",
     "text": [
      "initializing ocelot...\n"
     ]
    }
   ],
   "source": [
    "import sys\n",
    "sys.path.append('../')\n",
    "from opal import *"
   ]
  },
  {
   "cell_type": "markdown",
   "id": "92996b82-518c-4e23-bf59-56b55f4021f4",
   "metadata": {},
   "source": [
    "### Define the input beams"
   ]
  },
  {
   "cell_type": "code",
   "execution_count": 2,
   "id": "392dc163-469e-4a0e-b98a-376a5d6eef02",
   "metadata": {},
   "outputs": [],
   "source": [
    "# define witness bunch\n",
    "witness = SourceBasic()\n",
    "witness.charge = -0.5e-9 # [C]\n",
    "witness.energy = 10e9 # [eV]\n",
    "witness.rel_energy_spread = 0.01\n",
    "witness.bunch_length = 40e-6 # [m]\n",
    "witness.current_head = 3e3 # [A]\n",
    "witness.z_offset = -60e-6 # [m]\n",
    "witness.emit_nx, witness.emit_ny = 1e-6, 1e-6 # [m rad]\n",
    "witness.beta_x, witness.beta_y = 40e-3, 10e-3 # [m]\n",
    "witness.num_particles = 100000\n",
    "witness.x_offset, witness.y_offset = 5e-6, 1e-6 # [m]\n",
    "\n",
    "# define drive bunch\n",
    "driver = SourceBasic()\n",
    "driver.charge = -2e-9 # [C]\n",
    "driver.energy = 100e9 # [eV]\n",
    "driver.rel_energy_spread = 0.01\n",
    "driver.bunch_length = 20e-6 # [m]\n",
    "driver.z_offset = 100e-6 # [m]\n",
    "driver.emit_nx, driver.emit_ny = 10e-6, 10e-6 # [m rad]\n",
    "driver.beta_x, driver.beta_y = 50e-3, 50e-3 # [m]\n",
    "driver.num_particles = 100000\n",
    "driver.symmetrize = True"
   ]
  },
  {
   "cell_type": "markdown",
   "id": "da630165-fc24-48a4-a8d5-12faf2e131b7",
   "metadata": {
    "tags": []
   },
   "source": [
    "### Define the experimental setup"
   ]
  },
  {
   "cell_type": "code",
   "execution_count": 3,
   "id": "b6dad1c8-5d0b-462a-a5c3-30d42168d60f",
   "metadata": {},
   "outputs": [],
   "source": [
    "# define stage\n",
    "stage = StageHipace()\n",
    "stage.driver_source = driver\n",
    "stage.length = 0.1 # [m]\n",
    "stage.plasma_density = 1e22 # [m^-3]\n",
    "\n",
    "# define beam delivery system\n",
    "bds = BeamDeliverySystemBasic()\n",
    "bds.beta_x = stage.matched_beta_function(witness.energy) # [m]\n",
    "bds.beta_y = stage.matched_beta_function(witness.energy) # [m]\n",
    "\n",
    "# define spectrometer\n",
    "spectrometer = SpectrometerFacetOcelot()\n",
    "spectrometer.bend_angle = -0.03 # [T]\n",
    "spectrometer.obj_plane = 0.00 # [m]\n",
    "spectrometer.mag_x = -4 \n",
    "spectrometer.img_energy = 10.5e9 # [eV]\n",
    "\n",
    "# define experiment\n",
    "experiment = Experiment(witness, bds, stage, spectrometer)"
   ]
  },
  {
   "cell_type": "markdown",
   "id": "f1fc417e-7af7-4b30-9191-26186b18a1ff",
   "metadata": {},
   "source": [
    "### Perform linac tracking"
   ]
  },
  {
   "cell_type": "code",
   "execution_count": 5,
   "id": "be147202-d55f-4d20-8f39-dabc5b536e3c",
   "metadata": {},
   "outputs": [
    {
     "name": "stdout",
     "output_type": "stream",
     "text": [
      "Tracking element 1 (s = 0.0 m, -0.50 nC, 10.0 GeV, SourceBasic, stage 0)\n",
      "Tracking element 2 (s = 0.0 m, -0.50 nC, 10.0 GeV, BeamDeliverySystemBasic, stage 0)\n"
     ]
    },
    {
     "name": "stderr",
     "output_type": "stream",
     "text": [
      "/bin/sh: sbatch: command not found\n"
     ]
    },
    {
     "ename": "CalledProcessError",
     "evalue": "Command 'cd /Users/carlal/UiO/Code/software/OPAL/.temp/c0f35bb5-a987-4ab8-a5ec-69636ead166a/ && sbatch /Users/carlal/UiO/Code/software/OPAL/.temp/c0f35bb5-a987-4ab8-a5ec-69636ead166a/run.sh' returned non-zero exit status 127.",
     "output_type": "error",
     "traceback": [
      "\u001b[0;31m---------------------------------------------------------------------------\u001b[0m",
      "\u001b[0;31mCalledProcessError\u001b[0m                        Traceback (most recent call last)",
      "Cell \u001b[0;32mIn[5], line 2\u001b[0m\n\u001b[1;32m      1\u001b[0m \u001b[38;5;66;03m# perform experiment tracking\u001b[39;00m\n\u001b[0;32m----> 2\u001b[0m beam \u001b[38;5;241m=\u001b[39m \u001b[43mexperiment\u001b[49m\u001b[38;5;241;43m.\u001b[39;49m\u001b[43mrun\u001b[49m\u001b[43m(\u001b[49m\u001b[38;5;124;43m\"\u001b[39;49m\u001b[38;5;124;43mexperiment_example\u001b[39;49m\u001b[38;5;124;43m\"\u001b[39;49m\u001b[43m)\u001b[49m\n",
      "File \u001b[0;32m~/UiO/Code/software/OPAL/opal/classes/runnable.py:49\u001b[0m, in \u001b[0;36mRunnable.run\u001b[0;34m(self, run_name, num_shots, savedepth, verbose, overwrite, parallel, max_cores)\u001b[0m\n\u001b[1;32m     45\u001b[0m \u001b[38;5;28;01melse\u001b[39;00m:   \n\u001b[1;32m     46\u001b[0m     \n\u001b[1;32m     47\u001b[0m     \u001b[38;5;66;03m# perform in-series tracking\u001b[39;00m\n\u001b[1;32m     48\u001b[0m     \u001b[38;5;28;01mfor\u001b[39;00m shot \u001b[38;5;129;01min\u001b[39;00m \u001b[38;5;28mrange\u001b[39m(num_shots):\n\u001b[0;32m---> 49\u001b[0m         \u001b[38;5;28;43mself\u001b[39;49m\u001b[38;5;241;43m.\u001b[39;49m\u001b[43mperform_shot\u001b[49m\u001b[43m(\u001b[49m\u001b[43mshot\u001b[49m\u001b[43m)\u001b[49m\n\u001b[1;32m     51\u001b[0m \u001b[38;5;66;03m# return final beam from first shot\u001b[39;00m\n\u001b[1;32m     52\u001b[0m \u001b[38;5;28;01mreturn\u001b[39;00m \u001b[38;5;28mself\u001b[39m[\u001b[38;5;241m0\u001b[39m]\u001b[38;5;241m.\u001b[39mfinal_beam()\n",
      "File \u001b[0;32m~/UiO/Code/software/OPAL/opal/classes/runnable.py:81\u001b[0m, in \u001b[0;36mRunnable.perform_shot\u001b[0;34m(self, shot)\u001b[0m\n\u001b[1;32m     78\u001b[0m     \u001b[38;5;28mprint\u001b[39m(\u001b[38;5;124m'\u001b[39m\u001b[38;5;124m>> SHOT \u001b[39m\u001b[38;5;124m'\u001b[39m \u001b[38;5;241m+\u001b[39m \u001b[38;5;28mstr\u001b[39m(shot\u001b[38;5;241m+\u001b[39m\u001b[38;5;241m1\u001b[39m) \u001b[38;5;241m+\u001b[39m \u001b[38;5;124m'\u001b[39m\u001b[38;5;124m/\u001b[39m\u001b[38;5;124m'\u001b[39m \u001b[38;5;241m+\u001b[39m \u001b[38;5;28mstr\u001b[39m(\u001b[38;5;28mself\u001b[39m\u001b[38;5;241m.\u001b[39mnum_shots), flush\u001b[38;5;241m=\u001b[39m\u001b[38;5;28;01mTrue\u001b[39;00m)\n\u001b[1;32m     80\u001b[0m \u001b[38;5;66;03m#if overwrite_from is None: # TODO\u001b[39;00m\n\u001b[0;32m---> 81\u001b[0m beam \u001b[38;5;241m=\u001b[39m \u001b[38;5;28;43mself\u001b[39;49m\u001b[38;5;241;43m.\u001b[39;49m\u001b[43mtrack\u001b[49m\u001b[43m(\u001b[49m\u001b[43mbeam\u001b[49m\u001b[38;5;241;43m=\u001b[39;49m\u001b[38;5;28;43;01mNone\u001b[39;49;00m\u001b[43m,\u001b[49m\u001b[43m \u001b[49m\u001b[43msavedepth\u001b[49m\u001b[38;5;241;43m=\u001b[39;49m\u001b[38;5;28;43mself\u001b[39;49m\u001b[38;5;241;43m.\u001b[39;49m\u001b[43msavedepth\u001b[49m\u001b[43m,\u001b[49m\u001b[43m \u001b[49m\u001b[43mrunnable\u001b[49m\u001b[38;5;241;43m=\u001b[39;49m\u001b[38;5;28;43mself\u001b[39;49m\u001b[43m,\u001b[49m\u001b[43m \u001b[49m\u001b[43mverbose\u001b[49m\u001b[38;5;241;43m=\u001b[39;49m\u001b[38;5;28;43mself\u001b[39;49m\u001b[38;5;241;43m.\u001b[39;49m\u001b[43mverbose\u001b[49m\u001b[43m)\u001b[49m\n\u001b[1;32m     83\u001b[0m \u001b[38;5;66;03m# save object to file\u001b[39;00m\n\u001b[1;32m     84\u001b[0m \u001b[38;5;28mself\u001b[39m\u001b[38;5;241m.\u001b[39msave()\n",
      "File \u001b[0;32m~/UiO/Code/software/OPAL/opal/classes/beamline/beamline.py:36\u001b[0m, in \u001b[0;36mBeamline.track\u001b[0;34m(self, beam, savedepth, runnable, verbose)\u001b[0m\n\u001b[1;32m     34\u001b[0m \u001b[38;5;66;03m# perform element-wise tracking\u001b[39;00m\n\u001b[1;32m     35\u001b[0m \u001b[38;5;28;01mfor\u001b[39;00m trackable \u001b[38;5;129;01min\u001b[39;00m \u001b[38;5;28mself\u001b[39m\u001b[38;5;241m.\u001b[39mtrackables:\n\u001b[0;32m---> 36\u001b[0m     beam \u001b[38;5;241m=\u001b[39m \u001b[43mtrackable\u001b[49m\u001b[38;5;241;43m.\u001b[39;49m\u001b[43mtrack\u001b[49m\u001b[43m(\u001b[49m\u001b[43mbeam\u001b[49m\u001b[43m,\u001b[49m\u001b[43m \u001b[49m\u001b[43msavedepth\u001b[49m\u001b[38;5;241;43m-\u001b[39;49m\u001b[38;5;241;43m1\u001b[39;49m\u001b[43m,\u001b[49m\u001b[43m \u001b[49m\u001b[43mrunnable\u001b[49m\u001b[43m,\u001b[49m\u001b[43m \u001b[49m\u001b[43mverbose\u001b[49m\u001b[43m)\u001b[49m\n\u001b[1;32m     38\u001b[0m \u001b[38;5;28;01mreturn\u001b[39;00m beam\n",
      "File \u001b[0;32m~/UiO/Code/software/OPAL/opal/classes/stage/impl/stage_hipace.py:88\u001b[0m, in \u001b[0;36mStageHipace.track\u001b[0;34m(self, beam0, savedepth, runnable, verbose)\u001b[0m\n\u001b[1;32m     85\u001b[0m hipace_write_jobscript(filename_job_script, filename_input)\n\u001b[1;32m     87\u001b[0m \u001b[38;5;66;03m# run HiPACE++\u001b[39;00m\n\u001b[0;32m---> 88\u001b[0m beam \u001b[38;5;241m=\u001b[39m \u001b[43mhipace_run\u001b[49m\u001b[43m(\u001b[49m\u001b[43mfilename_job_script\u001b[49m\u001b[43m,\u001b[49m\u001b[43m \u001b[49m\u001b[38;5;28;43mself\u001b[39;49m\u001b[38;5;241;43m.\u001b[39;49m\u001b[43mnum_steps\u001b[49m\u001b[43m)\u001b[49m\n\u001b[1;32m     91\u001b[0m \u001b[38;5;66;03m## ADD METADATA\u001b[39;00m\n\u001b[1;32m     92\u001b[0m \n\u001b[1;32m     93\u001b[0m \u001b[38;5;66;03m# copy meta data from input beam (will be iterated by super)\u001b[39;00m\n\u001b[1;32m     94\u001b[0m beam\u001b[38;5;241m.\u001b[39mtrackable_number \u001b[38;5;241m=\u001b[39m beam0\u001b[38;5;241m.\u001b[39mtrackable_number\n",
      "File \u001b[0;32m~/UiO/Code/software/OPAL/opal/apis/hipace/hipace_api.py:70\u001b[0m, in \u001b[0;36mhipace_run\u001b[0;34m(filename_job_script, num_steps, runfolder, quiet)\u001b[0m\n\u001b[1;32m     67\u001b[0m     subprocess\u001b[38;5;241m.\u001b[39mcall(cmd, shell\u001b[38;5;241m=\u001b[39m\u001b[38;5;28;01mTrue\u001b[39;00m, stdout\u001b[38;5;241m=\u001b[39msubprocess\u001b[38;5;241m.\u001b[39mDEVNULL)\n\u001b[1;32m     68\u001b[0m \u001b[38;5;28;01melse\u001b[39;00m:\n\u001b[1;32m     69\u001b[0m     \u001b[38;5;66;03m#subprocess.call(cmd, shell=True, stdout=None)\u001b[39;00m\n\u001b[0;32m---> 70\u001b[0m     output \u001b[38;5;241m=\u001b[39m \u001b[43msubprocess\u001b[49m\u001b[38;5;241;43m.\u001b[39;49m\u001b[43mcheck_output\u001b[49m\u001b[43m(\u001b[49m\u001b[43mcmd\u001b[49m\u001b[43m,\u001b[49m\u001b[43m \u001b[49m\u001b[43mshell\u001b[49m\u001b[38;5;241;43m=\u001b[39;49m\u001b[38;5;28;43;01mTrue\u001b[39;49;00m\u001b[43m)\u001b[49m\n\u001b[1;32m     71\u001b[0m     words \u001b[38;5;241m=\u001b[39m \u001b[38;5;28mstr\u001b[39m(output)\u001b[38;5;241m.\u001b[39mreplace(\u001b[38;5;124m'\u001b[39m\u001b[38;5;130;01m\\\\\u001b[39;00m\u001b[38;5;124mn\u001b[39m\u001b[38;5;124m'\u001b[39m,\u001b[38;5;124m'\u001b[39m\u001b[38;5;124m'\u001b[39m)\u001b[38;5;241m.\u001b[39mreplace(\u001b[38;5;124m\"\u001b[39m\u001b[38;5;124m'\u001b[39m\u001b[38;5;124m\"\u001b[39m,\u001b[38;5;124m'\u001b[39m\u001b[38;5;124m'\u001b[39m)\u001b[38;5;241m.\u001b[39msplit()\n\u001b[1;32m     72\u001b[0m     jobid \u001b[38;5;241m=\u001b[39m \u001b[38;5;28mint\u001b[39m(words[\u001b[38;5;241m3\u001b[39m]\u001b[38;5;241m.\u001b[39mstrip())\n",
      "File \u001b[0;32m~/Library/jupyterlab-desktop/jlab_server/lib/python3.8/subprocess.py:415\u001b[0m, in \u001b[0;36mcheck_output\u001b[0;34m(timeout, *popenargs, **kwargs)\u001b[0m\n\u001b[1;32m    412\u001b[0m         empty \u001b[38;5;241m=\u001b[39m \u001b[38;5;124mb\u001b[39m\u001b[38;5;124m'\u001b[39m\u001b[38;5;124m'\u001b[39m\n\u001b[1;32m    413\u001b[0m     kwargs[\u001b[38;5;124m'\u001b[39m\u001b[38;5;124minput\u001b[39m\u001b[38;5;124m'\u001b[39m] \u001b[38;5;241m=\u001b[39m empty\n\u001b[0;32m--> 415\u001b[0m \u001b[38;5;28;01mreturn\u001b[39;00m \u001b[43mrun\u001b[49m\u001b[43m(\u001b[49m\u001b[38;5;241;43m*\u001b[39;49m\u001b[43mpopenargs\u001b[49m\u001b[43m,\u001b[49m\u001b[43m \u001b[49m\u001b[43mstdout\u001b[49m\u001b[38;5;241;43m=\u001b[39;49m\u001b[43mPIPE\u001b[49m\u001b[43m,\u001b[49m\u001b[43m \u001b[49m\u001b[43mtimeout\u001b[49m\u001b[38;5;241;43m=\u001b[39;49m\u001b[43mtimeout\u001b[49m\u001b[43m,\u001b[49m\u001b[43m \u001b[49m\u001b[43mcheck\u001b[49m\u001b[38;5;241;43m=\u001b[39;49m\u001b[38;5;28;43;01mTrue\u001b[39;49;00m\u001b[43m,\u001b[49m\n\u001b[1;32m    416\u001b[0m \u001b[43m           \u001b[49m\u001b[38;5;241;43m*\u001b[39;49m\u001b[38;5;241;43m*\u001b[39;49m\u001b[43mkwargs\u001b[49m\u001b[43m)\u001b[49m\u001b[38;5;241m.\u001b[39mstdout\n",
      "File \u001b[0;32m~/Library/jupyterlab-desktop/jlab_server/lib/python3.8/subprocess.py:516\u001b[0m, in \u001b[0;36mrun\u001b[0;34m(input, capture_output, timeout, check, *popenargs, **kwargs)\u001b[0m\n\u001b[1;32m    514\u001b[0m     retcode \u001b[38;5;241m=\u001b[39m process\u001b[38;5;241m.\u001b[39mpoll()\n\u001b[1;32m    515\u001b[0m     \u001b[38;5;28;01mif\u001b[39;00m check \u001b[38;5;129;01mand\u001b[39;00m retcode:\n\u001b[0;32m--> 516\u001b[0m         \u001b[38;5;28;01mraise\u001b[39;00m CalledProcessError(retcode, process\u001b[38;5;241m.\u001b[39margs,\n\u001b[1;32m    517\u001b[0m                                  output\u001b[38;5;241m=\u001b[39mstdout, stderr\u001b[38;5;241m=\u001b[39mstderr)\n\u001b[1;32m    518\u001b[0m \u001b[38;5;28;01mreturn\u001b[39;00m CompletedProcess(process\u001b[38;5;241m.\u001b[39margs, retcode, stdout, stderr)\n",
      "\u001b[0;31mCalledProcessError\u001b[0m: Command 'cd /Users/carlal/UiO/Code/software/OPAL/.temp/c0f35bb5-a987-4ab8-a5ec-69636ead166a/ && sbatch /Users/carlal/UiO/Code/software/OPAL/.temp/c0f35bb5-a987-4ab8-a5ec-69636ead166a/run.sh' returned non-zero exit status 127."
     ]
    }
   ],
   "source": [
    "# perform experiment tracking\n",
    "beam = experiment.run(\"experiment_example\")"
   ]
  },
  {
   "cell_type": "code",
   "execution_count": null,
   "id": "8ff73511-4fff-4334-b45f-2c6bea2fb64b",
   "metadata": {
    "tags": []
   },
   "outputs": [],
   "source": [
    "experiment.get_beam(1).energy()"
   ]
  },
  {
   "cell_type": "markdown",
   "id": "be3e5073-4225-461b-ba48-a1046a273183",
   "metadata": {},
   "source": [
    "### Plot the wakefield"
   ]
  },
  {
   "cell_type": "code",
   "execution_count": null,
   "id": "d3e7bf1f-2fb0-493c-851e-e8d54d39b8b1",
   "metadata": {
    "tags": []
   },
   "outputs": [],
   "source": [
    "# plot wakefield\n",
    "stage.plot_wakefield(witness.track())"
   ]
  },
  {
   "cell_type": "markdown",
   "id": "395456ea-d30d-404e-ad5e-276d8dfaf576",
   "metadata": {},
   "source": [
    "### Plot the spectrometer screen"
   ]
  },
  {
   "cell_type": "code",
   "execution_count": null,
   "id": "7604cef8-5c43-459b-a608-d901c3f8fe3f",
   "metadata": {},
   "outputs": [],
   "source": [
    "experiment.plot_spectrometer_screen()"
   ]
  },
  {
   "cell_type": "markdown",
   "id": "ea2437f9-7cce-4929-839c-a86a4d11f01d",
   "metadata": {},
   "source": [
    "### Plot longitudinal phase space"
   ]
  },
  {
   "cell_type": "code",
   "execution_count": null,
   "id": "2002d963-f266-4bc7-aac7-2fcd94e322ea",
   "metadata": {},
   "outputs": [],
   "source": [
    "# plot the longitudinal phase space\n",
    "experiment.get_beam(-1).plot_lps()"
   ]
  },
  {
   "cell_type": "code",
   "execution_count": null,
   "id": "8a4fbb03-bf6c-4deb-9a16-810fa096808c",
   "metadata": {
    "tags": []
   },
   "outputs": [],
   "source": []
  },
  {
   "cell_type": "code",
   "execution_count": null,
   "id": "ffeaceab-cec7-4f4f-8566-acc8c6123ec5",
   "metadata": {},
   "outputs": [],
   "source": []
  }
 ],
 "metadata": {
  "kernelspec": {
   "display_name": "Python 3 (ipykernel)",
   "language": "python",
   "name": "python3"
  },
  "language_info": {
   "codemirror_mode": {
    "name": "ipython",
    "version": 3
   },
   "file_extension": ".py",
   "mimetype": "text/x-python",
   "name": "python",
   "nbconvert_exporter": "python",
   "pygments_lexer": "ipython3",
   "version": "3.8.16"
  }
 },
 "nbformat": 4,
 "nbformat_minor": 5
}
