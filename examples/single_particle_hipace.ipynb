{
 "cells": [
  {
   "cell_type": "code",
   "execution_count": 1,
   "id": "ce1166ff-bb9f-4cac-bde1-f8dc86bcb646",
   "metadata": {},
   "outputs": [],
   "source": [
    "import sys\n",
    "sys.path.append('../')\n",
    "from abel import *\n",
    "\n",
    "%load_ext autoreload\n",
    "%autoreload 2"
   ]
  },
  {
   "cell_type": "code",
   "execution_count": 16,
   "id": "1f0978ab-6329-422b-8e52-d1d67ece0ddd",
   "metadata": {},
   "outputs": [],
   "source": [
    "# define driver\n",
    "driver = SourceBasic()\n",
    "driver.charge = -2.7e10 * SI.e # [C]\n",
    "driver.energy = 31.25e9 # [eV]\n",
    "driver.rel_energy_spread = 0.01\n",
    "driver.bunch_length = 50e-6 # [m]\n",
    "driver.z_offset = 580e-6 # [m]\n",
    "driver.emit_nx, driver.emit_ny = 80e-6, 80e-6 # [m rad]\n",
    "driver.beta_x, driver.beta_y = 5, 5 #30e-3, 30e-3 [m]\n",
    "driver.num_particles = 100000\n",
    "driver.jitter.x = 0 # [m] 2e-6\n",
    "driver.jitter.y = 0 # [m] 100e-9\n",
    "driver.jitter.t = 0 #10e-15 # [m]\n",
    "driver.symmetrize = True\n",
    "\n",
    "test_particle = SourceSingleParticle()\n",
    "test_particle.energy = 470e9 # [eV]\n",
    "test_particle.z = 0 # [m]\n",
    "test_particle.x = 10e-6 # [m]\n",
    "test_particle.y = 0 # [m]\n",
    "test_particle.yp = 0\n",
    "test_particle.xp = 0\n",
    "\n",
    "# define stage\n",
    "stage = StageHipace()\n",
    "stage.driver_source = driver\n",
    "stage.test_particle_source = test_particle\n",
    "stage.length = 11 # [m]\n",
    "stage.plasma_density = 2e21 # [m^-3]\n",
    "stage.nom_energy_gain = 31.9e9/(11/stage.length) # [eV]\n",
    "stage.radiation_reaction = False\n",
    "stage.ion_motion = False\n",
    "stage.beam_ionization=False\n",
    "stage.ramp_beta_mag = 5\n",
    "stage.num_nodes = 13\n",
    "\n",
    "# define first stage (half length)\n",
    "#first_stage = StageHipace()\n",
    "#first_stage.driver_source = driver\n",
    "#first_stage.length = stage.length/2 # [m]\n",
    "#first_stage.plasma_density = 2e21 # [m^-3]\n",
    "#first_stage.nom_energy_gain = stage.nom_energy_gain/2 # [eV]\n",
    "#first_stage.radiation_reaction = stage.radiation_reaction\n",
    "\n",
    "# define beam\n",
    "source = SourceBasic()\n",
    "source.charge = -1e10 * SI.e # [C]\n",
    "source.energy = test_particle.energy # [eV]\n",
    "source.rel_energy_spread = 0.01\n",
    "source.bunch_length = 28e-6 # [m]\n",
    "source.z_offset = 0e-6 # [m]\n",
    "source.emit_nx, source.emit_ny = 160e-6, 0.56e-6 # [m rad]\n",
    "source.beta_x = stage.matched_beta_function(source.energy)\n",
    "source.beta_y = source.beta_x\n",
    "source.num_particles = 50000\n",
    "source.jitter.t = driver.jitter.t\n",
    "\n",
    "# define interstage\n",
    "interstage = InterstageBasic()\n",
    "interstage.beta0 = lambda E: stage.matched_beta_function(E)\n",
    "interstage.dipole_length = lambda E: 1 * np.sqrt(E/10e9) # [m(eV)]\n",
    "interstage.dipole_field = 1 # [T]\n",
    "\n",
    "# beam delivery system\n",
    "bds = BeamDeliverySystemBasic()\n",
    "bds.beta_x, bds.beta_y = 8e-3, 0.4e-3 # [m]\n",
    "bds.bunch_length = 0.75 * bds.beta_y\n",
    "\n",
    "# define linac\n",
    "linac = Linac()\n",
    "linac.source = source\n",
    "linac.stage = stage\n",
    "#linac.first_stage = first_stage\n",
    "linac.interstage = interstage\n",
    "linac.num_stages = 1\n",
    "shots = 1"
   ]
  },
  {
   "cell_type": "code",
   "execution_count": null,
   "id": "c05b6482-ac23-4049-9de0-b72e1c4ab672",
   "metadata": {},
   "outputs": [
    {
     "name": "stdout",
     "output_type": "stream",
     "text": [
      "Tracking element 1 (SourceBasic, stage 0, s = 0.0 m, 470.0 GeV, -1.60 nC, 1.0% rms, 159.5/0.6 µm-rad)\n",
      "Running job 5631502\n",
      ">> Starting (0:00)\n",
      ">> Running (0:08)\n",
      ">> Running (0:18)\n",
      ">> Running (0:29)\n",
      ">> Running (0:39)\n",
      ">> Running (0:49)\n",
      ">> Running (0:59)\n",
      ">> Running (1:09)\n",
      ">> Running (1:20)\n",
      ">> Running (1:30)\n",
      ">> Running (1:41)\n",
      ">> Running (1:51)\n",
      ">> Running (2:01)\n",
      ">> Running (2:11)\n",
      ">> Running (2:21)\n"
     ]
    }
   ],
   "source": [
    "name = f'linac_hipace_test_particle_{int(source.energy/1e9)}GeV_\\\n",
    "{interstage.dipole_field}T_ex_{source.emit_nx*1e6}_jitterx_{driver.jitter.x}_\\\n",
    "jittery_{driver.jitter.y}_RR_{stage.radiation_reaction}N_{linac.num_stages}_11m_{shots}_shot\\\n",
    "_{source.num_particles}_particles\\\n",
    "inits_z{test_particle.z*1e6}_x{test_particle.x*1e6}_y{test_particle.y*1e6}\\\n",
    "_xp{test_particle.xp*1e6}_yp{test_particle.z*1e6}'\n",
    "\n",
    "linac.run(name, num_shots=shots, overwrite=False, parallel=False);"
   ]
  },
  {
   "cell_type": "code",
   "execution_count": null,
   "id": "d75c260d-eb5d-47f7-a1e9-e28e36530cd0",
   "metadata": {},
   "outputs": [],
   "source": [
    "stage_evolution = linac.stages[0].plot_test_particle_evolution()"
   ]
  },
  {
   "cell_type": "code",
   "execution_count": null,
   "id": "c0f97938-f5eb-42f1-afde-c154ec21bf40",
   "metadata": {},
   "outputs": [],
   "source": [
    "save = False\n",
    "if save:\n",
    "    stage_evolution.savefig(f'Plots_with_updated_params/Hipace_test_particle_stage_evolution_\\\n",
    "    {shots}_shots_{int(source.energy/1e9)}GeV_{int(source.emit_nx*1e6)}\\\n",
    "    mmmrad_{int(source.emit_ny*1e6)}\\\n",
    "    mmmrad_{interstage.dipole_field}T_RR_{stage.radiation_reaction}_\\\n",
    "    B_{interstage.dipole_field}T_11m_{source.num_particles}_particles\\\n",
    "    inits_z{test_particle.z*1e6}_x{test_particle.x*1e6}_y{test_particle.y*1e6}\\\n",
    "    _xp{test_particle.xp*1e6}_yp{test_particle.z*1e6}.png')"
   ]
  },
  {
   "cell_type": "code",
   "execution_count": null,
   "id": "fc0fffd2-bc76-42f4-8e2b-2724df521f0a",
   "metadata": {},
   "outputs": [],
   "source": []
  }
 ],
 "metadata": {
  "kernelspec": {
   "display_name": "Python 3 (ipykernel)",
   "language": "python",
   "name": "python3"
  },
  "language_info": {
   "codemirror_mode": {
    "name": "ipython",
    "version": 3
   },
   "file_extension": ".py",
   "mimetype": "text/x-python",
   "name": "python",
   "nbconvert_exporter": "python",
   "pygments_lexer": "ipython3",
   "version": "3.9.12"
  }
 },
 "nbformat": 4,
 "nbformat_minor": 5
}
