{
 "cells": [
  {
   "cell_type": "code",
   "execution_count": 1,
   "id": "3e51e13d-9e78-46aa-b5d3-f67dbd52c5d3",
   "metadata": {},
   "outputs": [],
   "source": [
    "import sys\n",
    "sys.path.append('../')\n",
    "from abel import *"
   ]
  },
  {
   "cell_type": "code",
   "execution_count": 2,
   "id": "701d7c1e-e643-4991-8e25-e93ef4955708",
   "metadata": {},
   "outputs": [],
   "source": [
    "import numpy as np\n",
    "import time\n",
    "import scipy.constants as SI \n",
    "import abel.utilities.plasma_physics as pp"
   ]
  },
  {
   "cell_type": "code",
   "execution_count": 3,
   "id": "0ac7f582-2284-44a8-aaac-758a816d3121",
   "metadata": {},
   "outputs": [],
   "source": [
    "# define driver\n",
    "driver = SourceBasic()\n",
    "driver.charge = -2.7e10 * SI.e # [C]\n",
    "driver.energy = 31.25e9 # [eV]\n",
    "driver.rel_energy_spread = 0.01\n",
    "driver.bunch_length = 50e-6 # [m]\n",
    "driver.z_offset = 580e-6 # [m]\n",
    "driver.emit_nx, driver.emit_ny = 80e-6, 80e-6 # [m rad]\n",
    "driver.beta_x, driver.beta_y = 5, 5 #30e-3, 30e-3 [m]\n",
    "driver.num_particles = 100000\n",
    "driver.jitter.x = 2e-7 # [m] 2e-6\n",
    "driver.jitter.y = 2e-7 # [m] 100e-9\n",
    "driver.jitter.t = 0 #10e-15 # [m]\n",
    "driver.symmetrize = True\n",
    "\n",
    "# define a stage\n",
    "stage = StageHipace()\n",
    "stage.driver_source = driver\n",
    "stage.length = 11 # [m]\n",
    "stage.plasma_density = 2e21 # [m^-3]\n",
    "stage.nom_energy_gain = 31.9e9/(11/stage.length) # [eV]\n",
    "stage.radiation_reaction = True\n",
    "stage.ion_motion = False\n",
    "stage.beam_ionization=False\n",
    "stage.ramp_beta_mag = 5\n",
    "stage.num_nodes = 13\n",
    "\n",
    "# define witness bunch\n",
    "witness = SourceBasic()\n",
    "witness.charge = -1e10 * SI.e # [C]\n",
    "witness.energy = 1500e9 # [eV]\n",
    "witness.rel_energy_spread = 0.0\n",
    "witness.bunch_length = 1e-6 # [m]\n",
    "witness.z_offset = 0 # [m]\n",
    "witness.emit_nx, witness.emit_ny = 160e-6, 0.56e-6 # [m rad]\n",
    "witness.beta_x = stage.matched_beta_function(witness.energy)\n",
    "witness.beta_y = witness.beta_x\n",
    "witness.num_particles = 50000\n",
    "witness.x_offset, witness.y_offset = 0, 0 # [m]\n",
    "witness.jitter.x = 0\n",
    "\n",
    "# beam delivery system\n",
    "bds = BeamDeliverySystemBasic()\n",
    "bds.beta_x, bds.beta_y = 8e-3, 0.4e-3 # [m]\n",
    "bds.bunch_length = 0.75 * bds.beta_y\n",
    "\n",
    "linac = Linac()\n",
    "linac.stage = stage\n",
    "linac.source = witness\n",
    "linac.num_stages = 1\n",
    "shots = 2"
   ]
  },
  {
   "cell_type": "code",
   "execution_count": null,
   "id": "7cb4da57-95d8-4d13-8e41-8ea8c003c1ba",
   "metadata": {},
   "outputs": [
    {
     "data": {
      "application/vnd.jupyter.widget-view+json": {
       "model_id": "75d94b32bcff4a43b102cacc812a8118",
       "version_major": 2,
       "version_minor": 0
      },
      "text/plain": [
       "Output()"
      ]
     },
     "metadata": {},
     "output_type": "display_data"
    },
    {
     "name": "stdout",
     "output_type": "stream",
     "text": [
      ">> SHOT 2/2\n",
      ">> SHOT 1/2\n",
      "Tracking element 1 (SourceBasic, stage 0, s = 0.0 m, 1500.0 GeV, -1.60 nC, 0.0% rms, 161.1/0.6 µm-rad)\n"
     ]
    },
    {
     "name": "stderr",
     "output_type": "stream",
     "text": [
      "Starting HiPACE++ (job 6054310):   0%|          | 0/7487 [00:00<?, ?steps/s]"
     ]
    },
    {
     "name": "stdout",
     "output_type": "stream",
     "text": [
      "Tracking element 1 (SourceBasic, stage 0, s = 0.0 m, 1500.0 GeV, -1.60 nC, 0.0% rms, 159.0/0.6 µm-rad)\n"
     ]
    },
    {
     "name": "stderr",
     "output_type": "stream",
     "text": [
      "Starting HiPACE++ (job 6054310):   0%|          | 0/7487 [05:48<?, ?steps/s]"
     ]
    }
   ],
   "source": [
    "linac.run('linac_hipace_comparisson', num_shots=shots, overwrite=True, parallel=True);"
   ]
  },
  {
   "cell_type": "code",
   "execution_count": null,
   "id": "d0261128-5348-448c-82c8-7fe5dc70fd84",
   "metadata": {},
   "outputs": [],
   "source": [
    "Final_energies = [linac.get_beam(-1, shot = i).energy()/1e9 for i in range(shots)]\n",
    "energy_standard_error = np.std(Final_energies)\n",
    "mean_energy = np.mean(Final_energies)\n",
    "print('RMS energy spread is ', energy_standard_error, 'Mean final energy is ', mean_energy)\n",
    "\n",
    "gamma = (witness.energy+33e9)*SI.e/SI.m_e/SI.c**2\n",
    "kp = pp.k_p(stage.plasma_density)\n",
    "k_beta = kp/np.sqrt(2*gamma)\n",
    "\n",
    "#stage.matched_beta_function(witness.energy)\n",
    "sigma_sqs = np.sqrt(2*gamma)/kp/gamma*(witness.emit_nx + witness.emit_ny)\n",
    "\n",
    "Expected_energy_loss = SI.e**2/12/np.pi/SI.epsilon_0 * (gamma*k_beta)**4*(sigma_sqs)*stage.length/SI.e/1e9\n",
    "print('Expected energy loss is ', Expected_energy_loss, ' GeV')\n",
    "print('Actual energy loss is ', 1535.4-1533.8, ' +- 0.06 GeV')"
   ]
  },
  {
   "cell_type": "code",
   "execution_count": null,
   "id": "7f58c386-0343-45bf-a720-e63047d346bc",
   "metadata": {},
   "outputs": [],
   "source": [
    "fig = linac.stages[-1].plot_evolution()"
   ]
  },
  {
   "cell_type": "code",
   "execution_count": null,
   "id": "f3a673a7-429e-49f1-a64f-857f75c3e786",
   "metadata": {},
   "outputs": [],
   "source": [
    "fig2 = linac.plot_evolution()"
   ]
  }
 ],
 "metadata": {
  "kernelspec": {
   "display_name": "Python 3 (ipykernel)",
   "language": "python",
   "name": "python3"
  },
  "language_info": {
   "codemirror_mode": {
    "name": "ipython",
    "version": 3
   },
   "file_extension": ".py",
   "mimetype": "text/x-python",
   "name": "python",
   "nbconvert_exporter": "python",
   "pygments_lexer": "ipython3",
   "version": "3.9.12"
  }
 },
 "nbformat": 4,
 "nbformat_minor": 5
}
