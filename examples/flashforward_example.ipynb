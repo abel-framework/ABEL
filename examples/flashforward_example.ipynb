{
 "cells": [
  {
   "cell_type": "code",
   "execution_count": 5,
   "id": "c8ea0f6c-2fc7-4507-93a3-65629c41d868",
   "metadata": {},
   "outputs": [
    {
     "name": "stdout",
     "output_type": "stream",
     "text": [
      "The autoreload extension is already loaded. To reload it, use:\n",
      "  %reload_ext autoreload\n"
     ]
    }
   ],
   "source": [
    "from abel import *\n",
    "%load_ext autoreload\n",
    "%autoreload 2"
   ]
  },
  {
   "cell_type": "code",
   "execution_count": 7,
   "id": "a96e1f53-3077-42a4-9620-fbe529593c7e",
   "metadata": {},
   "outputs": [
    {
     "name": "stdout",
     "output_type": "stream",
     "text": [
      "\u001b[37mTracked #0 \u001b[39m \u001b[1mSourceBasic            \u001b[21m \u001b[37m(s =\u001b[39m \u001b[1m   0.0\u001b[21m m\u001b[37m)\u001b[39m :   \u001b[37mE =\u001b[39m\u001b[1m   1.1\u001b[21m GeV\u001b[37m, Q =\u001b[39m\u001b[1m -0.60\u001b[21m nC\u001b[37m, σz =\u001b[39m \u001b[1m 83.0\u001b[21m µm\u001b[37m, σE =\u001b[39m\u001b[1m  0.1%\u001b[21m\u001b[37m, ε =\u001b[39m\u001b[1m   3.0\u001b[21m/\u001b[1m1.0\u001b[21m mm-mrad\u001b[0m\n",
      ">> Finished HiPACE++ (job 12658919): 100%|\u001b[32m█████████████████████████████████████\u001b[0m| 45/45 [01:26<00:00,  1.92s/ steps]\u001b[0m\n",
      ">> Finished HiPACE++ (job 12659036): 100%|\u001b[32m███████████████████████████████████\u001b[0m| 230/230 [04:21<00:00,  1.14s/ steps]\u001b[0m\n",
      ">> Finished HiPACE++ (job 12659088): 100%|\u001b[32m█████████████████████████████████████\u001b[0m| 45/45 [01:27<00:00,  1.94s/ steps]\u001b[0m\n",
      "\u001b[37m    ... #2 \u001b[39m \u001b[1mStageHipace #1         \u001b[21m \u001b[37m(s =\u001b[39m \u001b[1m   0.1\u001b[21m m\u001b[37m)\u001b[39m :   \u001b[37mE =\u001b[39m\u001b[1m   1.0\u001b[21m GeV\u001b[37m, Q =\u001b[39m\u001b[1m -0.60\u001b[21m nC\u001b[37m, σz =\u001b[39m \u001b[1m 82.6\u001b[21m µm\u001b[37m, σE =\u001b[39m\u001b[1m  1.4%\u001b[21m\u001b[37m, ε =\u001b[39m\u001b[1m   3.3\u001b[21m/\u001b[1m1.1\u001b[21m mm-mrad\u001b[0m\n",
      "\u001b[37m    ... #3 \u001b[39m \u001b[1mSpectrometerFLASHForwardImpactX\u001b[21m \u001b[37m(s =\u001b[39m \u001b[1m   7.2\u001b[21m m\u001b[37m)\u001b[39m :   \u001b[37mE =\u001b[39m\u001b[1m   1.0\u001b[21m GeV\u001b[37m, Q =\u001b[39m\u001b[1m -0.60\u001b[21m nC\u001b[37m, σz =\u001b[39m \u001b[1m 80.0\u001b[21m µm\u001b[37m, σE =\u001b[39m\u001b[1m  1.4%\u001b[21m\u001b[37m, ε =\u001b[39m\u001b[1m   4.8\u001b[21m/\u001b[1m299.2\u001b[21m mm-mrad\u001b[0m\n"
     ]
    }
   ],
   "source": [
    "experiment = FLASHForward(ion_species='Ar')\n",
    "experiment.run('flashforward_test', overwrite=True)"
   ]
  },
  {
   "cell_type": "code",
   "execution_count": null,
   "id": "65b37866-a9fb-4fb9-b159-7ee13accb1dc",
   "metadata": {},
   "outputs": [],
   "source": [
    "experiment.spectrometer.plot_evolution()\n",
    "experiment.plot_spectrometer_screen()"
   ]
  },
  {
   "cell_type": "code",
   "execution_count": null,
   "id": "9bb9e720-27d8-4be4-8a20-daf05a46ab6c",
   "metadata": {},
   "outputs": [],
   "source": [
    "experiment.component.upramp.plot_wake()\n",
    "experiment.component.plot_wake()\n",
    "experiment.component.downramp.plot_wake()"
   ]
  },
  {
   "cell_type": "code",
   "execution_count": null,
   "id": "8d9d3176-6b38-4582-a1ad-2a0ca0197b7e",
   "metadata": {},
   "outputs": [],
   "source": [
    "experiment.get_beam(0).plot_lps()\n",
    "experiment.get_beam(1).plot_lps()"
   ]
  },
  {
   "cell_type": "code",
   "execution_count": null,
   "id": "730bc176-bbf8-4ecd-8387-eb7df30887ba",
   "metadata": {},
   "outputs": [],
   "source": [
    "experiment.component.plot_evolution()"
   ]
  },
  {
   "cell_type": "code",
   "execution_count": null,
   "id": "383b5016-b221-457c-92b6-de1e63d0b8cd",
   "metadata": {},
   "outputs": [],
   "source": [
    "experiment.final_beam.plot_spectrometer_x()"
   ]
  },
  {
   "cell_type": "code",
   "execution_count": null,
   "id": "e0dc45ba-a813-4827-80fe-5e030511e7c7",
   "metadata": {},
   "outputs": [],
   "source": []
  }
 ],
 "metadata": {
  "kernelspec": {
   "display_name": "Python 3 (ipykernel)",
   "language": "python",
   "name": "python3"
  },
  "language_info": {
   "codemirror_mode": {
    "name": "ipython",
    "version": 3
   },
   "file_extension": ".py",
   "mimetype": "text/x-python",
   "name": "python",
   "nbconvert_exporter": "python",
   "pygments_lexer": "ipython3",
   "version": "3.11.7"
  }
 },
 "nbformat": 4,
 "nbformat_minor": 5
}
