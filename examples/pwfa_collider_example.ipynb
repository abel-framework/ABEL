{
 "cells": [
  {
   "cell_type": "code",
   "execution_count": 1,
   "id": "18c3b576-cabe-45a2-a2f5-051ad236d31b",
   "metadata": {},
   "outputs": [],
   "source": [
    "from abel.classes.collider.preset.pwfa_collider import PWFACollider\n",
    "from abel import Collider\n",
    "%load_ext autoreload\n",
    "%autoreload 2"
   ]
  },
  {
   "cell_type": "markdown",
   "id": "1eba742c-f6b4-4b40-8a6b-a5d5be6fc29e",
   "metadata": {},
   "source": [
    "## PWFA Collider"
   ]
  },
  {
   "cell_type": "code",
   "execution_count": 2,
   "id": "208ff2ce-1b07-4a88-a5aa-608dd41008af",
   "metadata": {
    "scrolled": true
   },
   "outputs": [
    {
     "name": "stdout",
     "output_type": "stream",
     "text": [
      ">> LINAC #1\n",
      "\u001b[37mTracked #0 \u001b[39m \u001b[1mSourceBasic            \u001b[21m \u001b[37m(s =\u001b[39m \u001b[1m   3.2\u001b[21m m\u001b[37m)\u001b[39m :   \u001b[37mE =\u001b[39m\u001b[1m   0.1\u001b[21m GeV\u001b[37m, Q =\u001b[39m\u001b[1m -1.60\u001b[21m nC\u001b[37m, σz =\u001b[39m \u001b[1m 17.7\u001b[21m µm\u001b[37m, σE =\u001b[39m\u001b[1m  1.0%\u001b[21m\u001b[37m, ε =\u001b[39m\u001b[1m   1.0\u001b[21m/\u001b[1m1.0\u001b[21m mm-mrad\u001b[0m\n",
      "\u001b[37m    ... #1 \u001b[39m \u001b[1mRFAcceleratorBasic     \u001b[21m \u001b[37m(s =\u001b[39m \u001b[1m 249.4\u001b[21m m\u001b[37m)\u001b[39m :   \u001b[37mE =\u001b[39m\u001b[1m   5.0\u001b[21m GeV\u001b[37m, Q =\u001b[39m\u001b[1m -1.60\u001b[21m nC\u001b[37m, σz =\u001b[39m \u001b[1m 17.7\u001b[21m µm\u001b[37m, σE =\u001b[39m\u001b[1m  0.0%\u001b[21m\u001b[37m, ε =\u001b[39m\u001b[1m   1.0\u001b[21m/\u001b[1m1.0\u001b[21m mm-mrad\u001b[0m\n",
      "\u001b[37m    ... #2 \u001b[39m \u001b[1mStageBasic #1          \u001b[21m \u001b[37m(s =\u001b[39m \u001b[1m 405.7\u001b[21m m\u001b[37m)\u001b[39m :   \u001b[37mE =\u001b[39m\u001b[1m 161.2\u001b[21m GeV\u001b[37m, Q =\u001b[39m\u001b[1m -1.60\u001b[21m nC\u001b[37m, σz =\u001b[39m \u001b[1m 17.7\u001b[21m µm\u001b[37m, σE =\u001b[39m\u001b[1m  0.0%\u001b[21m\u001b[37m, ε =\u001b[39m\u001b[1m   1.0\u001b[21m/\u001b[1m1.0\u001b[21m mm-mrad\u001b[0m\n",
      "\u001b[37m    ... #3 \u001b[39m \u001b[1mInterstageBasic        \u001b[21m \u001b[37m(s =\u001b[39m \u001b[1m 428.4\u001b[21m m\u001b[37m)\u001b[39m :   \u001b[37mE =\u001b[39m\u001b[1m 161.2\u001b[21m GeV\u001b[37m, Q =\u001b[39m\u001b[1m -1.60\u001b[21m nC\u001b[37m, σz =\u001b[39m \u001b[1m 17.7\u001b[21m µm\u001b[37m, σE =\u001b[39m\u001b[1m  0.0%\u001b[21m\u001b[37m, ε =\u001b[39m\u001b[1m   1.0\u001b[21m/\u001b[1m1.0\u001b[21m mm-mrad\u001b[0m\n",
      "\u001b[37m    ... #4 \u001b[39m \u001b[1mStageBasic #2          \u001b[21m \u001b[37m(s =\u001b[39m \u001b[1m 584.6\u001b[21m m\u001b[37m)\u001b[39m :   \u001b[37mE =\u001b[39m\u001b[1m 317.5\u001b[21m GeV\u001b[37m, Q =\u001b[39m\u001b[1m -1.60\u001b[21m nC\u001b[37m, σz =\u001b[39m \u001b[1m 17.7\u001b[21m µm\u001b[37m, σE =\u001b[39m\u001b[1m  0.0%\u001b[21m\u001b[37m, ε =\u001b[39m\u001b[1m   1.0\u001b[21m/\u001b[1m1.0\u001b[21m mm-mrad\u001b[0m\n",
      "\u001b[37m    ... #5 \u001b[39m \u001b[1mInterstageBasic        \u001b[21m \u001b[37m(s =\u001b[39m \u001b[1m 616.8\u001b[21m m\u001b[37m)\u001b[39m :   \u001b[37mE =\u001b[39m\u001b[1m 317.5\u001b[21m GeV\u001b[37m, Q =\u001b[39m\u001b[1m -1.60\u001b[21m nC\u001b[37m, σz =\u001b[39m \u001b[1m 17.7\u001b[21m µm\u001b[37m, σE =\u001b[39m\u001b[1m  0.0%\u001b[21m\u001b[37m, ε =\u001b[39m\u001b[1m   1.0\u001b[21m/\u001b[1m1.0\u001b[21m mm-mrad\u001b[0m\n",
      "\u001b[37m    ... #6 \u001b[39m \u001b[1mStageBasic #3          \u001b[21m \u001b[37m(s =\u001b[39m \u001b[1m 773.0\u001b[21m m\u001b[37m)\u001b[39m :   \u001b[37mE =\u001b[39m\u001b[1m 473.7\u001b[21m GeV\u001b[37m, Q =\u001b[39m\u001b[1m -1.60\u001b[21m nC\u001b[37m, σz =\u001b[39m \u001b[1m 17.7\u001b[21m µm\u001b[37m, σE =\u001b[39m\u001b[1m  0.0%\u001b[21m\u001b[37m, ε =\u001b[39m\u001b[1m   1.0\u001b[21m/\u001b[1m1.0\u001b[21m mm-mrad\u001b[0m\n",
      "\u001b[37m    ... #7 \u001b[39m \u001b[1mInterstageBasic        \u001b[21m \u001b[37m(s =\u001b[39m \u001b[1m 812.3\u001b[21m m\u001b[37m)\u001b[39m :   \u001b[37mE =\u001b[39m\u001b[1m 473.7\u001b[21m GeV\u001b[37m, Q =\u001b[39m\u001b[1m -1.60\u001b[21m nC\u001b[37m, σz =\u001b[39m \u001b[1m 17.7\u001b[21m µm\u001b[37m, σE =\u001b[39m\u001b[1m  0.0%\u001b[21m\u001b[37m, ε =\u001b[39m\u001b[1m   1.0\u001b[21m/\u001b[1m1.0\u001b[21m mm-mrad\u001b[0m\n",
      "\u001b[37m    ... #8 \u001b[39m \u001b[1mStageBasic #4          \u001b[21m \u001b[37m(s =\u001b[39m \u001b[1m 968.6\u001b[21m m\u001b[37m)\u001b[39m :   \u001b[37mE =\u001b[39m\u001b[1m 630.0\u001b[21m GeV\u001b[37m, Q =\u001b[39m\u001b[1m -1.60\u001b[21m nC\u001b[37m, σz =\u001b[39m \u001b[1m 17.7\u001b[21m µm\u001b[37m, σE =\u001b[39m\u001b[1m  0.0%\u001b[21m\u001b[37m, ε =\u001b[39m\u001b[1m   1.0\u001b[21m/\u001b[1m1.0\u001b[21m mm-mrad\u001b[0m\n",
      "\u001b[37m    ... #9 \u001b[39m \u001b[1mInterstageBasic        \u001b[21m \u001b[37m(s =\u001b[39m \u001b[1m1014.0\u001b[21m m\u001b[37m)\u001b[39m :   \u001b[37mE =\u001b[39m\u001b[1m 630.0\u001b[21m GeV\u001b[37m, Q =\u001b[39m\u001b[1m -1.60\u001b[21m nC\u001b[37m, σz =\u001b[39m \u001b[1m 17.7\u001b[21m µm\u001b[37m, σE =\u001b[39m\u001b[1m  0.0%\u001b[21m\u001b[37m, ε =\u001b[39m\u001b[1m   1.0\u001b[21m/\u001b[1m1.0\u001b[21m mm-mrad\u001b[0m\n",
      "\u001b[37m  > ... #10\u001b[39m \u001b[1mStageBasic #5          \u001b[21m \u001b[37m(s =\u001b[39m \u001b[1m1170.3\u001b[21m m\u001b[37m)\u001b[39m :   \u001b[37mE =\u001b[39m\u001b[1m 786.2\u001b[21m GeV\u001b[37m, Q =\u001b[39m\u001b[1m -1.60\u001b[21m nC\u001b[37m, σz =\u001b[39m \u001b[1m 17.7\u001b[21m µm\u001b[37m, σE =\u001b[39m\u001b[1m  0.0%\u001b[21m\u001b[37m, ε =\u001b[39m\u001b[1m   1.0\u001b[21m/\u001b[1m1.0\u001b[21m mm-mrad\u001b[0m\n",
      "\u001b[37m    ... #11\u001b[39m \u001b[1mInterstageBasic        \u001b[21m \u001b[37m(s =\u001b[39m \u001b[1m1221.0\u001b[21m m\u001b[37m)\u001b[39m :   \u001b[37mE =\u001b[39m\u001b[1m 786.2\u001b[21m GeV\u001b[37m, Q =\u001b[39m\u001b[1m -1.60\u001b[21m nC\u001b[37m, σz =\u001b[39m \u001b[1m 17.7\u001b[21m µm\u001b[37m, σE =\u001b[39m\u001b[1m  0.0%\u001b[21m\u001b[37m, ε =\u001b[39m\u001b[1m   1.0\u001b[21m/\u001b[1m1.0\u001b[21m mm-mrad\u001b[0m\n",
      "\u001b[37m    ... #12\u001b[39m \u001b[1mStageBasic #6          \u001b[21m \u001b[37m(s =\u001b[39m \u001b[1m1377.3\u001b[21m m\u001b[37m)\u001b[39m :   \u001b[37mE =\u001b[39m\u001b[1m 942.5\u001b[21m GeV\u001b[37m, Q =\u001b[39m\u001b[1m -1.60\u001b[21m nC\u001b[37m, σz =\u001b[39m \u001b[1m 17.7\u001b[21m µm\u001b[37m, σE =\u001b[39m\u001b[1m  0.0%\u001b[21m\u001b[37m, ε =\u001b[39m\u001b[1m   1.0\u001b[21m/\u001b[1m1.0\u001b[21m mm-mrad\u001b[0m\n",
      "\u001b[37m    ... #13\u001b[39m \u001b[1mInterstageBasic        \u001b[21m \u001b[37m(s =\u001b[39m \u001b[1m1432.9\u001b[21m m\u001b[37m)\u001b[39m :   \u001b[37mE =\u001b[39m\u001b[1m 942.5\u001b[21m GeV\u001b[37m, Q =\u001b[39m\u001b[1m -1.60\u001b[21m nC\u001b[37m, σz =\u001b[39m \u001b[1m 17.7\u001b[21m µm\u001b[37m, σE =\u001b[39m\u001b[1m  0.0%\u001b[21m\u001b[37m, ε =\u001b[39m\u001b[1m   1.0\u001b[21m/\u001b[1m1.0\u001b[21m mm-mrad\u001b[0m\n",
      "\u001b[37m    ... #14\u001b[39m \u001b[1mStageBasic #7          \u001b[21m \u001b[37m(s =\u001b[39m \u001b[1m1589.2\u001b[21m m\u001b[37m)\u001b[39m :   \u001b[37mE =\u001b[39m\u001b[1m1098.7\u001b[21m GeV\u001b[37m, Q =\u001b[39m\u001b[1m -1.60\u001b[21m nC\u001b[37m, σz =\u001b[39m \u001b[1m 17.7\u001b[21m µm\u001b[37m, σE =\u001b[39m\u001b[1m  0.0%\u001b[21m\u001b[37m, ε =\u001b[39m\u001b[1m   1.0\u001b[21m/\u001b[1m1.0\u001b[21m mm-mrad\u001b[0m\n",
      "\u001b[37m    ... #15\u001b[39m \u001b[1mInterstageBasic        \u001b[21m \u001b[37m(s =\u001b[39m \u001b[1m1649.3\u001b[21m m\u001b[37m)\u001b[39m :   \u001b[37mE =\u001b[39m\u001b[1m1098.7\u001b[21m GeV\u001b[37m, Q =\u001b[39m\u001b[1m -1.60\u001b[21m nC\u001b[37m, σz =\u001b[39m \u001b[1m 17.7\u001b[21m µm\u001b[37m, σE =\u001b[39m\u001b[1m  0.0%\u001b[21m\u001b[37m, ε =\u001b[39m\u001b[1m   1.0\u001b[21m/\u001b[1m1.0\u001b[21m mm-mrad\u001b[0m\n",
      "\u001b[37m    ... #16\u001b[39m \u001b[1mStageBasic #8          \u001b[21m \u001b[37m(s =\u001b[39m \u001b[1m1805.5\u001b[21m m\u001b[37m)\u001b[39m :   \u001b[37mE =\u001b[39m\u001b[1m1255.0\u001b[21m GeV\u001b[37m, Q =\u001b[39m\u001b[1m -1.60\u001b[21m nC\u001b[37m, σz =\u001b[39m \u001b[1m 17.7\u001b[21m µm\u001b[37m, σE =\u001b[39m\u001b[1m  0.0%\u001b[21m\u001b[37m, ε =\u001b[39m\u001b[1m   1.0\u001b[21m/\u001b[1m1.0\u001b[21m mm-mrad\u001b[0m\n",
      "\u001b[37m    ... #17\u001b[39m \u001b[1mInterstageBasic        \u001b[21m \u001b[37m(s =\u001b[39m \u001b[1m1869.7\u001b[21m m\u001b[37m)\u001b[39m :   \u001b[37mE =\u001b[39m\u001b[1m1255.0\u001b[21m GeV\u001b[37m, Q =\u001b[39m\u001b[1m -1.60\u001b[21m nC\u001b[37m, σz =\u001b[39m \u001b[1m 17.7\u001b[21m µm\u001b[37m, σE =\u001b[39m\u001b[1m  0.0%\u001b[21m\u001b[37m, ε =\u001b[39m\u001b[1m   1.0\u001b[21m/\u001b[1m1.0\u001b[21m mm-mrad\u001b[0m\n",
      "\u001b[37m    ... #18\u001b[39m \u001b[1mStageBasic #9          \u001b[21m \u001b[37m(s =\u001b[39m \u001b[1m2026.0\u001b[21m m\u001b[37m)\u001b[39m :   \u001b[37mE =\u001b[39m\u001b[1m1411.2\u001b[21m GeV\u001b[37m, Q =\u001b[39m\u001b[1m -1.60\u001b[21m nC\u001b[37m, σz =\u001b[39m \u001b[1m 17.7\u001b[21m µm\u001b[37m, σE =\u001b[39m\u001b[1m  0.0%\u001b[21m\u001b[37m, ε =\u001b[39m\u001b[1m   1.0\u001b[21m/\u001b[1m1.0\u001b[21m mm-mrad\u001b[0m\n",
      "\u001b[37m    ... #19\u001b[39m \u001b[1mInterstageBasic        \u001b[21m \u001b[37m(s =\u001b[39m \u001b[1m2094.1\u001b[21m m\u001b[37m)\u001b[39m :   \u001b[37mE =\u001b[39m\u001b[1m1411.2\u001b[21m GeV\u001b[37m, Q =\u001b[39m\u001b[1m -1.60\u001b[21m nC\u001b[37m, σz =\u001b[39m \u001b[1m 17.7\u001b[21m µm\u001b[37m, σE =\u001b[39m\u001b[1m  0.0%\u001b[21m\u001b[37m, ε =\u001b[39m\u001b[1m   1.0\u001b[21m/\u001b[1m1.0\u001b[21m mm-mrad\u001b[0m\n",
      "\u001b[37m  > ... #20\u001b[39m \u001b[1mStageBasic #10         \u001b[21m \u001b[37m(s =\u001b[39m \u001b[1m2250.4\u001b[21m m\u001b[37m)\u001b[39m :   \u001b[37mE =\u001b[39m\u001b[1m1567.5\u001b[21m GeV\u001b[37m, Q =\u001b[39m\u001b[1m -1.60\u001b[21m nC\u001b[37m, σz =\u001b[39m \u001b[1m 17.7\u001b[21m µm\u001b[37m, σE =\u001b[39m\u001b[1m  0.0%\u001b[21m\u001b[37m, ε =\u001b[39m\u001b[1m   1.0\u001b[21m/\u001b[1m1.0\u001b[21m mm-mrad\u001b[0m\n",
      "\u001b[37m    ... #21\u001b[39m \u001b[1mInterstageBasic        \u001b[21m \u001b[37m(s =\u001b[39m \u001b[1m2322.2\u001b[21m m\u001b[37m)\u001b[39m :   \u001b[37mE =\u001b[39m\u001b[1m1567.5\u001b[21m GeV\u001b[37m, Q =\u001b[39m\u001b[1m -1.60\u001b[21m nC\u001b[37m, σz =\u001b[39m \u001b[1m 17.7\u001b[21m µm\u001b[37m, σE =\u001b[39m\u001b[1m  0.0%\u001b[21m\u001b[37m, ε =\u001b[39m\u001b[1m   1.0\u001b[21m/\u001b[1m1.0\u001b[21m mm-mrad\u001b[0m\n",
      "\u001b[37m    ... #22\u001b[39m \u001b[1mStageBasic #11         \u001b[21m \u001b[37m(s =\u001b[39m \u001b[1m2478.4\u001b[21m m\u001b[37m)\u001b[39m :   \u001b[37mE =\u001b[39m\u001b[1m1723.7\u001b[21m GeV\u001b[37m, Q =\u001b[39m\u001b[1m -1.60\u001b[21m nC\u001b[37m, σz =\u001b[39m \u001b[1m 17.7\u001b[21m µm\u001b[37m, σE =\u001b[39m\u001b[1m  0.0%\u001b[21m\u001b[37m, ε =\u001b[39m\u001b[1m   1.0\u001b[21m/\u001b[1m1.0\u001b[21m mm-mrad\u001b[0m\n",
      "\u001b[37m    ... #23\u001b[39m \u001b[1mInterstageBasic        \u001b[21m \u001b[37m(s =\u001b[39m \u001b[1m2553.7\u001b[21m m\u001b[37m)\u001b[39m :   \u001b[37mE =\u001b[39m\u001b[1m1723.7\u001b[21m GeV\u001b[37m, Q =\u001b[39m\u001b[1m -1.60\u001b[21m nC\u001b[37m, σz =\u001b[39m \u001b[1m 17.7\u001b[21m µm\u001b[37m, σE =\u001b[39m\u001b[1m  0.0%\u001b[21m\u001b[37m, ε =\u001b[39m\u001b[1m   1.0\u001b[21m/\u001b[1m1.0\u001b[21m mm-mrad\u001b[0m\n",
      "\u001b[37m    ... #24\u001b[39m \u001b[1mStageBasic #12         \u001b[21m \u001b[37m(s =\u001b[39m \u001b[1m2710.0\u001b[21m m\u001b[37m)\u001b[39m :   \u001b[37mE =\u001b[39m\u001b[1m1880.0\u001b[21m GeV\u001b[37m, Q =\u001b[39m\u001b[1m -1.60\u001b[21m nC\u001b[37m, σz =\u001b[39m \u001b[1m 17.7\u001b[21m µm\u001b[37m, σE =\u001b[39m\u001b[1m  0.0%\u001b[21m\u001b[37m, ε =\u001b[39m\u001b[1m   1.0\u001b[21m/\u001b[1m1.0\u001b[21m mm-mrad\u001b[0m\n",
      "\u001b[37m    ... #25\u001b[39m \u001b[1mInterstageBasic        \u001b[21m \u001b[37m(s =\u001b[39m \u001b[1m2788.7\u001b[21m m\u001b[37m)\u001b[39m :   \u001b[37mE =\u001b[39m\u001b[1m1880.0\u001b[21m GeV\u001b[37m, Q =\u001b[39m\u001b[1m -1.60\u001b[21m nC\u001b[37m, σz =\u001b[39m \u001b[1m 17.7\u001b[21m µm\u001b[37m, σE =\u001b[39m\u001b[1m  0.0%\u001b[21m\u001b[37m, ε =\u001b[39m\u001b[1m   1.0\u001b[21m/\u001b[1m1.0\u001b[21m mm-mrad\u001b[0m\n",
      "\u001b[37m    ... #26\u001b[39m \u001b[1mStageBasic #13         \u001b[21m \u001b[37m(s =\u001b[39m \u001b[1m2944.9\u001b[21m m\u001b[37m)\u001b[39m :   \u001b[37mE =\u001b[39m\u001b[1m2036.2\u001b[21m GeV\u001b[37m, Q =\u001b[39m\u001b[1m -1.60\u001b[21m nC\u001b[37m, σz =\u001b[39m \u001b[1m 17.7\u001b[21m µm\u001b[37m, σE =\u001b[39m\u001b[1m  0.0%\u001b[21m\u001b[37m, ε =\u001b[39m\u001b[1m   1.0\u001b[21m/\u001b[1m1.0\u001b[21m mm-mrad\u001b[0m\n",
      "\u001b[37m    ... #27\u001b[39m \u001b[1mInterstageBasic        \u001b[21m \u001b[37m(s =\u001b[39m \u001b[1m3026.8\u001b[21m m\u001b[37m)\u001b[39m :   \u001b[37mE =\u001b[39m\u001b[1m2036.2\u001b[21m GeV\u001b[37m, Q =\u001b[39m\u001b[1m -1.60\u001b[21m nC\u001b[37m, σz =\u001b[39m \u001b[1m 17.7\u001b[21m µm\u001b[37m, σE =\u001b[39m\u001b[1m  0.0%\u001b[21m\u001b[37m, ε =\u001b[39m\u001b[1m   1.0\u001b[21m/\u001b[1m1.0\u001b[21m mm-mrad\u001b[0m\n",
      "\u001b[37m    ... #28\u001b[39m \u001b[1mStageBasic #14         \u001b[21m \u001b[37m(s =\u001b[39m \u001b[1m3183.0\u001b[21m m\u001b[37m)\u001b[39m :   \u001b[37mE =\u001b[39m\u001b[1m2192.5\u001b[21m GeV\u001b[37m, Q =\u001b[39m\u001b[1m -1.60\u001b[21m nC\u001b[37m, σz =\u001b[39m \u001b[1m 17.7\u001b[21m µm\u001b[37m, σE =\u001b[39m\u001b[1m  0.0%\u001b[21m\u001b[37m, ε =\u001b[39m\u001b[1m   1.0\u001b[21m/\u001b[1m1.0\u001b[21m mm-mrad\u001b[0m\n",
      "\u001b[37m    ... #29\u001b[39m \u001b[1mInterstageBasic        \u001b[21m \u001b[37m(s =\u001b[39m \u001b[1m3268.0\u001b[21m m\u001b[37m)\u001b[39m :   \u001b[37mE =\u001b[39m\u001b[1m2192.5\u001b[21m GeV\u001b[37m, Q =\u001b[39m\u001b[1m -1.60\u001b[21m nC\u001b[37m, σz =\u001b[39m \u001b[1m 17.7\u001b[21m µm\u001b[37m, σE =\u001b[39m\u001b[1m  0.0%\u001b[21m\u001b[37m, ε =\u001b[39m\u001b[1m   1.0\u001b[21m/\u001b[1m1.0\u001b[21m mm-mrad\u001b[0m\n",
      "\u001b[37m  > ... #30\u001b[39m \u001b[1mStageBasic #15         \u001b[21m \u001b[37m(s =\u001b[39m \u001b[1m3424.2\u001b[21m m\u001b[37m)\u001b[39m :   \u001b[37mE =\u001b[39m\u001b[1m2348.7\u001b[21m GeV\u001b[37m, Q =\u001b[39m\u001b[1m -1.60\u001b[21m nC\u001b[37m, σz =\u001b[39m \u001b[1m 17.7\u001b[21m µm\u001b[37m, σE =\u001b[39m\u001b[1m  0.0%\u001b[21m\u001b[37m, ε =\u001b[39m\u001b[1m   1.0\u001b[21m/\u001b[1m1.0\u001b[21m mm-mrad\u001b[0m\n",
      "\u001b[37m    ... #31\u001b[39m \u001b[1mInterstageBasic        \u001b[21m \u001b[37m(s =\u001b[39m \u001b[1m3512.2\u001b[21m m\u001b[37m)\u001b[39m :   \u001b[37mE =\u001b[39m\u001b[1m2348.7\u001b[21m GeV\u001b[37m, Q =\u001b[39m\u001b[1m -1.60\u001b[21m nC\u001b[37m, σz =\u001b[39m \u001b[1m 17.7\u001b[21m µm\u001b[37m, σE =\u001b[39m\u001b[1m  0.0%\u001b[21m\u001b[37m, ε =\u001b[39m\u001b[1m   1.0\u001b[21m/\u001b[1m1.0\u001b[21m mm-mrad\u001b[0m\n",
      "\u001b[37m    ... #32\u001b[39m \u001b[1mStageBasic #16         \u001b[21m \u001b[37m(s =\u001b[39m \u001b[1m3668.4\u001b[21m m\u001b[37m)\u001b[39m :   \u001b[37mE =\u001b[39m\u001b[1m2505.0\u001b[21m GeV\u001b[37m, Q =\u001b[39m\u001b[1m -1.60\u001b[21m nC\u001b[37m, σz =\u001b[39m \u001b[1m 17.7\u001b[21m µm\u001b[37m, σE =\u001b[39m\u001b[1m  0.0%\u001b[21m\u001b[37m, ε =\u001b[39m\u001b[1m   1.0\u001b[21m/\u001b[1m1.0\u001b[21m mm-mrad\u001b[0m\n",
      "\u001b[37m    ... #33\u001b[39m \u001b[1mInterstageBasic        \u001b[21m \u001b[37m(s =\u001b[39m \u001b[1m3759.3\u001b[21m m\u001b[37m)\u001b[39m :   \u001b[37mE =\u001b[39m\u001b[1m2505.0\u001b[21m GeV\u001b[37m, Q =\u001b[39m\u001b[1m -1.60\u001b[21m nC\u001b[37m, σz =\u001b[39m \u001b[1m 17.7\u001b[21m µm\u001b[37m, σE =\u001b[39m\u001b[1m  0.0%\u001b[21m\u001b[37m, ε =\u001b[39m\u001b[1m   1.0\u001b[21m/\u001b[1m1.0\u001b[21m mm-mrad\u001b[0m\n",
      "\u001b[37m    ... #34\u001b[39m \u001b[1mStageBasic #17         \u001b[21m \u001b[37m(s =\u001b[39m \u001b[1m3915.5\u001b[21m m\u001b[37m)\u001b[39m :   \u001b[37mE =\u001b[39m\u001b[1m2661.2\u001b[21m GeV\u001b[37m, Q =\u001b[39m\u001b[1m -1.60\u001b[21m nC\u001b[37m, σz =\u001b[39m \u001b[1m 17.7\u001b[21m µm\u001b[37m, σE =\u001b[39m\u001b[1m  0.0%\u001b[21m\u001b[37m, ε =\u001b[39m\u001b[1m   1.0\u001b[21m/\u001b[1m1.0\u001b[21m mm-mrad\u001b[0m\n",
      "\u001b[37m    ... #35\u001b[39m \u001b[1mInterstageBasic        \u001b[21m \u001b[37m(s =\u001b[39m \u001b[1m4009.2\u001b[21m m\u001b[37m)\u001b[39m :   \u001b[37mE =\u001b[39m\u001b[1m2661.2\u001b[21m GeV\u001b[37m, Q =\u001b[39m\u001b[1m -1.60\u001b[21m nC\u001b[37m, σz =\u001b[39m \u001b[1m 17.7\u001b[21m µm\u001b[37m, σE =\u001b[39m\u001b[1m  0.0%\u001b[21m\u001b[37m, ε =\u001b[39m\u001b[1m   1.0\u001b[21m/\u001b[1m1.0\u001b[21m mm-mrad\u001b[0m\n",
      "\u001b[37m    ... #36\u001b[39m \u001b[1mStageBasic #18         \u001b[21m \u001b[37m(s =\u001b[39m \u001b[1m4165.4\u001b[21m m\u001b[37m)\u001b[39m :   \u001b[37mE =\u001b[39m\u001b[1m2817.5\u001b[21m GeV\u001b[37m, Q =\u001b[39m\u001b[1m -1.60\u001b[21m nC\u001b[37m, σz =\u001b[39m \u001b[1m 17.7\u001b[21m µm\u001b[37m, σE =\u001b[39m\u001b[1m  0.0%\u001b[21m\u001b[37m, ε =\u001b[39m\u001b[1m   1.0\u001b[21m/\u001b[1m1.0\u001b[21m mm-mrad\u001b[0m\n",
      "\u001b[37m    ... #37\u001b[39m \u001b[1mInterstageBasic        \u001b[21m \u001b[37m(s =\u001b[39m \u001b[1m4261.8\u001b[21m m\u001b[37m)\u001b[39m :   \u001b[37mE =\u001b[39m\u001b[1m2817.5\u001b[21m GeV\u001b[37m, Q =\u001b[39m\u001b[1m -1.60\u001b[21m nC\u001b[37m, σz =\u001b[39m \u001b[1m 17.7\u001b[21m µm\u001b[37m, σE =\u001b[39m\u001b[1m  0.0%\u001b[21m\u001b[37m, ε =\u001b[39m\u001b[1m   1.0\u001b[21m/\u001b[1m1.0\u001b[21m mm-mrad\u001b[0m\n",
      "\u001b[37m    ... #38\u001b[39m \u001b[1mStageBasic #19         \u001b[21m \u001b[37m(s =\u001b[39m \u001b[1m4418.0\u001b[21m m\u001b[37m)\u001b[39m :   \u001b[37mE =\u001b[39m\u001b[1m2973.7\u001b[21m GeV\u001b[37m, Q =\u001b[39m\u001b[1m -1.60\u001b[21m nC\u001b[37m, σz =\u001b[39m \u001b[1m 17.7\u001b[21m µm\u001b[37m, σE =\u001b[39m\u001b[1m  0.0%\u001b[21m\u001b[37m, ε =\u001b[39m\u001b[1m   1.0\u001b[21m/\u001b[1m1.0\u001b[21m mm-mrad\u001b[0m\n",
      "\u001b[37m    ... #39\u001b[39m \u001b[1mInterstageBasic        \u001b[21m \u001b[37m(s =\u001b[39m \u001b[1m4517.0\u001b[21m m\u001b[37m)\u001b[39m :   \u001b[37mE =\u001b[39m\u001b[1m2973.7\u001b[21m GeV\u001b[37m, Q =\u001b[39m\u001b[1m -1.60\u001b[21m nC\u001b[37m, σz =\u001b[39m \u001b[1m 17.7\u001b[21m µm\u001b[37m, σE =\u001b[39m\u001b[1m  0.0%\u001b[21m\u001b[37m, ε =\u001b[39m\u001b[1m   1.0\u001b[21m/\u001b[1m1.0\u001b[21m mm-mrad\u001b[0m\n",
      "\u001b[37m  > ... #40\u001b[39m \u001b[1mStageBasic #20         \u001b[21m \u001b[37m(s =\u001b[39m \u001b[1m4673.2\u001b[21m m\u001b[37m)\u001b[39m :   \u001b[37mE =\u001b[39m\u001b[1m3130.0\u001b[21m GeV\u001b[37m, Q =\u001b[39m\u001b[1m -1.60\u001b[21m nC\u001b[37m, σz =\u001b[39m \u001b[1m 17.7\u001b[21m µm\u001b[37m, σE =\u001b[39m\u001b[1m  0.0%\u001b[21m\u001b[37m, ε =\u001b[39m\u001b[1m   1.0\u001b[21m/\u001b[1m1.0\u001b[21m mm-mrad\u001b[0m\n",
      "\u001b[37m    ... #41\u001b[39m \u001b[1mInterstageBasic        \u001b[21m \u001b[37m(s =\u001b[39m \u001b[1m4774.8\u001b[21m m\u001b[37m)\u001b[39m :   \u001b[37mE =\u001b[39m\u001b[1m3130.0\u001b[21m GeV\u001b[37m, Q =\u001b[39m\u001b[1m -1.60\u001b[21m nC\u001b[37m, σz =\u001b[39m \u001b[1m 17.7\u001b[21m µm\u001b[37m, σE =\u001b[39m\u001b[1m  0.0%\u001b[21m\u001b[37m, ε =\u001b[39m\u001b[1m   1.0\u001b[21m/\u001b[1m1.0\u001b[21m mm-mrad\u001b[0m\n",
      "\u001b[37m    ... #42\u001b[39m \u001b[1mStageBasic #21         \u001b[21m \u001b[37m(s =\u001b[39m \u001b[1m4931.0\u001b[21m m\u001b[37m)\u001b[39m :   \u001b[37mE =\u001b[39m\u001b[1m3286.2\u001b[21m GeV\u001b[37m, Q =\u001b[39m\u001b[1m -1.60\u001b[21m nC\u001b[37m, σz =\u001b[39m \u001b[1m 17.7\u001b[21m µm\u001b[37m, σE =\u001b[39m\u001b[1m  0.0%\u001b[21m\u001b[37m, ε =\u001b[39m\u001b[1m   1.0\u001b[21m/\u001b[1m1.0\u001b[21m mm-mrad\u001b[0m\n",
      "\u001b[37m    ... #43\u001b[39m \u001b[1mInterstageBasic        \u001b[21m \u001b[37m(s =\u001b[39m \u001b[1m5035.1\u001b[21m m\u001b[37m)\u001b[39m :   \u001b[37mE =\u001b[39m\u001b[1m3286.2\u001b[21m GeV\u001b[37m, Q =\u001b[39m\u001b[1m -1.60\u001b[21m nC\u001b[37m, σz =\u001b[39m \u001b[1m 17.7\u001b[21m µm\u001b[37m, σE =\u001b[39m\u001b[1m  0.0%\u001b[21m\u001b[37m, ε =\u001b[39m\u001b[1m   1.0\u001b[21m/\u001b[1m1.0\u001b[21m mm-mrad\u001b[0m\n",
      "\u001b[37m    ... #44\u001b[39m \u001b[1mStageBasic #22         \u001b[21m \u001b[37m(s =\u001b[39m \u001b[1m5191.4\u001b[21m m\u001b[37m)\u001b[39m :   \u001b[37mE =\u001b[39m\u001b[1m3442.4\u001b[21m GeV\u001b[37m, Q =\u001b[39m\u001b[1m -1.60\u001b[21m nC\u001b[37m, σz =\u001b[39m \u001b[1m 17.7\u001b[21m µm\u001b[37m, σE =\u001b[39m\u001b[1m  0.0%\u001b[21m\u001b[37m, ε =\u001b[39m\u001b[1m   1.0\u001b[21m/\u001b[1m1.0\u001b[21m mm-mrad\u001b[0m\n",
      "\u001b[37m    ... #45\u001b[39m \u001b[1mInterstageBasic        \u001b[21m \u001b[37m(s =\u001b[39m \u001b[1m5297.9\u001b[21m m\u001b[37m)\u001b[39m :   \u001b[37mE =\u001b[39m\u001b[1m3442.4\u001b[21m GeV\u001b[37m, Q =\u001b[39m\u001b[1m -1.60\u001b[21m nC\u001b[37m, σz =\u001b[39m \u001b[1m 17.7\u001b[21m µm\u001b[37m, σE =\u001b[39m\u001b[1m  0.0%\u001b[21m\u001b[37m, ε =\u001b[39m\u001b[1m   1.0\u001b[21m/\u001b[1m1.0\u001b[21m mm-mrad\u001b[0m\n",
      "\u001b[37m    ... #46\u001b[39m \u001b[1mStageBasic #23         \u001b[21m \u001b[37m(s =\u001b[39m \u001b[1m5454.1\u001b[21m m\u001b[37m)\u001b[39m :   \u001b[37mE =\u001b[39m\u001b[1m3598.7\u001b[21m GeV\u001b[37m, Q =\u001b[39m\u001b[1m -1.60\u001b[21m nC\u001b[37m, σz =\u001b[39m \u001b[1m 17.7\u001b[21m µm\u001b[37m, σE =\u001b[39m\u001b[1m  0.0%\u001b[21m\u001b[37m, ε =\u001b[39m\u001b[1m   1.0\u001b[21m/\u001b[1m1.0\u001b[21m mm-mrad\u001b[0m\n",
      "\u001b[37m    ... #47\u001b[39m \u001b[1mInterstageBasic        \u001b[21m \u001b[37m(s =\u001b[39m \u001b[1m5563.0\u001b[21m m\u001b[37m)\u001b[39m :   \u001b[37mE =\u001b[39m\u001b[1m3598.7\u001b[21m GeV\u001b[37m, Q =\u001b[39m\u001b[1m -1.60\u001b[21m nC\u001b[37m, σz =\u001b[39m \u001b[1m 17.7\u001b[21m µm\u001b[37m, σE =\u001b[39m\u001b[1m  0.0%\u001b[21m\u001b[37m, ε =\u001b[39m\u001b[1m   1.0\u001b[21m/\u001b[1m1.0\u001b[21m mm-mrad\u001b[0m\n",
      "\u001b[37m    ... #48\u001b[39m \u001b[1mStageBasic #24         \u001b[21m \u001b[37m(s =\u001b[39m \u001b[1m5719.3\u001b[21m m\u001b[37m)\u001b[39m :   \u001b[37mE =\u001b[39m\u001b[1m3754.9\u001b[21m GeV\u001b[37m, Q =\u001b[39m\u001b[1m -1.60\u001b[21m nC\u001b[37m, σz =\u001b[39m \u001b[1m 17.7\u001b[21m µm\u001b[37m, σE =\u001b[39m\u001b[1m  0.0%\u001b[21m\u001b[37m, ε =\u001b[39m\u001b[1m   1.0\u001b[21m/\u001b[1m1.0\u001b[21m mm-mrad\u001b[0m\n",
      "\u001b[37m    ... #49\u001b[39m \u001b[1mInterstageBasic        \u001b[21m \u001b[37m(s =\u001b[39m \u001b[1m5830.5\u001b[21m m\u001b[37m)\u001b[39m :   \u001b[37mE =\u001b[39m\u001b[1m3754.9\u001b[21m GeV\u001b[37m, Q =\u001b[39m\u001b[1m -1.60\u001b[21m nC\u001b[37m, σz =\u001b[39m \u001b[1m 17.7\u001b[21m µm\u001b[37m, σE =\u001b[39m\u001b[1m  0.0%\u001b[21m\u001b[37m, ε =\u001b[39m\u001b[1m   1.0\u001b[21m/\u001b[1m1.0\u001b[21m mm-mrad\u001b[0m\n",
      "\u001b[37m  > ... #50\u001b[39m \u001b[1mStageBasic #25         \u001b[21m \u001b[37m(s =\u001b[39m \u001b[1m5986.8\u001b[21m m\u001b[37m)\u001b[39m :   \u001b[37mE =\u001b[39m\u001b[1m3911.2\u001b[21m GeV\u001b[37m, Q =\u001b[39m\u001b[1m -1.60\u001b[21m nC\u001b[37m, σz =\u001b[39m \u001b[1m 17.7\u001b[21m µm\u001b[37m, σE =\u001b[39m\u001b[1m  0.0%\u001b[21m\u001b[37m, ε =\u001b[39m\u001b[1m   1.0\u001b[21m/\u001b[1m1.0\u001b[21m mm-mrad\u001b[0m\n",
      "\u001b[37m    ... #51\u001b[39m \u001b[1mInterstageBasic        \u001b[21m \u001b[37m(s =\u001b[39m \u001b[1m6100.3\u001b[21m m\u001b[37m)\u001b[39m :   \u001b[37mE =\u001b[39m\u001b[1m3911.2\u001b[21m GeV\u001b[37m, Q =\u001b[39m\u001b[1m -1.60\u001b[21m nC\u001b[37m, σz =\u001b[39m \u001b[1m 17.7\u001b[21m µm\u001b[37m, σE =\u001b[39m\u001b[1m  0.0%\u001b[21m\u001b[37m, ε =\u001b[39m\u001b[1m   1.0\u001b[21m/\u001b[1m1.0\u001b[21m mm-mrad\u001b[0m\n",
      "\u001b[37m    ... #52\u001b[39m \u001b[1mStageBasic #26         \u001b[21m \u001b[37m(s =\u001b[39m \u001b[1m6256.6\u001b[21m m\u001b[37m)\u001b[39m :   \u001b[37mE =\u001b[39m\u001b[1m4067.4\u001b[21m GeV\u001b[37m, Q =\u001b[39m\u001b[1m -1.60\u001b[21m nC\u001b[37m, σz =\u001b[39m \u001b[1m 17.7\u001b[21m µm\u001b[37m, σE =\u001b[39m\u001b[1m  0.0%\u001b[21m\u001b[37m, ε =\u001b[39m\u001b[1m   1.0\u001b[21m/\u001b[1m1.0\u001b[21m mm-mrad\u001b[0m\n",
      "\u001b[37m    ... #53\u001b[39m \u001b[1mInterstageBasic        \u001b[21m \u001b[37m(s =\u001b[39m \u001b[1m6372.4\u001b[21m m\u001b[37m)\u001b[39m :   \u001b[37mE =\u001b[39m\u001b[1m4067.4\u001b[21m GeV\u001b[37m, Q =\u001b[39m\u001b[1m -1.60\u001b[21m nC\u001b[37m, σz =\u001b[39m \u001b[1m 17.7\u001b[21m µm\u001b[37m, σE =\u001b[39m\u001b[1m  0.0%\u001b[21m\u001b[37m, ε =\u001b[39m\u001b[1m   1.0\u001b[21m/\u001b[1m1.0\u001b[21m mm-mrad\u001b[0m\n",
      "\u001b[37m    ... #54\u001b[39m \u001b[1mStageBasic #27         \u001b[21m \u001b[37m(s =\u001b[39m \u001b[1m6528.6\u001b[21m m\u001b[37m)\u001b[39m :   \u001b[37mE =\u001b[39m\u001b[1m4223.7\u001b[21m GeV\u001b[37m, Q =\u001b[39m\u001b[1m -1.60\u001b[21m nC\u001b[37m, σz =\u001b[39m \u001b[1m 17.7\u001b[21m µm\u001b[37m, σE =\u001b[39m\u001b[1m  0.0%\u001b[21m\u001b[37m, ε =\u001b[39m\u001b[1m   1.0\u001b[21m/\u001b[1m1.0\u001b[21m mm-mrad\u001b[0m\n",
      "\u001b[37m    ... #55\u001b[39m \u001b[1mInterstageBasic        \u001b[21m \u001b[37m(s =\u001b[39m \u001b[1m6646.6\u001b[21m m\u001b[37m)\u001b[39m :   \u001b[37mE =\u001b[39m\u001b[1m4223.7\u001b[21m GeV\u001b[37m, Q =\u001b[39m\u001b[1m -1.60\u001b[21m nC\u001b[37m, σz =\u001b[39m \u001b[1m 17.7\u001b[21m µm\u001b[37m, σE =\u001b[39m\u001b[1m  0.0%\u001b[21m\u001b[37m, ε =\u001b[39m\u001b[1m   1.0\u001b[21m/\u001b[1m1.0\u001b[21m mm-mrad\u001b[0m\n",
      "\u001b[37m    ... #56\u001b[39m \u001b[1mStageBasic #28         \u001b[21m \u001b[37m(s =\u001b[39m \u001b[1m6802.9\u001b[21m m\u001b[37m)\u001b[39m :   \u001b[37mE =\u001b[39m\u001b[1m4379.9\u001b[21m GeV\u001b[37m, Q =\u001b[39m\u001b[1m -1.60\u001b[21m nC\u001b[37m, σz =\u001b[39m \u001b[1m 17.7\u001b[21m µm\u001b[37m, σE =\u001b[39m\u001b[1m  0.0%\u001b[21m\u001b[37m, ε =\u001b[39m\u001b[1m   1.0\u001b[21m/\u001b[1m1.0\u001b[21m mm-mrad\u001b[0m\n",
      "\u001b[37m    ... #57\u001b[39m \u001b[1mInterstageBasic        \u001b[21m \u001b[37m(s =\u001b[39m \u001b[1m6923.0\u001b[21m m\u001b[37m)\u001b[39m :   \u001b[37mE =\u001b[39m\u001b[1m4379.9\u001b[21m GeV\u001b[37m, Q =\u001b[39m\u001b[1m -1.60\u001b[21m nC\u001b[37m, σz =\u001b[39m \u001b[1m 17.7\u001b[21m µm\u001b[37m, σE =\u001b[39m\u001b[1m  0.0%\u001b[21m\u001b[37m, ε =\u001b[39m\u001b[1m   1.0\u001b[21m/\u001b[1m1.0\u001b[21m mm-mrad\u001b[0m\n",
      "\u001b[37m    ... #58\u001b[39m \u001b[1mStageBasic #29         \u001b[21m \u001b[37m(s =\u001b[39m \u001b[1m7079.3\u001b[21m m\u001b[37m)\u001b[39m :   \u001b[37mE =\u001b[39m\u001b[1m4536.2\u001b[21m GeV\u001b[37m, Q =\u001b[39m\u001b[1m -1.60\u001b[21m nC\u001b[37m, σz =\u001b[39m \u001b[1m 17.7\u001b[21m µm\u001b[37m, σE =\u001b[39m\u001b[1m  0.0%\u001b[21m\u001b[37m, ε =\u001b[39m\u001b[1m   1.0\u001b[21m/\u001b[1m1.0\u001b[21m mm-mrad\u001b[0m\n",
      "\u001b[37m    ... #59\u001b[39m \u001b[1mInterstageBasic        \u001b[21m \u001b[37m(s =\u001b[39m \u001b[1m7201.6\u001b[21m m\u001b[37m)\u001b[39m :   \u001b[37mE =\u001b[39m\u001b[1m4536.2\u001b[21m GeV\u001b[37m, Q =\u001b[39m\u001b[1m -1.60\u001b[21m nC\u001b[37m, σz =\u001b[39m \u001b[1m 17.7\u001b[21m µm\u001b[37m, σE =\u001b[39m\u001b[1m  0.0%\u001b[21m\u001b[37m, ε =\u001b[39m\u001b[1m   1.0\u001b[21m/\u001b[1m1.0\u001b[21m mm-mrad\u001b[0m\n",
      "\u001b[37m  > ... #60\u001b[39m \u001b[1mStageBasic #30         \u001b[21m \u001b[37m(s =\u001b[39m \u001b[1m7357.8\u001b[21m m\u001b[37m)\u001b[39m :   \u001b[37mE =\u001b[39m\u001b[1m4692.4\u001b[21m GeV\u001b[37m, Q =\u001b[39m\u001b[1m -1.60\u001b[21m nC\u001b[37m, σz =\u001b[39m \u001b[1m 17.7\u001b[21m µm\u001b[37m, σE =\u001b[39m\u001b[1m  0.0%\u001b[21m\u001b[37m, ε =\u001b[39m\u001b[1m   1.0\u001b[21m/\u001b[1m1.0\u001b[21m mm-mrad\u001b[0m\n",
      "\u001b[37m    ... #61\u001b[39m \u001b[1mInterstageBasic        \u001b[21m \u001b[37m(s =\u001b[39m \u001b[1m7482.2\u001b[21m m\u001b[37m)\u001b[39m :   \u001b[37mE =\u001b[39m\u001b[1m4692.4\u001b[21m GeV\u001b[37m, Q =\u001b[39m\u001b[1m -1.60\u001b[21m nC\u001b[37m, σz =\u001b[39m \u001b[1m 17.7\u001b[21m µm\u001b[37m, σE =\u001b[39m\u001b[1m  0.0%\u001b[21m\u001b[37m, ε =\u001b[39m\u001b[1m   1.0\u001b[21m/\u001b[1m1.0\u001b[21m mm-mrad\u001b[0m\n",
      "\u001b[37m    ... #62\u001b[39m \u001b[1mStageBasic #31         \u001b[21m \u001b[37m(s =\u001b[39m \u001b[1m7638.4\u001b[21m m\u001b[37m)\u001b[39m :   \u001b[37mE =\u001b[39m\u001b[1m4848.7\u001b[21m GeV\u001b[37m, Q =\u001b[39m\u001b[1m -1.60\u001b[21m nC\u001b[37m, σz =\u001b[39m \u001b[1m 17.7\u001b[21m µm\u001b[37m, σE =\u001b[39m\u001b[1m  0.0%\u001b[21m\u001b[37m, ε =\u001b[39m\u001b[1m   1.0\u001b[21m/\u001b[1m1.0\u001b[21m mm-mrad\u001b[0m\n",
      "\u001b[37m    ... #63\u001b[39m \u001b[1mInterstageBasic        \u001b[21m \u001b[37m(s =\u001b[39m \u001b[1m7764.9\u001b[21m m\u001b[37m)\u001b[39m :   \u001b[37mE =\u001b[39m\u001b[1m4848.7\u001b[21m GeV\u001b[37m, Q =\u001b[39m\u001b[1m -1.60\u001b[21m nC\u001b[37m, σz =\u001b[39m \u001b[1m 17.7\u001b[21m µm\u001b[37m, σE =\u001b[39m\u001b[1m  0.0%\u001b[21m\u001b[37m, ε =\u001b[39m\u001b[1m   1.0\u001b[21m/\u001b[1m1.0\u001b[21m mm-mrad\u001b[0m\n",
      "\u001b[37m    ... #64\u001b[39m \u001b[1mStageBasic #32         \u001b[21m \u001b[37m(s =\u001b[39m \u001b[1m7921.1\u001b[21m m\u001b[37m)\u001b[39m :   \u001b[37mE =\u001b[39m\u001b[1m5004.9\u001b[21m GeV\u001b[37m, Q =\u001b[39m\u001b[1m -1.60\u001b[21m nC\u001b[37m, σz =\u001b[39m \u001b[1m 17.7\u001b[21m µm\u001b[37m, σE =\u001b[39m\u001b[1m  0.0%\u001b[21m\u001b[37m, ε =\u001b[39m\u001b[1m   1.0\u001b[21m/\u001b[1m1.0\u001b[21m mm-mrad\u001b[0m\n",
      "\u001b[37m    ... #65\u001b[39m \u001b[1mBeamDeliverySystemBasic\u001b[21m \u001b[37m(s =\u001b[39m \u001b[1m15036.3\u001b[21m m\u001b[37m)\u001b[39m :   \u001b[37mE =\u001b[39m\u001b[1m5004.9\u001b[21m GeV\u001b[37m, Q =\u001b[39m\u001b[1m -1.60\u001b[21m nC\u001b[37m, σz =\u001b[39m \u001b[1m 75.0\u001b[21m µm\u001b[37m, σE =\u001b[39m\u001b[1m  0.0%\u001b[21m\u001b[37m, ε =\u001b[39m\u001b[1m   1.0\u001b[21m/\u001b[1m1.0\u001b[21m mm-mrad\u001b[0m\n",
      ">> LINAC #2\n",
      "\u001b[37mTracked #0 \u001b[39m \u001b[1mSourceBasic            \u001b[21m \u001b[37m(s =\u001b[39m \u001b[1m   3.2\u001b[21m m\u001b[37m)\u001b[39m :   \u001b[37mE =\u001b[39m\u001b[1m   0.1\u001b[21m GeV\u001b[37m, Q =\u001b[39m\u001b[1m -1.60\u001b[21m nC\u001b[37m, σz =\u001b[39m \u001b[1m 18.1\u001b[21m µm\u001b[37m, σE =\u001b[39m\u001b[1m  1.0%\u001b[21m\u001b[37m, ε =\u001b[39m\u001b[1m   1.0\u001b[21m/\u001b[1m0.9\u001b[21m mm-mrad\u001b[0m\n",
      "\u001b[37m    ... #1 \u001b[39m \u001b[1mRFAcceleratorBasic     \u001b[21m \u001b[37m(s =\u001b[39m \u001b[1m 249.4\u001b[21m m\u001b[37m)\u001b[39m :   \u001b[37mE =\u001b[39m\u001b[1m   5.0\u001b[21m GeV\u001b[37m, Q =\u001b[39m\u001b[1m -1.60\u001b[21m nC\u001b[37m, σz =\u001b[39m \u001b[1m 18.1\u001b[21m µm\u001b[37m, σE =\u001b[39m\u001b[1m  0.0%\u001b[21m\u001b[37m, ε =\u001b[39m\u001b[1m   1.0\u001b[21m/\u001b[1m0.9\u001b[21m mm-mrad\u001b[0m\n",
      "\u001b[37m    ... #2 \u001b[39m \u001b[1mStageBasic #1          \u001b[21m \u001b[37m(s =\u001b[39m \u001b[1m 405.7\u001b[21m m\u001b[37m)\u001b[39m :   \u001b[37mE =\u001b[39m\u001b[1m 161.2\u001b[21m GeV\u001b[37m, Q =\u001b[39m\u001b[1m -1.60\u001b[21m nC\u001b[37m, σz =\u001b[39m \u001b[1m 18.1\u001b[21m µm\u001b[37m, σE =\u001b[39m\u001b[1m  0.0%\u001b[21m\u001b[37m, ε =\u001b[39m\u001b[1m   1.0\u001b[21m/\u001b[1m1.0\u001b[21m mm-mrad\u001b[0m\n",
      "\u001b[37m    ... #3 \u001b[39m \u001b[1mInterstageBasic        \u001b[21m \u001b[37m(s =\u001b[39m \u001b[1m 428.4\u001b[21m m\u001b[37m)\u001b[39m :   \u001b[37mE =\u001b[39m\u001b[1m 161.2\u001b[21m GeV\u001b[37m, Q =\u001b[39m\u001b[1m -1.60\u001b[21m nC\u001b[37m, σz =\u001b[39m \u001b[1m 18.1\u001b[21m µm\u001b[37m, σE =\u001b[39m\u001b[1m  0.0%\u001b[21m\u001b[37m, ε =\u001b[39m\u001b[1m   1.0\u001b[21m/\u001b[1m1.0\u001b[21m mm-mrad\u001b[0m\n",
      "\u001b[37m    ... #4 \u001b[39m \u001b[1mStageBasic #2          \u001b[21m \u001b[37m(s =\u001b[39m \u001b[1m 584.6\u001b[21m m\u001b[37m)\u001b[39m :   \u001b[37mE =\u001b[39m\u001b[1m 317.5\u001b[21m GeV\u001b[37m, Q =\u001b[39m\u001b[1m -1.60\u001b[21m nC\u001b[37m, σz =\u001b[39m \u001b[1m 18.1\u001b[21m µm\u001b[37m, σE =\u001b[39m\u001b[1m  0.0%\u001b[21m\u001b[37m, ε =\u001b[39m\u001b[1m   1.0\u001b[21m/\u001b[1m1.0\u001b[21m mm-mrad\u001b[0m\n",
      "\u001b[37m    ... #5 \u001b[39m \u001b[1mInterstageBasic        \u001b[21m \u001b[37m(s =\u001b[39m \u001b[1m 616.8\u001b[21m m\u001b[37m)\u001b[39m :   \u001b[37mE =\u001b[39m\u001b[1m 317.5\u001b[21m GeV\u001b[37m, Q =\u001b[39m\u001b[1m -1.60\u001b[21m nC\u001b[37m, σz =\u001b[39m \u001b[1m 18.1\u001b[21m µm\u001b[37m, σE =\u001b[39m\u001b[1m  0.0%\u001b[21m\u001b[37m, ε =\u001b[39m\u001b[1m   1.0\u001b[21m/\u001b[1m1.0\u001b[21m mm-mrad\u001b[0m\n",
      "\u001b[37m    ... #6 \u001b[39m \u001b[1mStageBasic #3          \u001b[21m \u001b[37m(s =\u001b[39m \u001b[1m 773.0\u001b[21m m\u001b[37m)\u001b[39m :   \u001b[37mE =\u001b[39m\u001b[1m 473.7\u001b[21m GeV\u001b[37m, Q =\u001b[39m\u001b[1m -1.60\u001b[21m nC\u001b[37m, σz =\u001b[39m \u001b[1m 18.1\u001b[21m µm\u001b[37m, σE =\u001b[39m\u001b[1m  0.0%\u001b[21m\u001b[37m, ε =\u001b[39m\u001b[1m   1.0\u001b[21m/\u001b[1m1.0\u001b[21m mm-mrad\u001b[0m\n",
      "\u001b[37m    ... #7 \u001b[39m \u001b[1mInterstageBasic        \u001b[21m \u001b[37m(s =\u001b[39m \u001b[1m 812.3\u001b[21m m\u001b[37m)\u001b[39m :   \u001b[37mE =\u001b[39m\u001b[1m 473.7\u001b[21m GeV\u001b[37m, Q =\u001b[39m\u001b[1m -1.60\u001b[21m nC\u001b[37m, σz =\u001b[39m \u001b[1m 18.1\u001b[21m µm\u001b[37m, σE =\u001b[39m\u001b[1m  0.0%\u001b[21m\u001b[37m, ε =\u001b[39m\u001b[1m   1.0\u001b[21m/\u001b[1m1.0\u001b[21m mm-mrad\u001b[0m\n",
      "\u001b[37m    ... #8 \u001b[39m \u001b[1mStageBasic #4          \u001b[21m \u001b[37m(s =\u001b[39m \u001b[1m 968.6\u001b[21m m\u001b[37m)\u001b[39m :   \u001b[37mE =\u001b[39m\u001b[1m 630.0\u001b[21m GeV\u001b[37m, Q =\u001b[39m\u001b[1m -1.60\u001b[21m nC\u001b[37m, σz =\u001b[39m \u001b[1m 18.1\u001b[21m µm\u001b[37m, σE =\u001b[39m\u001b[1m  0.0%\u001b[21m\u001b[37m, ε =\u001b[39m\u001b[1m   1.0\u001b[21m/\u001b[1m1.0\u001b[21m mm-mrad\u001b[0m\n",
      "\u001b[37m    ... #9 \u001b[39m \u001b[1mInterstageBasic        \u001b[21m \u001b[37m(s =\u001b[39m \u001b[1m1014.0\u001b[21m m\u001b[37m)\u001b[39m :   \u001b[37mE =\u001b[39m\u001b[1m 630.0\u001b[21m GeV\u001b[37m, Q =\u001b[39m\u001b[1m -1.60\u001b[21m nC\u001b[37m, σz =\u001b[39m \u001b[1m 18.1\u001b[21m µm\u001b[37m, σE =\u001b[39m\u001b[1m  0.0%\u001b[21m\u001b[37m, ε =\u001b[39m\u001b[1m   1.0\u001b[21m/\u001b[1m1.0\u001b[21m mm-mrad\u001b[0m\n",
      "\u001b[37m  > ... #10\u001b[39m \u001b[1mStageBasic #5          \u001b[21m \u001b[37m(s =\u001b[39m \u001b[1m1170.3\u001b[21m m\u001b[37m)\u001b[39m :   \u001b[37mE =\u001b[39m\u001b[1m 786.2\u001b[21m GeV\u001b[37m, Q =\u001b[39m\u001b[1m -1.60\u001b[21m nC\u001b[37m, σz =\u001b[39m \u001b[1m 18.1\u001b[21m µm\u001b[37m, σE =\u001b[39m\u001b[1m  0.0%\u001b[21m\u001b[37m, ε =\u001b[39m\u001b[1m   1.0\u001b[21m/\u001b[1m1.0\u001b[21m mm-mrad\u001b[0m\n",
      "\u001b[37m    ... #11\u001b[39m \u001b[1mInterstageBasic        \u001b[21m \u001b[37m(s =\u001b[39m \u001b[1m1221.0\u001b[21m m\u001b[37m)\u001b[39m :   \u001b[37mE =\u001b[39m\u001b[1m 786.2\u001b[21m GeV\u001b[37m, Q =\u001b[39m\u001b[1m -1.60\u001b[21m nC\u001b[37m, σz =\u001b[39m \u001b[1m 18.1\u001b[21m µm\u001b[37m, σE =\u001b[39m\u001b[1m  0.0%\u001b[21m\u001b[37m, ε =\u001b[39m\u001b[1m   1.0\u001b[21m/\u001b[1m1.0\u001b[21m mm-mrad\u001b[0m\n",
      "\u001b[37m    ... #12\u001b[39m \u001b[1mStageBasic #6          \u001b[21m \u001b[37m(s =\u001b[39m \u001b[1m1377.3\u001b[21m m\u001b[37m)\u001b[39m :   \u001b[37mE =\u001b[39m\u001b[1m 942.5\u001b[21m GeV\u001b[37m, Q =\u001b[39m\u001b[1m -1.60\u001b[21m nC\u001b[37m, σz =\u001b[39m \u001b[1m 18.1\u001b[21m µm\u001b[37m, σE =\u001b[39m\u001b[1m  0.0%\u001b[21m\u001b[37m, ε =\u001b[39m\u001b[1m   1.0\u001b[21m/\u001b[1m1.0\u001b[21m mm-mrad\u001b[0m\n",
      "\u001b[37m    ... #13\u001b[39m \u001b[1mInterstageBasic        \u001b[21m \u001b[37m(s =\u001b[39m \u001b[1m1432.9\u001b[21m m\u001b[37m)\u001b[39m :   \u001b[37mE =\u001b[39m\u001b[1m 942.5\u001b[21m GeV\u001b[37m, Q =\u001b[39m\u001b[1m -1.60\u001b[21m nC\u001b[37m, σz =\u001b[39m \u001b[1m 18.1\u001b[21m µm\u001b[37m, σE =\u001b[39m\u001b[1m  0.0%\u001b[21m\u001b[37m, ε =\u001b[39m\u001b[1m   1.0\u001b[21m/\u001b[1m1.0\u001b[21m mm-mrad\u001b[0m\n",
      "\u001b[37m    ... #14\u001b[39m \u001b[1mStageBasic #7          \u001b[21m \u001b[37m(s =\u001b[39m \u001b[1m1589.2\u001b[21m m\u001b[37m)\u001b[39m :   \u001b[37mE =\u001b[39m\u001b[1m1098.7\u001b[21m GeV\u001b[37m, Q =\u001b[39m\u001b[1m -1.60\u001b[21m nC\u001b[37m, σz =\u001b[39m \u001b[1m 18.1\u001b[21m µm\u001b[37m, σE =\u001b[39m\u001b[1m  0.0%\u001b[21m\u001b[37m, ε =\u001b[39m\u001b[1m   1.0\u001b[21m/\u001b[1m1.0\u001b[21m mm-mrad\u001b[0m\n",
      "\u001b[37m    ... #15\u001b[39m \u001b[1mInterstageBasic        \u001b[21m \u001b[37m(s =\u001b[39m \u001b[1m1649.3\u001b[21m m\u001b[37m)\u001b[39m :   \u001b[37mE =\u001b[39m\u001b[1m1098.7\u001b[21m GeV\u001b[37m, Q =\u001b[39m\u001b[1m -1.60\u001b[21m nC\u001b[37m, σz =\u001b[39m \u001b[1m 18.1\u001b[21m µm\u001b[37m, σE =\u001b[39m\u001b[1m  0.0%\u001b[21m\u001b[37m, ε =\u001b[39m\u001b[1m   1.0\u001b[21m/\u001b[1m1.0\u001b[21m mm-mrad\u001b[0m\n",
      "\u001b[37m    ... #16\u001b[39m \u001b[1mStageBasic #8          \u001b[21m \u001b[37m(s =\u001b[39m \u001b[1m1805.5\u001b[21m m\u001b[37m)\u001b[39m :   \u001b[37mE =\u001b[39m\u001b[1m1255.0\u001b[21m GeV\u001b[37m, Q =\u001b[39m\u001b[1m -1.60\u001b[21m nC\u001b[37m, σz =\u001b[39m \u001b[1m 18.1\u001b[21m µm\u001b[37m, σE =\u001b[39m\u001b[1m  0.0%\u001b[21m\u001b[37m, ε =\u001b[39m\u001b[1m   1.0\u001b[21m/\u001b[1m1.0\u001b[21m mm-mrad\u001b[0m\n",
      "\u001b[37m    ... #17\u001b[39m \u001b[1mInterstageBasic        \u001b[21m \u001b[37m(s =\u001b[39m \u001b[1m1869.7\u001b[21m m\u001b[37m)\u001b[39m :   \u001b[37mE =\u001b[39m\u001b[1m1255.0\u001b[21m GeV\u001b[37m, Q =\u001b[39m\u001b[1m -1.60\u001b[21m nC\u001b[37m, σz =\u001b[39m \u001b[1m 18.1\u001b[21m µm\u001b[37m, σE =\u001b[39m\u001b[1m  0.0%\u001b[21m\u001b[37m, ε =\u001b[39m\u001b[1m   1.0\u001b[21m/\u001b[1m1.0\u001b[21m mm-mrad\u001b[0m\n",
      "\u001b[37m    ... #18\u001b[39m \u001b[1mStageBasic #9          \u001b[21m \u001b[37m(s =\u001b[39m \u001b[1m2026.0\u001b[21m m\u001b[37m)\u001b[39m :   \u001b[37mE =\u001b[39m\u001b[1m1411.2\u001b[21m GeV\u001b[37m, Q =\u001b[39m\u001b[1m -1.60\u001b[21m nC\u001b[37m, σz =\u001b[39m \u001b[1m 18.1\u001b[21m µm\u001b[37m, σE =\u001b[39m\u001b[1m  0.0%\u001b[21m\u001b[37m, ε =\u001b[39m\u001b[1m   1.0\u001b[21m/\u001b[1m1.0\u001b[21m mm-mrad\u001b[0m\n",
      "\u001b[37m    ... #19\u001b[39m \u001b[1mInterstageBasic        \u001b[21m \u001b[37m(s =\u001b[39m \u001b[1m2094.1\u001b[21m m\u001b[37m)\u001b[39m :   \u001b[37mE =\u001b[39m\u001b[1m1411.2\u001b[21m GeV\u001b[37m, Q =\u001b[39m\u001b[1m -1.60\u001b[21m nC\u001b[37m, σz =\u001b[39m \u001b[1m 18.1\u001b[21m µm\u001b[37m, σE =\u001b[39m\u001b[1m  0.0%\u001b[21m\u001b[37m, ε =\u001b[39m\u001b[1m   1.0\u001b[21m/\u001b[1m1.0\u001b[21m mm-mrad\u001b[0m\n",
      "\u001b[37m  > ... #20\u001b[39m \u001b[1mStageBasic #10         \u001b[21m \u001b[37m(s =\u001b[39m \u001b[1m2250.4\u001b[21m m\u001b[37m)\u001b[39m :   \u001b[37mE =\u001b[39m\u001b[1m1567.5\u001b[21m GeV\u001b[37m, Q =\u001b[39m\u001b[1m -1.60\u001b[21m nC\u001b[37m, σz =\u001b[39m \u001b[1m 18.1\u001b[21m µm\u001b[37m, σE =\u001b[39m\u001b[1m  0.0%\u001b[21m\u001b[37m, ε =\u001b[39m\u001b[1m   1.0\u001b[21m/\u001b[1m1.0\u001b[21m mm-mrad\u001b[0m\n",
      "\u001b[37m    ... #21\u001b[39m \u001b[1mInterstageBasic        \u001b[21m \u001b[37m(s =\u001b[39m \u001b[1m2322.2\u001b[21m m\u001b[37m)\u001b[39m :   \u001b[37mE =\u001b[39m\u001b[1m1567.5\u001b[21m GeV\u001b[37m, Q =\u001b[39m\u001b[1m -1.60\u001b[21m nC\u001b[37m, σz =\u001b[39m \u001b[1m 18.1\u001b[21m µm\u001b[37m, σE =\u001b[39m\u001b[1m  0.0%\u001b[21m\u001b[37m, ε =\u001b[39m\u001b[1m   1.0\u001b[21m/\u001b[1m1.0\u001b[21m mm-mrad\u001b[0m\n",
      "\u001b[37m    ... #22\u001b[39m \u001b[1mStageBasic #11         \u001b[21m \u001b[37m(s =\u001b[39m \u001b[1m2478.4\u001b[21m m\u001b[37m)\u001b[39m :   \u001b[37mE =\u001b[39m\u001b[1m1723.7\u001b[21m GeV\u001b[37m, Q =\u001b[39m\u001b[1m -1.60\u001b[21m nC\u001b[37m, σz =\u001b[39m \u001b[1m 18.1\u001b[21m µm\u001b[37m, σE =\u001b[39m\u001b[1m  0.0%\u001b[21m\u001b[37m, ε =\u001b[39m\u001b[1m   1.0\u001b[21m/\u001b[1m1.0\u001b[21m mm-mrad\u001b[0m\n",
      "\u001b[37m    ... #23\u001b[39m \u001b[1mInterstageBasic        \u001b[21m \u001b[37m(s =\u001b[39m \u001b[1m2553.7\u001b[21m m\u001b[37m)\u001b[39m :   \u001b[37mE =\u001b[39m\u001b[1m1723.7\u001b[21m GeV\u001b[37m, Q =\u001b[39m\u001b[1m -1.60\u001b[21m nC\u001b[37m, σz =\u001b[39m \u001b[1m 18.1\u001b[21m µm\u001b[37m, σE =\u001b[39m\u001b[1m  0.0%\u001b[21m\u001b[37m, ε =\u001b[39m\u001b[1m   1.0\u001b[21m/\u001b[1m1.0\u001b[21m mm-mrad\u001b[0m\n",
      "\u001b[37m    ... #24\u001b[39m \u001b[1mStageBasic #12         \u001b[21m \u001b[37m(s =\u001b[39m \u001b[1m2710.0\u001b[21m m\u001b[37m)\u001b[39m :   \u001b[37mE =\u001b[39m\u001b[1m1880.0\u001b[21m GeV\u001b[37m, Q =\u001b[39m\u001b[1m -1.60\u001b[21m nC\u001b[37m, σz =\u001b[39m \u001b[1m 18.1\u001b[21m µm\u001b[37m, σE =\u001b[39m\u001b[1m  0.0%\u001b[21m\u001b[37m, ε =\u001b[39m\u001b[1m   1.0\u001b[21m/\u001b[1m1.0\u001b[21m mm-mrad\u001b[0m\n",
      "\u001b[37m    ... #25\u001b[39m \u001b[1mInterstageBasic        \u001b[21m \u001b[37m(s =\u001b[39m \u001b[1m2788.7\u001b[21m m\u001b[37m)\u001b[39m :   \u001b[37mE =\u001b[39m\u001b[1m1880.0\u001b[21m GeV\u001b[37m, Q =\u001b[39m\u001b[1m -1.60\u001b[21m nC\u001b[37m, σz =\u001b[39m \u001b[1m 18.1\u001b[21m µm\u001b[37m, σE =\u001b[39m\u001b[1m  0.0%\u001b[21m\u001b[37m, ε =\u001b[39m\u001b[1m   1.0\u001b[21m/\u001b[1m1.0\u001b[21m mm-mrad\u001b[0m\n",
      "\u001b[37m    ... #26\u001b[39m \u001b[1mStageBasic #13         \u001b[21m \u001b[37m(s =\u001b[39m \u001b[1m2944.9\u001b[21m m\u001b[37m)\u001b[39m :   \u001b[37mE =\u001b[39m\u001b[1m2036.2\u001b[21m GeV\u001b[37m, Q =\u001b[39m\u001b[1m -1.60\u001b[21m nC\u001b[37m, σz =\u001b[39m \u001b[1m 18.1\u001b[21m µm\u001b[37m, σE =\u001b[39m\u001b[1m  0.0%\u001b[21m\u001b[37m, ε =\u001b[39m\u001b[1m   1.0\u001b[21m/\u001b[1m1.0\u001b[21m mm-mrad\u001b[0m\n",
      "\u001b[37m    ... #27\u001b[39m \u001b[1mInterstageBasic        \u001b[21m \u001b[37m(s =\u001b[39m \u001b[1m3026.8\u001b[21m m\u001b[37m)\u001b[39m :   \u001b[37mE =\u001b[39m\u001b[1m2036.2\u001b[21m GeV\u001b[37m, Q =\u001b[39m\u001b[1m -1.60\u001b[21m nC\u001b[37m, σz =\u001b[39m \u001b[1m 18.1\u001b[21m µm\u001b[37m, σE =\u001b[39m\u001b[1m  0.0%\u001b[21m\u001b[37m, ε =\u001b[39m\u001b[1m   1.0\u001b[21m/\u001b[1m1.0\u001b[21m mm-mrad\u001b[0m\n",
      "\u001b[37m    ... #28\u001b[39m \u001b[1mStageBasic #14         \u001b[21m \u001b[37m(s =\u001b[39m \u001b[1m3183.0\u001b[21m m\u001b[37m)\u001b[39m :   \u001b[37mE =\u001b[39m\u001b[1m2192.5\u001b[21m GeV\u001b[37m, Q =\u001b[39m\u001b[1m -1.60\u001b[21m nC\u001b[37m, σz =\u001b[39m \u001b[1m 18.1\u001b[21m µm\u001b[37m, σE =\u001b[39m\u001b[1m  0.0%\u001b[21m\u001b[37m, ε =\u001b[39m\u001b[1m   1.0\u001b[21m/\u001b[1m1.0\u001b[21m mm-mrad\u001b[0m\n",
      "\u001b[37m    ... #29\u001b[39m \u001b[1mInterstageBasic        \u001b[21m \u001b[37m(s =\u001b[39m \u001b[1m3268.0\u001b[21m m\u001b[37m)\u001b[39m :   \u001b[37mE =\u001b[39m\u001b[1m2192.5\u001b[21m GeV\u001b[37m, Q =\u001b[39m\u001b[1m -1.60\u001b[21m nC\u001b[37m, σz =\u001b[39m \u001b[1m 18.1\u001b[21m µm\u001b[37m, σE =\u001b[39m\u001b[1m  0.0%\u001b[21m\u001b[37m, ε =\u001b[39m\u001b[1m   1.0\u001b[21m/\u001b[1m1.0\u001b[21m mm-mrad\u001b[0m\n",
      "\u001b[37m  > ... #30\u001b[39m \u001b[1mStageBasic #15         \u001b[21m \u001b[37m(s =\u001b[39m \u001b[1m3424.2\u001b[21m m\u001b[37m)\u001b[39m :   \u001b[37mE =\u001b[39m\u001b[1m2348.7\u001b[21m GeV\u001b[37m, Q =\u001b[39m\u001b[1m -1.60\u001b[21m nC\u001b[37m, σz =\u001b[39m \u001b[1m 18.1\u001b[21m µm\u001b[37m, σE =\u001b[39m\u001b[1m  0.0%\u001b[21m\u001b[37m, ε =\u001b[39m\u001b[1m   1.0\u001b[21m/\u001b[1m1.0\u001b[21m mm-mrad\u001b[0m\n",
      "\u001b[37m    ... #31\u001b[39m \u001b[1mInterstageBasic        \u001b[21m \u001b[37m(s =\u001b[39m \u001b[1m3512.2\u001b[21m m\u001b[37m)\u001b[39m :   \u001b[37mE =\u001b[39m\u001b[1m2348.7\u001b[21m GeV\u001b[37m, Q =\u001b[39m\u001b[1m -1.60\u001b[21m nC\u001b[37m, σz =\u001b[39m \u001b[1m 18.1\u001b[21m µm\u001b[37m, σE =\u001b[39m\u001b[1m  0.0%\u001b[21m\u001b[37m, ε =\u001b[39m\u001b[1m   1.0\u001b[21m/\u001b[1m1.0\u001b[21m mm-mrad\u001b[0m\n",
      "\u001b[37m    ... #32\u001b[39m \u001b[1mStageBasic #16         \u001b[21m \u001b[37m(s =\u001b[39m \u001b[1m3668.4\u001b[21m m\u001b[37m)\u001b[39m :   \u001b[37mE =\u001b[39m\u001b[1m2505.0\u001b[21m GeV\u001b[37m, Q =\u001b[39m\u001b[1m -1.60\u001b[21m nC\u001b[37m, σz =\u001b[39m \u001b[1m 18.1\u001b[21m µm\u001b[37m, σE =\u001b[39m\u001b[1m  0.0%\u001b[21m\u001b[37m, ε =\u001b[39m\u001b[1m   1.0\u001b[21m/\u001b[1m1.0\u001b[21m mm-mrad\u001b[0m\n",
      "\u001b[37m    ... #33\u001b[39m \u001b[1mInterstageBasic        \u001b[21m \u001b[37m(s =\u001b[39m \u001b[1m3759.3\u001b[21m m\u001b[37m)\u001b[39m :   \u001b[37mE =\u001b[39m\u001b[1m2505.0\u001b[21m GeV\u001b[37m, Q =\u001b[39m\u001b[1m -1.60\u001b[21m nC\u001b[37m, σz =\u001b[39m \u001b[1m 18.1\u001b[21m µm\u001b[37m, σE =\u001b[39m\u001b[1m  0.0%\u001b[21m\u001b[37m, ε =\u001b[39m\u001b[1m   1.0\u001b[21m/\u001b[1m1.0\u001b[21m mm-mrad\u001b[0m\n",
      "\u001b[37m    ... #34\u001b[39m \u001b[1mStageBasic #17         \u001b[21m \u001b[37m(s =\u001b[39m \u001b[1m3915.5\u001b[21m m\u001b[37m)\u001b[39m :   \u001b[37mE =\u001b[39m\u001b[1m2661.2\u001b[21m GeV\u001b[37m, Q =\u001b[39m\u001b[1m -1.60\u001b[21m nC\u001b[37m, σz =\u001b[39m \u001b[1m 18.1\u001b[21m µm\u001b[37m, σE =\u001b[39m\u001b[1m  0.0%\u001b[21m\u001b[37m, ε =\u001b[39m\u001b[1m   1.0\u001b[21m/\u001b[1m1.0\u001b[21m mm-mrad\u001b[0m\n",
      "\u001b[37m    ... #35\u001b[39m \u001b[1mInterstageBasic        \u001b[21m \u001b[37m(s =\u001b[39m \u001b[1m4009.2\u001b[21m m\u001b[37m)\u001b[39m :   \u001b[37mE =\u001b[39m\u001b[1m2661.2\u001b[21m GeV\u001b[37m, Q =\u001b[39m\u001b[1m -1.60\u001b[21m nC\u001b[37m, σz =\u001b[39m \u001b[1m 18.1\u001b[21m µm\u001b[37m, σE =\u001b[39m\u001b[1m  0.0%\u001b[21m\u001b[37m, ε =\u001b[39m\u001b[1m   1.0\u001b[21m/\u001b[1m1.0\u001b[21m mm-mrad\u001b[0m\n",
      "\u001b[37m    ... #36\u001b[39m \u001b[1mStageBasic #18         \u001b[21m \u001b[37m(s =\u001b[39m \u001b[1m4165.4\u001b[21m m\u001b[37m)\u001b[39m :   \u001b[37mE =\u001b[39m\u001b[1m2817.5\u001b[21m GeV\u001b[37m, Q =\u001b[39m\u001b[1m -1.60\u001b[21m nC\u001b[37m, σz =\u001b[39m \u001b[1m 18.1\u001b[21m µm\u001b[37m, σE =\u001b[39m\u001b[1m  0.0%\u001b[21m\u001b[37m, ε =\u001b[39m\u001b[1m   1.0\u001b[21m/\u001b[1m1.0\u001b[21m mm-mrad\u001b[0m\n",
      "\u001b[37m    ... #37\u001b[39m \u001b[1mInterstageBasic        \u001b[21m \u001b[37m(s =\u001b[39m \u001b[1m4261.8\u001b[21m m\u001b[37m)\u001b[39m :   \u001b[37mE =\u001b[39m\u001b[1m2817.5\u001b[21m GeV\u001b[37m, Q =\u001b[39m\u001b[1m -1.60\u001b[21m nC\u001b[37m, σz =\u001b[39m \u001b[1m 18.1\u001b[21m µm\u001b[37m, σE =\u001b[39m\u001b[1m  0.0%\u001b[21m\u001b[37m, ε =\u001b[39m\u001b[1m   1.0\u001b[21m/\u001b[1m1.0\u001b[21m mm-mrad\u001b[0m\n",
      "\u001b[37m    ... #38\u001b[39m \u001b[1mStageBasic #19         \u001b[21m \u001b[37m(s =\u001b[39m \u001b[1m4418.0\u001b[21m m\u001b[37m)\u001b[39m :   \u001b[37mE =\u001b[39m\u001b[1m2973.7\u001b[21m GeV\u001b[37m, Q =\u001b[39m\u001b[1m -1.60\u001b[21m nC\u001b[37m, σz =\u001b[39m \u001b[1m 18.1\u001b[21m µm\u001b[37m, σE =\u001b[39m\u001b[1m  0.0%\u001b[21m\u001b[37m, ε =\u001b[39m\u001b[1m   1.0\u001b[21m/\u001b[1m1.0\u001b[21m mm-mrad\u001b[0m\n",
      "\u001b[37m    ... #39\u001b[39m \u001b[1mInterstageBasic        \u001b[21m \u001b[37m(s =\u001b[39m \u001b[1m4517.0\u001b[21m m\u001b[37m)\u001b[39m :   \u001b[37mE =\u001b[39m\u001b[1m2973.7\u001b[21m GeV\u001b[37m, Q =\u001b[39m\u001b[1m -1.60\u001b[21m nC\u001b[37m, σz =\u001b[39m \u001b[1m 18.1\u001b[21m µm\u001b[37m, σE =\u001b[39m\u001b[1m  0.0%\u001b[21m\u001b[37m, ε =\u001b[39m\u001b[1m   1.0\u001b[21m/\u001b[1m1.0\u001b[21m mm-mrad\u001b[0m\n",
      "\u001b[37m  > ... #40\u001b[39m \u001b[1mStageBasic #20         \u001b[21m \u001b[37m(s =\u001b[39m \u001b[1m4673.2\u001b[21m m\u001b[37m)\u001b[39m :   \u001b[37mE =\u001b[39m\u001b[1m3130.0\u001b[21m GeV\u001b[37m, Q =\u001b[39m\u001b[1m -1.60\u001b[21m nC\u001b[37m, σz =\u001b[39m \u001b[1m 18.1\u001b[21m µm\u001b[37m, σE =\u001b[39m\u001b[1m  0.0%\u001b[21m\u001b[37m, ε =\u001b[39m\u001b[1m   1.0\u001b[21m/\u001b[1m1.0\u001b[21m mm-mrad\u001b[0m\n",
      "\u001b[37m    ... #41\u001b[39m \u001b[1mInterstageBasic        \u001b[21m \u001b[37m(s =\u001b[39m \u001b[1m4774.8\u001b[21m m\u001b[37m)\u001b[39m :   \u001b[37mE =\u001b[39m\u001b[1m3130.0\u001b[21m GeV\u001b[37m, Q =\u001b[39m\u001b[1m -1.60\u001b[21m nC\u001b[37m, σz =\u001b[39m \u001b[1m 18.1\u001b[21m µm\u001b[37m, σE =\u001b[39m\u001b[1m  0.0%\u001b[21m\u001b[37m, ε =\u001b[39m\u001b[1m   1.0\u001b[21m/\u001b[1m1.0\u001b[21m mm-mrad\u001b[0m\n",
      "\u001b[37m    ... #42\u001b[39m \u001b[1mStageBasic #21         \u001b[21m \u001b[37m(s =\u001b[39m \u001b[1m4931.0\u001b[21m m\u001b[37m)\u001b[39m :   \u001b[37mE =\u001b[39m\u001b[1m3286.2\u001b[21m GeV\u001b[37m, Q =\u001b[39m\u001b[1m -1.60\u001b[21m nC\u001b[37m, σz =\u001b[39m \u001b[1m 18.1\u001b[21m µm\u001b[37m, σE =\u001b[39m\u001b[1m  0.0%\u001b[21m\u001b[37m, ε =\u001b[39m\u001b[1m   1.0\u001b[21m/\u001b[1m1.0\u001b[21m mm-mrad\u001b[0m\n",
      "\u001b[37m    ... #43\u001b[39m \u001b[1mInterstageBasic        \u001b[21m \u001b[37m(s =\u001b[39m \u001b[1m5035.1\u001b[21m m\u001b[37m)\u001b[39m :   \u001b[37mE =\u001b[39m\u001b[1m3286.2\u001b[21m GeV\u001b[37m, Q =\u001b[39m\u001b[1m -1.60\u001b[21m nC\u001b[37m, σz =\u001b[39m \u001b[1m 18.1\u001b[21m µm\u001b[37m, σE =\u001b[39m\u001b[1m  0.0%\u001b[21m\u001b[37m, ε =\u001b[39m\u001b[1m   1.0\u001b[21m/\u001b[1m1.0\u001b[21m mm-mrad\u001b[0m\n",
      "\u001b[37m    ... #44\u001b[39m \u001b[1mStageBasic #22         \u001b[21m \u001b[37m(s =\u001b[39m \u001b[1m5191.4\u001b[21m m\u001b[37m)\u001b[39m :   \u001b[37mE =\u001b[39m\u001b[1m3442.4\u001b[21m GeV\u001b[37m, Q =\u001b[39m\u001b[1m -1.60\u001b[21m nC\u001b[37m, σz =\u001b[39m \u001b[1m 18.1\u001b[21m µm\u001b[37m, σE =\u001b[39m\u001b[1m  0.0%\u001b[21m\u001b[37m, ε =\u001b[39m\u001b[1m   1.0\u001b[21m/\u001b[1m1.0\u001b[21m mm-mrad\u001b[0m\n",
      "\u001b[37m    ... #45\u001b[39m \u001b[1mInterstageBasic        \u001b[21m \u001b[37m(s =\u001b[39m \u001b[1m5297.9\u001b[21m m\u001b[37m)\u001b[39m :   \u001b[37mE =\u001b[39m\u001b[1m3442.4\u001b[21m GeV\u001b[37m, Q =\u001b[39m\u001b[1m -1.60\u001b[21m nC\u001b[37m, σz =\u001b[39m \u001b[1m 18.1\u001b[21m µm\u001b[37m, σE =\u001b[39m\u001b[1m  0.0%\u001b[21m\u001b[37m, ε =\u001b[39m\u001b[1m   1.0\u001b[21m/\u001b[1m1.0\u001b[21m mm-mrad\u001b[0m\n",
      "\u001b[37m    ... #46\u001b[39m \u001b[1mStageBasic #23         \u001b[21m \u001b[37m(s =\u001b[39m \u001b[1m5454.1\u001b[21m m\u001b[37m)\u001b[39m :   \u001b[37mE =\u001b[39m\u001b[1m3598.7\u001b[21m GeV\u001b[37m, Q =\u001b[39m\u001b[1m -1.60\u001b[21m nC\u001b[37m, σz =\u001b[39m \u001b[1m 18.1\u001b[21m µm\u001b[37m, σE =\u001b[39m\u001b[1m  0.0%\u001b[21m\u001b[37m, ε =\u001b[39m\u001b[1m   1.0\u001b[21m/\u001b[1m1.0\u001b[21m mm-mrad\u001b[0m\n",
      "\u001b[37m    ... #47\u001b[39m \u001b[1mInterstageBasic        \u001b[21m \u001b[37m(s =\u001b[39m \u001b[1m5563.0\u001b[21m m\u001b[37m)\u001b[39m :   \u001b[37mE =\u001b[39m\u001b[1m3598.7\u001b[21m GeV\u001b[37m, Q =\u001b[39m\u001b[1m -1.60\u001b[21m nC\u001b[37m, σz =\u001b[39m \u001b[1m 18.1\u001b[21m µm\u001b[37m, σE =\u001b[39m\u001b[1m  0.0%\u001b[21m\u001b[37m, ε =\u001b[39m\u001b[1m   1.0\u001b[21m/\u001b[1m1.0\u001b[21m mm-mrad\u001b[0m\n",
      "\u001b[37m    ... #48\u001b[39m \u001b[1mStageBasic #24         \u001b[21m \u001b[37m(s =\u001b[39m \u001b[1m5719.3\u001b[21m m\u001b[37m)\u001b[39m :   \u001b[37mE =\u001b[39m\u001b[1m3754.9\u001b[21m GeV\u001b[37m, Q =\u001b[39m\u001b[1m -1.60\u001b[21m nC\u001b[37m, σz =\u001b[39m \u001b[1m 18.1\u001b[21m µm\u001b[37m, σE =\u001b[39m\u001b[1m  0.0%\u001b[21m\u001b[37m, ε =\u001b[39m\u001b[1m   1.0\u001b[21m/\u001b[1m1.0\u001b[21m mm-mrad\u001b[0m\n",
      "\u001b[37m    ... #49\u001b[39m \u001b[1mInterstageBasic        \u001b[21m \u001b[37m(s =\u001b[39m \u001b[1m5830.5\u001b[21m m\u001b[37m)\u001b[39m :   \u001b[37mE =\u001b[39m\u001b[1m3754.9\u001b[21m GeV\u001b[37m, Q =\u001b[39m\u001b[1m -1.60\u001b[21m nC\u001b[37m, σz =\u001b[39m \u001b[1m 18.1\u001b[21m µm\u001b[37m, σE =\u001b[39m\u001b[1m  0.0%\u001b[21m\u001b[37m, ε =\u001b[39m\u001b[1m   1.0\u001b[21m/\u001b[1m1.0\u001b[21m mm-mrad\u001b[0m\n",
      "\u001b[37m  > ... #50\u001b[39m \u001b[1mStageBasic #25         \u001b[21m \u001b[37m(s =\u001b[39m \u001b[1m5986.8\u001b[21m m\u001b[37m)\u001b[39m :   \u001b[37mE =\u001b[39m\u001b[1m3911.2\u001b[21m GeV\u001b[37m, Q =\u001b[39m\u001b[1m -1.60\u001b[21m nC\u001b[37m, σz =\u001b[39m \u001b[1m 18.1\u001b[21m µm\u001b[37m, σE =\u001b[39m\u001b[1m  0.0%\u001b[21m\u001b[37m, ε =\u001b[39m\u001b[1m   1.0\u001b[21m/\u001b[1m1.0\u001b[21m mm-mrad\u001b[0m\n",
      "\u001b[37m    ... #51\u001b[39m \u001b[1mInterstageBasic        \u001b[21m \u001b[37m(s =\u001b[39m \u001b[1m6100.3\u001b[21m m\u001b[37m)\u001b[39m :   \u001b[37mE =\u001b[39m\u001b[1m3911.2\u001b[21m GeV\u001b[37m, Q =\u001b[39m\u001b[1m -1.60\u001b[21m nC\u001b[37m, σz =\u001b[39m \u001b[1m 18.1\u001b[21m µm\u001b[37m, σE =\u001b[39m\u001b[1m  0.0%\u001b[21m\u001b[37m, ε =\u001b[39m\u001b[1m   1.0\u001b[21m/\u001b[1m1.0\u001b[21m mm-mrad\u001b[0m\n",
      "\u001b[37m    ... #52\u001b[39m \u001b[1mStageBasic #26         \u001b[21m \u001b[37m(s =\u001b[39m \u001b[1m6256.6\u001b[21m m\u001b[37m)\u001b[39m :   \u001b[37mE =\u001b[39m\u001b[1m4067.4\u001b[21m GeV\u001b[37m, Q =\u001b[39m\u001b[1m -1.60\u001b[21m nC\u001b[37m, σz =\u001b[39m \u001b[1m 18.1\u001b[21m µm\u001b[37m, σE =\u001b[39m\u001b[1m  0.0%\u001b[21m\u001b[37m, ε =\u001b[39m\u001b[1m   1.0\u001b[21m/\u001b[1m1.0\u001b[21m mm-mrad\u001b[0m\n",
      "\u001b[37m    ... #53\u001b[39m \u001b[1mInterstageBasic        \u001b[21m \u001b[37m(s =\u001b[39m \u001b[1m6372.4\u001b[21m m\u001b[37m)\u001b[39m :   \u001b[37mE =\u001b[39m\u001b[1m4067.4\u001b[21m GeV\u001b[37m, Q =\u001b[39m\u001b[1m -1.60\u001b[21m nC\u001b[37m, σz =\u001b[39m \u001b[1m 18.1\u001b[21m µm\u001b[37m, σE =\u001b[39m\u001b[1m  0.0%\u001b[21m\u001b[37m, ε =\u001b[39m\u001b[1m   1.0\u001b[21m/\u001b[1m1.0\u001b[21m mm-mrad\u001b[0m\n",
      "\u001b[37m    ... #54\u001b[39m \u001b[1mStageBasic #27         \u001b[21m \u001b[37m(s =\u001b[39m \u001b[1m6528.6\u001b[21m m\u001b[37m)\u001b[39m :   \u001b[37mE =\u001b[39m\u001b[1m4223.7\u001b[21m GeV\u001b[37m, Q =\u001b[39m\u001b[1m -1.60\u001b[21m nC\u001b[37m, σz =\u001b[39m \u001b[1m 18.1\u001b[21m µm\u001b[37m, σE =\u001b[39m\u001b[1m  0.0%\u001b[21m\u001b[37m, ε =\u001b[39m\u001b[1m   1.0\u001b[21m/\u001b[1m1.0\u001b[21m mm-mrad\u001b[0m\n",
      "\u001b[37m    ... #55\u001b[39m \u001b[1mInterstageBasic        \u001b[21m \u001b[37m(s =\u001b[39m \u001b[1m6646.6\u001b[21m m\u001b[37m)\u001b[39m :   \u001b[37mE =\u001b[39m\u001b[1m4223.7\u001b[21m GeV\u001b[37m, Q =\u001b[39m\u001b[1m -1.60\u001b[21m nC\u001b[37m, σz =\u001b[39m \u001b[1m 18.1\u001b[21m µm\u001b[37m, σE =\u001b[39m\u001b[1m  0.0%\u001b[21m\u001b[37m, ε =\u001b[39m\u001b[1m   1.0\u001b[21m/\u001b[1m1.0\u001b[21m mm-mrad\u001b[0m\n",
      "\u001b[37m    ... #56\u001b[39m \u001b[1mStageBasic #28         \u001b[21m \u001b[37m(s =\u001b[39m \u001b[1m6802.9\u001b[21m m\u001b[37m)\u001b[39m :   \u001b[37mE =\u001b[39m\u001b[1m4379.9\u001b[21m GeV\u001b[37m, Q =\u001b[39m\u001b[1m -1.60\u001b[21m nC\u001b[37m, σz =\u001b[39m \u001b[1m 18.1\u001b[21m µm\u001b[37m, σE =\u001b[39m\u001b[1m  0.0%\u001b[21m\u001b[37m, ε =\u001b[39m\u001b[1m   1.0\u001b[21m/\u001b[1m1.0\u001b[21m mm-mrad\u001b[0m\n",
      "\u001b[37m    ... #57\u001b[39m \u001b[1mInterstageBasic        \u001b[21m \u001b[37m(s =\u001b[39m \u001b[1m6923.0\u001b[21m m\u001b[37m)\u001b[39m :   \u001b[37mE =\u001b[39m\u001b[1m4379.9\u001b[21m GeV\u001b[37m, Q =\u001b[39m\u001b[1m -1.60\u001b[21m nC\u001b[37m, σz =\u001b[39m \u001b[1m 18.1\u001b[21m µm\u001b[37m, σE =\u001b[39m\u001b[1m  0.0%\u001b[21m\u001b[37m, ε =\u001b[39m\u001b[1m   1.0\u001b[21m/\u001b[1m1.0\u001b[21m mm-mrad\u001b[0m\n",
      "\u001b[37m    ... #58\u001b[39m \u001b[1mStageBasic #29         \u001b[21m \u001b[37m(s =\u001b[39m \u001b[1m7079.3\u001b[21m m\u001b[37m)\u001b[39m :   \u001b[37mE =\u001b[39m\u001b[1m4536.2\u001b[21m GeV\u001b[37m, Q =\u001b[39m\u001b[1m -1.60\u001b[21m nC\u001b[37m, σz =\u001b[39m \u001b[1m 18.1\u001b[21m µm\u001b[37m, σE =\u001b[39m\u001b[1m  0.0%\u001b[21m\u001b[37m, ε =\u001b[39m\u001b[1m   1.0\u001b[21m/\u001b[1m1.0\u001b[21m mm-mrad\u001b[0m\n",
      "\u001b[37m    ... #59\u001b[39m \u001b[1mInterstageBasic        \u001b[21m \u001b[37m(s =\u001b[39m \u001b[1m7201.6\u001b[21m m\u001b[37m)\u001b[39m :   \u001b[37mE =\u001b[39m\u001b[1m4536.2\u001b[21m GeV\u001b[37m, Q =\u001b[39m\u001b[1m -1.60\u001b[21m nC\u001b[37m, σz =\u001b[39m \u001b[1m 18.1\u001b[21m µm\u001b[37m, σE =\u001b[39m\u001b[1m  0.0%\u001b[21m\u001b[37m, ε =\u001b[39m\u001b[1m   1.0\u001b[21m/\u001b[1m1.0\u001b[21m mm-mrad\u001b[0m\n",
      "\u001b[37m  > ... #60\u001b[39m \u001b[1mStageBasic #30         \u001b[21m \u001b[37m(s =\u001b[39m \u001b[1m7357.8\u001b[21m m\u001b[37m)\u001b[39m :   \u001b[37mE =\u001b[39m\u001b[1m4692.4\u001b[21m GeV\u001b[37m, Q =\u001b[39m\u001b[1m -1.60\u001b[21m nC\u001b[37m, σz =\u001b[39m \u001b[1m 18.1\u001b[21m µm\u001b[37m, σE =\u001b[39m\u001b[1m  0.0%\u001b[21m\u001b[37m, ε =\u001b[39m\u001b[1m   1.0\u001b[21m/\u001b[1m1.0\u001b[21m mm-mrad\u001b[0m\n",
      "\u001b[37m    ... #61\u001b[39m \u001b[1mInterstageBasic        \u001b[21m \u001b[37m(s =\u001b[39m \u001b[1m7482.2\u001b[21m m\u001b[37m)\u001b[39m :   \u001b[37mE =\u001b[39m\u001b[1m4692.4\u001b[21m GeV\u001b[37m, Q =\u001b[39m\u001b[1m -1.60\u001b[21m nC\u001b[37m, σz =\u001b[39m \u001b[1m 18.1\u001b[21m µm\u001b[37m, σE =\u001b[39m\u001b[1m  0.0%\u001b[21m\u001b[37m, ε =\u001b[39m\u001b[1m   1.0\u001b[21m/\u001b[1m1.0\u001b[21m mm-mrad\u001b[0m\n",
      "\u001b[37m    ... #62\u001b[39m \u001b[1mStageBasic #31         \u001b[21m \u001b[37m(s =\u001b[39m \u001b[1m7638.4\u001b[21m m\u001b[37m)\u001b[39m :   \u001b[37mE =\u001b[39m\u001b[1m4848.7\u001b[21m GeV\u001b[37m, Q =\u001b[39m\u001b[1m -1.60\u001b[21m nC\u001b[37m, σz =\u001b[39m \u001b[1m 18.1\u001b[21m µm\u001b[37m, σE =\u001b[39m\u001b[1m  0.0%\u001b[21m\u001b[37m, ε =\u001b[39m\u001b[1m   1.0\u001b[21m/\u001b[1m1.0\u001b[21m mm-mrad\u001b[0m\n",
      "\u001b[37m    ... #63\u001b[39m \u001b[1mInterstageBasic        \u001b[21m \u001b[37m(s =\u001b[39m \u001b[1m7764.9\u001b[21m m\u001b[37m)\u001b[39m :   \u001b[37mE =\u001b[39m\u001b[1m4848.7\u001b[21m GeV\u001b[37m, Q =\u001b[39m\u001b[1m -1.60\u001b[21m nC\u001b[37m, σz =\u001b[39m \u001b[1m 18.1\u001b[21m µm\u001b[37m, σE =\u001b[39m\u001b[1m  0.0%\u001b[21m\u001b[37m, ε =\u001b[39m\u001b[1m   1.0\u001b[21m/\u001b[1m1.0\u001b[21m mm-mrad\u001b[0m\n",
      "\u001b[37m    ... #64\u001b[39m \u001b[1mStageBasic #32         \u001b[21m \u001b[37m(s =\u001b[39m \u001b[1m7921.1\u001b[21m m\u001b[37m)\u001b[39m :   \u001b[37mE =\u001b[39m\u001b[1m5004.9\u001b[21m GeV\u001b[37m, Q =\u001b[39m\u001b[1m -1.60\u001b[21m nC\u001b[37m, σz =\u001b[39m \u001b[1m 18.1\u001b[21m µm\u001b[37m, σE =\u001b[39m\u001b[1m  0.0%\u001b[21m\u001b[37m, ε =\u001b[39m\u001b[1m   1.0\u001b[21m/\u001b[1m1.0\u001b[21m mm-mrad\u001b[0m\n",
      "\u001b[37m    ... #65\u001b[39m \u001b[1mBeamDeliverySystemBasic\u001b[21m \u001b[37m(s =\u001b[39m \u001b[1m15036.3\u001b[21m m\u001b[37m)\u001b[39m :   \u001b[37mE =\u001b[39m\u001b[1m5004.9\u001b[21m GeV\u001b[37m, Q =\u001b[39m\u001b[1m -1.60\u001b[21m nC\u001b[37m, σz =\u001b[39m \u001b[1m 75.0\u001b[21m µm\u001b[37m, σE =\u001b[39m\u001b[1m  0.0%\u001b[21m\u001b[37m, ε =\u001b[39m\u001b[1m   1.0\u001b[21m/\u001b[1m1.0\u001b[21m mm-mrad\u001b[0m\n",
      ">> INTERACTION POINT\n",
      ">> EVENT 1-1: Luminosity (full/peak/geom.): 13.9 / 13.9 / 1.4e+01 μb^-1\n"
     ]
    }
   ],
   "source": [
    "pwfa_collider = PWFACollider()\n",
    "pwfa_collider.run('pwfa_collider_example', overwrite=True)"
   ]
  },
  {
   "cell_type": "code",
   "execution_count": 3,
   "id": "d0c885c6-c0f8-4a24-911a-32f7b28d3a97",
   "metadata": {},
   "outputs": [
    {
     "data": {
      "image/png": "[encoded data removed]",
      "text/plain": [
       "<Figure size 2000x400 with 1 Axes>"
      ]
     },
     "metadata": {},
     "output_type": "display_data"
    }
   ],
   "source": [
    "pwfa_collider.plot_survey()"
   ]
  },
  {
   "cell_type": "code",
   "execution_count": 4,
   "id": "77c86797-7769-4b1c-be18-6a59aa04fcfb",
   "metadata": {},
   "outputs": [
    {
     "name": "stdout",
     "output_type": "stream",
     "text": [
      "-- COSTS -----------------------------------------\n",
      "-- Construction: 21888 MILCU\n",
      "   -- Plasma linac: 10852 MILCU\n",
      "      -- Polarized electron source: 96 MILCU\n",
      "      -- RF injector: 72 MILCU\n",
      "         -- Instrumented beamline (25%): 2 MILCU\n",
      "         -- RF structures (74x): 21 MILCU\n",
      "         -- Klystrons (74x, 9 MW peak, 22 kW avg): 48 MILCU\n",
      "      -- Driver complex: 8734 MILCU\n",
      "         -- Source: 50 MILCU\n",
      "         -- RF accelerator: 7435 MILCU\n",
      "            -- Instrumented beamline (25%): 210 MILCU\n",
      "            -- RF structures (6785x): 1793 MILCU\n",
      "            -- Klystrons (6786x, 28 MW peak, 60 kW avg): 5432 MILCU\n",
      "         -- Civil construction: 1248 MILCU\n",
      "      -- Plasma stages (32x): 507 MILCU\n",
      "      -- Interstages: 254 MILCU\n",
      "      -- BDS: 288 MILCU\n",
      "      -- Civil construction: 902 MILCU\n",
      "   -- Plasma linac: 10852 MILCU\n",
      "      -- Polarized electron source: 96 MILCU\n",
      "      -- RF injector: 72 MILCU\n",
      "         -- Instrumented beamline (25%): 2 MILCU\n",
      "         -- RF structures (74x): 21 MILCU\n",
      "         -- Klystrons (74x, 9 MW peak, 22 kW avg): 48 MILCU\n",
      "      -- Driver complex: 8734 MILCU\n",
      "         -- Source: 50 MILCU\n",
      "         -- RF accelerator: 7435 MILCU\n",
      "            -- Instrumented beamline (25%): 210 MILCU\n",
      "            -- RF structures (6785x): 1793 MILCU\n",
      "            -- Klystrons (6786x, 28 MW peak, 60 kW avg): 5432 MILCU\n",
      "         -- Civil construction: 1248 MILCU\n",
      "      -- Plasma stages (32x): 507 MILCU\n",
      "      -- Interstages: 254 MILCU\n",
      "      -- BDS: 288 MILCU\n",
      "      -- Civil construction: 902 MILCU\n",
      "   -- Interaction point: 184 MILCU\n",
      "-- Overheads: 11382 MILCU\n",
      "   -- Design/development: 2189 MILCU\n",
      "   -- Constrols/cabling: 3283 MILCU\n",
      "   -- Installation/commissioning: 3283 MILCU\n",
      "   -- Management/inspection: 2627 MILCU\n",
      "-- Energy (1020 MW, 0.7 yrs): 204 MILCU\n",
      "-- Maintenance: 100 MILCU\n",
      "-- Carbon tax: 431 MILCU\n",
      "--------------------------------------------------\n",
      "-- Total: 34.01 BILCU\n",
      "--------------------------------------------------\n"
     ]
    }
   ],
   "source": [
    "pwfa_collider.print_cost()"
   ]
  },
  {
   "cell_type": "code",
   "execution_count": 5,
   "id": "cd3e7813-e397-4738-9035-0aac11d319c5",
   "metadata": {},
   "outputs": [
    {
     "name": "stderr",
     "output_type": "stream",
     "text": [
      "/Users/carlal/UiO/Code/venvs/pyvenv/lib/python3.12/site-packages/threadpoolctl.py:1214: RuntimeWarning: \n",
      "Found Intel OpenMP ('libiomp') and LLVM OpenMP ('libomp') loaded at\n",
      "the same time. Both libraries are known to be incompatible and this\n",
      "can cause random crashes or deadlocks on Linux when loaded in the\n",
      "same Python program.\n",
      "Using threadpoolctl may cause crashes or deadlocks. For more\n",
      "information and possible workarounds, please see\n",
      "    https://github.com/joblib/threadpoolctl/blob/master/multiple_openmp.md\n",
      "\n",
      "  warnings.warn(msg, RuntimeWarning)\n",
      "[INFO 10-28 19:48:11] ax.service.utils.instantiation: Created search space: SearchSpace(parameters=[RangeParameter(name='driver_separation_num_buckets', parameter_type=INT, range=[2, 7]), RangeParameter(name='driver_linac_num_structures_per_klystron', parameter_type=FLOAT, range=[0.5, 2.0], log_scale=True), RangeParameter(name='driver_linac_gradient', parameter_type=FLOAT, range=[1000000.0, 8000000.0], log_scale=True), RangeParameter(name='pwfa_num_stages', parameter_type=INT, range=[10, 100], log_scale=True)], parameter_constraints=[]).\n",
      "[INFO 10-28 19:48:11] ax.modelbridge.dispatch_utils: Using Models.BOTORCH_MODULAR since there is at least one ordered parameter and there are no unordered categorical parameters.\n",
      "[INFO 10-28 19:48:11] ax.modelbridge.dispatch_utils: Calculating the number of remaining initialization trials based on num_initialization_trials=None max_initialization_trials=None num_tunable_parameters=4 num_trials=None use_batch_trials=False\n",
      "[INFO 10-28 19:48:11] ax.modelbridge.dispatch_utils: calculated num_initialization_trials=8\n",
      "[INFO 10-28 19:48:11] ax.modelbridge.dispatch_utils: num_completed_initialization_trials=0 num_remaining_initialization_trials=8\n",
      "[INFO 10-28 19:48:11] ax.modelbridge.dispatch_utils: `verbose`, `disable_progbar`, and `jit_compile` are not yet supported when using `choose_generation_strategy` with ModularBoTorchModel, dropping these arguments.\n",
      "[INFO 10-28 19:48:11] ax.modelbridge.dispatch_utils: Using Bayesian Optimization generation strategy: GenerationStrategy(name='Sobol+BoTorch', steps=[Sobol for 8 trials, BoTorch for subsequent trials]). Iterations after 8 will take longer to generate due to model-fitting.\n",
      "[INFO 10-28 19:48:11] ax.service.managed_loop: Started full optimization with 50 steps.\n",
      "[INFO 10-28 19:48:11] ax.service.managed_loop: Running optimization trial 1...\n",
      "[INFO 10-28 19:48:13] ax.service.managed_loop: Running optimization trial 2...\n"
     ]
    },
    {
     "name": "stdout",
     "output_type": "stream",
     "text": [
      "Merit function (Collider cost): 8.48e+10\n",
      ">> driver_separation_num_buckets: 2\n",
      ">> driver_linac_num_structures_per_klystron: 0.625\n",
      ">> driver_linac_gradient: 6.92e+06\n",
      ">> pwfa_num_stages: 27\n"
     ]
    },
    {
     "name": "stderr",
     "output_type": "stream",
     "text": [
      "[INFO 10-28 19:48:14] ax.service.managed_loop: Running optimization trial 3...\n"
     ]
    },
    {
     "name": "stdout",
     "output_type": "stream",
     "text": [
      "Merit function (Collider cost): 5.41e+10\n",
      ">> driver_separation_num_buckets: 3\n",
      ">> driver_linac_num_structures_per_klystron: 0.597\n",
      ">> driver_linac_gradient: 4.13e+06\n",
      ">> pwfa_num_stages: 21\n"
     ]
    },
    {
     "name": "stderr",
     "output_type": "stream",
     "text": [
      "[INFO 10-28 19:48:16] ax.service.managed_loop: Running optimization trial 4...\n"
     ]
    },
    {
     "name": "stdout",
     "output_type": "stream",
     "text": [
      "Merit function (Collider cost): 1.17e+11\n",
      ">> driver_separation_num_buckets: 7\n",
      ">> driver_linac_num_structures_per_klystron: 1.53\n",
      ">> driver_linac_gradient: 1.02e+06\n",
      ">> pwfa_num_stages: 22\n"
     ]
    },
    {
     "name": "stderr",
     "output_type": "stream",
     "text": [
      "[INFO 10-28 19:48:19] ax.service.managed_loop: Running optimization trial 5...\n"
     ]
    },
    {
     "name": "stdout",
     "output_type": "stream",
     "text": [
      "Merit function (Collider cost): 3.73e+10\n",
      ">> driver_separation_num_buckets: 5\n",
      ">> driver_linac_num_structures_per_klystron: 0.672\n",
      ">> driver_linac_gradient: 2.66e+06\n",
      ">> pwfa_num_stages: 57\n"
     ]
    },
    {
     "name": "stderr",
     "output_type": "stream",
     "text": [
      "[INFO 10-28 19:48:21] ax.service.managed_loop: Running optimization trial 6...\n"
     ]
    },
    {
     "name": "stdout",
     "output_type": "stream",
     "text": [
      "Merit function (Collider cost): 8.31e+10\n",
      ">> driver_separation_num_buckets: 7\n",
      ">> driver_linac_num_structures_per_klystron: 0.597\n",
      ">> driver_linac_gradient: 1.64e+06\n",
      ">> pwfa_num_stages: 26\n"
     ]
    },
    {
     "name": "stderr",
     "output_type": "stream",
     "text": [
      "[INFO 10-28 19:48:26] ax.service.managed_loop: Running optimization trial 7...\n"
     ]
    },
    {
     "name": "stdout",
     "output_type": "stream",
     "text": [
      "Merit function (Collider cost): 3.16e+10\n",
      ">> driver_separation_num_buckets: 3\n",
      ">> driver_linac_num_structures_per_klystron: 0.565\n",
      ">> driver_linac_gradient: 3.17e+06\n",
      ">> pwfa_num_stages: 74\n"
     ]
    },
    {
     "name": "stderr",
     "output_type": "stream",
     "text": [
      "[INFO 10-28 19:48:29] ax.service.managed_loop: Running optimization trial 8...\n"
     ]
    },
    {
     "name": "stdout",
     "output_type": "stream",
     "text": [
      "Merit function (Collider cost): 6.12e+10\n",
      ">> driver_separation_num_buckets: 4\n",
      ">> driver_linac_num_structures_per_klystron: 1.27\n",
      ">> driver_linac_gradient: 1.57e+06\n",
      ">> pwfa_num_stages: 37\n"
     ]
    },
    {
     "name": "stderr",
     "output_type": "stream",
     "text": [
      "[INFO 10-28 19:48:30] ax.service.managed_loop: Running optimization trial 9...\n"
     ]
    },
    {
     "name": "stdout",
     "output_type": "stream",
     "text": [
      "Merit function (Collider cost): 1.3e+11\n",
      ">> driver_separation_num_buckets: 2\n",
      ">> driver_linac_num_structures_per_klystron: 1.08\n",
      ">> driver_linac_gradient: 4.18e+06\n",
      ">> pwfa_num_stages: 18\n"
     ]
    },
    {
     "name": "stderr",
     "output_type": "stream",
     "text": [
      "[INFO 10-28 19:48:35] ax.service.managed_loop: Running optimization trial 10...\n"
     ]
    },
    {
     "name": "stdout",
     "output_type": "stream",
     "text": [
      "Merit function (Collider cost): 4.5e+10\n",
      ">> driver_separation_num_buckets: 4\n",
      ">> driver_linac_num_structures_per_klystron: 0.535\n",
      ">> driver_linac_gradient: 2.83e+06\n",
      ">> pwfa_num_stages: 47\n"
     ]
    },
    {
     "name": "stderr",
     "output_type": "stream",
     "text": [
      "[INFO 10-28 19:48:42] ax.service.managed_loop: Running optimization trial 11...\n"
     ]
    },
    {
     "name": "stdout",
     "output_type": "stream",
     "text": [
      "Merit function (Collider cost): 3.19e+10\n",
      ">> driver_separation_num_buckets: 4\n",
      ">> driver_linac_num_structures_per_klystron: 0.703\n",
      ">> driver_linac_gradient: 2.46e+06\n",
      ">> pwfa_num_stages: 83\n"
     ]
    },
    {
     "name": "stderr",
     "output_type": "stream",
     "text": [
      "[INFO 10-28 19:48:49] ax.service.managed_loop: Running optimization trial 12...\n"
     ]
    },
    {
     "name": "stdout",
     "output_type": "stream",
     "text": [
      "Merit function (Collider cost): 2.56e+10\n",
      ">> driver_separation_num_buckets: 4\n",
      ">> driver_linac_num_structures_per_klystron: 0.644\n",
      ">> driver_linac_gradient: 3.66e+06\n",
      ">> pwfa_num_stages: 93\n"
     ]
    },
    {
     "name": "stderr",
     "output_type": "stream",
     "text": [
      "[INFO 10-28 19:48:57] ax.service.managed_loop: Running optimization trial 13...\n"
     ]
    },
    {
     "name": "stdout",
     "output_type": "stream",
     "text": [
      "Merit function (Collider cost): 2.84e+10\n",
      ">> driver_separation_num_buckets: 4\n",
      ">> driver_linac_num_structures_per_klystron: 0.57\n",
      ">> driver_linac_gradient: 2.99e+06\n",
      ">> pwfa_num_stages: 100\n"
     ]
    },
    {
     "name": "stderr",
     "output_type": "stream",
     "text": [
      "[INFO 10-28 19:49:06] ax.service.managed_loop: Running optimization trial 14...\n"
     ]
    },
    {
     "name": "stdout",
     "output_type": "stream",
     "text": [
      "Merit function (Collider cost): 2.51e+10\n",
      ">> driver_separation_num_buckets: 5\n",
      ">> driver_linac_num_structures_per_klystron: 0.741\n",
      ">> driver_linac_gradient: 3.45e+06\n",
      ">> pwfa_num_stages: 100\n"
     ]
    },
    {
     "name": "stderr",
     "output_type": "stream",
     "text": [
      "\n",
      "KeyboardInterrupt\n",
      "\n"
     ]
    }
   ],
   "source": [
    "pwfa_collider = PWFACollider()\n",
    "best_parameters, best_values = pwfa_collider.optimize('pwfa_collider_optimization', \n",
    "                    parameters=[\n",
    "                        #{'name': 'num_bunches_in_train', 'type': 'range', 'value_type': 'int', 'bounds': [100, 200], 'log_scale': True},\n",
    "                        #{'name': 'rep_rate_trains', 'type': 'range', 'value_type': 'float', 'bounds': [50, 200], 'log_scale': True},\n",
    "                        {'name': 'driver_separation_num_buckets', 'type': 'range', 'value_type': 'int', 'bounds': [2, 7]},\n",
    "                        {'name': 'driver_linac_num_structures_per_klystron', 'type': 'range', 'value_type': 'float', 'bounds': [0.5, 2.0], 'log_scale': True},\n",
    "                        {'name': 'driver_linac_gradient', 'type': 'range', 'value_type': 'float', 'bounds': [1e6, 8e6], 'log_scale': True},\n",
    "                        {'name': 'pwfa_num_stages', 'type': 'range', 'value_type': 'int', 'bounds': [10, 100], 'log_scale': True}\n",
    "                    ], \n",
    "                    merit_fcn=Collider.full_programme_cost, label='Collider cost',\n",
    "                    num_shots_per_step=1, num_steps=50,\n",
    "                    parallel=False, overwrite=True, verbose=False)"
   ]
  },
  {
   "cell_type": "code",
   "execution_count": null,
   "id": "44b20ec5-2940-4246-8f1a-b971c6fcb533",
   "metadata": {},
   "outputs": [],
   "source": [
    "print(best_parameters)"
   ]
  },
  {
   "cell_type": "code",
   "execution_count": null,
   "id": "34b29477-3693-4960-8b76-05aeb818cb1f",
   "metadata": {},
   "outputs": [],
   "source": [
    "pwfa_collider = PWFACollider()\n",
    "pwfa_collider.set_parameters(best_parameters)\n",
    "pwfa_collider.run('pwfa_collider_example_opt', overwrite=True, verbose=False)\n",
    "pwfa_collider.plot_survey()\n",
    "pwfa_collider.print_cost()\n",
    "pwfa_collider.print_power()"
   ]
  },
  {
   "cell_type": "code",
   "execution_count": null,
   "id": "a8fdff0e-3269-47e9-be39-01dc4f323185",
   "metadata": {},
   "outputs": [],
   "source": []
  }
 ],
 "metadata": {
  "kernelspec": {
   "display_name": "Python 3 (ipykernel)",
   "language": "python",
   "name": "python3"
  },
  "language_info": {
   "codemirror_mode": {
    "name": "ipython",
    "version": 3
   },
   "file_extension": ".py",
   "mimetype": "text/x-python",
   "name": "python",
   "nbconvert_exporter": "python",
   "pygments_lexer": "ipython3",
   "version": "3.12.3"
  }
 },
 "nbformat": 4,
 "nbformat_minor": 5
}
