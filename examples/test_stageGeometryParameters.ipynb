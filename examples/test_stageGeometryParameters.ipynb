{
 "cells": [
  {
   "cell_type": "markdown",
   "metadata": {},
   "source": [
    "# Test of length/gradient/energy_gain with flattop/upramp/downramp\n",
    "\n",
    "TODO: Move this into an actual test suite.\n",
    "\n",
    "This is not really an example...\n",
    "\n",
    "Kyrre, 22/11/2024"
   ]
  },
  {
   "cell_type": "code",
   "execution_count": 1,
   "metadata": {},
   "outputs": [],
   "source": [
    "from abel import *"
   ]
  },
  {
   "cell_type": "code",
   "execution_count": 2,
   "metadata": {},
   "outputs": [],
   "source": [
    "def printStuff(stage):\n",
    "    print(\"length / flattop  =\",stage.length, stage.length_flattop, '[m]')\n",
    "    if stage.has_upramp():\n",
    "        print(\"length_upramp =\", stage.upramp.length, '[m]')\n",
    "    if stage.has_downramp():\n",
    "        print(\"length_downramp =\", stage.downramp.length, '[m]')\n",
    "    print(\"nom_accel_gradient =\",stage.nom_accel_gradient, '[eV/m]')\n",
    "    print(\"nom_energy_gain    =\",stage.nom_energy_gain, '[eV]')\n",
    "    print()\n",
    "\n",
    "def printStuff_internal(stage):\n",
    "    print(stage._length)\n",
    "    print(stage._length_flattop)\n",
    "    print(stage._nom_accel_gradient)\n",
    "    print(stage._nom_energy_gain)\n",
    "    print(stage._length_flattop_rdy(fromOverall=False))\n",
    "    print(stage._length_rdy(fromOverall=False))\n",
    "    print(stage._nom_energy_gain_rdy(fromOverall=False))\n",
    "    print(stage._nom_accel_gradient_rdy(fromOverall=False))\n"
   ]
  },
  {
   "cell_type": "code",
   "execution_count": 3,
   "metadata": {},
   "outputs": [
    {
     "name": "stdout",
     "output_type": "stream",
     "text": [
      "length / flattop  = None None [m]\n",
      "nom_accel_gradient = None [eV/m]\n",
      "nom_energy_gain    = None [eV]\n",
      "\n",
      "length / flattop  = 10 10 [m]\n",
      "nom_accel_gradient = None [eV/m]\n",
      "nom_energy_gain    = None [eV]\n",
      "\n",
      "length / flattop  = 15 15 [m]\n",
      "nom_accel_gradient = None [eV/m]\n",
      "nom_energy_gain    = None [eV]\n",
      "\n",
      "length / flattop  = 5 5 [m]\n",
      "nom_accel_gradient = None [eV/m]\n",
      "nom_energy_gain    = None [eV]\n",
      "\n",
      "length / flattop  = 5 5 [m]\n",
      "nom_accel_gradient = 10 [eV/m]\n",
      "nom_energy_gain    = 50 [eV]\n",
      "\n"
     ]
    }
   ],
   "source": [
    "stageTest = StageBasic()\n",
    "\n",
    "printStuff(stageTest)\n",
    "\n",
    "#Mess around with length and length_flattop\n",
    "stageTest.length = 10\n",
    "printStuff(stageTest)\n",
    "stageTest.length = 15\n",
    "printStuff(stageTest)\n",
    "\n",
    "stageTest.length = None #Crash if missing\n",
    "stageTest.length_flattop = 5\n",
    "printStuff(stageTest)\n",
    "\n",
    "stageTest.nom_accel_gradient = 10\n",
    "printStuff(stageTest)\n",
    "\n",
    "#stageTest.length =1 #Crash if present\n",
    "\n"
   ]
  },
  {
   "cell_type": "code",
   "execution_count": 4,
   "metadata": {},
   "outputs": [
    {
     "name": "stdout",
     "output_type": "stream",
     "text": [
      "length / flattop  = 2.0 2.0 [m]\n",
      "nom_accel_gradient = 10 [eV/m]\n",
      "nom_energy_gain    = 20 [eV]\n",
      "\n",
      "length / flattop  = 2 2 [m]\n",
      "nom_accel_gradient = 10.0 [eV/m]\n",
      "nom_energy_gain    = 20 [eV]\n",
      "\n"
     ]
    }
   ],
   "source": [
    "#Flip around length/energy_gain/accelGradient\n",
    "\n",
    "stageTest.length_flattop = None\n",
    "#printStuff(stageTest)\n",
    "stageTest.nom_energy_gain = 20\n",
    "printStuff(stageTest)\n",
    "\n",
    "stageTest.nom_accel_gradient = None\n",
    "#stageTest.length = 2\n",
    "stageTest.length_flattop = 2\n",
    "printStuff(stageTest)\n"
   ]
  },
  {
   "cell_type": "code",
   "execution_count": 5,
   "metadata": {},
   "outputs": [
    {
     "name": "stdout",
     "output_type": "stream",
     "text": [
      "length / flattop  = None None [m]\n",
      "length_upramp = 1 [m]\n",
      "length_downramp = None [m]\n",
      "nom_accel_gradient = None [eV/m]\n",
      "nom_energy_gain    = None [eV]\n",
      "\n",
      "length / flattop  = 1 1 [m]\n",
      "nom_accel_gradient = None [eV/m]\n",
      "nom_energy_gain    = None [eV]\n",
      "\n",
      "length / flattop  = 10 None [m]\n",
      "length_upramp = 1 [m]\n",
      "length_downramp = None [m]\n",
      "nom_accel_gradient = None [eV/m]\n",
      "nom_energy_gain    = None [eV]\n",
      "\n",
      "length / flattop  = 10 7 [m]\n",
      "length_upramp = 1 [m]\n",
      "length_downramp = 2 [m]\n",
      "nom_accel_gradient = None [eV/m]\n",
      "nom_energy_gain    = None [eV]\n",
      "\n",
      "length / flattop  = 13 10 [m]\n",
      "length_upramp = 1 [m]\n",
      "length_downramp = 2 [m]\n",
      "nom_accel_gradient = None [eV/m]\n",
      "nom_energy_gain    = None [eV]\n",
      "\n",
      "length / flattop  = 13 10 [m]\n",
      "length_upramp = 1 [m]\n",
      "length_downramp = 2 [m]\n",
      "nom_accel_gradient = 1.0 [eV/m]\n",
      "nom_energy_gain    = 10 [eV]\n",
      "\n"
     ]
    }
   ],
   "source": [
    "stageTest2 = StageBasic()\n",
    "stageTest2.upramp = stageTest2.__class__()\n",
    "stageTest2.downramp = stageTest2.__class__()\n",
    "#printStuff(stageTest2)\n",
    "\n",
    "stageTest2.upramp.length = 1\n",
    "printStuff(stageTest2)\n",
    "printStuff(stageTest2.upramp)\n",
    "\n",
    "stageTest2.upramp.length = 1\n",
    "stageTest2.length = 10\n",
    "printStuff(stageTest2)\n",
    "\n",
    "stageTest2.downramp.length = 2\n",
    "printStuff(stageTest2)\n",
    "\n",
    "stageTest2.length = None\n",
    "stageTest2.length_flattop = 10\n",
    "printStuff(stageTest2)\n",
    "\n",
    "stageTest2.nom_energy_gain = 10\n",
    "printStuff(stageTest2)"
   ]
  },
  {
   "cell_type": "code",
   "execution_count": null,
   "metadata": {},
   "outputs": [
    {
     "name": "stdout",
     "output_type": "stream",
     "text": [
      "length / flattop  = None None [m]\n",
      "length_upramp = None [m]\n",
      "length_downramp = None [m]\n",
      "nom_accel_gradient = None [eV/m]\n",
      "nom_energy_gain    = None [eV]\n",
      "\n",
      "True\n",
      "True\n",
      "length / flattop  = 5 -1 [m]\n",
      "length_upramp = 3 [m]\n",
      "length_downramp = 3 [m]\n",
      "nom_accel_gradient = None [eV/m]\n",
      "nom_energy_gain    = None [eV]\n",
      "\n"
     ]
    }
   ],
   "source": [
    "stageTest3 = StageBasic()\n",
    "stageTest3.upramp = stageTest3.__class__()\n",
    "stageTest3.downramp = stageTest3.__class__()\n",
    "printStuff(stageTest3)\n",
    "print(stageTest3.has_upramp())\n",
    "print(stageTest3.has_downramp())\n",
    "stageTest3.downramp.length = 3\n",
    "stageTest3.length = 5\n",
    "stageTest3.upramp.length = 3\n",
    "printStuff(stageTest3) #Note negative length_flattop\n"
   ]
  },
  {
   "cell_type": "code",
   "execution_count": null,
   "metadata": {},
   "outputs": [],
   "source": []
  }
 ],
 "metadata": {
  "kernelspec": {
   "display_name": "usr",
   "language": "python",
   "name": "python3"
  },
  "language_info": {
   "codemirror_mode": {
    "name": "ipython",
    "version": 3
   },
   "file_extension": ".py",
   "mimetype": "text/x-python",
   "name": "python",
   "nbconvert_exporter": "python",
   "pygments_lexer": "ipython3",
   "version": "3.12.7"
  }
 },
 "nbformat": 4,
 "nbformat_minor": 2
}
