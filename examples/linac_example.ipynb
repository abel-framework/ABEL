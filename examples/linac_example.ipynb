{
 "cells": [
  {
   "cell_type": "markdown",
   "id": "35b4299f-1afc-4fc2-84ef-1af913515b36",
   "metadata": {},
   "source": [
    "# ABEL linac tracking example\n",
    "\n",
    "By Carl A. Lindstrøm (University of Oslo), 8 Sep 2023"
   ]
  },
  {
   "cell_type": "markdown",
   "id": "13270181-9972-4f1f-808a-a86d2e17d53b",
   "metadata": {},
   "source": [
    "### Import ABEL framework"
   ]
  },
  {
   "cell_type": "code",
   "execution_count": 1,
   "id": "e290fd8e-eb5a-4a89-90d3-77765398b1c9",
   "metadata": {},
   "outputs": [],
   "source": [
    "import sys\n",
    "sys.path.append('../')\n",
    "from abel import *\n",
    "import numpy as np\n",
    "import time\n",
    "\n",
    "\n",
    "%load_ext autoreload\n",
    "%autoreload 2"
   ]
  },
  {
   "cell_type": "markdown",
   "id": "92996b82-518c-4e23-bf59-56b55f4021f4",
   "metadata": {},
   "source": [
    "### Define the linac and beams"
   ]
  },
  {
   "cell_type": "code",
   "execution_count": 4,
   "id": "392dc163-469e-4a0e-b98a-376a5d6eef02",
   "metadata": {},
   "outputs": [],
   "source": [
    "# define driver\n",
    "driver = SourceBasic()\n",
    "driver.charge = -2.7e10 * SI.e # [C]\n",
    "driver.energy = 31.25e9 # [eV]\n",
    "driver.rel_energy_spread = 0.01\n",
    "driver.bunch_length = 50e-6 # [m]\n",
    "driver.z_offset = 580e-6 # [m]\n",
    "driver.emit_nx, driver.emit_ny = 80e-6, 80e-6 # [m rad]\n",
    "driver.beta_x, driver.beta_y = 5, 5 #30e-3, 30e-3 # [m]\n",
    "driver.num_particles = 100000\n",
    "driver.jitter.x = 0 # [m] 2e-6\n",
    "driver.jitter.y = 0 # [m] 100e-9\n",
    "driver.jitter.t = 0 # 10e-15 # [m]\n",
    "drive_beam = driver.track()  # Convert a Source object to a Beam object.  ######\n",
    "\n",
    "# define stage\n",
    "stage = StageQuasistatic2d()\n",
    "#stage = StagePrtclTransWakeInstability()                      #######\n",
    "stage.drive_beam = drive_beam                                 #######\n",
    "stage.driver_source = driver\n",
    "stage.nom_energy_gain = 31.9e9 # [eV]\n",
    "stage.length = 11 # [m]\n",
    "stage.plasma_density = 2e21 # [m^-3]\n",
    "stage.ramp_beta_mag = 5\n",
    "stage.radiation_reaction = False\n",
    "stage.save_evolution = stage.radiation_reaction\n",
    "\n",
    "# define first stage (half length)\n",
    "first_stage = StageQuasistatic2d()\n",
    "#first_stage = StagePrtclTransWakeInstability()                      #######\n",
    "first_stage.drive_beam = drive_beam                                 #######\n",
    "first_stage.driver_source = driver\n",
    "first_stage.nom_energy_gain = stage.nom_energy_gain/2\n",
    "first_stage.length = stage.length/2\n",
    "first_stage.plasma_density = stage.plasma_density\n",
    "first_stage.ramp_beta_mag = stage.ramp_beta_mag\n",
    "first_stage.radiation_reaction = stage.radiation_reaction\n",
    "first_stage.save_evolution = stage.save_evolution\n",
    "\n",
    "# define beam\n",
    "source = SourceBasic()\n",
    "source.charge = -1e10 * SI.e # [C]\n",
    "source.energy = 1500e9 # [eV]\n",
    "#source.rel_energy_spread = 0.1\n",
    "source.rel_energy_spread = 0.#01\n",
    "source.bunch_length = 28e-6 # [m]\n",
    "source.z_offset = 0e-6 # [m]\n",
    "source.emit_nx, source.emit_ny = 160e-6, 0.56e-6 # [m rad]\n",
    "source.beta_x = stage.matched_beta_function(source.energy)\n",
    "source.beta_y = source.beta_x\n",
    "source.num_particles = 50000\n",
    "source.jitter.t = driver.jitter.t\n",
    "\"\"\"\n",
    "main_gamma = energy2gamma(source.energy)\n",
    "main_sigma_x = np.sqrt(source.emit_nx/main_gamma*source.beta_x)  # [m]\n",
    "main_sigma_y = np.sqrt(source.emit_ny/main_gamma*source.beta_y)  # [m]\n",
    "source.x_offset = main_sigma_x*0.1  # [m]\n",
    "source.y_offset = main_sigma_y*0.1  # [m]\n",
    "\"\"\"\n",
    "# define interstage\n",
    "interstage = InterstageBasic()\n",
    "#interstage = InterstageElegant()\n",
    "interstage.beta0 = lambda E: stage.matched_beta_function(E)\n",
    "interstage.dipole_length = lambda E: 1 * np.sqrt(E/10e9) # [m(eV)]\n",
    "interstage.dipole_field = 1.  # [T]\n",
    "#interstage.dipole_field = lambda E: np.min([1.0, 100e9/E]) # [T]\n",
    "\n",
    "# beam delivery system\n",
    "bds = BeamDeliverySystemBasic()\n",
    "bds.beta_x, bds.beta_y = 8e-3, 0.4e-3 # [m]\n",
    "bds.bunch_length = 0.75 * bds.beta_y\n",
    "\n",
    "# define linac\n",
    "linac = Linac()\n",
    "linac.source = source\n",
    "linac.stage = stage\n",
    "#linac.first_stage = first_stage\n",
    "linac.interstage = interstage\n",
    "linac.num_stages = 1\n",
    "shots = 20"
   ]
  },
  {
   "cell_type": "markdown",
   "id": "7c58144f-67e5-4047-b8e1-3cac91160274",
   "metadata": {},
   "source": [
    "### Run simulations"
   ]
  },
  {
   "cell_type": "code",
   "execution_count": 5,
   "id": "fb254ebe-bfea-4903-b1a9-e13f833f763c",
   "metadata": {},
   "outputs": [
    {
     "name": "stdout",
     "output_type": "stream",
     "text": [
      ">> SHOT 1/20\n",
      "Tracking element 1 (SourceBasic, stage 0, s = 0.0 m, 1500.0 GeV, -1.60 nC, 0.0% rms, 160.2/0.6 µm-rad)\n"
     ]
    },
    {
     "ename": "ZeroDivisionError",
     "evalue": "Weights sum to zero, can't be normalized",
     "output_type": "error",
     "traceback": [
      "\u001b[0;31m---------------------------------------------------------------------------\u001b[0m",
      "\u001b[0;31mZeroDivisionError\u001b[0m                         Traceback (most recent call last)",
      "Cell \u001b[0;32mIn[5], line 2\u001b[0m\n\u001b[1;32m      1\u001b[0m start \u001b[38;5;241m=\u001b[39m time\u001b[38;5;241m.\u001b[39mtime()\n\u001b[0;32m----> 2\u001b[0m \u001b[43mlinac\u001b[49m\u001b[38;5;241;43m.\u001b[39;49m\u001b[43mrun\u001b[49m\u001b[43m(\u001b[49m\u001b[38;5;124;43m'\u001b[39;49m\u001b[38;5;124;43mlinac_example_new_solver\u001b[39;49m\u001b[38;5;124;43m'\u001b[39;49m\u001b[43m,\u001b[49m\u001b[43m \u001b[49m\u001b[43mnum_shots\u001b[49m\u001b[38;5;241;43m=\u001b[39;49m\u001b[43mshots\u001b[49m\u001b[43m,\u001b[49m\u001b[43m \u001b[49m\u001b[43moverwrite\u001b[49m\u001b[38;5;241;43m=\u001b[39;49m\u001b[38;5;28;43;01mTrue\u001b[39;49;00m\u001b[43m,\u001b[49m\u001b[43m \u001b[49m\u001b[43mparallel\u001b[49m\u001b[38;5;241;43m=\u001b[39;49m\u001b[38;5;28;43;01mFalse\u001b[39;49;00m\u001b[43m)\u001b[49m;\n\u001b[1;32m      3\u001b[0m end \u001b[38;5;241m=\u001b[39m time\u001b[38;5;241m.\u001b[39mtime()\n\u001b[1;32m      5\u001b[0m \u001b[38;5;28mprint\u001b[39m((end \u001b[38;5;241m-\u001b[39m start)\u001b[38;5;241m/\u001b[39m\u001b[38;5;241m60\u001b[39m, \u001b[38;5;124m'\u001b[39m\u001b[38;5;124m min\u001b[39m\u001b[38;5;124m'\u001b[39m) \u001b[38;5;66;03m# time in minutes\u001b[39;00m\n",
      "File \u001b[0;32m/pfs/lustrep2/scratch/project_465000445/kalvik/ABEL/examples/../abel/classes/runnable.py:50\u001b[0m, in \u001b[0;36mRunnable.run\u001b[0;34m(self, run_name, num_shots, savedepth, verbose, overwrite, parallel, max_cores)\u001b[0m\n\u001b[1;32m     46\u001b[0m \u001b[38;5;28;01melse\u001b[39;00m:   \n\u001b[1;32m     47\u001b[0m     \n\u001b[1;32m     48\u001b[0m     \u001b[38;5;66;03m# perform in-series tracking\u001b[39;00m\n\u001b[1;32m     49\u001b[0m     \u001b[38;5;28;01mfor\u001b[39;00m shot \u001b[38;5;129;01min\u001b[39;00m \u001b[38;5;28mrange\u001b[39m(num_shots):\n\u001b[0;32m---> 50\u001b[0m         \u001b[38;5;28;43mself\u001b[39;49m\u001b[38;5;241;43m.\u001b[39;49m\u001b[43mperform_shot\u001b[49m\u001b[43m(\u001b[49m\u001b[43mshot\u001b[49m\u001b[43m)\u001b[49m\n\u001b[1;32m     52\u001b[0m \u001b[38;5;66;03m# return final beam from first shot\u001b[39;00m\n\u001b[1;32m     53\u001b[0m \u001b[38;5;28mself\u001b[39m\u001b[38;5;241m.\u001b[39m\u001b[38;5;18m__dict__\u001b[39m\u001b[38;5;241m.\u001b[39mupdate(\u001b[38;5;28mself\u001b[39m[\u001b[38;5;241m0\u001b[39m]\u001b[38;5;241m.\u001b[39m\u001b[38;5;18m__dict__\u001b[39m)\n",
      "File \u001b[0;32m/pfs/lustrep2/scratch/project_465000445/kalvik/ABEL/examples/../abel/classes/runnable.py:83\u001b[0m, in \u001b[0;36mRunnable.perform_shot\u001b[0;34m(self, shot)\u001b[0m\n\u001b[1;32m     80\u001b[0m     \u001b[38;5;28mprint\u001b[39m(\u001b[38;5;124m'\u001b[39m\u001b[38;5;124m>> SHOT \u001b[39m\u001b[38;5;124m'\u001b[39m \u001b[38;5;241m+\u001b[39m \u001b[38;5;28mstr\u001b[39m(shot\u001b[38;5;241m+\u001b[39m\u001b[38;5;241m1\u001b[39m) \u001b[38;5;241m+\u001b[39m \u001b[38;5;124m'\u001b[39m\u001b[38;5;124m/\u001b[39m\u001b[38;5;124m'\u001b[39m \u001b[38;5;241m+\u001b[39m \u001b[38;5;28mstr\u001b[39m(\u001b[38;5;28mself\u001b[39m\u001b[38;5;241m.\u001b[39mnum_shots), flush\u001b[38;5;241m=\u001b[39m\u001b[38;5;28;01mTrue\u001b[39;00m)\n\u001b[1;32m     82\u001b[0m \u001b[38;5;66;03m#if overwrite_from is None: # TODO\u001b[39;00m\n\u001b[0;32m---> 83\u001b[0m beam \u001b[38;5;241m=\u001b[39m \u001b[38;5;28;43mself\u001b[39;49m\u001b[38;5;241;43m.\u001b[39;49m\u001b[43mtrack\u001b[49m\u001b[43m(\u001b[49m\u001b[43mbeam\u001b[49m\u001b[38;5;241;43m=\u001b[39;49m\u001b[38;5;28;43;01mNone\u001b[39;49;00m\u001b[43m,\u001b[49m\u001b[43m \u001b[49m\u001b[43msavedepth\u001b[49m\u001b[38;5;241;43m=\u001b[39;49m\u001b[38;5;28;43mself\u001b[39;49m\u001b[38;5;241;43m.\u001b[39;49m\u001b[43msavedepth\u001b[49m\u001b[43m,\u001b[49m\u001b[43m \u001b[49m\u001b[43mrunnable\u001b[49m\u001b[38;5;241;43m=\u001b[39;49m\u001b[38;5;28;43mself\u001b[39;49m\u001b[43m,\u001b[49m\u001b[43m \u001b[49m\u001b[43mverbose\u001b[49m\u001b[38;5;241;43m=\u001b[39;49m\u001b[38;5;28;43mself\u001b[39;49m\u001b[38;5;241;43m.\u001b[39;49m\u001b[43mverbose\u001b[49m\u001b[43m)\u001b[49m\n\u001b[1;32m     85\u001b[0m \u001b[38;5;66;03m# save object to file\u001b[39;00m\n\u001b[1;32m     86\u001b[0m \u001b[38;5;28mself\u001b[39m\u001b[38;5;241m.\u001b[39msave()\n",
      "File \u001b[0;32m/pfs/lustrep2/scratch/project_465000445/kalvik/ABEL/examples/../abel/classes/beamline/beamline.py:36\u001b[0m, in \u001b[0;36mBeamline.track\u001b[0;34m(self, beam, savedepth, runnable, verbose)\u001b[0m\n\u001b[1;32m     34\u001b[0m \u001b[38;5;66;03m# perform element-wise tracking\u001b[39;00m\n\u001b[1;32m     35\u001b[0m \u001b[38;5;28;01mfor\u001b[39;00m trackable \u001b[38;5;129;01min\u001b[39;00m \u001b[38;5;28mself\u001b[39m\u001b[38;5;241m.\u001b[39mtrackables:\n\u001b[0;32m---> 36\u001b[0m     beam \u001b[38;5;241m=\u001b[39m \u001b[43mtrackable\u001b[49m\u001b[38;5;241;43m.\u001b[39;49m\u001b[43mtrack\u001b[49m\u001b[43m(\u001b[49m\u001b[43mbeam\u001b[49m\u001b[43m,\u001b[49m\u001b[43m \u001b[49m\u001b[43msavedepth\u001b[49m\u001b[38;5;241;43m-\u001b[39;49m\u001b[38;5;241;43m1\u001b[39;49m\u001b[43m,\u001b[49m\u001b[43m \u001b[49m\u001b[43mrunnable\u001b[49m\u001b[43m,\u001b[49m\u001b[43m \u001b[49m\u001b[43mverbose\u001b[49m\u001b[43m)\u001b[49m\n\u001b[1;32m     38\u001b[0m \u001b[38;5;28;01mreturn\u001b[39;00m beam\n",
      "File \u001b[0;32m/pfs/lustrep2/scratch/project_465000445/kalvik/ABEL/examples/../abel/classes/stage/impl/stage_quasistatic_2d.py:176\u001b[0m, in \u001b[0;36mStageQuasistatic2d.track\u001b[0;34m(self, beam0, savedepth, runnable, verbose)\u001b[0m\n\u001b[1;32m    174\u001b[0m \u001b[38;5;66;03m# clean nan particles and extreme outliers\u001b[39;00m\n\u001b[1;32m    175\u001b[0m beam\u001b[38;5;241m.\u001b[39mremove_nans()\n\u001b[0;32m--> 176\u001b[0m \u001b[43mbeam\u001b[49m\u001b[38;5;241;43m.\u001b[39;49m\u001b[43mremove_halo_particles\u001b[49m\u001b[43m(\u001b[49m\u001b[43m)\u001b[49m\n\u001b[1;32m    178\u001b[0m \u001b[38;5;66;03m# calculate efficiency\u001b[39;00m\n\u001b[1;32m    179\u001b[0m \u001b[38;5;28mself\u001b[39m\u001b[38;5;241m.\u001b[39mcalculate_efficiency(beam0, driver0, beam, driver)\n",
      "File \u001b[0;32m/pfs/lustrep2/scratch/project_465000445/kalvik/ABEL/examples/../abel/classes/beam.py:369\u001b[0m, in \u001b[0;36mBeam.remove_halo_particles\u001b[0;34m(self, nsigma)\u001b[0m\n\u001b[1;32m    368\u001b[0m \u001b[38;5;28;01mdef\u001b[39;00m \u001b[38;5;21mremove_halo_particles\u001b[39m(\u001b[38;5;28mself\u001b[39m, nsigma\u001b[38;5;241m=\u001b[39m\u001b[38;5;241m20\u001b[39m):\n\u001b[0;32m--> 369\u001b[0m     xfilter \u001b[38;5;241m=\u001b[39m np\u001b[38;5;241m.\u001b[39mabs(\u001b[38;5;28mself\u001b[39m\u001b[38;5;241m.\u001b[39mxs()\u001b[38;5;241m-\u001b[39m\u001b[38;5;28;43mself\u001b[39;49m\u001b[38;5;241;43m.\u001b[39;49m\u001b[43mx_offset\u001b[49m\u001b[43m(\u001b[49m\u001b[43mclean\u001b[49m\u001b[38;5;241;43m=\u001b[39;49m\u001b[38;5;28;43;01mTrue\u001b[39;49;00m\u001b[43m)\u001b[49m) \u001b[38;5;241m>\u001b[39m nsigma\u001b[38;5;241m*\u001b[39m\u001b[38;5;28mself\u001b[39m\u001b[38;5;241m.\u001b[39mbeam_size_x(clean\u001b[38;5;241m=\u001b[39m\u001b[38;5;28;01mTrue\u001b[39;00m)\n\u001b[1;32m    370\u001b[0m     xpfilter \u001b[38;5;241m=\u001b[39m np\u001b[38;5;241m.\u001b[39mabs(\u001b[38;5;28mself\u001b[39m\u001b[38;5;241m.\u001b[39mxps()\u001b[38;5;241m-\u001b[39m\u001b[38;5;28mself\u001b[39m\u001b[38;5;241m.\u001b[39mx_angle(clean\u001b[38;5;241m=\u001b[39m\u001b[38;5;28;01mTrue\u001b[39;00m)) \u001b[38;5;241m>\u001b[39m nsigma\u001b[38;5;241m*\u001b[39m\u001b[38;5;28mself\u001b[39m\u001b[38;5;241m.\u001b[39mdivergence_x(clean\u001b[38;5;241m=\u001b[39m\u001b[38;5;28;01mTrue\u001b[39;00m)\n\u001b[1;32m    371\u001b[0m     yfilter \u001b[38;5;241m=\u001b[39m np\u001b[38;5;241m.\u001b[39mabs(\u001b[38;5;28mself\u001b[39m\u001b[38;5;241m.\u001b[39mys()\u001b[38;5;241m-\u001b[39m\u001b[38;5;28mself\u001b[39m\u001b[38;5;241m.\u001b[39my_offset(clean\u001b[38;5;241m=\u001b[39m\u001b[38;5;28;01mTrue\u001b[39;00m)) \u001b[38;5;241m>\u001b[39m nsigma\u001b[38;5;241m*\u001b[39m\u001b[38;5;28mself\u001b[39m\u001b[38;5;241m.\u001b[39mbeam_size_y(clean\u001b[38;5;241m=\u001b[39m\u001b[38;5;28;01mTrue\u001b[39;00m)\n",
      "File \u001b[0;32m/pfs/lustrep2/scratch/project_465000445/kalvik/ABEL/examples/../abel/classes/beam.py:256\u001b[0m, in \u001b[0;36mBeam.x_offset\u001b[0;34m(self, clean)\u001b[0m\n\u001b[1;32m    255\u001b[0m \u001b[38;5;28;01mdef\u001b[39;00m \u001b[38;5;21mx_offset\u001b[39m(\u001b[38;5;28mself\u001b[39m, clean\u001b[38;5;241m=\u001b[39m\u001b[38;5;28;01mFalse\u001b[39;00m):\n\u001b[0;32m--> 256\u001b[0m     \u001b[38;5;28;01mreturn\u001b[39;00m \u001b[43mweighted_mean\u001b[49m\u001b[43m(\u001b[49m\u001b[38;5;28;43mself\u001b[39;49m\u001b[38;5;241;43m.\u001b[39;49m\u001b[43mxs\u001b[49m\u001b[43m(\u001b[49m\u001b[43m)\u001b[49m\u001b[43m,\u001b[49m\u001b[43m \u001b[49m\u001b[38;5;28;43mself\u001b[39;49m\u001b[38;5;241;43m.\u001b[39;49m\u001b[43mweightings\u001b[49m\u001b[43m(\u001b[49m\u001b[43m)\u001b[49m\u001b[43m,\u001b[49m\u001b[43m \u001b[49m\u001b[43mclean\u001b[49m\u001b[43m)\u001b[49m\n",
      "File \u001b[0;32m/pfs/lustrep2/scratch/project_465000445/kalvik/ABEL/examples/../abel/utilities/statistics.py:24\u001b[0m, in \u001b[0;36mweighted_mean\u001b[0;34m(values, weights, clean, cut_percentile)\u001b[0m\n\u001b[1;32m     22\u001b[0m \u001b[38;5;28;01mdef\u001b[39;00m \u001b[38;5;21mweighted_mean\u001b[39m(values, weights, clean\u001b[38;5;241m=\u001b[39m\u001b[38;5;28;01mFalse\u001b[39;00m, cut_percentile\u001b[38;5;241m=\u001b[39m\u001b[38;5;241m5\u001b[39m):\n\u001b[1;32m     23\u001b[0m     mask \u001b[38;5;241m=\u001b[39m clean_mask(values, enable\u001b[38;5;241m=\u001b[39mclean, cut_percentile\u001b[38;5;241m=\u001b[39m\u001b[38;5;241m5\u001b[39m)\n\u001b[0;32m---> 24\u001b[0m     \u001b[38;5;28;01mreturn\u001b[39;00m \u001b[43mnp\u001b[49m\u001b[38;5;241;43m.\u001b[39;49m\u001b[43maverage\u001b[49m\u001b[43m(\u001b[49m\u001b[43mvalues\u001b[49m\u001b[43m[\u001b[49m\u001b[43mmask\u001b[49m\u001b[43m]\u001b[49m\u001b[43m,\u001b[49m\u001b[43m \u001b[49m\u001b[43mweights\u001b[49m\u001b[38;5;241;43m=\u001b[39;49m\u001b[43mweights\u001b[49m\u001b[43m[\u001b[49m\u001b[43mmask\u001b[49m\u001b[43m]\u001b[49m\u001b[43m)\u001b[49m\n",
      "File \u001b[0;32m<__array_function__ internals>:200\u001b[0m, in \u001b[0;36maverage\u001b[0;34m(*args, **kwargs)\u001b[0m\n",
      "File \u001b[0;32m/pfs/lustrep2/scratch/project_465000445/kalvik/master_kalvik/lib/python3.9/site-packages/numpy/lib/function_base.py:548\u001b[0m, in \u001b[0;36maverage\u001b[0;34m(a, axis, weights, returned, keepdims)\u001b[0m\n\u001b[1;32m    546\u001b[0m     scl \u001b[38;5;241m=\u001b[39m wgt\u001b[38;5;241m.\u001b[39msum(axis\u001b[38;5;241m=\u001b[39maxis, dtype\u001b[38;5;241m=\u001b[39mresult_dtype, \u001b[38;5;241m*\u001b[39m\u001b[38;5;241m*\u001b[39mkeepdims_kw)\n\u001b[1;32m    547\u001b[0m     \u001b[38;5;28;01mif\u001b[39;00m np\u001b[38;5;241m.\u001b[39many(scl \u001b[38;5;241m==\u001b[39m \u001b[38;5;241m0.0\u001b[39m):\n\u001b[0;32m--> 548\u001b[0m         \u001b[38;5;28;01mraise\u001b[39;00m \u001b[38;5;167;01mZeroDivisionError\u001b[39;00m(\n\u001b[1;32m    549\u001b[0m             \u001b[38;5;124m\"\u001b[39m\u001b[38;5;124mWeights sum to zero, can\u001b[39m\u001b[38;5;124m'\u001b[39m\u001b[38;5;124mt be normalized\u001b[39m\u001b[38;5;124m\"\u001b[39m)\n\u001b[1;32m    551\u001b[0m     avg \u001b[38;5;241m=\u001b[39m avg_as_array \u001b[38;5;241m=\u001b[39m np\u001b[38;5;241m.\u001b[39mmultiply(a, wgt,\n\u001b[1;32m    552\u001b[0m                       dtype\u001b[38;5;241m=\u001b[39mresult_dtype)\u001b[38;5;241m.\u001b[39msum(axis, \u001b[38;5;241m*\u001b[39m\u001b[38;5;241m*\u001b[39mkeepdims_kw) \u001b[38;5;241m/\u001b[39m scl\n\u001b[1;32m    554\u001b[0m \u001b[38;5;28;01mif\u001b[39;00m returned:\n",
      "\u001b[0;31mZeroDivisionError\u001b[0m: Weights sum to zero, can't be normalized"
     ]
    }
   ],
   "source": [
    "start = time.time()\n",
    "linac.run('linac_example_new_solver', num_shots=shots, overwrite=True, parallel=False);\n",
    "end = time.time()\n",
    "\n",
    "print((end - start)/60, ' min') # time in minutes"
   ]
  },
  {
   "cell_type": "code",
   "execution_count": null,
   "id": "ebff5ed0-55c8-48e6-894a-a63b02fa2920",
   "metadata": {},
   "outputs": [],
   "source": [
    "Final_energies = [linac.get_beam(-1, shot = i).energy()/1e9 for i in range(shots)]\n",
    "energy_standard_error = np.std(Final_energies)\n",
    "mean_energy = np.mean(Final_energies)\n",
    "print('RMS energy spread is ', energy_standard_error, 'Mean final energy is ', mean_energy)"
   ]
  },
  {
   "cell_type": "markdown",
   "id": "be3e5073-4225-461b-ba48-a1046a273183",
   "metadata": {},
   "source": [
    "### Plot the wakefield"
   ]
  },
  {
   "cell_type": "code",
   "execution_count": null,
   "id": "d3e7bf1f-2fb0-493c-851e-e8d54d39b8b1",
   "metadata": {
    "tags": []
   },
   "outputs": [],
   "source": [
    "# plot the first-stage wakefield\n",
    "linac.stages[0].plot_wakefield()"
   ]
  },
  {
   "cell_type": "code",
   "execution_count": null,
   "id": "55cff99f-1b57-4aec-af3a-6e1ed530a8f9",
   "metadata": {},
   "outputs": [],
   "source": [
    "# plot the last-stage wakefield\n",
    "linac.stages[-1].plot_wakefield()"
   ]
  },
  {
   "cell_type": "code",
   "execution_count": null,
   "id": "a1859f02-321c-4983-81b9-b605451a05c6",
   "metadata": {},
   "outputs": [],
   "source": [
    "linac.stages[0].plot_wake()\n",
    "linac.stages[-1].plot_wake()"
   ]
  },
  {
   "cell_type": "code",
   "execution_count": null,
   "id": "862101d7-e612-40fa-8b6f-12a500044754",
   "metadata": {},
   "outputs": [],
   "source": [
    "fig = linac.stages[0].plot_evolution()\n",
    "fig_last = linac.stages[-1].plot_evolution()"
   ]
  },
  {
   "cell_type": "markdown",
   "id": "ea2437f9-7cce-4929-839c-a86a4d11f01d",
   "metadata": {},
   "source": [
    "### Plot beam evolution and survey"
   ]
  },
  {
   "cell_type": "code",
   "execution_count": null,
   "id": "2002d963-f266-4bc7-aac7-2fcd94e322ea",
   "metadata": {
    "scrolled": true
   },
   "outputs": [],
   "source": [
    "# plot linac survey\n",
    "linac.plot_survey()\n",
    "\n",
    "# plot beam evolution\n",
    "linac.plot_evolution(use_stage_nums=False)\n",
    "linac[0].plot_waterfalls()\n"
   ]
  },
  {
   "cell_type": "code",
   "execution_count": null,
   "id": "af4fe2e7-3433-4c1e-b68c-5237bcdf8958",
   "metadata": {},
   "outputs": [],
   "source": [
    "linac.animate_lps()"
   ]
  },
  {
   "cell_type": "markdown",
   "id": "e4065eff-83a6-4f85-9d13-5ee9dd181f3b",
   "metadata": {},
   "source": [
    "![](run_data/linac_example/plots/lps_shot0.gif)"
   ]
  },
  {
   "cell_type": "code",
   "execution_count": null,
   "id": "5580933f-f654-4cc7-82db-9e9145326b3b",
   "metadata": {},
   "outputs": [],
   "source": [
    "stage_num = 15\n",
    "shot_num = 0\n",
    "stage_tracked = linac[shot_num].stages[stage_num]  # Get a specific acceleration stage in a linac. Zero indexing.\n",
    "beam_out = linac[shot_num].get_beam(stage_num*2+1)  # Get the corresponding beam after the acceleration stage. Zero indexing."
   ]
  },
  {
   "cell_type": "code",
   "execution_count": null,
   "id": "d0da665b-a4dd-424c-abe2-48f668f761eb",
   "metadata": {},
   "outputs": [],
   "source": [
    "stage_tracked.print_current_summary(stage_tracked.drive_beam, linac.initial_beam, beam_out)"
   ]
  },
  {
   "cell_type": "code",
   "execution_count": null,
   "id": "e400fdd1-a859-477d-b4e1-c6fa466fb645",
   "metadata": {},
   "outputs": [],
   "source": []
  }
 ],
 "metadata": {
  "kernelspec": {
   "display_name": "Python 3 (ipykernel)",
   "language": "python",
   "name": "python3"
  },
  "language_info": {
   "codemirror_mode": {
    "name": "ipython",
    "version": 3
   },
   "file_extension": ".py",
   "mimetype": "text/x-python",
   "name": "python",
   "nbconvert_exporter": "python",
   "pygments_lexer": "ipython3",
   "version": "3.9.12"
  }
 },
 "nbformat": 4,
 "nbformat_minor": 5
}
