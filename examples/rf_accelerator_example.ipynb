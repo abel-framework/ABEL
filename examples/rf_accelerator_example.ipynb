{
 "cells": [
  {
   "cell_type": "markdown",
   "metadata": {},
   "source": [
    "## RF linac example\n",
    "\n"
   ]
  },
  {
   "cell_type": "code",
   "execution_count": 1,
   "metadata": {},
   "outputs": [],
   "source": [
    "from abel import *\n",
    "import numpy as np\n",
    "%load_ext autoreload\n",
    "%autoreload 2"
   ]
  },
  {
   "cell_type": "markdown",
   "metadata": {},
   "source": [
    "## Define the linac and beams"
   ]
  },
  {
   "cell_type": "code",
   "execution_count": 2,
   "metadata": {},
   "outputs": [
    {
     "name": "stdout",
     "output_type": "stream",
     "text": [
      "Klystron peak power: 12.9 MW\n",
      "Length: 2.5 km\n",
      "Wall plug power: 31.9 MW\n",
      "       RF power: 31.9 MW\n",
      "  Cooling power: 0.0 MW\n",
      "-- COSTS -----------------------------------------\n",
      "-- Instrumented beamline (29%): 29 MILCU\n",
      "-- RF structures (1184x): 204 MILCU\n",
      "-- Klystrons (1185x, 13 MW peak, 27 kW avg): 661 MILCU\n",
      "--------------------------------------------------\n",
      "-- Total: 0.89 BILCU\n",
      "--------------------------------------------------\n"
     ]
    }
   ],
   "source": [
    "# define beam\n",
    "driver_source = SourceBasic()\n",
    "driver_source.charge = -8e-9 # [C] bunch charge (not train)\n",
    "driver_source.energy = 0.1e9 # [eV]\n",
    "driver_source.rel_energy_spread = 0.01\n",
    "driver_source.bunch_length = 300e-6 # [m]\n",
    "driver_source.emit_nx, driver_source.emit_ny = 20e-6, 80e-6 # [m rad]\n",
    "driver_source.beta_x = 1\n",
    "driver_source.beta_y = driver_source.beta_x\n",
    "driver_source.num_particles = 5000\n",
    "driver_source.num_bunches_in_train = 3200\n",
    "driver_source.bunch_separation = 4e-9\n",
    "driver_source.rep_rate_trains = 100\n",
    "\n",
    "driver_rf_accelerator = RFAcceleratorBasic()\n",
    "driver_rf_accelerator.rf_frequency = 1e9 # L-band\n",
    "driver_rf_accelerator.nom_energy_gain = 7.5e9\n",
    "driver_rf_accelerator.nom_accel_gradient = 3e6\n",
    "driver_rf_accelerator.rep_rate_trains = driver_source.rep_rate_trains\n",
    "driver_rf_accelerator.operating_temperature = 300\n",
    "driver = driver_rf_accelerator.track(driver_source.track())\n",
    "\n",
    "print(f'Klystron peak power: {driver_rf_accelerator.get_klystron_peak_power()/1e6:.1f} MW')\n",
    "print(f'Length: {driver_rf_accelerator.length/1e3:.1f} km')\n",
    "\n",
    "print(f'Wall plug power: {driver_rf_accelerator.wallplug_power()/1e6:.1f} MW')\n",
    "print(f'       RF power: {driver_rf_accelerator.wallplug_power_rf()/1e6:.1f} MW')\n",
    "print(f'  Cooling power: {driver_rf_accelerator.wallplug_power_cooling()/1e6:.1f} MW')\n",
    "driver_rf_accelerator.print_cost()"
   ]
  },
  {
   "cell_type": "code",
   "execution_count": 17,
   "metadata": {},
   "outputs": [
    {
     "name": "stdout",
     "output_type": "stream",
     "text": [
      "767.4686924800001\n",
      "1.2796e-05 -> 2.5592e-06\n"
     ]
    }
   ],
   "source": [
    "from abel.classes.combiner_ring.impl.combiner_ring_basic import CombinerRingBasic\n",
    "\n",
    "cr = CombinerRingBasic()\n",
    "cr.compression_factor = 5\n",
    "\n",
    "comp_driver = cr.track(driver)\n",
    "print(cr.get_length())\n",
    "print(driver.train_duration(), '->', comp_driver.train_duration())"
   ]
  },
  {
   "cell_type": "code",
   "execution_count": null,
   "metadata": {},
   "outputs": [],
   "source": [
    "psource = SourceBasic()\n",
    "psource.charge = 1e-9 # [C] bunch charge (not train)\n",
    "psource.energy = 3e9 # [eV]\n",
    "psource.rel_energy_spread = 0.01\n",
    "psource.bunch_length = 100e-6 # [m]\n",
    "psource.emit_nx, psource.emit_ny = 10e-6, 0.035e-6 # [m rad]\n",
    "psource.beta_x = 1\n",
    "psource.beta_y = psource.beta_x\n",
    "psource.num_particles = 5000\n",
    "psource.num_bunches_in_train = 133\n",
    "psource.bunch_separation = 5.26e-9\n",
    "psource.rep_rate_trains = 120\n",
    "\n",
    "#p_rf_accelerator = RFAcceleratorCLICopti()\n",
    "p_rf_accelerator = RFAcceleratorBasic()\n",
    "p_rf_accelerator.rep_rate_trains = psource.rep_rate_trains\n",
    "p_rf_accelerator.nom_energy_gain = 122e9\n",
    "p_rf_accelerator.rf_frequency = 5.712e9 # C-band\n",
    "p_rf_accelerator.operating_temperature = 77\n",
    "p_rf_accelerator.fill_factor = 0.9\n",
    "p_rf_accelerator.num_rf_cells = 1\n",
    "p_rf_accelerator.num_structures_per_klystron = 130\n",
    "p_rf_accelerator.nom_accel_gradient = 63e6\n",
    "p_rf_accelerator.track(psource.track())\n",
    "\n",
    "print(f'Beam power: {psource.charge * p_rf_accelerator.nom_energy_gain * psource.num_bunches_in_train * psource.rep_rate_trains/1e6:.1f} MW')\n",
    "print(f'Length: {p_rf_accelerator.length/1e3:.1f} km')\n",
    "\n",
    "print(f'Wall plug power: {p_rf_accelerator.wallplug_power()/1e6:.1f} MW')\n",
    "print(f'       RF power: {p_rf_accelerator.wallplug_power_rf()/1e6:.1f} MW')\n",
    "print(f'  Cooling power: {p_rf_accelerator.wallplug_power_cooling()/1e6:.1f} MW')\n",
    "p_rf_accelerator.print_cost()"
   ]
  },
  {
   "cell_type": "code",
   "execution_count": null,
   "metadata": {},
   "outputs": [],
   "source": [
    "#Geometry only\n",
    "print(f\"Linac fill factor = {rf_accelerator.fill_factor}\")\n",
    "print(f\"Structure filling time = {rf_accelerator.get_fill_time()*1e9:.1f} [ns]\")"
   ]
  },
  {
   "cell_type": "code",
   "execution_count": null,
   "metadata": {},
   "outputs": [],
   "source": [
    "#Basic gradient/voltage information\n",
    "#rf_accelerator.gradient_structure = 100e6 #It will figure out the voltages from the geometry\n",
    "#rf_accelerator.track(source.track())\n",
    "print(f\"Total voltage = {rf_accelerator.nom_energy_gain/1e9:.1f} [GV], per structure = {rf_accelerator.voltage_structure/1e6:.1f} [MV]\")"
   ]
  },
  {
   "cell_type": "code",
   "execution_count": null,
   "metadata": {},
   "outputs": [],
   "source": [
    "print(\"Power per structure =\", rf_accelerator.get_structure_power()/1e6, \"[MW]\")\n",
    "print(\"Beam Pulse Length =\", rf_accelerator.train_duration, \"[ns]\")\n",
    "print(\"Total RF->beam Efficiency =\", rf_accelerator.get_rf_efficiency()*100, \"[%] (single bunch)\")\n",
    "print(\"Energy per structure =\", rf_accelerator.get_structure_pulse_energy(), \"[J]\")\n",
    "print(\"Max pulse length =\", rf_accelerator.get_pulse_length_max()*1e9, \"[ns] (beam current undefined)\")\n",
    "print(\"Max pulse length =\", rf_accelerator.get_pulse_length_max()*1e9, \"[ns] @ beam_current=\",rf_accelerator.average_current_train, \"[A]\")"
   ]
  },
  {
   "cell_type": "markdown",
   "metadata": {},
   "source": [
    "## Let's do some tracking - this changes the beam settings in the driverLinac object!"
   ]
  },
  {
   "cell_type": "code",
   "execution_count": null,
   "metadata": {},
   "outputs": [],
   "source": [
    "beam.plot_lps()\n",
    "\n",
    "print(\"Beam parameters in linac before tracking:\",)\n",
    "print(driverLinac)\n",
    "\n",
    "beam2 = driverLinac.track(beam)\n",
    "beam2.plot_lps()\n",
    "\n",
    "print(\"Beam parameters in linac after tracking:\",)\n",
    "print(driverLinac)\n"
   ]
  },
  {
   "cell_type": "code",
   "execution_count": null,
   "metadata": {},
   "outputs": [],
   "source": [
    "driverLinac.plot_gradient_profile()\n",
    "plt.grid()"
   ]
  },
  {
   "cell_type": "code",
   "execution_count": null,
   "metadata": {},
   "outputs": [],
   "source": [
    "driverLinac.plot_power_profile()\n",
    "plt.grid()\n"
   ]
  },
  {
   "cell_type": "markdown",
   "metadata": {},
   "source": [
    "## Gradient optimalization\n",
    "\n",
    "We have now set the pulse length (from the train) and the total energy we want. What are the gradient we can achieve, and how long does the linac need to be?"
   ]
  },
  {
   "cell_type": "code",
   "execution_count": null,
   "metadata": {},
   "outputs": [],
   "source": [
    "print(f\"Max gradient at I_beam={driverLinac.average_current_train:.1f}[A], t_beam={driverLinac.train_duration*1e9:.1f}[ns]\")\n",
    "print(driverLinac)\n",
    "\n",
    "#driverLinac._RF_structure.uselimit_PC = False\n",
    "\n",
    "print(\"Current structure voltage  =\", driverLinac.voltage_structure/1e6, \"[MV] ->\", driverLinac.gradient_structure/1e6, \", [MV/m] -> power/structure=\", driverLinac.get_structure_power()/1e6, \"[MW]\")\n",
    "print(\"Max structure voltage      =\", driverLinac.get_structure_voltage_max()/1e6, \"[MV]\") #Max gradient at current pulse length and current\n",
    "print(\"Max structure gradient     =\", driverLinac.get_structure_voltage_max()/1e6/driverLinac.structure_length, \"[MV/m]\")\n",
    "print(\"Max pulse length =\", driverLinac.get_pulse_length_max()*1e9, \"[ns]\") #Max pulse length at current gradient and current\n",
    "print( driverLinac._RF_structure.getMaxAllowableBeamTime_detailed(driverLinac.get_structure_power(), driverLinac.average_current_train))"
   ]
  },
  {
   "cell_type": "code",
   "execution_count": null,
   "metadata": {},
   "outputs": [],
   "source": [
    "\n",
    "print(\"Fixing gradient and linac geometry\")\n",
    "print(\"optimizing...:\", driverLinac.optimize_linac_geometry_and_gradient())\n",
    "print(driverLinac)\n",
    "print(\"Current structure voltage  =\", driverLinac.voltage_structure/1e6, \"[MV] ->\", driverLinac.gradient_structure/1e6, \", [MV/m] -> power/structure=\", driverLinac.get_structure_power()/1e6, \"[MW]\")\n",
    "print(\"Max structure voltage      =\", driverLinac.get_structure_voltage_max()/1e6, \"[MV/m]\") #Max gradient at current pulse length and current\n",
    "print(\"Max structure gradient     =\", driverLinac.get_structure_voltage_max()/1e6/driverLinac.structure_length, \"[MV/m]\")\n",
    "print(\"Max pulse length           =\", driverLinac.get_pulse_length_max()*1e9, \"[ns]\") #Max pulse length at current gradient and current\n",
    "print( driverLinac._RF_structure.getMaxAllowableBeamTime_detailed(driverLinac.get_structure_power(), driverLinac.average_current_train)) "
   ]
  },
  {
   "cell_type": "markdown",
   "metadata": {},
   "source": [
    "# Exercising the RFAcceleratorBasic a bit"
   ]
  },
  {
   "cell_type": "code",
   "execution_count": null,
   "metadata": {},
   "outputs": [],
   "source": [
    "basic = RFAcceleratorBasic(nom_energy_gain=1e9)\n",
    "basic.num_structures = 100\n",
    "basic.length=basic.num_structures*basic.structure_length/basic.autoOptimize_targetFillFactor\n",
    "basic.track(beam,verbose=1)\n"
   ]
  },
  {
   "cell_type": "markdown",
   "metadata": {},
   "source": [
    "# Basic test of SCRFAcceleratorBasic"
   ]
  },
  {
   "cell_type": "code",
   "execution_count": null,
   "metadata": {},
   "outputs": [],
   "source": [
    "scrf = SCRFAcceleratorBasic(nom_energy_gain=500e6,rf_frequency=2e9, rep_rate_trains=10.0)\n",
    "scrf.num_structures = 100\n",
    "scrf.length=basic.num_structures*basic.structure_length/basic.autoOptimize_targetFillFactor\n",
    "scrf.track(beam,verbose=1)"
   ]
  },
  {
   "cell_type": "code",
   "execution_count": null,
   "metadata": {},
   "outputs": [],
   "source": []
  }
 ],
 "metadata": {
  "kernelspec": {
   "display_name": "Python 3 (ipykernel)",
   "language": "python",
   "name": "python3"
  },
  "language_info": {
   "codemirror_mode": {
    "name": "ipython",
    "version": 3
   },
   "file_extension": ".py",
   "mimetype": "text/x-python",
   "name": "python",
   "nbconvert_exporter": "python",
   "pygments_lexer": "ipython3",
   "version": "3.9.12"
  }
 },
 "nbformat": 4,
 "nbformat_minor": 4
}
