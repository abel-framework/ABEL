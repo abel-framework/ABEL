{
 "cells": [
  {
   "cell_type": "code",
   "execution_count": 1,
   "id": "1f9d9142-654b-4f87-b6fa-42d3ad23fa55",
   "metadata": {},
   "outputs": [
    {
     "name": "stdout",
     "output_type": "stream",
     "text": [
      "\n",
      "\n",
      "TinyProfiler total time across processes [min...avg...max]: 0.9657 ... 0.9657 ... 0.9657\n"
     ]
    }
   ],
   "source": [
    "from abel import SourceBasic, InterstageImpactX\n",
    "\n",
    "source = SourceBasic()\n",
    "source.energy = 10e9\n",
    "source.charge = -1e-9\n",
    "source.emit_nx = 1e-6\n",
    "source.emit_ny = 1e-6\n",
    "source.beta_x = 10\n",
    "source.beta_y = 4\n",
    "source.z_offset = -400e-6\n",
    "source.x_offset = 50e-6\n",
    "source.y_offset = 360e-6\n",
    "source.bunch_length = 100e-6\n",
    "source.rel_energy_spread = 0.01\n",
    "source.num_particles = 10000\n",
    "\n",
    "interstage = InterstageImpactX()\n",
    "interstage.length = 0\n",
    "\n",
    "beam = source.track()\n",
    "beam2 = interstage.track(beam)"
   ]
  },
  {
   "cell_type": "code",
   "execution_count": null,
   "id": "b9e503e1-8f57-4ee1-96ad-094808974f82",
   "metadata": {},
   "outputs": [],
   "source": []
  }
 ],
 "metadata": {
  "kernelspec": {
   "display_name": "Python 3 (ipykernel)",
   "language": "python",
   "name": "python3"
  },
  "language_info": {
   "codemirror_mode": {
    "name": "ipython",
    "version": 3
   },
   "file_extension": ".py",
   "mimetype": "text/x-python",
   "name": "python",
   "nbconvert_exporter": "python",
   "pygments_lexer": "ipython3",
   "version": "3.10.10"
  }
 },
 "nbformat": 4,
 "nbformat_minor": 5
}
