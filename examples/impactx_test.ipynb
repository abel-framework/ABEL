{
 "cells": [
  {
   "cell_type": "code",
   "execution_count": null,
   "id": "1f9d9142-654b-4f87-b6fa-42d3ad23fa55",
   "metadata": {},
   "outputs": [],
   "source": [
    "from abel import SourceBasic, InterstageImpactX, Linac, Beam\n",
    "import numpy as np\n",
    "import matplotlib.pyplot as plt\n",
    "%load_ext autoreload\n",
    "%autoreload 2"
   ]
  },
  {
   "cell_type": "markdown",
   "id": "0073bcc6-ad8d-4d1c-8e41-26f1b0edd1bb",
   "metadata": {},
   "source": [
    "## Setup"
   ]
  },
  {
   "cell_type": "code",
   "execution_count": null,
   "id": "d7f451c9-0889-49eb-9daa-2f87166191c7",
   "metadata": {},
   "outputs": [],
   "source": [
    "from abel.utilities.plasma_physics import beta_matched\n",
    "n0 = 1e22;\n",
    "\n",
    "source = SourceBasic()\n",
    "source.energy = 10e9\n",
    "source.charge = -0.1e-9\n",
    "source.emit_nx = 10e-6\n",
    "source.emit_ny = 1e-6\n",
    "source.beta_x = beta_matched(n0, source.energy)\n",
    "source.beta_y = source.beta_x\n",
    "source.bunch_length = 30e-9\n",
    "source.rel_energy_spread = 0.05e-9\n",
    "source.num_particles = 200000\n",
    "\n",
    "interstage = InterstageImpactX()\n",
    "interstage.nom_energy = source.energy\n",
    "interstage.dipole_length = 1.0*np.sqrt(source.energy/10e9)\n",
    "interstage.dipole_field = 1.0\n",
    "interstage.L2_by_L1 = 1.5#.103\n",
    "interstage.B2_by_B1 = 1#np.sqrt(2)\n",
    "interstage.enable_nonlinearity = True\n",
    "interstage.enable_chicane = False\n",
    "interstage.enable_sextupole = True\n",
    "interstage.enable_csr = False\n",
    "interstage.enable_isr = False\n",
    "interstage.plot_layout()\n",
    "return"
   ]
  },
  {
   "cell_type": "code",
   "execution_count": null,
   "id": "2c5c8b9e-d1d0-4066-85e1-45febcd14264",
   "metadata": {
    "scrolled": true
   },
   "outputs": [],
   "source": [
    "linac = Linac(source=source)\n",
    "linac.trackables = [source, interstage]\n",
    "linac.run('test_interstage2', overwrite=True)"
   ]
  },
  {
   "cell_type": "code",
   "execution_count": null,
   "id": "66c491f6-6d28-44ef-a806-901bdc8145e8",
   "metadata": {},
   "outputs": [],
   "source": [
    "linac.trackables[1].plot_evolution()\n",
    "linac.initial_beam.plot_trace_space_x()\n",
    "linac.final_beam.plot_trace_space_x();\n",
    "linac.initial_beam.plot_trace_space_y()\n",
    "linac.final_beam.plot_trace_space_y();\n",
    "return"
   ]
  },
  {
   "cell_type": "markdown",
   "id": "0dde0c9b-0a91-4a5d-8c46-6f2e1ca90e57",
   "metadata": {},
   "source": [
    "## Scan the dipole field"
   ]
  },
  {
   "cell_type": "code",
   "execution_count": null,
   "id": "b29cad8c-8870-412e-8467-66cd6fc8ab8f",
   "metadata": {
    "scrolled": true
   },
   "outputs": [],
   "source": [
    "# scan the driver timing jitter\n",
    "linac0 = Linac(source=source)\n",
    "linac0.trackables = [source, interstage]\n",
    "linac0.trackables[1].enable_nonlinearity = True\n",
    "linac0.trackables[1].enable_sextupole = True\n",
    "linac0.scan('scan_interstage', \n",
    "           lambda obj, val: setattr(obj.trackables[1], 'dipole_field', val) or obj, \n",
    "           np.logspace(np.log10(0.01), np.log10(5), 31),\n",
    "           label='Dipole field (T)',\n",
    "           scale=1,\n",
    "           num_shots_per_step=1, \n",
    "           parallel=True,\n",
    "           overwrite=True);"
   ]
  },
  {
   "cell_type": "code",
   "execution_count": null,
   "id": "ef4d847b-9e88-48bb-ba05-a1c2fd6795ab",
   "metadata": {},
   "outputs": [],
   "source": [
    "linac0.plot_beam_function(Beam.norm_emittance_x, scale=1e-6, label='Emittance, x (mm mrad)', xscale='log', yscale='log')\n",
    "linac0.plot_beam_function(Beam.norm_emittance_y, scale=1e-6, label='Emittance, y (mm mrad)', xscale='log', yscale='log')\n",
    "linac0.plot_beam_function(Beam.bunch_length, scale=1e-6, label='Bunch length (um)', xscale='log')"
   ]
  },
  {
   "cell_type": "markdown",
   "id": "af7ab2b9-d029-4967-9db7-2b28004e7c38",
   "metadata": {},
   "source": [
    "## Scan the dipole length"
   ]
  },
  {
   "cell_type": "code",
   "execution_count": null,
   "id": "7b4efaad-2654-4b93-976b-acdb895d95ac",
   "metadata": {},
   "outputs": [],
   "source": [
    "# scan the driver timing jitter\n",
    "linac1 = Linac(source=source)\n",
    "linac1.trackables = [source, interstage]\n",
    "linac1.trackables[1].enable_nonlinearity = False\n",
    "linac1.trackables[1].enable_sextupole = False\n",
    "linac1.scan('scan_interstage', \n",
    "           lambda obj, val: setattr(obj.trackables[1], 'dipole_length', val) or obj, \n",
    "           np.logspace(np.log10(0.02), np.log10(5), 31),\n",
    "           label='Dipole length (m)',\n",
    "           scale=1,\n",
    "           num_shots_per_step=1, \n",
    "           parallel=True,\n",
    "           overwrite=True);"
   ]
  },
  {
   "cell_type": "code",
   "execution_count": null,
   "id": "9fe755f6-caba-4c62-8e2b-6ba0a6e6bd0e",
   "metadata": {},
   "outputs": [],
   "source": [
    "linac1.plot_beam_function(Beam.norm_emittance_x, scale=1e-6, label='Emittance, x (mm mrad)', xscale='log', yscale='log')\n",
    "linac1.plot_beam_function(Beam.norm_emittance_y, scale=1e-6, label='Emittance, y (mm mrad)', xscale='log', yscale='log')\n",
    "linac1.plot_beam_function(Beam.bunch_length, scale=1e-6, label='Bunch length (um)', xscale='log')"
   ]
  },
  {
   "cell_type": "markdown",
   "id": "cf6303ef-3752-4d51-a837-df9e3948e6e3",
   "metadata": {},
   "source": [
    "## Scan the energy spread"
   ]
  },
  {
   "cell_type": "code",
   "execution_count": null,
   "id": "18eade15-58ff-4e07-853f-dfe7c78d667e",
   "metadata": {
    "scrolled": true
   },
   "outputs": [],
   "source": [
    "# scan the driver timing jitter\n",
    "linac2 = Linac(source=source)\n",
    "linac2.trackables = [source, interstage]\n",
    "linac2.trackables[1].enable_nonlinearity = True\n",
    "linac2.trackables[1].enable_sextupole = True\n",
    "linac2.scan('scan_interstage_energy_spread', \n",
    "           lambda obj, val: setattr(obj.trackables[0], 'energy_spread', None) or setattr(obj.trackables[0], 'rel_energy_spread', val) or obj, \n",
    "           np.logspace(np.log10(1e-3), np.log10(0.1), 16),\n",
    "           label='Rel. energy spread, rms (%)',\n",
    "           scale=0.01,\n",
    "           num_shots_per_step=1, \n",
    "           parallel=True,\n",
    "           overwrite=True);"
   ]
  },
  {
   "cell_type": "code",
   "execution_count": null,
   "id": "d4e0d478-cbeb-4085-a849-db8716d212c9",
   "metadata": {},
   "outputs": [],
   "source": [
    "linac2.plot_beam_function(Beam.norm_emittance_x, scale=1e-6, label='Emittance, x (mm mrad)', xscale='log', yscale='log')\n",
    "linac2.plot_beam_function(Beam.norm_emittance_y, scale=1e-6, label='Emittance, y (mm mrad)', xscale='log', yscale='log')\n",
    "linac2.plot_beam_function(Beam.bunch_length, scale=1e-6, label='Bunch length (um)', xscale='log', yscale='log')"
   ]
  },
  {
   "cell_type": "code",
   "execution_count": null,
   "id": "74a9be3f-6fa1-4cf2-8a01-27d49afa249e",
   "metadata": {},
   "outputs": [],
   "source": [
    "vals, valx_mean, _ = linac2.get_function_data(lambda obj: obj.final_beam.norm_emittance_x())\n",
    "_, valy_mean, _ = linac2.get_function_data(lambda obj: obj.final_beam.norm_emittance_y())\n",
    "\n",
    "E = source.energy\n",
    "emitnx = source.emit_nx\n",
    "emitny = source.emit_ny\n",
    "beta_x = source.beta_x\n",
    "beta_y = source.beta_y\n",
    "L = interstage.dipole_length\n",
    "B = interstage.dipole_field\n",
    "\n",
    "fig, axs = plt.subplots(2, figsize=(6,10))\n",
    "axs[0].plot(vals, valx_mean, vals, emitnx*np.sqrt(1+(vals**2*6*L/beta_x + vals**10*1e13)**2))\n",
    "axs[0].set_yscale('log')\n",
    "axs[0].set_xscale('log')\n",
    "\n",
    "axs[1].plot(vals, valy_mean, vals, emitny*np.sqrt(1+(vals**2*6*L/beta_y)**2))\n",
    "axs[1].set_yscale('log')\n",
    "axs[1].set_xscale('log')"
   ]
  },
  {
   "cell_type": "markdown",
   "id": "71574e31-8ce2-4f5b-bec9-96dc0c91d140",
   "metadata": {},
   "source": [
    "## Scan the beta function"
   ]
  },
  {
   "cell_type": "code",
   "execution_count": null,
   "id": "1a2fc1ee-b411-44e5-9894-2282450f5bca",
   "metadata": {
    "scrolled": true
   },
   "outputs": [],
   "source": [
    "# scan the driver timing jitter\n",
    "linac3 = Linac(source=source)\n",
    "linac3.trackables = [source, interstage]\n",
    "linac3.trackables[1].enable_nonlinearity = True\n",
    "linac3.trackables[1].enable_sextupole = True\n",
    "linac3.scan('scan_interstage_beta_function', \n",
    "           lambda obj, val: setattr(obj.trackables[0], 'beta_x', val) or setattr(obj.trackables[0], 'beta_y', val) or obj, \n",
    "           np.logspace(np.log10(1e-4), np.log10(1), 32),\n",
    "           label='Beta function (mm)',\n",
    "           scale=1e-3,\n",
    "           num_shots_per_step=1, \n",
    "           parallel=True,\n",
    "           overwrite=False);"
   ]
  },
  {
   "cell_type": "code",
   "execution_count": null,
   "id": "6d798ac6-67e2-487b-bd3b-e910e7355e1e",
   "metadata": {},
   "outputs": [],
   "source": [
    "linac3.plot_beam_function(Beam.norm_emittance_x, scale=1e-6, label='Emittance, x (mm mrad)', xscale='log', yscale='log')\n",
    "linac3.plot_beam_function(Beam.norm_emittance_y, scale=1e-6, label='Emittance, y (mm mrad)', xscale='log', yscale='log')\n",
    "linac3.plot_beam_function(Beam.beta_x, scale=1e-3, label='Beta function, x (mm)', xscale='log', yscale='log')\n",
    "linac3.plot_beam_function(Beam.beta_y, scale=1e-3, label='Beta function, y (mm)', xscale='log', yscale='log')\n",
    "linac3.plot_beam_function(Beam.alpha_x, scale=1, label='Alpha function, x', xscale='log')\n",
    "linac3.plot_beam_function(Beam.alpha_y, scale=1, label='Alpha function, y', xscale='log')"
   ]
  },
  {
   "cell_type": "markdown",
   "id": "87aa0b44-2125-411c-a2f3-0e9ab493a1e8",
   "metadata": {},
   "source": [
    "## Scan the horizontal emittance"
   ]
  },
  {
   "cell_type": "code",
   "execution_count": null,
   "id": "6c28a09d-4f91-4dbf-8a3e-5b391193e7e1",
   "metadata": {
    "scrolled": true
   },
   "outputs": [],
   "source": [
    "# scan the driver timing jitter\n",
    "linac4 = Linac(source=source)\n",
    "linac4.trackables = [source, interstage]\n",
    "linac4.trackables[1].enable_nonlinearity = True\n",
    "linac4.trackables[1].enable_sextupole = True\n",
    "linac4.scan('scan_interstage_emittance_horizontal', \n",
    "           lambda obj, val: setattr(obj.trackables[0], 'emit_nx', val) or obj, \n",
    "           np.logspace(np.log10(1e-7), np.log10(1e-3), 32),\n",
    "           label='Norm emittance, x (mm mrad)',\n",
    "           scale=1e-6,\n",
    "           num_shots_per_step=1, \n",
    "           parallel=True,\n",
    "           overwrite=True);"
   ]
  },
  {
   "cell_type": "code",
   "execution_count": null,
   "id": "163797a4-9f88-4773-9d2c-3161f86e5867",
   "metadata": {},
   "outputs": [],
   "source": [
    "linac4.plot_beam_function(Beam.norm_emittance_x, scale=1e-6, label='Emittance, x (mm mrad)', xscale='log', yscale='log')\n",
    "linac4.plot_beam_function(Beam.norm_emittance_y, scale=1e-6, label='Emittance, y (mm mrad)', xscale='log', yscale='log')\n",
    "linac4.plot_beam_function(Beam.bunch_length, scale=1e-6, label='Bunch length (um)', xscale='log', yscale='log')"
   ]
  },
  {
   "cell_type": "code",
   "execution_count": null,
   "id": "80f41c6a-6dbb-4307-9855-6141d93164aa",
   "metadata": {},
   "outputs": [],
   "source": [
    "import matplotlib.pyplot as plt\n",
    "vals, val_mean, val_std = linac4.get_function_data(lambda obj: obj.final_beam.norm_emittance_y())\n",
    "\n",
    "E = source.energy\n",
    "emitny = source.emit_ny\n",
    "beta_x = source.beta_x\n",
    "beta_y = source.beta_y\n",
    "L = interstage.dipole_length\n",
    "B = interstage.dipole_field\n",
    "\n",
    "plt.plot(vals, val_mean, vals, emitny*np.sqrt(1+(E*vals/(8*3e8*beta_x*beta_y*B**2*L))**2))\n",
    "plt.plot(np.array([1, 1])*(8*L*B**2*3e8*beta_x*beta_y/E), [1e-6, 1e-3], 'k:')\n",
    "plt.yscale('log')\n",
    "plt.xscale('log')"
   ]
  },
  {
   "cell_type": "code",
   "execution_count": null,
   "id": "ee6f87e8-d9f9-4b70-85db-76cd422c34a5",
   "metadata": {},
   "outputs": [],
   "source": [
    "import matplotlib.pyplot as plt\n",
    "vals, val_mean, val_std = linac4.get_function_data(lambda obj: obj.final_beam.norm_emittance_x())\n",
    "\n",
    "E = source.energy\n",
    "emitny = source.emit_ny\n",
    "beta_x = source.beta_x\n",
    "beta_y = source.beta_y\n",
    "L = interstage.dipole_length\n",
    "B = interstage.dipole_field\n",
    "\n",
    "plt.plot(vals, val_mean, vals, vals*np.sqrt(1+(E*vals/(16*3e8*beta_x*beta_y*B**2*L))**2))\n",
    "plt.plot(np.array([1, 1])*(16*L*B**2*3e8*beta_x*beta_y/E), [1e-6, 1e-3], 'k:')\n",
    "plt.yscale('log')\n",
    "plt.xscale('log')"
   ]
  },
  {
   "cell_type": "markdown",
   "id": "90a7a10a-caff-4c13-9930-d4b46c8c1d1c",
   "metadata": {},
   "source": [
    "## Scan the vertical emittance"
   ]
  },
  {
   "cell_type": "code",
   "execution_count": null,
   "id": "e1243cc8-90e6-4b84-92d6-06456e7c035e",
   "metadata": {
    "scrolled": true
   },
   "outputs": [],
   "source": [
    "# scan the driver timing jitter\n",
    "linac5 = Linac(source=source)\n",
    "linac5.trackables = [source, interstage]\n",
    "linac5.trackables[1].enable_nonlinearity = True\n",
    "linac5.trackables[1].enable_sextupole = True\n",
    "linac5.scan('scan_interstage_emittance_vertical', \n",
    "           lambda obj, val: setattr(obj.trackables[0], 'emit_ny', val) or obj, \n",
    "           np.logspace(np.log10(1e-7), np.log10(1e-3), 32),\n",
    "           label='Norm emittance, y (mm mrad)',\n",
    "           scale=1e-6,\n",
    "           num_shots_per_step=1, \n",
    "           parallel=True,\n",
    "           overwrite=True);"
   ]
  },
  {
   "cell_type": "code",
   "execution_count": null,
   "id": "db5c6514-1c2e-4c88-9dc6-9db2ed5448fa",
   "metadata": {},
   "outputs": [],
   "source": [
    "linac5.plot_beam_function(Beam.norm_emittance_x, scale=1e-6, label='Emittance, x (mm mrad)', xscale='log', yscale='log')\n",
    "linac5.plot_beam_function(Beam.norm_emittance_y, scale=1e-6, label='Emittance, y (mm mrad)', xscale='log', yscale='log')"
   ]
  },
  {
   "cell_type": "code",
   "execution_count": null,
   "id": "2eb047f8-b98e-4d5e-b25b-9838ac68acfa",
   "metadata": {},
   "outputs": [],
   "source": [
    "import matplotlib.pyplot as plt\n",
    "vals, val_mean, val_std = linac5.get_function_data(lambda obj: obj.final_beam.norm_emittance_y())\n",
    "\n",
    "E = source.energy\n",
    "emitnx = source.emit_nx\n",
    "beta_x = source.beta_x\n",
    "beta_y = source.beta_y\n",
    "L = interstage.dipole_length\n",
    "B = interstage.dipole_field\n",
    "\n",
    "plt.plot(vals, val_mean, vals, vals*np.sqrt(1+(E*vals/(16*3e8*beta_x*beta_y*B**2*L))**2))\n",
    "plt.plot(np.array([1, 1])*(16*L*B**2*3e8*beta_x*beta_y/E), [1e-6, 1e-3], 'k:')\n",
    "plt.yscale('log')\n",
    "plt.xscale('log')"
   ]
  },
  {
   "cell_type": "code",
   "execution_count": null,
   "id": "bed5afd7-1d54-4602-b5fc-a2b04a92adca",
   "metadata": {},
   "outputs": [],
   "source": []
  },
  {
   "cell_type": "code",
   "execution_count": null,
   "id": "6b7f89ab-7dff-44df-9685-6fa9f5473fc0",
   "metadata": {},
   "outputs": [],
   "source": [
    "import matplotlib.pyplot as plt\n",
    "vals, val_mean, val_std = linac5.get_function_data(lambda obj: obj.final_beam.norm_emittance_x())\n",
    "\n",
    "E = source.energy\n",
    "emitnx = source.emit_nx\n",
    "beta_x = source.beta_x\n",
    "beta_y = source.beta_y\n",
    "L = interstage.dipole_length\n",
    "B = interstage.dipole_field\n",
    "\n",
    "plt.plot(vals, val_mean, vals, emitnx*np.sqrt(1+(E*vals/(8*3e8*beta_x*beta_y*B**2*L))**2))\n",
    "plt.plot(np.array([1, 1])*(8*L*B**2*3e8*beta_x*beta_y/E), [1e-6, 1e-3], 'k:')\n",
    "plt.yscale('log')\n",
    "plt.xscale('log')"
   ]
  },
  {
   "cell_type": "markdown",
   "id": "f2fe741d-a546-4f31-ab02-6a2aac1d5d3d",
   "metadata": {},
   "source": [
    "## Scan the bunch charge (CSR effects)"
   ]
  },
  {
   "cell_type": "code",
   "execution_count": null,
   "id": "35171a47-0d54-493b-b7fc-df4ab7805613",
   "metadata": {},
   "outputs": [],
   "source": [
    "# scan the driver timing jitter\n",
    "linac6 = Linac(source=source)\n",
    "linac6.trackables = [source, interstage]\n",
    "linac6.trackables[1].enable_nonlinearity = True\n",
    "linac6.trackables[1].enable_chicane = True\n",
    "linac6.trackables[1].enable_sextupole = True\n",
    "linac6.trackables[1].enable_csr = True\n",
    "linac6.scan('scan_interstage_charge_csr', \n",
    "           lambda obj, val: setattr(obj.trackables[0], 'charge', val) or obj, \n",
    "           np.logspace(np.log10(1e-12), np.log10(1e-7), 32),\n",
    "           label='Charge (nC)',\n",
    "           scale=1e-9,\n",
    "           num_shots_per_step=1, \n",
    "           parallel=True,\n",
    "           overwrite=True);"
   ]
  },
  {
   "cell_type": "code",
   "execution_count": null,
   "id": "f215b45f-6c4a-4d2f-a5ef-af0ba2aaf010",
   "metadata": {},
   "outputs": [],
   "source": [
    "linac6.plot_beam_function(Beam.norm_emittance_x, scale=1e-6, label='Emittance, x (mm mrad)', xscale='log', yscale='log')\n",
    "linac6.plot_beam_function(Beam.norm_emittance_y, scale=1e-6, label='Emittance, y (mm mrad)', xscale='log', yscale='log')"
   ]
  },
  {
   "cell_type": "code",
   "execution_count": null,
   "id": "6e2f350e-c0a8-4219-a8a6-bd5d90442769",
   "metadata": {},
   "outputs": [],
   "source": []
  },
  {
   "cell_type": "code",
   "execution_count": null,
   "id": "c3146aaf-035c-4b68-a413-ec0a9c0e6065",
   "metadata": {},
   "outputs": [],
   "source": []
  },
  {
   "cell_type": "markdown",
   "id": "83b92dd9-2508-44cb-99d9-0ad195367937",
   "metadata": {},
   "source": [
    "## Scan the bunch length (CSR effects)"
   ]
  },
  {
   "cell_type": "code",
   "execution_count": null,
   "id": "b7cd83d5-c5c1-4bf4-8336-2b1fb8095a9c",
   "metadata": {},
   "outputs": [],
   "source": [
    "# scan the bunch length\n",
    "linac7 = Linac(source=source)\n",
    "linac7.trackables = [source, interstage]\n",
    "linac7.trackables[1].enable_nonlinearity = True\n",
    "linac7.trackables[1].enable_chicane = True\n",
    "linac7.trackables[1].enable_sextupole = True\n",
    "linac7.trackables[1].enable_csr = True\n",
    "linac7.scan('scan_interstage_bunchlength_csr', \n",
    "           lambda obj, val: setattr(obj.trackables[0], 'bunch_length', val) or obj, \n",
    "           np.logspace(np.log10(1e-8), np.log10(1e-3), 32),\n",
    "           label='Bunch length (um)',\n",
    "           scale=1e-6,\n",
    "           num_shots_per_step=1, \n",
    "           parallel=True,\n",
    "           overwrite=True);"
   ]
  },
  {
   "cell_type": "code",
   "execution_count": null,
   "id": "c390e887-4076-480d-8a6d-cb04e9e27b2e",
   "metadata": {},
   "outputs": [],
   "source": [
    "linac7.plot_beam_function(Beam.norm_emittance_x, scale=1e-6, label='Emittance, x (mm mrad)', xscale='log', yscale='log')\n",
    "linac7.plot_beam_function(Beam.norm_emittance_y, scale=1e-6, label='Emittance, y (mm mrad)', xscale='log', yscale='log')"
   ]
  },
  {
   "cell_type": "code",
   "execution_count": null,
   "id": "e0dd892c-9d24-4b18-b8e5-5aa78dd6ee7b",
   "metadata": {},
   "outputs": [],
   "source": []
  },
  {
   "cell_type": "code",
   "execution_count": null,
   "id": "41ea375b-8fdc-4f75-8ef1-6432f6612450",
   "metadata": {},
   "outputs": [],
   "source": []
  }
 ],
 "metadata": {
  "kernelspec": {
   "display_name": "Python 3 (ipykernel)",
   "language": "python",
   "name": "python3"
  },
  "language_info": {
   "codemirror_mode": {
    "name": "ipython",
    "version": 3
   },
   "file_extension": ".py",
   "mimetype": "text/x-python",
   "name": "python",
   "nbconvert_exporter": "python",
   "pygments_lexer": "ipython3",
   "version": "3.11.11"
  }
 },
 "nbformat": 4,
 "nbformat_minor": 5
}
