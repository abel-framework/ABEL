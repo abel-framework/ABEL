{
 "cells": [
  {
   "cell_type": "markdown",
   "id": "6e8fd04b-98e4-48da-8d05-89fed83e5c97",
   "metadata": {},
   "source": [
    "# ABEL optimization example\n",
    "\n",
    "By Carl A. Lindstrøm (University of Oslo), 28 May 2024"
   ]
  },
  {
   "cell_type": "markdown",
   "id": "53800cd9-6551-466c-966b-c13fe40e7741",
   "metadata": {},
   "source": [
    "### Import ABEL framework"
   ]
  },
  {
   "cell_type": "code",
   "execution_count": 1,
   "id": "a066c0c5-f505-4df9-8a5c-60d3ca61a54e",
   "metadata": {},
   "outputs": [],
   "source": [
    "from abel import *\n",
    "import numpy as np\n",
    "%load_ext autoreload\n",
    "%autoreload 2"
   ]
  },
  {
   "cell_type": "markdown",
   "id": "3ae524b7-0910-4113-886c-d962a9f9b2cf",
   "metadata": {},
   "source": [
    "### Define the experiment and beam"
   ]
  },
  {
   "cell_type": "code",
   "execution_count": 2,
   "id": "95b5ae37-46fd-4d0c-a997-4196df4aef96",
   "metadata": {},
   "outputs": [],
   "source": [
    "# define beam\n",
    "source = SourceBasic()\n",
    "source.charge = -100e-12 # [pC]\n",
    "source.energy = 5e6 # [eV]\n",
    "source.rel_energy_spread = 0.01\n",
    "source.bunch_length = 400e-6 # [m]\n",
    "source.emit_nx, source.emit_ny = 5e-6, 5e-6 # [m rad]\n",
    "source.beta_x = 10\n",
    "source.beta_y = source.beta_x\n",
    "source.num_particles = 10000\n",
    "source.length = 3 # [m]\n",
    "source.jitter.x = 100e-6\n",
    "source.jitter.y = 100e-6\n",
    "source.jitter.xp = 0.01e-3\n",
    "source.jitter.yp = 0.01e-3\n",
    "\n",
    "# define the RF accelerator\n",
    "rf_accelerator = RFAcceleratorBasic()\n",
    "rf_accelerator.nom_energy_gain = 200e6 # [eV]\n",
    "rf_accelerator.length = 20 # [m]\n",
    "\n",
    "# define the BDS\n",
    "bds = BeamDeliverySystemBasic()\n",
    "bds.beta_x = 0.2 # [m]\n",
    "bds.beta_y = 0.2 # [m]\n",
    "bds.length = 5 # [m]\n",
    "\n",
    "# define linac\n",
    "linac = ConventionalLinac()\n",
    "linac.source = source\n",
    "linac.rf_accelerator = rf_accelerator\n",
    "linac.bds = bds\n",
    "\n",
    "# define the plasma lens\n",
    "plasma_lens = PlasmaLensNonlinearThin()\n",
    "plasma_lens.length = 0.02 # [m]\n",
    "plasma_lens.current = -1000 # [A]\n",
    "plasma_lens.radius = 500e-6 # [m]\n",
    "plasma_lens.rel_nonlinearity = -0.1\n",
    "\n",
    "# define the spectrometer\n",
    "spectrometer = SpectrometerBasicCLEAR()\n",
    "spectrometer.use_otr_screen = True\n",
    "\n",
    "# assemble \n",
    "experiment = ExperimentAPL()\n",
    "experiment.linac = linac\n",
    "experiment.plasma_lens = plasma_lens\n",
    "experiment.spectrometer = spectrometer"
   ]
  },
  {
   "cell_type": "code",
   "execution_count": 3,
   "id": "1867a43c-ea82-4e37-86f1-d79e9b34af26",
   "metadata": {},
   "outputs": [
    {
     "name": "stderr",
     "output_type": "stream",
     "text": [
      "[INFO 05-29 15:08:54] ax.service.utils.instantiation: Created search space: SearchSpace(parameters=[RangeParameter(name='plasma_lens.offset_x', parameter_type=FLOAT, range=[-0.0004, 0.0004]), RangeParameter(name='plasma_lens.offset_y', parameter_type=FLOAT, range=[-0.0004, 0.0004])], parameter_constraints=[]).\n",
      "[INFO 05-29 15:08:54] ax.modelbridge.dispatch_utils: Using Models.BOTORCH_MODULAR since there are more ordered parameters than there are categories for the unordered categorical parameters.\n",
      "[INFO 05-29 15:08:54] ax.modelbridge.dispatch_utils: Calculating the number of remaining initialization trials based on num_initialization_trials=None max_initialization_trials=None num_tunable_parameters=2 num_trials=None use_batch_trials=False\n",
      "[INFO 05-29 15:08:54] ax.modelbridge.dispatch_utils: calculated num_initialization_trials=5\n",
      "[INFO 05-29 15:08:54] ax.modelbridge.dispatch_utils: num_completed_initialization_trials=0 num_remaining_initialization_trials=5\n",
      "[INFO 05-29 15:08:54] ax.modelbridge.dispatch_utils: `verbose`, `disable_progbar`, and `jit_compile` are not yet supported when using `choose_generation_strategy` with ModularBoTorchModel, dropping these arguments.\n",
      "[INFO 05-29 15:08:54] ax.modelbridge.dispatch_utils: Using Bayesian Optimization generation strategy: GenerationStrategy(name='Sobol+BoTorch', steps=[Sobol for 5 trials, BoTorch for subsequent trials]). Iterations after 5 will take longer to generate due to model-fitting.\n",
      "[INFO 05-29 15:08:54] ax.service.managed_loop: Started full optimization with 10 steps.\n",
      "[INFO 05-29 15:08:54] ax.service.managed_loop: Running optimization trial 1...\n"
     ]
    },
    {
     "data": {
      "application/vnd.jupyter.widget-view+json": {
       "model_id": "90d4418fa4184032b841af2cb448e608",
       "version_major": 2,
       "version_minor": 0
      },
      "text/plain": [
       "Output()"
      ]
     },
     "metadata": {},
     "output_type": "display_data"
    },
    {
     "data": {
      "text/html": [
       "<pre style=\"white-space:pre;overflow-x:auto;line-height:normal;font-family:Menlo,'DejaVu Sans Mono',consolas,'Courier New',monospace\"></pre>\n"
      ],
      "text/plain": []
     },
     "metadata": {},
     "output_type": "display_data"
    },
    {
     "data": {
      "text/html": [
       "<pre style=\"white-space:pre;overflow-x:auto;line-height:normal;font-family:Menlo,'DejaVu Sans Mono',consolas,'Courier New',monospace\">\n",
       "</pre>\n"
      ],
      "text/plain": [
       "\n"
      ]
     },
     "metadata": {},
     "output_type": "display_data"
    },
    {
     "name": "stderr",
     "output_type": "stream",
     "text": [
      "[INFO 05-29 15:09:00] ax.service.managed_loop: Running optimization trial 2...\n"
     ]
    },
    {
     "data": {
      "application/vnd.jupyter.widget-view+json": {
       "model_id": "a49bcfcf1a9b4b4db670facb9e606b9f",
       "version_major": 2,
       "version_minor": 0
      },
      "text/plain": [
       "Output()"
      ]
     },
     "metadata": {},
     "output_type": "display_data"
    },
    {
     "data": {
      "text/html": [
       "<pre style=\"white-space:pre;overflow-x:auto;line-height:normal;font-family:Menlo,'DejaVu Sans Mono',consolas,'Courier New',monospace\"></pre>\n"
      ],
      "text/plain": []
     },
     "metadata": {},
     "output_type": "display_data"
    },
    {
     "data": {
      "text/html": [
       "<pre style=\"white-space:pre;overflow-x:auto;line-height:normal;font-family:Menlo,'DejaVu Sans Mono',consolas,'Courier New',monospace\">\n",
       "</pre>\n"
      ],
      "text/plain": [
       "\n"
      ]
     },
     "metadata": {},
     "output_type": "display_data"
    },
    {
     "name": "stderr",
     "output_type": "stream",
     "text": [
      "[INFO 05-29 15:09:01] ax.service.managed_loop: Running optimization trial 3...\n"
     ]
    },
    {
     "data": {
      "application/vnd.jupyter.widget-view+json": {
       "model_id": "7c1863e6a18d46ff8e1b2a48b3bedc54",
       "version_major": 2,
       "version_minor": 0
      },
      "text/plain": [
       "Output()"
      ]
     },
     "metadata": {},
     "output_type": "display_data"
    },
    {
     "data": {
      "text/html": [
       "<pre style=\"white-space:pre;overflow-x:auto;line-height:normal;font-family:Menlo,'DejaVu Sans Mono',consolas,'Courier New',monospace\"></pre>\n"
      ],
      "text/plain": []
     },
     "metadata": {},
     "output_type": "display_data"
    },
    {
     "data": {
      "text/html": [
       "<pre style=\"white-space:pre;overflow-x:auto;line-height:normal;font-family:Menlo,'DejaVu Sans Mono',consolas,'Courier New',monospace\">\n",
       "</pre>\n"
      ],
      "text/plain": [
       "\n"
      ]
     },
     "metadata": {},
     "output_type": "display_data"
    },
    {
     "name": "stderr",
     "output_type": "stream",
     "text": [
      "[INFO 05-29 15:09:01] ax.service.managed_loop: Running optimization trial 4...\n"
     ]
    },
    {
     "data": {
      "application/vnd.jupyter.widget-view+json": {
       "model_id": "8ef4cdeb1b41413ebaa5d597c5cb916e",
       "version_major": 2,
       "version_minor": 0
      },
      "text/plain": [
       "Output()"
      ]
     },
     "metadata": {},
     "output_type": "display_data"
    },
    {
     "data": {
      "text/html": [
       "<pre style=\"white-space:pre;overflow-x:auto;line-height:normal;font-family:Menlo,'DejaVu Sans Mono',consolas,'Courier New',monospace\"></pre>\n"
      ],
      "text/plain": []
     },
     "metadata": {},
     "output_type": "display_data"
    },
    {
     "data": {
      "text/html": [
       "<pre style=\"white-space:pre;overflow-x:auto;line-height:normal;font-family:Menlo,'DejaVu Sans Mono',consolas,'Courier New',monospace\">\n",
       "</pre>\n"
      ],
      "text/plain": [
       "\n"
      ]
     },
     "metadata": {},
     "output_type": "display_data"
    },
    {
     "name": "stderr",
     "output_type": "stream",
     "text": [
      "[INFO 05-29 15:09:01] ax.service.managed_loop: Running optimization trial 5...\n"
     ]
    },
    {
     "data": {
      "application/vnd.jupyter.widget-view+json": {
       "model_id": "deb0364e749249dbafa9acd7f04fcc0f",
       "version_major": 2,
       "version_minor": 0
      },
      "text/plain": [
       "Output()"
      ]
     },
     "metadata": {},
     "output_type": "display_data"
    },
    {
     "data": {
      "text/html": [
       "<pre style=\"white-space:pre;overflow-x:auto;line-height:normal;font-family:Menlo,'DejaVu Sans Mono',consolas,'Courier New',monospace\"></pre>\n"
      ],
      "text/plain": []
     },
     "metadata": {},
     "output_type": "display_data"
    },
    {
     "data": {
      "text/html": [
       "<pre style=\"white-space:pre;overflow-x:auto;line-height:normal;font-family:Menlo,'DejaVu Sans Mono',consolas,'Courier New',monospace\">\n",
       "</pre>\n"
      ],
      "text/plain": [
       "\n"
      ]
     },
     "metadata": {},
     "output_type": "display_data"
    },
    {
     "name": "stderr",
     "output_type": "stream",
     "text": [
      "[INFO 05-29 15:09:02] ax.service.managed_loop: Running optimization trial 6...\n"
     ]
    },
    {
     "data": {
      "application/vnd.jupyter.widget-view+json": {
       "model_id": "eecc8811fcc74607b494292ae8c5296b",
       "version_major": 2,
       "version_minor": 0
      },
      "text/plain": [
       "Output()"
      ]
     },
     "metadata": {},
     "output_type": "display_data"
    },
    {
     "data": {
      "text/html": [
       "<pre style=\"white-space:pre;overflow-x:auto;line-height:normal;font-family:Menlo,'DejaVu Sans Mono',consolas,'Courier New',monospace\"></pre>\n"
      ],
      "text/plain": []
     },
     "metadata": {},
     "output_type": "display_data"
    },
    {
     "data": {
      "text/html": [
       "<pre style=\"white-space:pre;overflow-x:auto;line-height:normal;font-family:Menlo,'DejaVu Sans Mono',consolas,'Courier New',monospace\">\n",
       "</pre>\n"
      ],
      "text/plain": [
       "\n"
      ]
     },
     "metadata": {},
     "output_type": "display_data"
    },
    {
     "name": "stderr",
     "output_type": "stream",
     "text": [
      "[INFO 05-29 15:09:05] ax.service.managed_loop: Running optimization trial 7...\n"
     ]
    },
    {
     "data": {
      "application/vnd.jupyter.widget-view+json": {
       "model_id": "4a3828db9cce4c66ba967523cd2300c0",
       "version_major": 2,
       "version_minor": 0
      },
      "text/plain": [
       "Output()"
      ]
     },
     "metadata": {},
     "output_type": "display_data"
    },
    {
     "data": {
      "text/html": [
       "<pre style=\"white-space:pre;overflow-x:auto;line-height:normal;font-family:Menlo,'DejaVu Sans Mono',consolas,'Courier New',monospace\"></pre>\n"
      ],
      "text/plain": []
     },
     "metadata": {},
     "output_type": "display_data"
    },
    {
     "data": {
      "text/html": [
       "<pre style=\"white-space:pre;overflow-x:auto;line-height:normal;font-family:Menlo,'DejaVu Sans Mono',consolas,'Courier New',monospace\">\n",
       "</pre>\n"
      ],
      "text/plain": [
       "\n"
      ]
     },
     "metadata": {},
     "output_type": "display_data"
    },
    {
     "name": "stderr",
     "output_type": "stream",
     "text": [
      "[INFO 05-29 15:09:07] ax.service.managed_loop: Running optimization trial 8...\n"
     ]
    },
    {
     "data": {
      "application/vnd.jupyter.widget-view+json": {
       "model_id": "4480ad21d3ae4c209794dd125d33aa77",
       "version_major": 2,
       "version_minor": 0
      },
      "text/plain": [
       "Output()"
      ]
     },
     "metadata": {},
     "output_type": "display_data"
    },
    {
     "data": {
      "text/html": [
       "<pre style=\"white-space:pre;overflow-x:auto;line-height:normal;font-family:Menlo,'DejaVu Sans Mono',consolas,'Courier New',monospace\"></pre>\n"
      ],
      "text/plain": []
     },
     "metadata": {},
     "output_type": "display_data"
    },
    {
     "data": {
      "text/html": [
       "<pre style=\"white-space:pre;overflow-x:auto;line-height:normal;font-family:Menlo,'DejaVu Sans Mono',consolas,'Courier New',monospace\">\n",
       "</pre>\n"
      ],
      "text/plain": [
       "\n"
      ]
     },
     "metadata": {},
     "output_type": "display_data"
    },
    {
     "name": "stderr",
     "output_type": "stream",
     "text": [
      "[INFO 05-29 15:09:09] ax.service.managed_loop: Running optimization trial 9...\n"
     ]
    },
    {
     "data": {
      "application/vnd.jupyter.widget-view+json": {
       "model_id": "34e83cfdf001433fa6e124d4ce575f6d",
       "version_major": 2,
       "version_minor": 0
      },
      "text/plain": [
       "Output()"
      ]
     },
     "metadata": {},
     "output_type": "display_data"
    },
    {
     "data": {
      "text/html": [
       "<pre style=\"white-space:pre;overflow-x:auto;line-height:normal;font-family:Menlo,'DejaVu Sans Mono',consolas,'Courier New',monospace\"></pre>\n"
      ],
      "text/plain": []
     },
     "metadata": {},
     "output_type": "display_data"
    },
    {
     "data": {
      "text/html": [
       "<pre style=\"white-space:pre;overflow-x:auto;line-height:normal;font-family:Menlo,'DejaVu Sans Mono',consolas,'Courier New',monospace\">\n",
       "</pre>\n"
      ],
      "text/plain": [
       "\n"
      ]
     },
     "metadata": {},
     "output_type": "display_data"
    },
    {
     "name": "stderr",
     "output_type": "stream",
     "text": [
      "[INFO 05-29 15:09:10] ax.service.managed_loop: Running optimization trial 10...\n"
     ]
    },
    {
     "data": {
      "application/vnd.jupyter.widget-view+json": {
       "model_id": "7410040412e842258103aa1526bdd85f",
       "version_major": 2,
       "version_minor": 0
      },
      "text/plain": [
       "Output()"
      ]
     },
     "metadata": {},
     "output_type": "display_data"
    },
    {
     "data": {
      "text/html": [
       "<pre style=\"white-space:pre;overflow-x:auto;line-height:normal;font-family:Menlo,'DejaVu Sans Mono',consolas,'Courier New',monospace\"></pre>\n"
      ],
      "text/plain": []
     },
     "metadata": {},
     "output_type": "display_data"
    },
    {
     "data": {
      "text/html": [
       "<pre style=\"white-space:pre;overflow-x:auto;line-height:normal;font-family:Menlo,'DejaVu Sans Mono',consolas,'Courier New',monospace\">\n",
       "</pre>\n"
      ],
      "text/plain": [
       "\n"
      ]
     },
     "metadata": {},
     "output_type": "display_data"
    },
    {
     "data": {
      "text/plain": [
       "({'plasma_lens.offset_x': 5.978080243916942e-06,\n",
       "  'plasma_lens.offset_y': 4.353590938644986e-06},\n",
       " ({'objective': 5.671564976208839e-09},\n",
       "  {'objective': {'objective': 1.289998673338691e-15}}))"
      ]
     },
     "execution_count": 3,
     "metadata": {},
     "output_type": "execute_result"
    }
   ],
   "source": [
    "experiment.optimize('plasmalens_opti_example', \n",
    "                    parameters=[{'name': 'plasma_lens.offset_x', 'type': 'range', 'bounds': [-400e-6, 400e-6]}, \n",
    "                                {'name': 'plasma_lens.offset_y', 'type': 'range', 'bounds': [-400e-6, 400e-6]}], \n",
    "                    merit_fcn=lambda obj: Beam.x_offset(obj.final_beam)**2 + Beam.y_offset(obj.final_beam)**2,\n",
    "                    label='offsets', \n",
    "                    num_shots_per_step=5,\n",
    "                    num_steps=10, parallel=True, overwrite=True)"
   ]
  },
  {
   "cell_type": "code",
   "execution_count": 4,
   "id": "c172797b-2cdc-4942-b98b-fab129d72a5f",
   "metadata": {},
   "outputs": [
    {
     "data": {
      "image/png": "[encoded data removed]",
      "text/plain": [
       "<Figure size 800x640 with 2 Axes>"
      ]
     },
     "metadata": {},
     "output_type": "display_data"
    }
   ],
   "source": [
    "experiment.plot_correlation_offsets()"
   ]
  }
 ],
 "metadata": {
  "kernelspec": {
   "display_name": "Python 3 (ipykernel)",
   "language": "python",
   "name": "python3"
  },
  "language_info": {
   "codemirror_mode": {
    "name": "ipython",
    "version": 3
   },
   "file_extension": ".py",
   "mimetype": "text/x-python",
   "name": "python",
   "nbconvert_exporter": "python",
   "pygments_lexer": "ipython3",
   "version": "3.9.12"
  }
 },
 "nbformat": 4,
 "nbformat_minor": 5
}
