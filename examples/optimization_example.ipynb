{
 "cells": [
  {
   "cell_type": "markdown",
   "id": "6e8fd04b-98e4-48da-8d05-89fed83e5c97",
   "metadata": {},
   "source": [
    "# ABEL optimization example\n",
    "\n",
    "By Carl A. Lindstrøm (University of Oslo), 28 May 2024"
   ]
  },
  {
   "cell_type": "markdown",
   "id": "53800cd9-6551-466c-966b-c13fe40e7741",
   "metadata": {},
   "source": [
    "### Import ABEL framework"
   ]
  },
  {
   "cell_type": "code",
   "execution_count": 1,
   "id": "a066c0c5-f505-4df9-8a5c-60d3ca61a54e",
   "metadata": {},
   "outputs": [],
   "source": [
    "from abel import *\n",
    "import numpy as np\n",
    "%load_ext autoreload\n",
    "%autoreload 2"
   ]
  },
  {
   "cell_type": "markdown",
   "id": "3ae524b7-0910-4113-886c-d962a9f9b2cf",
   "metadata": {},
   "source": [
    "### Define the experiment and beam"
   ]
  },
  {
   "cell_type": "code",
   "execution_count": 2,
   "id": "95b5ae37-46fd-4d0c-a997-4196df4aef96",
   "metadata": {},
   "outputs": [],
   "source": [
    "# define beam\n",
    "source = SourceBasic()\n",
    "source.charge = -100e-12 # [pC]\n",
    "source.energy = 5e6 # [eV]\n",
    "source.rel_energy_spread = 0.01\n",
    "source.bunch_length = 400e-6 # [m]\n",
    "source.emit_nx, source.emit_ny = 5e-6, 5e-6 # [m rad]\n",
    "source.beta_x = 10\n",
    "source.beta_y = source.beta_x\n",
    "source.num_particles = 10000\n",
    "source.length = 3 # [m]\n",
    "source.jitter.x = 100e-6\n",
    "source.jitter.y = 100e-6\n",
    "source.jitter.xp = 0.01e-3\n",
    "source.jitter.yp = 0.01e-3\n",
    "\n",
    "# define the RF accelerator\n",
    "rf_accelerator = RFAcceleratorBasic()\n",
    "rf_accelerator.nom_energy_gain = 200e6 # [eV]\n",
    "rf_accelerator.length = 20 # [m]\n",
    "\n",
    "# define the BDS\n",
    "bds = BeamDeliverySystemBasic()\n",
    "bds.beta_x = 0.2 # [m]\n",
    "bds.beta_y = 0.2 # [m]\n",
    "bds.length = 5 # [m]\n",
    "\n",
    "# define linac\n",
    "linac = ConventionalLinac()\n",
    "linac.source = source\n",
    "linac.rf_accelerator = rf_accelerator\n",
    "linac.bds = bds\n",
    "\n",
    "# define the plasma lens\n",
    "plasma_lens = PlasmaLensNonlinearThin()\n",
    "plasma_lens.length = 0.02 # [m]\n",
    "plasma_lens.current = -1000 # [A]\n",
    "plasma_lens.radius = 500e-6 # [m]\n",
    "plasma_lens.rel_nonlinearity = -0.1\n",
    "\n",
    "# define the spectrometer\n",
    "spectrometer = SpectrometerBasicCLEAR()\n",
    "spectrometer.use_otr_screen = True\n",
    "\n",
    "# assemble \n",
    "experiment = ExperimentAPL()\n",
    "experiment.linac = linac\n",
    "experiment.plasma_lens = plasma_lens\n",
    "experiment.spectrometer = spectrometer"
   ]
  },
  {
   "cell_type": "code",
   "execution_count": 3,
   "id": "1867a43c-ea82-4e37-86f1-d79e9b34af26",
   "metadata": {},
   "outputs": [
    {
     "name": "stderr",
     "output_type": "stream",
     "text": [
      "/Users/carlal/UiO/Code/venvs/pyvenv/lib/python3.12/site-packages/threadpoolctl.py:1214: RuntimeWarning: \n",
      "Found Intel OpenMP ('libiomp') and LLVM OpenMP ('libomp') loaded at\n",
      "the same time. Both libraries are known to be incompatible and this\n",
      "can cause random crashes or deadlocks on Linux when loaded in the\n",
      "same Python program.\n",
      "Using threadpoolctl may cause crashes or deadlocks. For more\n",
      "information and possible workarounds, please see\n",
      "    https://github.com/joblib/threadpoolctl/blob/master/multiple_openmp.md\n",
      "\n",
      "  warnings.warn(msg, RuntimeWarning)\n",
      "[INFO 10-28 17:59:24] ax.service.utils.instantiation: Inferred value type of ParameterType.FLOAT for parameter plasma_lens.offset_x. If that is not the expected value type, you can explicitly specify 'value_type' ('int', 'float', 'bool' or 'str') in parameter dict.\n",
      "[INFO 10-28 17:59:24] ax.service.utils.instantiation: Inferred value type of ParameterType.FLOAT for parameter plasma_lens.offset_y. If that is not the expected value type, you can explicitly specify 'value_type' ('int', 'float', 'bool' or 'str') in parameter dict.\n",
      "[INFO 10-28 17:59:24] ax.service.utils.instantiation: Created search space: SearchSpace(parameters=[RangeParameter(name='plasma_lens.offset_x', parameter_type=FLOAT, range=[-0.0004, 0.0004]), RangeParameter(name='plasma_lens.offset_y', parameter_type=FLOAT, range=[-0.0004, 0.0004])], parameter_constraints=[]).\n",
      "[INFO 10-28 17:59:24] ax.modelbridge.dispatch_utils: Using Models.BOTORCH_MODULAR since there is at least one ordered parameter and there are no unordered categorical parameters.\n",
      "[INFO 10-28 17:59:24] ax.modelbridge.dispatch_utils: Calculating the number of remaining initialization trials based on num_initialization_trials=None max_initialization_trials=None num_tunable_parameters=2 num_trials=None use_batch_trials=False\n",
      "[INFO 10-28 17:59:24] ax.modelbridge.dispatch_utils: calculated num_initialization_trials=5\n",
      "[INFO 10-28 17:59:24] ax.modelbridge.dispatch_utils: num_completed_initialization_trials=0 num_remaining_initialization_trials=5\n",
      "[INFO 10-28 17:59:24] ax.modelbridge.dispatch_utils: `verbose`, `disable_progbar`, and `jit_compile` are not yet supported when using `choose_generation_strategy` with ModularBoTorchModel, dropping these arguments.\n",
      "[INFO 10-28 17:59:24] ax.modelbridge.dispatch_utils: Using Bayesian Optimization generation strategy: GenerationStrategy(name='Sobol+BoTorch', steps=[Sobol for 5 trials, BoTorch for subsequent trials]). Iterations after 5 will take longer to generate due to model-fitting.\n",
      "[INFO 10-28 17:59:24] ax.service.managed_loop: Started full optimization with 10 steps.\n",
      "[INFO 10-28 17:59:24] ax.service.managed_loop: Running optimization trial 1...\n"
     ]
    },
    {
     "data": {
      "application/vnd.jupyter.widget-view+json": {
       "model_id": "f38e1eb39082443ba106e9e2ad3f635f",
       "version_major": 2,
       "version_minor": 0
      },
      "text/plain": [
       "Output()"
      ]
     },
     "metadata": {},
     "output_type": "display_data"
    },
    {
     "data": {
      "text/html": [
       "<pre style=\"white-space:pre;overflow-x:auto;line-height:normal;font-family:Menlo,'DejaVu Sans Mono',consolas,'Courier New',monospace\"></pre>\n"
      ],
      "text/plain": []
     },
     "metadata": {},
     "output_type": "display_data"
    },
    {
     "data": {
      "text/html": [
       "<pre style=\"white-space:pre;overflow-x:auto;line-height:normal;font-family:Menlo,'DejaVu Sans Mono',consolas,'Courier New',monospace\">\n",
       "</pre>\n"
      ],
      "text/plain": [
       "\n"
      ]
     },
     "metadata": {},
     "output_type": "display_data"
    },
    {
     "name": "stderr",
     "output_type": "stream",
     "text": [
      "[INFO 10-28 17:59:28] ax.service.managed_loop: Running optimization trial 2...\n"
     ]
    },
    {
     "data": {
      "application/vnd.jupyter.widget-view+json": {
       "model_id": "a931d08a1acb4974acf8683497aea041",
       "version_major": 2,
       "version_minor": 0
      },
      "text/plain": [
       "Output()"
      ]
     },
     "metadata": {},
     "output_type": "display_data"
    },
    {
     "name": "stdout",
     "output_type": "stream",
     "text": [
      "Merit function (offsets): 4.26e-06\n",
      ">> plasma_lens.offset_x: 6.88e-07\n",
      ">> plasma_lens.offset_y: -0.000283\n"
     ]
    },
    {
     "data": {
      "text/html": [
       "<pre style=\"white-space:pre;overflow-x:auto;line-height:normal;font-family:Menlo,'DejaVu Sans Mono',consolas,'Courier New',monospace\"></pre>\n"
      ],
      "text/plain": []
     },
     "metadata": {},
     "output_type": "display_data"
    },
    {
     "data": {
      "text/html": [
       "<pre style=\"white-space:pre;overflow-x:auto;line-height:normal;font-family:Menlo,'DejaVu Sans Mono',consolas,'Courier New',monospace\">\n",
       "</pre>\n"
      ],
      "text/plain": [
       "\n"
      ]
     },
     "metadata": {},
     "output_type": "display_data"
    },
    {
     "name": "stderr",
     "output_type": "stream",
     "text": [
      "[INFO 10-28 17:59:28] ax.service.managed_loop: Running optimization trial 3...\n"
     ]
    },
    {
     "data": {
      "application/vnd.jupyter.widget-view+json": {
       "model_id": "8b6cbbc1fe184e61b00935212be92f17",
       "version_major": 2,
       "version_minor": 0
      },
      "text/plain": [
       "Output()"
      ]
     },
     "metadata": {},
     "output_type": "display_data"
    },
    {
     "name": "stdout",
     "output_type": "stream",
     "text": [
      "Merit function (offsets): 5.64e-06\n",
      ">> plasma_lens.offset_x: -0.000337\n",
      ">> plasma_lens.offset_y: 3.1e-05\n"
     ]
    },
    {
     "data": {
      "text/html": [
       "<pre style=\"white-space:pre;overflow-x:auto;line-height:normal;font-family:Menlo,'DejaVu Sans Mono',consolas,'Courier New',monospace\"></pre>\n"
      ],
      "text/plain": []
     },
     "metadata": {},
     "output_type": "display_data"
    },
    {
     "data": {
      "text/html": [
       "<pre style=\"white-space:pre;overflow-x:auto;line-height:normal;font-family:Menlo,'DejaVu Sans Mono',consolas,'Courier New',monospace\">\n",
       "</pre>\n"
      ],
      "text/plain": [
       "\n"
      ]
     },
     "metadata": {},
     "output_type": "display_data"
    },
    {
     "name": "stderr",
     "output_type": "stream",
     "text": [
      "[INFO 10-28 17:59:28] ax.service.managed_loop: Running optimization trial 4...\n"
     ]
    },
    {
     "data": {
      "application/vnd.jupyter.widget-view+json": {
       "model_id": "4dd35527c06f4fd6aab121a944d1cf27",
       "version_major": 2,
       "version_minor": 0
      },
      "text/plain": [
       "Output()"
      ]
     },
     "metadata": {},
     "output_type": "display_data"
    },
    {
     "name": "stdout",
     "output_type": "stream",
     "text": [
      "Merit function (offsets): 1.04e-05\n",
      ">> plasma_lens.offset_x: 0.000297\n",
      ">> plasma_lens.offset_y: 0.000307\n"
     ]
    },
    {
     "data": {
      "text/html": [
       "<pre style=\"white-space:pre;overflow-x:auto;line-height:normal;font-family:Menlo,'DejaVu Sans Mono',consolas,'Courier New',monospace\"></pre>\n"
      ],
      "text/plain": []
     },
     "metadata": {},
     "output_type": "display_data"
    },
    {
     "data": {
      "text/html": [
       "<pre style=\"white-space:pre;overflow-x:auto;line-height:normal;font-family:Menlo,'DejaVu Sans Mono',consolas,'Courier New',monospace\">\n",
       "</pre>\n"
      ],
      "text/plain": [
       "\n"
      ]
     },
     "metadata": {},
     "output_type": "display_data"
    },
    {
     "name": "stderr",
     "output_type": "stream",
     "text": [
      "[INFO 10-28 17:59:28] ax.service.managed_loop: Running optimization trial 5...\n"
     ]
    },
    {
     "data": {
      "application/vnd.jupyter.widget-view+json": {
       "model_id": "45742c4416fe43ef8d646c52369d0418",
       "version_major": 2,
       "version_minor": 0
      },
      "text/plain": [
       "Output()"
      ]
     },
     "metadata": {},
     "output_type": "display_data"
    },
    {
     "name": "stdout",
     "output_type": "stream",
     "text": [
      "Merit function (offsets): 1.24e-05\n",
      ">> plasma_lens.offset_x: 0.000367\n",
      ">> plasma_lens.offset_y: 0.000316\n"
     ]
    },
    {
     "data": {
      "text/html": [
       "<pre style=\"white-space:pre;overflow-x:auto;line-height:normal;font-family:Menlo,'DejaVu Sans Mono',consolas,'Courier New',monospace\"></pre>\n"
      ],
      "text/plain": []
     },
     "metadata": {},
     "output_type": "display_data"
    },
    {
     "data": {
      "text/html": [
       "<pre style=\"white-space:pre;overflow-x:auto;line-height:normal;font-family:Menlo,'DejaVu Sans Mono',consolas,'Courier New',monospace\">\n",
       "</pre>\n"
      ],
      "text/plain": [
       "\n"
      ]
     },
     "metadata": {},
     "output_type": "display_data"
    },
    {
     "name": "stderr",
     "output_type": "stream",
     "text": [
      "[INFO 10-28 17:59:29] ax.service.managed_loop: Running optimization trial 6...\n"
     ]
    },
    {
     "name": "stdout",
     "output_type": "stream",
     "text": [
      "Merit function (offsets): 2.13e-06\n",
      ">> plasma_lens.offset_x: 0.000196\n",
      ">> plasma_lens.offset_y: -1.4e-07\n"
     ]
    },
    {
     "data": {
      "application/vnd.jupyter.widget-view+json": {
       "model_id": "1d3b3f69fc72498da9275685d7693fd0",
       "version_major": 2,
       "version_minor": 0
      },
      "text/plain": [
       "Output()"
      ]
     },
     "metadata": {},
     "output_type": "display_data"
    },
    {
     "data": {
      "text/html": [
       "<pre style=\"white-space:pre;overflow-x:auto;line-height:normal;font-family:Menlo,'DejaVu Sans Mono',consolas,'Courier New',monospace\"></pre>\n"
      ],
      "text/plain": []
     },
     "metadata": {},
     "output_type": "display_data"
    },
    {
     "data": {
      "text/html": [
       "<pre style=\"white-space:pre;overflow-x:auto;line-height:normal;font-family:Menlo,'DejaVu Sans Mono',consolas,'Courier New',monospace\">\n",
       "</pre>\n"
      ],
      "text/plain": [
       "\n"
      ]
     },
     "metadata": {},
     "output_type": "display_data"
    },
    {
     "name": "stderr",
     "output_type": "stream",
     "text": [
      "[INFO 10-28 17:59:30] ax.service.managed_loop: Running optimization trial 7...\n"
     ]
    },
    {
     "name": "stdout",
     "output_type": "stream",
     "text": [
      "Merit function (offsets): 1.81e-07\n",
      ">> plasma_lens.offset_x: 3.82e-05\n",
      ">> plasma_lens.offset_y: -4.39e-05\n"
     ]
    },
    {
     "data": {
      "application/vnd.jupyter.widget-view+json": {
       "model_id": "c242d9ae58a64353929e2b2232a5cc7b",
       "version_major": 2,
       "version_minor": 0
      },
      "text/plain": [
       "Output()"
      ]
     },
     "metadata": {},
     "output_type": "display_data"
    },
    {
     "data": {
      "text/html": [
       "<pre style=\"white-space:pre;overflow-x:auto;line-height:normal;font-family:Menlo,'DejaVu Sans Mono',consolas,'Courier New',monospace\"></pre>\n"
      ],
      "text/plain": []
     },
     "metadata": {},
     "output_type": "display_data"
    },
    {
     "data": {
      "text/html": [
       "<pre style=\"white-space:pre;overflow-x:auto;line-height:normal;font-family:Menlo,'DejaVu Sans Mono',consolas,'Courier New',monospace\">\n",
       "</pre>\n"
      ],
      "text/plain": [
       "\n"
      ]
     },
     "metadata": {},
     "output_type": "display_data"
    },
    {
     "name": "stderr",
     "output_type": "stream",
     "text": [
      "[INFO 10-28 17:59:31] ax.service.managed_loop: Running optimization trial 8...\n"
     ]
    },
    {
     "name": "stdout",
     "output_type": "stream",
     "text": [
      "Merit function (offsets): 2.57e-07\n",
      ">> plasma_lens.offset_x: -7.59e-06\n",
      ">> plasma_lens.offset_y: 6.89e-05\n"
     ]
    },
    {
     "data": {
      "application/vnd.jupyter.widget-view+json": {
       "model_id": "e0120f38a11041eb882232e76e6a9adb",
       "version_major": 2,
       "version_minor": 0
      },
      "text/plain": [
       "Output()"
      ]
     },
     "metadata": {},
     "output_type": "display_data"
    },
    {
     "data": {
      "text/html": [
       "<pre style=\"white-space:pre;overflow-x:auto;line-height:normal;font-family:Menlo,'DejaVu Sans Mono',consolas,'Courier New',monospace\"></pre>\n"
      ],
      "text/plain": []
     },
     "metadata": {},
     "output_type": "display_data"
    },
    {
     "data": {
      "text/html": [
       "<pre style=\"white-space:pre;overflow-x:auto;line-height:normal;font-family:Menlo,'DejaVu Sans Mono',consolas,'Courier New',monospace\">\n",
       "</pre>\n"
      ],
      "text/plain": [
       "\n"
      ]
     },
     "metadata": {},
     "output_type": "display_data"
    },
    {
     "name": "stderr",
     "output_type": "stream",
     "text": [
      "[INFO 10-28 17:59:32] ax.service.managed_loop: Running optimization trial 9...\n"
     ]
    },
    {
     "name": "stdout",
     "output_type": "stream",
     "text": [
      "Merit function (offsets): 8.86e-06\n",
      ">> plasma_lens.offset_x: -0.000187\n",
      ">> plasma_lens.offset_y: 0.0004\n"
     ]
    },
    {
     "data": {
      "application/vnd.jupyter.widget-view+json": {
       "model_id": "ba85c7dfcc8249ba803e5bb4b3f38386",
       "version_major": 2,
       "version_minor": 0
      },
      "text/plain": [
       "Output()"
      ]
     },
     "metadata": {},
     "output_type": "display_data"
    },
    {
     "data": {
      "text/html": [
       "<pre style=\"white-space:pre;overflow-x:auto;line-height:normal;font-family:Menlo,'DejaVu Sans Mono',consolas,'Courier New',monospace\"></pre>\n"
      ],
      "text/plain": []
     },
     "metadata": {},
     "output_type": "display_data"
    },
    {
     "data": {
      "text/html": [
       "<pre style=\"white-space:pre;overflow-x:auto;line-height:normal;font-family:Menlo,'DejaVu Sans Mono',consolas,'Courier New',monospace\">\n",
       "</pre>\n"
      ],
      "text/plain": [
       "\n"
      ]
     },
     "metadata": {},
     "output_type": "display_data"
    },
    {
     "name": "stderr",
     "output_type": "stream",
     "text": [
      "[INFO 10-28 17:59:33] ax.service.managed_loop: Running optimization trial 10...\n"
     ]
    },
    {
     "name": "stdout",
     "output_type": "stream",
     "text": [
      "Merit function (offsets): 6.09e-08\n",
      ">> plasma_lens.offset_x: -3.38e-05\n",
      ">> plasma_lens.offset_y: -7.81e-06\n"
     ]
    },
    {
     "data": {
      "application/vnd.jupyter.widget-view+json": {
       "model_id": "255802d59601493ab97a1167d62b23fa",
       "version_major": 2,
       "version_minor": 0
      },
      "text/plain": [
       "Output()"
      ]
     },
     "metadata": {},
     "output_type": "display_data"
    },
    {
     "data": {
      "text/html": [
       "<pre style=\"white-space:pre;overflow-x:auto;line-height:normal;font-family:Menlo,'DejaVu Sans Mono',consolas,'Courier New',monospace\"></pre>\n"
      ],
      "text/plain": []
     },
     "metadata": {},
     "output_type": "display_data"
    },
    {
     "data": {
      "text/html": [
       "<pre style=\"white-space:pre;overflow-x:auto;line-height:normal;font-family:Menlo,'DejaVu Sans Mono',consolas,'Courier New',monospace\">\n",
       "</pre>\n"
      ],
      "text/plain": [
       "\n"
      ]
     },
     "metadata": {},
     "output_type": "display_data"
    },
    {
     "name": "stdout",
     "output_type": "stream",
     "text": [
      "Merit function (offsets): 2.69e-08\n",
      ">> plasma_lens.offset_x: 1.76e-05\n",
      ">> plasma_lens.offset_y: 1.09e-05\n"
     ]
    },
    {
     "data": {
      "text/plain": [
       "({'plasma_lens.offset_x': 1.7625905261008416e-05,\n",
       "  'plasma_lens.offset_y': 1.0935638478918827e-05},\n",
       " ({'objective': 1.626328052942095e-08},\n",
       "  {'objective': {'objective': 2.7285426426731328e-15}}))"
      ]
     },
     "execution_count": 3,
     "metadata": {},
     "output_type": "execute_result"
    }
   ],
   "source": [
    "experiment.optimize('plasmalens_opti_example', \n",
    "                    parameters=[{'name': 'plasma_lens.offset_x', 'type': 'range', 'bounds': [-400e-6, 400e-6]}, \n",
    "                                {'name': 'plasma_lens.offset_y', 'type': 'range', 'bounds': [-400e-6, 400e-6]}], \n",
    "                    merit_fcn=lambda obj: Beam.x_offset(obj.final_beam)**2 + Beam.y_offset(obj.final_beam)**2,\n",
    "                    label='offsets', \n",
    "                    num_shots_per_step=5,\n",
    "                    num_steps=10, parallel=True, overwrite=True)"
   ]
  },
  {
   "cell_type": "code",
   "execution_count": 4,
   "id": "c172797b-2cdc-4942-b98b-fab129d72a5f",
   "metadata": {},
   "outputs": [
    {
     "data": {
      "image/png": "[encoded data removed]",
      "text/plain": [
       "<Figure size 800x640 with 2 Axes>"
      ]
     },
     "metadata": {},
     "output_type": "display_data"
    }
   ],
   "source": [
    "experiment.plot_correlation_offsets()"
   ]
  }
 ],
 "metadata": {
  "kernelspec": {
   "display_name": "Python 3 (ipykernel)",
   "language": "python",
   "name": "python3"
  },
  "language_info": {
   "codemirror_mode": {
    "name": "ipython",
    "version": 3
   },
   "file_extension": ".py",
   "mimetype": "text/x-python",
   "name": "python",
   "nbconvert_exporter": "python",
   "pygments_lexer": "ipython3",
   "version": "3.12.3"
  }
 },
 "nbformat": 4,
 "nbformat_minor": 5
}
