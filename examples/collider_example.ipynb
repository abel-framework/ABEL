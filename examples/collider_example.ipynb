{
 "cells": [
  {
   "cell_type": "markdown",
   "id": "f81d4bca-393b-470f-8ae5-a1a964ee8210",
   "metadata": {},
   "source": [
    "# ABEL collider tracking example\n",
    "\n",
    "By Carl A. Lindstrøm (University of Oslo), 8 Sep 2023"
   ]
  },
  {
   "cell_type": "markdown",
   "id": "981b5640-fedc-4ecb-8600-aea723289602",
   "metadata": {},
   "source": [
    "### Import ABEL framework and required classes"
   ]
  },
  {
   "cell_type": "code",
   "execution_count": 1,
   "id": "e290fd8e-eb5a-4a89-90d3-77765398b1c9",
   "metadata": {},
   "outputs": [],
   "source": [
    "from abel import *\n",
    "import numpy as np\n",
    "import scipy.constants as SI\n",
    "%load_ext autoreload\n",
    "%autoreload 2"
   ]
  },
  {
   "cell_type": "markdown",
   "id": "834c73ef-78a7-45ea-87f8-6578814e551d",
   "metadata": {},
   "source": [
    "### Define electron linac (PWFA)"
   ]
  },
  {
   "cell_type": "code",
   "execution_count": 2,
   "id": "9a662e1b-8446-454e-815d-d1cc768ca03b",
   "metadata": {},
   "outputs": [],
   "source": [
    "# define driver\n",
    "driver_source = SourceBasic()\n",
    "driver_source.charge = -2.7e10 * SI.e # [C]\n",
    "driver_source.energy = 0.15e9 # [eV]\n",
    "driver_source.rel_energy_spread = 0.01\n",
    "driver_source.bunch_length = 42e-6 # [m]\n",
    "driver_source.z_offset = 300e-6 # [m]\n",
    "driver_source.emit_nx, driver_source.emit_ny = 10e-6, 10e-6 # [m rad]\n",
    "driver_source.beta_x, driver_source.beta_y = 30e-3, 30e-3 # [m]\n",
    "driver_source.num_particles = 5000\n",
    "driver_source.wallplug_efficiency = 0.5\n",
    "\n",
    "# define driver accelerator\n",
    "driver_accel = RFAcceleratorBasic()\n",
    "driver_accel.nom_energy_gain = 31.1e9 # [eV]\n",
    "driver_accel.nom_accel_gradient = 10e6 # [V/m]\n",
    "\n",
    "# define driver complex\n",
    "driver_complex = DriverComplex()\n",
    "driver_complex.source = driver_source\n",
    "driver_complex.rf_accelerator = driver_accel\n",
    "driver_complex.turnaround = TurnaroundBasic()\n",
    "\n",
    "# define stage\n",
    "stage = StageBasic()\n",
    "stage.driver_source = driver_complex\n",
    "stage.nom_accel_gradient = 2e9 # [m]\n",
    "stage.plasma_density = 1e21 # [m^-3]\n",
    "stage.ramp_beta_mag = 5\n",
    "\n",
    "# define beam\n",
    "esource = SourceBasic()\n",
    "esource.charge = -1e10 * SI.e # [C]\n",
    "esource.energy = 5e9 # [eV]\n",
    "esource.rel_energy_spread = 0.01\n",
    "esource.bunch_length = 18e-6 # [m]\n",
    "esource.z_offset = -34e-6 # [m]\n",
    "esource.emit_nx, esource.emit_ny = 160e-6, 0.56e-6 # [m rad]\n",
    "esource.beta_x = stage.matched_beta_function(esource.energy)\n",
    "esource.beta_y = esource.beta_x\n",
    "esource.num_particles = 1000\n",
    "esource.wallplug_efficiency = 0.1\n",
    "esource.accel_gradient = 25e6 # [V/m]\n",
    "\n",
    "# define interstage\n",
    "interstage = InterstageBasic()\n",
    "interstage.beta0 = lambda E: stage.matched_beta_function(E)\n",
    "interstage.dipole_length = lambda E: 1 * np.sqrt(E/10e9) # [m(eV)]\n",
    "interstage.dipole_field = 0.5 # [T]\n",
    "\n",
    "# define electron BDS\n",
    "ebds = BeamDeliverySystemBasic()\n",
    "ebds.beta_x, ebds.beta_y = 3.3e-3, 0.1e-3 # [m]\n",
    "ebds.bunch_length = 0.75 * ebds.beta_y\n",
    "\n",
    "# define electron linac\n",
    "elinac = PlasmaLinac()\n",
    "elinac.driver_complex = driver_complex\n",
    "elinac.source = esource\n",
    "elinac.stage = stage\n",
    "elinac.interstage = interstage\n",
    "elinac.bds = ebds\n",
    "elinac.num_stages = 16"
   ]
  },
  {
   "cell_type": "markdown",
   "id": "cfcb9917-ffb3-43ff-ac23-af9bdda142c3",
   "metadata": {},
   "source": [
    "### Define the positron linac (RF)"
   ]
  },
  {
   "cell_type": "code",
   "execution_count": 3,
   "id": "392dc163-469e-4a0e-b98a-376a5d6eef02",
   "metadata": {},
   "outputs": [],
   "source": [
    "# define positron source\n",
    "psource = SourceBasic()\n",
    "psource.charge = 4e10 * SI.e # [C]\n",
    "psource.energy = 60e6 # [eV]\n",
    "psource.rel_energy_spread = 0.0015\n",
    "psource.bunch_length = 75e-6 # [m]\n",
    "psource.emit_nx, psource.emit_ny = 1e-2, 1e-2 # [m rad]\n",
    "psource.beta_x = 10 # [m]\n",
    "psource.beta_y = 10 # [m]\n",
    "psource.num_particles = esource.num_particles\n",
    "psource.wallplug_efficiency = 0.5\n",
    "psource.accel_gradient = 25e6 # [V/m]\n",
    "\n",
    "# injector\n",
    "pinjector = RFAcceleratorBasic()\n",
    "pinjector.nom_accel_gradient = 25e6 # [V/m]\n",
    "pinjector.nom_energy_gain = 2.80e9 # [V/m]\n",
    "\n",
    "# damping ring\n",
    "damping_ring = DampingRingBasic()\n",
    "damping_ring.emit_nx_target = 10e-6 # [m rad]\n",
    "damping_ring.emit_ny_target = 0.035e-6 # [m rad]\n",
    "\n",
    "# define RF accelerator\n",
    "paccel = RFAcceleratorBasic()\n",
    "paccel.nom_accel_gradient = 25e6 # [V/m]\n",
    "\n",
    "pturnaround = TurnaroundBasic()\n",
    "\n",
    "# define positron BDS\n",
    "pbds = BeamDeliverySystemBasic()\n",
    "pbds.beta_x = 3.3e-3 # [m]\n",
    "pbds.beta_y = 0.1e-3 # [m]\n",
    "\n",
    "# define positron linac\n",
    "plinac = ConventionalLinac()\n",
    "plinac.rf_injector = pinjector\n",
    "plinac.damping_ring = damping_ring\n",
    "plinac.source = psource\n",
    "plinac.rf_accelerator = paccel\n",
    "#plinac.turnaround = pturnaround\n",
    "plinac.bds = pbds"
   ]
  },
  {
   "cell_type": "markdown",
   "id": "071f9a45-3ce3-4be0-8ce4-e95697ae0af8",
   "metadata": {},
   "source": [
    "### Define the IP and collider"
   ]
  },
  {
   "cell_type": "code",
   "execution_count": 4,
   "id": "ec88ae9d-dc89-440a-811c-90700db7626f",
   "metadata": {},
   "outputs": [],
   "source": [
    "# define interaction point\n",
    "ip = InteractionPointGuineaPig()\n",
    "\n",
    "# define collider (with two different linacs)\n",
    "collider = Collider()\n",
    "collider.linac1 = elinac\n",
    "collider.linac2 = plinac\n",
    "collider.ip = ip\n",
    "collider.com_energy = 250e9\n",
    "collider.energy_asymmetry = 2.5\n",
    "collider.bunch_separation = 80e-9 # [s]\n",
    "collider.num_bunches_in_train = 200\n",
    "collider.rep_rate_trains = 100 # [Hz]"
   ]
  },
  {
   "cell_type": "markdown",
   "id": "cfdc8b72-f64a-466d-9d2c-e31c2b1bcd59",
   "metadata": {},
   "source": [
    "### Perform collider tracking"
   ]
  },
  {
   "cell_type": "code",
   "execution_count": 5,
   "id": "be147202-d55f-4d20-8f39-dabc5b536e3c",
   "metadata": {},
   "outputs": [
    {
     "name": "stdout",
     "output_type": "stream",
     "text": [
      ">> LINAC #1\n",
      "\u001b[37mTracked #0 \u001b[39m \u001b[1mSourceBasic            \u001b[21m \u001b[37m(s =\u001b[39m \u001b[1m 200.0\u001b[21m m\u001b[37m)\u001b[39m :   \u001b[37mE =\u001b[39m\u001b[1m   5.0\u001b[21m GeV\u001b[37m, Q =\u001b[39m\u001b[1m -1.60\u001b[21m nC\u001b[37m, σz =\u001b[39m \u001b[1m 18.6\u001b[21m µm\u001b[37m, σE =\u001b[39m\u001b[1m  1.0%\u001b[21m\u001b[37m, ε =\u001b[39m\u001b[1m 158.8\u001b[21m/\u001b[1m0.5\u001b[21m mm-mrad\u001b[0m\n",
      "\u001b[37m    ... #1 \u001b[39m \u001b[1mStageBasic #1          \u001b[21m \u001b[37m(s =\u001b[39m \u001b[1m 209.6\u001b[21m m\u001b[37m)\u001b[39m :   \u001b[37mE =\u001b[39m\u001b[1m  24.2\u001b[21m GeV\u001b[37m, Q =\u001b[39m\u001b[1m -1.60\u001b[21m nC\u001b[37m, σz =\u001b[39m \u001b[1m 18.6\u001b[21m µm\u001b[37m, σE =\u001b[39m\u001b[1m  0.2%\u001b[21m\u001b[37m, ε =\u001b[39m\u001b[1m 158.9\u001b[21m/\u001b[1m0.5\u001b[21m mm-mrad\u001b[0m\n",
      "\u001b[37m    ... #2 \u001b[39m \u001b[1mInterstageBasic        \u001b[21m \u001b[37m(s =\u001b[39m \u001b[1m 217.1\u001b[21m m\u001b[37m)\u001b[39m :   \u001b[37mE =\u001b[39m\u001b[1m  24.2\u001b[21m GeV\u001b[37m, Q =\u001b[39m\u001b[1m -1.60\u001b[21m nC\u001b[37m, σz =\u001b[39m \u001b[1m 18.6\u001b[21m µm\u001b[37m, σE =\u001b[39m\u001b[1m  0.2%\u001b[21m\u001b[37m, ε =\u001b[39m\u001b[1m 158.9\u001b[21m/\u001b[1m0.5\u001b[21m mm-mrad\u001b[0m\n",
      "\u001b[37m    ... #3 \u001b[39m \u001b[1mStageBasic #2          \u001b[21m \u001b[37m(s =\u001b[39m \u001b[1m 226.7\u001b[21m m\u001b[37m)\u001b[39m :   \u001b[37mE =\u001b[39m\u001b[1m  43.4\u001b[21m GeV\u001b[37m, Q =\u001b[39m\u001b[1m -1.60\u001b[21m nC\u001b[37m, σz =\u001b[39m \u001b[1m 18.6\u001b[21m µm\u001b[37m, σE =\u001b[39m\u001b[1m  0.1%\u001b[21m\u001b[37m, ε =\u001b[39m\u001b[1m 158.9\u001b[21m/\u001b[1m0.5\u001b[21m mm-mrad\u001b[0m\n",
      "\u001b[37m    ... #4 \u001b[39m \u001b[1mInterstageBasic        \u001b[21m \u001b[37m(s =\u001b[39m \u001b[1m 236.6\u001b[21m m\u001b[37m)\u001b[39m :   \u001b[37mE =\u001b[39m\u001b[1m  43.4\u001b[21m GeV\u001b[37m, Q =\u001b[39m\u001b[1m -1.60\u001b[21m nC\u001b[37m, σz =\u001b[39m \u001b[1m 18.6\u001b[21m µm\u001b[37m, σE =\u001b[39m\u001b[1m  0.1%\u001b[21m\u001b[37m, ε =\u001b[39m\u001b[1m 158.9\u001b[21m/\u001b[1m0.5\u001b[21m mm-mrad\u001b[0m\n",
      "\u001b[37m    ... #5 \u001b[39m \u001b[1mStageBasic #3          \u001b[21m \u001b[37m(s =\u001b[39m \u001b[1m 246.3\u001b[21m m\u001b[37m)\u001b[39m :   \u001b[37mE =\u001b[39m\u001b[1m  62.7\u001b[21m GeV\u001b[37m, Q =\u001b[39m\u001b[1m -1.60\u001b[21m nC\u001b[37m, σz =\u001b[39m \u001b[1m 18.6\u001b[21m µm\u001b[37m, σE =\u001b[39m\u001b[1m  0.1%\u001b[21m\u001b[37m, ε =\u001b[39m\u001b[1m 158.9\u001b[21m/\u001b[1m0.5\u001b[21m mm-mrad\u001b[0m\n",
      "\u001b[37m    ... #6 \u001b[39m \u001b[1mInterstageBasic        \u001b[21m \u001b[37m(s =\u001b[39m \u001b[1m 258.2\u001b[21m m\u001b[37m)\u001b[39m :   \u001b[37mE =\u001b[39m\u001b[1m  62.7\u001b[21m GeV\u001b[37m, Q =\u001b[39m\u001b[1m -1.60\u001b[21m nC\u001b[37m, σz =\u001b[39m \u001b[1m 18.6\u001b[21m µm\u001b[37m, σE =\u001b[39m\u001b[1m  0.1%\u001b[21m\u001b[37m, ε =\u001b[39m\u001b[1m 158.9\u001b[21m/\u001b[1m0.5\u001b[21m mm-mrad\u001b[0m\n",
      "\u001b[37m    ... #7 \u001b[39m \u001b[1mStageBasic #4          \u001b[21m \u001b[37m(s =\u001b[39m \u001b[1m 267.8\u001b[21m m\u001b[37m)\u001b[39m :   \u001b[37mE =\u001b[39m\u001b[1m  81.9\u001b[21m GeV\u001b[37m, Q =\u001b[39m\u001b[1m -1.60\u001b[21m nC\u001b[37m, σz =\u001b[39m \u001b[1m 18.6\u001b[21m µm\u001b[37m, σE =\u001b[39m\u001b[1m  0.1%\u001b[21m\u001b[37m, ε =\u001b[39m\u001b[1m 158.9\u001b[21m/\u001b[1m0.5\u001b[21m mm-mrad\u001b[0m\n",
      "\u001b[37m    ... #8 \u001b[39m \u001b[1mInterstageBasic        \u001b[21m \u001b[37m(s =\u001b[39m \u001b[1m 281.5\u001b[21m m\u001b[37m)\u001b[39m :   \u001b[37mE =\u001b[39m\u001b[1m  81.9\u001b[21m GeV\u001b[37m, Q =\u001b[39m\u001b[1m -1.60\u001b[21m nC\u001b[37m, σz =\u001b[39m \u001b[1m 18.6\u001b[21m µm\u001b[37m, σE =\u001b[39m\u001b[1m  0.1%\u001b[21m\u001b[37m, ε =\u001b[39m\u001b[1m 158.9\u001b[21m/\u001b[1m0.5\u001b[21m mm-mrad\u001b[0m\n",
      "\u001b[37m    ... #9 \u001b[39m \u001b[1mStageBasic #5          \u001b[21m \u001b[37m(s =\u001b[39m \u001b[1m 291.2\u001b[21m m\u001b[37m)\u001b[39m :   \u001b[37mE =\u001b[39m\u001b[1m 101.1\u001b[21m GeV\u001b[37m, Q =\u001b[39m\u001b[1m -1.60\u001b[21m nC\u001b[37m, σz =\u001b[39m \u001b[1m 18.6\u001b[21m µm\u001b[37m, σE =\u001b[39m\u001b[1m  0.0%\u001b[21m\u001b[37m, ε =\u001b[39m\u001b[1m 158.9\u001b[21m/\u001b[1m0.5\u001b[21m mm-mrad\u001b[0m\n",
      "\u001b[37m  > ... #10\u001b[39m \u001b[1mInterstageBasic        \u001b[21m \u001b[37m(s =\u001b[39m \u001b[1m 306.4\u001b[21m m\u001b[37m)\u001b[39m :   \u001b[37mE =\u001b[39m\u001b[1m 101.1\u001b[21m GeV\u001b[37m, Q =\u001b[39m\u001b[1m -1.60\u001b[21m nC\u001b[37m, σz =\u001b[39m \u001b[1m 18.6\u001b[21m µm\u001b[37m, σE =\u001b[39m\u001b[1m  0.0%\u001b[21m\u001b[37m, ε =\u001b[39m\u001b[1m 158.9\u001b[21m/\u001b[1m0.5\u001b[21m mm-mrad\u001b[0m\n",
      "\u001b[37m    ... #11\u001b[39m \u001b[1mStageBasic #6          \u001b[21m \u001b[37m(s =\u001b[39m \u001b[1m 316.0\u001b[21m m\u001b[37m)\u001b[39m :   \u001b[37mE =\u001b[39m\u001b[1m 120.3\u001b[21m GeV\u001b[37m, Q =\u001b[39m\u001b[1m -1.60\u001b[21m nC\u001b[37m, σz =\u001b[39m \u001b[1m 18.6\u001b[21m µm\u001b[37m, σE =\u001b[39m\u001b[1m  0.0%\u001b[21m\u001b[37m, ε =\u001b[39m\u001b[1m 158.9\u001b[21m/\u001b[1m0.5\u001b[21m mm-mrad\u001b[0m\n",
      "\u001b[37m    ... #12\u001b[39m \u001b[1mInterstageBasic        \u001b[21m \u001b[37m(s =\u001b[39m \u001b[1m 332.6\u001b[21m m\u001b[37m)\u001b[39m :   \u001b[37mE =\u001b[39m\u001b[1m 120.3\u001b[21m GeV\u001b[37m, Q =\u001b[39m\u001b[1m -1.60\u001b[21m nC\u001b[37m, σz =\u001b[39m \u001b[1m 18.6\u001b[21m µm\u001b[37m, σE =\u001b[39m\u001b[1m  0.0%\u001b[21m\u001b[37m, ε =\u001b[39m\u001b[1m 158.9\u001b[21m/\u001b[1m0.5\u001b[21m mm-mrad\u001b[0m\n",
      "\u001b[37m    ... #13\u001b[39m \u001b[1mStageBasic #7          \u001b[21m \u001b[37m(s =\u001b[39m \u001b[1m 342.2\u001b[21m m\u001b[37m)\u001b[39m :   \u001b[37mE =\u001b[39m\u001b[1m 139.5\u001b[21m GeV\u001b[37m, Q =\u001b[39m\u001b[1m -1.60\u001b[21m nC\u001b[37m, σz =\u001b[39m \u001b[1m 18.6\u001b[21m µm\u001b[37m, σE =\u001b[39m\u001b[1m  0.0%\u001b[21m\u001b[37m, ε =\u001b[39m\u001b[1m 158.9\u001b[21m/\u001b[1m0.5\u001b[21m mm-mrad\u001b[0m\n",
      "\u001b[37m    ... #14\u001b[39m \u001b[1mInterstageBasic        \u001b[21m \u001b[37m(s =\u001b[39m \u001b[1m 360.1\u001b[21m m\u001b[37m)\u001b[39m :   \u001b[37mE =\u001b[39m\u001b[1m 139.5\u001b[21m GeV\u001b[37m, Q =\u001b[39m\u001b[1m -1.60\u001b[21m nC\u001b[37m, σz =\u001b[39m \u001b[1m 18.6\u001b[21m µm\u001b[37m, σE =\u001b[39m\u001b[1m  0.0%\u001b[21m\u001b[37m, ε =\u001b[39m\u001b[1m 158.9\u001b[21m/\u001b[1m0.5\u001b[21m mm-mrad\u001b[0m\n",
      "\u001b[37m    ... #15\u001b[39m \u001b[1mStageBasic #8          \u001b[21m \u001b[37m(s =\u001b[39m \u001b[1m 369.7\u001b[21m m\u001b[37m)\u001b[39m :   \u001b[37mE =\u001b[39m\u001b[1m 158.7\u001b[21m GeV\u001b[37m, Q =\u001b[39m\u001b[1m -1.60\u001b[21m nC\u001b[37m, σz =\u001b[39m \u001b[1m 18.6\u001b[21m µm\u001b[37m, σE =\u001b[39m\u001b[1m  0.0%\u001b[21m\u001b[37m, ε =\u001b[39m\u001b[1m 158.9\u001b[21m/\u001b[1m0.5\u001b[21m mm-mrad\u001b[0m\n",
      "\u001b[37m    ... #16\u001b[39m \u001b[1mInterstageBasic        \u001b[21m \u001b[37m(s =\u001b[39m \u001b[1m 388.8\u001b[21m m\u001b[37m)\u001b[39m :   \u001b[37mE =\u001b[39m\u001b[1m 158.7\u001b[21m GeV\u001b[37m, Q =\u001b[39m\u001b[1m -1.60\u001b[21m nC\u001b[37m, σz =\u001b[39m \u001b[1m 18.6\u001b[21m µm\u001b[37m, σE =\u001b[39m\u001b[1m  0.0%\u001b[21m\u001b[37m, ε =\u001b[39m\u001b[1m 158.9\u001b[21m/\u001b[1m0.5\u001b[21m mm-mrad\u001b[0m\n",
      "\u001b[37m    ... #17\u001b[39m \u001b[1mStageBasic #9          \u001b[21m \u001b[37m(s =\u001b[39m \u001b[1m 398.4\u001b[21m m\u001b[37m)\u001b[39m :   \u001b[37mE =\u001b[39m\u001b[1m 178.0\u001b[21m GeV\u001b[37m, Q =\u001b[39m\u001b[1m -1.60\u001b[21m nC\u001b[37m, σz =\u001b[39m \u001b[1m 18.6\u001b[21m µm\u001b[37m, σE =\u001b[39m\u001b[1m  0.0%\u001b[21m\u001b[37m, ε =\u001b[39m\u001b[1m 158.9\u001b[21m/\u001b[1m0.5\u001b[21m mm-mrad\u001b[0m\n",
      "\u001b[37m    ... #18\u001b[39m \u001b[1mInterstageBasic        \u001b[21m \u001b[37m(s =\u001b[39m \u001b[1m 418.6\u001b[21m m\u001b[37m)\u001b[39m :   \u001b[37mE =\u001b[39m\u001b[1m 178.0\u001b[21m GeV\u001b[37m, Q =\u001b[39m\u001b[1m -1.60\u001b[21m nC\u001b[37m, σz =\u001b[39m \u001b[1m 18.6\u001b[21m µm\u001b[37m, σE =\u001b[39m\u001b[1m  0.0%\u001b[21m\u001b[37m, ε =\u001b[39m\u001b[1m 158.9\u001b[21m/\u001b[1m0.5\u001b[21m mm-mrad\u001b[0m\n",
      "\u001b[37m    ... #19\u001b[39m \u001b[1mStageBasic #10         \u001b[21m \u001b[37m(s =\u001b[39m \u001b[1m 428.2\u001b[21m m\u001b[37m)\u001b[39m :   \u001b[37mE =\u001b[39m\u001b[1m 197.2\u001b[21m GeV\u001b[37m, Q =\u001b[39m\u001b[1m -1.60\u001b[21m nC\u001b[37m, σz =\u001b[39m \u001b[1m 18.6\u001b[21m µm\u001b[37m, σE =\u001b[39m\u001b[1m  0.0%\u001b[21m\u001b[37m, ε =\u001b[39m\u001b[1m 158.9\u001b[21m/\u001b[1m0.6\u001b[21m mm-mrad\u001b[0m\n",
      "\u001b[37m  > ... #20\u001b[39m \u001b[1mInterstageBasic        \u001b[21m \u001b[37m(s =\u001b[39m \u001b[1m 449.4\u001b[21m m\u001b[37m)\u001b[39m :   \u001b[37mE =\u001b[39m\u001b[1m 197.2\u001b[21m GeV\u001b[37m, Q =\u001b[39m\u001b[1m -1.60\u001b[21m nC\u001b[37m, σz =\u001b[39m \u001b[1m 18.6\u001b[21m µm\u001b[37m, σE =\u001b[39m\u001b[1m  0.0%\u001b[21m\u001b[37m, ε =\u001b[39m\u001b[1m 158.9\u001b[21m/\u001b[1m0.6\u001b[21m mm-mrad\u001b[0m\n",
      "\u001b[37m    ... #21\u001b[39m \u001b[1mStageBasic #11         \u001b[21m \u001b[37m(s =\u001b[39m \u001b[1m 459.1\u001b[21m m\u001b[37m)\u001b[39m :   \u001b[37mE =\u001b[39m\u001b[1m 216.4\u001b[21m GeV\u001b[37m, Q =\u001b[39m\u001b[1m -1.60\u001b[21m nC\u001b[37m, σz =\u001b[39m \u001b[1m 18.6\u001b[21m µm\u001b[37m, σE =\u001b[39m\u001b[1m  0.0%\u001b[21m\u001b[37m, ε =\u001b[39m\u001b[1m 158.9\u001b[21m/\u001b[1m0.6\u001b[21m mm-mrad\u001b[0m\n",
      "\u001b[37m    ... #22\u001b[39m \u001b[1mInterstageBasic        \u001b[21m \u001b[37m(s =\u001b[39m \u001b[1m 481.3\u001b[21m m\u001b[37m)\u001b[39m :   \u001b[37mE =\u001b[39m\u001b[1m 216.4\u001b[21m GeV\u001b[37m, Q =\u001b[39m\u001b[1m -1.60\u001b[21m nC\u001b[37m, σz =\u001b[39m \u001b[1m 18.6\u001b[21m µm\u001b[37m, σE =\u001b[39m\u001b[1m  0.0%\u001b[21m\u001b[37m, ε =\u001b[39m\u001b[1m 158.9\u001b[21m/\u001b[1m0.6\u001b[21m mm-mrad\u001b[0m\n",
      "\u001b[37m    ... #23\u001b[39m \u001b[1mStageBasic #12         \u001b[21m \u001b[37m(s =\u001b[39m \u001b[1m 490.9\u001b[21m m\u001b[37m)\u001b[39m :   \u001b[37mE =\u001b[39m\u001b[1m 235.6\u001b[21m GeV\u001b[37m, Q =\u001b[39m\u001b[1m -1.60\u001b[21m nC\u001b[37m, σz =\u001b[39m \u001b[1m 18.6\u001b[21m µm\u001b[37m, σE =\u001b[39m\u001b[1m  0.0%\u001b[21m\u001b[37m, ε =\u001b[39m\u001b[1m 158.9\u001b[21m/\u001b[1m0.6\u001b[21m mm-mrad\u001b[0m\n",
      "\u001b[37m    ... #24\u001b[39m \u001b[1mInterstageBasic        \u001b[21m \u001b[37m(s =\u001b[39m \u001b[1m 514.2\u001b[21m m\u001b[37m)\u001b[39m :   \u001b[37mE =\u001b[39m\u001b[1m 235.6\u001b[21m GeV\u001b[37m, Q =\u001b[39m\u001b[1m -1.60\u001b[21m nC\u001b[37m, σz =\u001b[39m \u001b[1m 18.6\u001b[21m µm\u001b[37m, σE =\u001b[39m\u001b[1m  0.0%\u001b[21m\u001b[37m, ε =\u001b[39m\u001b[1m 158.9\u001b[21m/\u001b[1m0.6\u001b[21m mm-mrad\u001b[0m\n",
      "\u001b[37m    ... #25\u001b[39m \u001b[1mStageBasic #13         \u001b[21m \u001b[37m(s =\u001b[39m \u001b[1m 523.8\u001b[21m m\u001b[37m)\u001b[39m :   \u001b[37mE =\u001b[39m\u001b[1m 254.8\u001b[21m GeV\u001b[37m, Q =\u001b[39m\u001b[1m -1.60\u001b[21m nC\u001b[37m, σz =\u001b[39m \u001b[1m 18.6\u001b[21m µm\u001b[37m, σE =\u001b[39m\u001b[1m  0.0%\u001b[21m\u001b[37m, ε =\u001b[39m\u001b[1m 158.9\u001b[21m/\u001b[1m0.6\u001b[21m mm-mrad\u001b[0m\n",
      "\u001b[37m    ... #26\u001b[39m \u001b[1mInterstageBasic        \u001b[21m \u001b[37m(s =\u001b[39m \u001b[1m 548.0\u001b[21m m\u001b[37m)\u001b[39m :   \u001b[37mE =\u001b[39m\u001b[1m 254.8\u001b[21m GeV\u001b[37m, Q =\u001b[39m\u001b[1m -1.60\u001b[21m nC\u001b[37m, σz =\u001b[39m \u001b[1m 18.6\u001b[21m µm\u001b[37m, σE =\u001b[39m\u001b[1m  0.0%\u001b[21m\u001b[37m, ε =\u001b[39m\u001b[1m 158.9\u001b[21m/\u001b[1m0.6\u001b[21m mm-mrad\u001b[0m\n",
      "\u001b[37m    ... #27\u001b[39m \u001b[1mStageBasic #14         \u001b[21m \u001b[37m(s =\u001b[39m \u001b[1m 557.6\u001b[21m m\u001b[37m)\u001b[39m :   \u001b[37mE =\u001b[39m\u001b[1m 274.1\u001b[21m GeV\u001b[37m, Q =\u001b[39m\u001b[1m -1.60\u001b[21m nC\u001b[37m, σz =\u001b[39m \u001b[1m 18.6\u001b[21m µm\u001b[37m, σE =\u001b[39m\u001b[1m  0.0%\u001b[21m\u001b[37m, ε =\u001b[39m\u001b[1m 158.9\u001b[21m/\u001b[1m0.6\u001b[21m mm-mrad\u001b[0m\n",
      "\u001b[37m    ... #28\u001b[39m \u001b[1mInterstageBasic        \u001b[21m \u001b[37m(s =\u001b[39m \u001b[1m 582.6\u001b[21m m\u001b[37m)\u001b[39m :   \u001b[37mE =\u001b[39m\u001b[1m 274.1\u001b[21m GeV\u001b[37m, Q =\u001b[39m\u001b[1m -1.60\u001b[21m nC\u001b[37m, σz =\u001b[39m \u001b[1m 18.6\u001b[21m µm\u001b[37m, σE =\u001b[39m\u001b[1m  0.0%\u001b[21m\u001b[37m, ε =\u001b[39m\u001b[1m 158.9\u001b[21m/\u001b[1m0.6\u001b[21m mm-mrad\u001b[0m\n",
      "\u001b[37m    ... #29\u001b[39m \u001b[1mStageBasic #15         \u001b[21m \u001b[37m(s =\u001b[39m \u001b[1m 592.2\u001b[21m m\u001b[37m)\u001b[39m :   \u001b[37mE =\u001b[39m\u001b[1m 293.3\u001b[21m GeV\u001b[37m, Q =\u001b[39m\u001b[1m -1.60\u001b[21m nC\u001b[37m, σz =\u001b[39m \u001b[1m 18.6\u001b[21m µm\u001b[37m, σE =\u001b[39m\u001b[1m  0.0%\u001b[21m\u001b[37m, ε =\u001b[39m\u001b[1m 158.9\u001b[21m/\u001b[1m0.6\u001b[21m mm-mrad\u001b[0m\n",
      "\u001b[37m  > ... #30\u001b[39m \u001b[1mInterstageBasic        \u001b[21m \u001b[37m(s =\u001b[39m \u001b[1m 618.2\u001b[21m m\u001b[37m)\u001b[39m :   \u001b[37mE =\u001b[39m\u001b[1m 293.3\u001b[21m GeV\u001b[37m, Q =\u001b[39m\u001b[1m -1.60\u001b[21m nC\u001b[37m, σz =\u001b[39m \u001b[1m 18.6\u001b[21m µm\u001b[37m, σE =\u001b[39m\u001b[1m  0.0%\u001b[21m\u001b[37m, ε =\u001b[39m\u001b[1m 158.9\u001b[21m/\u001b[1m0.6\u001b[21m mm-mrad\u001b[0m\n",
      "\u001b[37m    ... #31\u001b[39m \u001b[1mStageBasic #16         \u001b[21m \u001b[37m(s =\u001b[39m \u001b[1m 627.8\u001b[21m m\u001b[37m)\u001b[39m :   \u001b[37mE =\u001b[39m\u001b[1m 312.5\u001b[21m GeV\u001b[37m, Q =\u001b[39m\u001b[1m -1.60\u001b[21m nC\u001b[37m, σz =\u001b[39m \u001b[1m 18.6\u001b[21m µm\u001b[37m, σE =\u001b[39m\u001b[1m  0.0%\u001b[21m\u001b[37m, ε =\u001b[39m\u001b[1m 158.9\u001b[21m/\u001b[1m0.6\u001b[21m mm-mrad\u001b[0m\n",
      "\u001b[37m    ... #32\u001b[39m \u001b[1mBeamDeliverySystemBasic\u001b[21m \u001b[37m(s =\u001b[39m \u001b[1m2406.6\u001b[21m m\u001b[37m)\u001b[39m :   \u001b[37mE =\u001b[39m\u001b[1m 312.5\u001b[21m GeV\u001b[37m, Q =\u001b[39m\u001b[1m -1.60\u001b[21m nC\u001b[37m, σz =\u001b[39m \u001b[1m 75.0\u001b[21m µm\u001b[37m, σE =\u001b[39m\u001b[1m  0.0%\u001b[21m\u001b[37m, ε =\u001b[39m\u001b[1m 158.9\u001b[21m/\u001b[1m0.6\u001b[21m mm-mrad\u001b[0m\n",
      ">> LINAC #2\n",
      "\u001b[37mTracked #0 \u001b[39m \u001b[1mSourceBasic            \u001b[21m \u001b[37m(s =\u001b[39m \u001b[1m   2.4\u001b[21m m\u001b[37m)\u001b[39m :   \u001b[37mE =\u001b[39m\u001b[1m   0.1\u001b[21m GeV\u001b[37m, Q =\u001b[39m\u001b[1m  6.41\u001b[21m nC\u001b[37m, σz =\u001b[39m \u001b[1m 75.8\u001b[21m µm\u001b[37m, σE =\u001b[39m\u001b[1m  0.2%\u001b[21m\u001b[37m, ε =\u001b[39m\u001b[1m10340.1\u001b[21m/\u001b[1m10398.6\u001b[21m mm-mrad\u001b[0m\n",
      "\u001b[37m    ... #1 \u001b[39m \u001b[1mRFAcceleratorBasic     \u001b[21m \u001b[37m(s =\u001b[39m \u001b[1m 114.4\u001b[21m m\u001b[37m)\u001b[39m :   \u001b[37mE =\u001b[39m\u001b[1m   2.9\u001b[21m GeV\u001b[37m, Q =\u001b[39m\u001b[1m  6.41\u001b[21m nC\u001b[37m, σz =\u001b[39m \u001b[1m 75.8\u001b[21m µm\u001b[37m, σE =\u001b[39m\u001b[1m  0.0%\u001b[21m\u001b[37m, ε =\u001b[39m\u001b[1m10340.1\u001b[21m/\u001b[1m10398.6\u001b[21m mm-mrad\u001b[0m\n",
      "\u001b[37m    ... #2 \u001b[39m \u001b[1mDampingRingBasic       \u001b[21m \u001b[37m(s =\u001b[39m \u001b[1m 114.4\u001b[21m m\u001b[37m)\u001b[39m :   \u001b[37mE =\u001b[39m\u001b[1m   2.9\u001b[21m GeV\u001b[37m, Q =\u001b[39m\u001b[1m  6.41\u001b[21m nC\u001b[37m, σz =\u001b[39m \u001b[1m 75.8\u001b[21m µm\u001b[37m, σE =\u001b[39m\u001b[1m  0.0%\u001b[21m\u001b[37m, ε =\u001b[39m\u001b[1m  10.0\u001b[21m/\u001b[1m0.0\u001b[21m mm-mrad\u001b[0m\n",
      "\u001b[37m    ... #3 \u001b[39m \u001b[1mRFAcceleratorBasic     \u001b[21m \u001b[37m(s =\u001b[39m \u001b[1m2000.0\u001b[21m m\u001b[37m)\u001b[39m :   \u001b[37mE =\u001b[39m\u001b[1m  50.0\u001b[21m GeV\u001b[37m, Q =\u001b[39m\u001b[1m  6.41\u001b[21m nC\u001b[37m, σz =\u001b[39m \u001b[1m 75.8\u001b[21m µm\u001b[37m, σE =\u001b[39m\u001b[1m  0.0%\u001b[21m\u001b[37m, ε =\u001b[39m\u001b[1m  10.0\u001b[21m/\u001b[1m0.0\u001b[21m mm-mrad\u001b[0m\n",
      "\u001b[37m    ... #4 \u001b[39m \u001b[1mBeamDeliverySystemBasic\u001b[21m \u001b[37m(s =\u001b[39m \u001b[1m2711.5\u001b[21m m\u001b[37m)\u001b[39m :   \u001b[37mE =\u001b[39m\u001b[1m  50.0\u001b[21m GeV\u001b[37m, Q =\u001b[39m\u001b[1m  6.41\u001b[21m nC\u001b[37m, σz =\u001b[39m \u001b[1m 75.8\u001b[21m µm\u001b[37m, σE =\u001b[39m\u001b[1m  0.0%\u001b[21m\u001b[37m, ε =\u001b[39m\u001b[1m  10.0\u001b[21m/\u001b[1m0.0\u001b[21m mm-mrad\u001b[0m\n",
      ">> INTERACTION POINT\n",
      ">> EVENT 1-1: Luminosity (full/peak/geom.): 0.325 / 0.169 / 0.32 μb^-1\n"
     ]
    }
   ],
   "source": [
    "# track particles\n",
    "collider.run('collider_example', num_shots=1, overwrite=True);"
   ]
  },
  {
   "cell_type": "code",
   "execution_count": 6,
   "id": "c3f39745-17ad-4f74-a301-cb55066d7fb3",
   "metadata": {},
   "outputs": [
    {
     "name": "stdout",
     "output_type": "stream",
     "text": [
      "-- COSTS -----------------------------------------\n",
      "-- Construction: 4289 MILCU\n",
      "   -- Plasma linac: 2902 MILCU\n",
      "      -- Driver complex: 2601 MILCU\n",
      "         -- Source: 9 MILCU\n",
      "         -- RF accelerator: 1425 MILCU\n",
      "            -- RF structures (5598x): 684 MILCU\n",
      "            -- Klystrons and modulators (1120x): 741 MILCU\n",
      "         -- Turnaround: 754 MILCU\n",
      "         -- Civil construction: 413 MILCU\n",
      "      -- Source: 9 MILCU\n",
      "      -- Plasma stages (16x): 31 MILCU\n",
      "      -- Interstages: 27 MILCU\n",
      "      -- BDS: 89 MILCU\n",
      "      -- Civil construction: 144 MILCU\n",
      "   -- RF linac: 1337 MILCU\n",
      "      -- Source: 9 MILCU\n",
      "      -- RF injector: 75 MILCU\n",
      "      -- Damping ring: 96 MILCU\n",
      "         -- Ring components: 60 MILCU\n",
      "         -- Civil construction: 36 MILCU\n",
      "      -- RF accelerator: 958 MILCU\n",
      "         -- RF structures (3394x): 415 MILCU\n",
      "         -- Klystrons and modulators (679x): 543 MILCU\n",
      "      -- BDS: 36 MILCU\n",
      "      -- Civil construction: 163 MILCU\n",
      "   -- Interaction point: 50 MILCU\n",
      "-- Overheads: 2230 MILCU\n",
      "   -- Design/development: 429 MILCU\n",
      "   -- Constrols/cabling: 643 MILCU\n",
      "   -- Installation/commissioning: 643 MILCU\n",
      "   -- Management/inspection: 515 MILCU\n",
      "-- Energy: 3104 MILCU\n",
      "-- Maintenance: 403 MILCU\n",
      "-- Carbon tax: 313 MILCU\n",
      "--------------------------------------------------\n",
      "-- Total: 10.34 BILCU\n",
      "--------------------------------------------------\n"
     ]
    }
   ],
   "source": [
    "collider.print_cost()"
   ]
  },
  {
   "cell_type": "code",
   "execution_count": 7,
   "id": "182e634c-fcd1-451b-9a7c-368e4b5cd21f",
   "metadata": {},
   "outputs": [
    {
     "data": {
      "text/plain": [
       "167253534.94172716"
      ]
     },
     "execution_count": 7,
     "metadata": {},
     "output_type": "execute_result"
    }
   ],
   "source": [
    "#collider.print_power()\n",
    "collider.linac1.driver_complex.wallplug_power()"
   ]
  },
  {
   "cell_type": "code",
   "execution_count": 8,
   "id": "91af3bb7-c76e-4522-9b50-be5c1464d92e",
   "metadata": {},
   "outputs": [
    {
     "name": "stdout",
     "output_type": "stream",
     "text": [
      "-- EMISSIONS ------------------------------------\n",
      ">> Construction emissions (12.6 km): 80 kton CO2e\n",
      ">> Operation emissions (15.5 TWh):   310 kton CO2e\n",
      "-------------------------------------------------\n",
      ">> Total emissions:                 391 kton CO2e\n",
      "-------------------------------------------------\n"
     ]
    }
   ],
   "source": [
    "collider.print_emissions()"
   ]
  },
  {
   "cell_type": "code",
   "execution_count": 9,
   "id": "c794b4f0-a5ca-49de-886c-96cb3076bc9a",
   "metadata": {},
   "outputs": [
    {
     "data": {
      "image/png": "[encoded data removed]",
      "text/plain": [
       "<Figure size 2000x400 with 1 Axes>"
      ]
     },
     "metadata": {},
     "output_type": "display_data"
    }
   ],
   "source": [
    "collider.linac1.plot_survey()"
   ]
  },
  {
   "cell_type": "code",
   "execution_count": 10,
   "id": "c50bff00-2790-4fbb-b4de-7be36634c6d7",
   "metadata": {},
   "outputs": [
    {
     "data": {
      "image/png": "[encoded data removed]",
      "text/plain": [
       "<Figure size 2000x400 with 1 Axes>"
      ]
     },
     "metadata": {},
     "output_type": "display_data"
    }
   ],
   "source": [
    "collider.linac2.plot_survey()"
   ]
  },
  {
   "cell_type": "code",
   "execution_count": 11,
   "id": "4beb1991-7934-45f7-bb38-e4021bdcd60f",
   "metadata": {
    "scrolled": true
   },
   "outputs": [
    {
     "ename": "SyntaxError",
     "evalue": "'return' outside function (1461379684.py, line 1)",
     "output_type": "error",
     "traceback": [
      "\u001b[0;36m  Cell \u001b[0;32mIn[11], line 1\u001b[0;36m\u001b[0m\n\u001b[0;31m    return\u001b[0m\n\u001b[0m    ^\u001b[0m\n\u001b[0;31mSyntaxError\u001b[0m\u001b[0;31m:\u001b[0m 'return' outside function\n"
     ]
    }
   ],
   "source": [
    "return\n",
    "collider.optimize('collider_optimization', \n",
    "                    parameters=[{'name': 'energy_asymmetry', 'type': 'range', 'bounds': [1.0, 4.0], 'log_scale': True, 'value_type': 'float'}, \n",
    "                                {'name': 'linac1.num_stages', 'type': 'range', 'bounds': [5, 50], 'log_scale': True, 'value_type': 'int'}], \n",
    "                    merit_fcn=Collider.full_programme_cost,\n",
    "                    label='Collider cost', \n",
    "                    num_shots_per_step=2,\n",
    "                    num_steps=30, parallel=False, overwrite=True)"
   ]
  },
  {
   "cell_type": "markdown",
   "id": "60e0936f-3a73-42b4-adde-bcbd9f063adc",
   "metadata": {},
   "source": [
    "### Plot the wakefield structure"
   ]
  },
  {
   "cell_type": "code",
   "execution_count": null,
   "id": "317584ee-c609-4dd0-a215-6779ac33cb2f",
   "metadata": {},
   "outputs": [],
   "source": [
    "# plot wakefield\n",
    "elinac.stage.plot_wake()"
   ]
  },
  {
   "cell_type": "markdown",
   "id": "45f35b93-0f19-4d83-97a0-3a162856609d",
   "metadata": {},
   "source": [
    "### Plot the beam evolution in the linac"
   ]
  },
  {
   "cell_type": "code",
   "execution_count": null,
   "id": "e42586cb-ae0f-43e6-b0be-4cfbf66be43b",
   "metadata": {},
   "outputs": [],
   "source": [
    "# plot beam evolution and linac survey\n",
    "elinac.plot_survey()\n",
    "elinac.plot_evolution(use_stage_nums=False)"
   ]
  },
  {
   "cell_type": "code",
   "execution_count": null,
   "id": "93b70131-d1c6-4930-aa66-9112dd93402c",
   "metadata": {},
   "outputs": [],
   "source": [
    "elinac.plot_waterfalls()"
   ]
  },
  {
   "cell_type": "markdown",
   "id": "fc54db55-7b11-486d-8d6c-5cf38e59e745",
   "metadata": {},
   "source": [
    "### Plot the collider luminosity"
   ]
  },
  {
   "cell_type": "code",
   "execution_count": null,
   "id": "9cf17fab-7766-4b57-bd75-04ad68846220",
   "metadata": {
    "tags": []
   },
   "outputs": [],
   "source": [
    "# plot luminosity\n",
    "collider.plot_luminosity()\n",
    "\n",
    "# plot luminosity per power\n",
    "collider.plot_luminosity_per_power()"
   ]
  },
  {
   "cell_type": "code",
   "execution_count": null,
   "id": "b10b6b0b-ed2e-484c-98f5-e06c7f16a6e3",
   "metadata": {},
   "outputs": [],
   "source": []
  }
 ],
 "metadata": {
  "kernelspec": {
   "display_name": "Python 3 (ipykernel)",
   "language": "python",
   "name": "python3"
  },
  "language_info": {
   "codemirror_mode": {
    "name": "ipython",
    "version": 3
   },
   "file_extension": ".py",
   "mimetype": "text/x-python",
   "name": "python",
   "nbconvert_exporter": "python",
   "pygments_lexer": "ipython3",
   "version": "3.9.12"
  }
 },
 "nbformat": 4,
 "nbformat_minor": 5
}
