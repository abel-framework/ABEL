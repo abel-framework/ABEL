{
 "cells": [
  {
   "cell_type": "code",
   "execution_count": null,
   "id": "e290fd8e-eb5a-4a89-90d3-77765398b1c9",
   "metadata": {},
   "outputs": [
    {
     "name": "stdout",
     "output_type": "stream",
     "text": [
      ">> LINAC #1\n",
      ">> SHOT #1\n",
      "Tracking element #1 (s = 0.5 m, SourceBasic, stage 0)\n"
     ]
    },
    {
     "name": "stderr",
     "output_type": "stream",
     "text": [
      "/Users/carlal/Library/jupyterlab-desktop/jlab_server/lib/python3.8/site-packages/scipy/integrate/_odepack_py.py:247: ODEintWarning: Excess work done on this call (perhaps wrong Dfun type). Run with full_output = 1 to get quantitative information.\n",
      "  warnings.warn(warning_msg, ODEintWarning)\n"
     ]
    },
    {
     "name": "stdout",
     "output_type": "stream",
     "text": [
      "Tracking element #2 (s = 1.3 m, StageNonlinear1D, stage 1)\n",
      "Tracking element #3 (s = 4.83 m, InterstageELEGANT, stage 1)\n"
     ]
    },
    {
     "name": "stderr",
     "output_type": "stream",
     "text": [
      "/Users/carlal/Library/jupyterlab-desktop/jlab_server/lib/python3.8/site-packages/scipy/integrate/_odepack_py.py:247: ODEintWarning: Excess work done on this call (perhaps wrong Dfun type). Run with full_output = 1 to get quantitative information.\n",
      "  warnings.warn(warning_msg, ODEintWarning)\n"
     ]
    },
    {
     "name": "stdout",
     "output_type": "stream",
     "text": [
      "Tracking element #4 (s = 5.63 m, StageNonlinear1D, stage 2)\n",
      "Tracking element #5 (s = 10.17 m, InterstageELEGANT, stage 2)\n"
     ]
    },
    {
     "name": "stderr",
     "output_type": "stream",
     "text": [
      "/Users/carlal/Library/jupyterlab-desktop/jlab_server/lib/python3.8/site-packages/scipy/integrate/_odepack_py.py:247: ODEintWarning: Excess work done on this call (perhaps wrong Dfun type). Run with full_output = 1 to get quantitative information.\n",
      "  warnings.warn(warning_msg, ODEintWarning)\n"
     ]
    },
    {
     "name": "stdout",
     "output_type": "stream",
     "text": [
      "Tracking element #6 (s = 10.97 m, StageNonlinear1D, stage 3)\n",
      "Tracking element #7 (s = 16.32 m, InterstageELEGANT, stage 3)\n"
     ]
    },
    {
     "name": "stderr",
     "output_type": "stream",
     "text": [
      "/Users/carlal/Library/jupyterlab-desktop/jlab_server/lib/python3.8/site-packages/scipy/integrate/_odepack_py.py:247: ODEintWarning: Excess work done on this call (perhaps wrong Dfun type). Run with full_output = 1 to get quantitative information.\n",
      "  warnings.warn(warning_msg, ODEintWarning)\n"
     ]
    },
    {
     "name": "stdout",
     "output_type": "stream",
     "text": [
      "Tracking element #8 (s = 17.12 m, StageNonlinear1D, stage 4)\n",
      "Tracking element #9 (s = 23.18 m, InterstageELEGANT, stage 4)\n"
     ]
    },
    {
     "name": "stderr",
     "output_type": "stream",
     "text": [
      "/Users/carlal/Library/jupyterlab-desktop/jlab_server/lib/python3.8/site-packages/scipy/integrate/_odepack_py.py:247: ODEintWarning: Excess work done on this call (perhaps wrong Dfun type). Run with full_output = 1 to get quantitative information.\n",
      "  warnings.warn(warning_msg, ODEintWarning)\n"
     ]
    },
    {
     "name": "stdout",
     "output_type": "stream",
     "text": [
      "Tracking element #10 (s = 23.98 m, StageNonlinear1D, stage 5)\n",
      "Tracking element #11 (s = 30.67 m, InterstageELEGANT, stage 5)\n"
     ]
    },
    {
     "name": "stderr",
     "output_type": "stream",
     "text": [
      "/Users/carlal/Library/jupyterlab-desktop/jlab_server/lib/python3.8/site-packages/scipy/integrate/_odepack_py.py:247: ODEintWarning: Excess work done on this call (perhaps wrong Dfun type). Run with full_output = 1 to get quantitative information.\n",
      "  warnings.warn(warning_msg, ODEintWarning)\n"
     ]
    },
    {
     "name": "stdout",
     "output_type": "stream",
     "text": [
      "Tracking element #12 (s = 31.47 m, StageNonlinear1D, stage 6)\n",
      "Tracking element #13 (s = 38.74 m, InterstageELEGANT, stage 6)\n"
     ]
    },
    {
     "name": "stderr",
     "output_type": "stream",
     "text": [
      "/Users/carlal/Library/jupyterlab-desktop/jlab_server/lib/python3.8/site-packages/scipy/integrate/_odepack_py.py:247: ODEintWarning: Excess work done on this call (perhaps wrong Dfun type). Run with full_output = 1 to get quantitative information.\n",
      "  warnings.warn(warning_msg, ODEintWarning)\n"
     ]
    },
    {
     "name": "stdout",
     "output_type": "stream",
     "text": [
      "Tracking element #14 (s = 39.54 m, StageNonlinear1D, stage 7)\n",
      "Tracking element #15 (s = 47.34 m, InterstageELEGANT, stage 7)\n"
     ]
    },
    {
     "name": "stderr",
     "output_type": "stream",
     "text": [
      "/Users/carlal/Library/jupyterlab-desktop/jlab_server/lib/python3.8/site-packages/scipy/integrate/_odepack_py.py:247: ODEintWarning: Excess work done on this call (perhaps wrong Dfun type). Run with full_output = 1 to get quantitative information.\n",
      "  warnings.warn(warning_msg, ODEintWarning)\n"
     ]
    },
    {
     "name": "stdout",
     "output_type": "stream",
     "text": [
      "Tracking element #16 (s = 48.14 m, StageNonlinear1D, stage 8)\n",
      "Tracking element #17 (s = 56.45 m, InterstageELEGANT, stage 8)\n"
     ]
    },
    {
     "name": "stderr",
     "output_type": "stream",
     "text": [
      "/Users/carlal/Library/jupyterlab-desktop/jlab_server/lib/python3.8/site-packages/scipy/integrate/_odepack_py.py:247: ODEintWarning: Excess work done on this call (perhaps wrong Dfun type). Run with full_output = 1 to get quantitative information.\n",
      "  warnings.warn(warning_msg, ODEintWarning)\n"
     ]
    },
    {
     "name": "stdout",
     "output_type": "stream",
     "text": [
      "Tracking element #18 (s = 57.25 m, StageNonlinear1D, stage 9)\n",
      "Tracking element #19 (s = 66.03 m, InterstageELEGANT, stage 9)\n"
     ]
    },
    {
     "name": "stderr",
     "output_type": "stream",
     "text": [
      "/Users/carlal/Library/jupyterlab-desktop/jlab_server/lib/python3.8/site-packages/scipy/integrate/_odepack_py.py:247: ODEintWarning: Excess work done on this call (perhaps wrong Dfun type). Run with full_output = 1 to get quantitative information.\n",
      "  warnings.warn(warning_msg, ODEintWarning)\n"
     ]
    },
    {
     "name": "stdout",
     "output_type": "stream",
     "text": [
      "Tracking element #20 (s = 66.83 m, StageNonlinear1D, stage 10)\n",
      "Tracking element #21 (s = 76.06 m, InterstageELEGANT, stage 10)\n"
     ]
    },
    {
     "name": "stderr",
     "output_type": "stream",
     "text": [
      "/Users/carlal/Library/jupyterlab-desktop/jlab_server/lib/python3.8/site-packages/scipy/integrate/_odepack_py.py:247: ODEintWarning: Excess work done on this call (perhaps wrong Dfun type). Run with full_output = 1 to get quantitative information.\n",
      "  warnings.warn(warning_msg, ODEintWarning)\n"
     ]
    },
    {
     "name": "stdout",
     "output_type": "stream",
     "text": [
      "Tracking element #22 (s = 76.86 m, StageNonlinear1D, stage 11)\n",
      "Tracking element #23 (s = 86.51 m, InterstageELEGANT, stage 11)\n"
     ]
    },
    {
     "name": "stderr",
     "output_type": "stream",
     "text": [
      "/Users/carlal/Library/jupyterlab-desktop/jlab_server/lib/python3.8/site-packages/scipy/integrate/_odepack_py.py:247: ODEintWarning: Excess work done on this call (perhaps wrong Dfun type). Run with full_output = 1 to get quantitative information.\n",
      "  warnings.warn(warning_msg, ODEintWarning)\n"
     ]
    }
   ],
   "source": [
    "import sys\n",
    "sys.path.append('../')\n",
    "from opal import SourceBasic, StageNonlinear1D, InterstageELEGANT, BeamDeliverySystemBasic, Linac, Collider, InteractionPointGUINEAPIG\n",
    "from opal.utilities.plasmaphysics import beta_matched\n",
    "import numpy as np\n",
    "\n",
    "\n",
    "# define stage\n",
    "stage = StageNonlinear1D()\n",
    "stage.deltaE = 5.5e9 # [eV]\n",
    "stage.L = 0.8 # [m]\n",
    "stage.n0 = 1e22 # [m^-3]\n",
    "stage.kRb = 2.5\n",
    "\n",
    "# define beam\n",
    "source = SourceBasic()\n",
    "source.L = 0.5 # [m]\n",
    "source.Q = -1e-9 # [C]\n",
    "source.E0 = 3e9 # [eV]\n",
    "source.sigE = 0.01*source.E0 # [eV]\n",
    "source.sigz = 8e-6 # [m]\n",
    "source.z = -79.5e-6 # [m]\n",
    "source.emitnx = 1e-6 # [m rad]\n",
    "source.emitny = 0.03e-6 # [m rad]\n",
    "source.betax = beta_matched(stage.n0, source.E0) # [m]\n",
    "source.betay = source.betax\n",
    "source.Npart = 2000\n",
    "\n",
    "# define interstage\n",
    "interstage = InterstageELEGANT()\n",
    "interstage.beta0 = lambda E: beta_matched(stage.n0, E) # [T]\n",
    "interstage.Bdip = 0.5 # [T]\n",
    "interstage.Ldip = lambda E: 0.8 * np.sqrt(E/10e9) # [m(eV)]\n",
    "\n",
    "# beam delivery system\n",
    "bds = BeamDeliverySystemBasic()\n",
    "bds.beta_waist_x = 8e-3 # [m]\n",
    "bds.beta_waist_y = 0.4e-3 # [m]\n",
    "bds.L = 20\n",
    "\n",
    "# define linac\n",
    "linac = Linac(source, stage, interstage, bds, 14)\n",
    "\n",
    "# define interaction point\n",
    "ip = InteractionPointGUINEAPIG()\n",
    "\n",
    "# define collider\n",
    "collider = Collider(linac, bds, ip)\n",
    "\n",
    "# track particles\n",
    "collider.run(\"gamma-gamma\", shots=10, overwrite=False)\n",
    "\n",
    "# plot survery and beam evolution\n",
    "stage.plotWakefield(source.track())\n",
    "linac.plotSurvey()\n",
    "linac.plotEvolution()\n",
    "linac.plotWaterfalls()"
   ]
  }
 ],
 "metadata": {
  "kernelspec": {
   "display_name": "Python 3 (ipykernel)",
   "language": "python",
   "name": "python3"
  },
  "language_info": {
   "codemirror_mode": {
    "name": "ipython",
    "version": 3
   },
   "file_extension": ".py",
   "mimetype": "text/x-python",
   "name": "python",
   "nbconvert_exporter": "python",
   "pygments_lexer": "ipython3",
   "version": "3.8.13"
  }
 },
 "nbformat": 4,
 "nbformat_minor": 5
}
