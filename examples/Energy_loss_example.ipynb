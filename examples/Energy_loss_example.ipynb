{
 "cells": [
  {
   "cell_type": "markdown",
   "id": "35b4299f-1afc-4fc2-84ef-1af913515b36",
   "metadata": {},
   "source": [
    "# ABEL linac tracking example\n",
    "\n",
    "By Carl A. Lindstrøm (University of Oslo), 8 Sep 2023"
   ]
  },
  {
   "cell_type": "markdown",
   "id": "13270181-9972-4f1f-808a-a86d2e17d53b",
   "metadata": {},
   "source": [
    "### Import ABEL framework"
   ]
  },
  {
   "cell_type": "code",
   "execution_count": 1,
   "id": "e290fd8e-eb5a-4a89-90d3-77765398b1c9",
   "metadata": {},
   "outputs": [],
   "source": [
    "import sys\n",
    "sys.path.append('../')\n",
    "from abel import *\n",
    "import numpy as np\n",
    "import time\n",
    "\n",
    "\n",
    "%load_ext autoreload\n",
    "%autoreload 2"
   ]
  },
  {
   "cell_type": "markdown",
   "id": "92996b82-518c-4e23-bf59-56b55f4021f4",
   "metadata": {},
   "source": [
    "### Define the linac and beams"
   ]
  },
  {
   "cell_type": "code",
   "execution_count": 2,
   "id": "392dc163-469e-4a0e-b98a-376a5d6eef02",
   "metadata": {},
   "outputs": [],
   "source": [
    "# define driver\n",
    "driver = SourceBasic()\n",
    "driver.charge = -2.7e10 * SI.e # [C]\n",
    "driver.energy = 31.25e9 # [eV]\n",
    "driver.rel_energy_spread = 0.01\n",
    "driver.bunch_length = 50e-6 # [m]\n",
    "driver.z_offset = 580e-6 # [m]\n",
    "driver.emit_nx, driver.emit_ny = 80e-6, 80e-6 # [m rad]\n",
    "driver.beta_x, driver.beta_y = 5, 5 #30e-3, 30e-3 # [m]\n",
    "driver.num_particles = 100000\n",
    "driver.jitter.x = 0 # [m] 2e-6\n",
    "driver.jitter.y = 0 # [m] 100e-9\n",
    "driver.jitter.t = 0 # 10e-15 # [m]\n",
    "drive_beam = driver.track()  # Convert a Source object to a Beam object.  ######\n",
    "\n",
    "# define stage\n",
    "stage = StageQuasistatic2d()\n",
    "#stage = StagePrtclTransWakeInstability()                      #######\n",
    "stage.drive_beam = drive_beam                                 #######\n",
    "stage.driver_source = driver\n",
    "stage.nom_energy_gain = 31.9e9 # [eV]\n",
    "stage.length = 11 # [m]\n",
    "stage.plasma_density = 2e21 # [m^-3]\n",
    "stage.ramp_beta_mag = 5\n",
    "stage.radiation_reaction = False\n",
    "stage.save_evolution = False\n",
    "\n",
    "# define first stage (half length)\n",
    "first_stage = StageQuasistatic2d()\n",
    "#first_stage = StagePrtclTransWakeInstability()                      #######\n",
    "first_stage.drive_beam = drive_beam                                 #######\n",
    "first_stage.driver_source = driver\n",
    "first_stage.nom_energy_gain = stage.nom_energy_gain/2\n",
    "first_stage.length = stage.length/2\n",
    "first_stage.plasma_density = stage.plasma_density\n",
    "first_stage.ramp_beta_mag = stage.ramp_beta_mag\n",
    "first_stage.radiation_reaction = stage.radiation_reaction\n",
    "first_stage.save_evolution = stage.save_evolution\n",
    "\n",
    "# define beam\n",
    "source = SourceBasic()\n",
    "source.charge = -1e10 * SI.e # [C]\n",
    "source.energy = 5e9 # [eV]\n",
    "#source.rel_energy_spread = 0.1\n",
    "source.rel_energy_spread = 0.01\n",
    "source.bunch_length = 28e-6 # [m]\n",
    "source.z_offset = 0e-6 # [m]\n",
    "source.emit_nx, source.emit_ny = 160e-6, 0.56e-6 # [m rad]\n",
    "source.beta_x = stage.matched_beta_function(source.energy)\n",
    "source.beta_y = source.beta_x\n",
    "source.num_particles = 50000\n",
    "source.jitter.t = driver.jitter.t\n",
    "\"\"\"\n",
    "main_gamma = energy2gamma(source.energy)\n",
    "main_sigma_x = np.sqrt(source.emit_nx/main_gamma*source.beta_x)  # [m]\n",
    "main_sigma_y = np.sqrt(source.emit_ny/main_gamma*source.beta_y)  # [m]\n",
    "source.x_offset = main_sigma_x*0.1  # [m]\n",
    "source.y_offset = main_sigma_y*0.1  # [m]\n",
    "\"\"\"\n",
    "# define interstage\n",
    "interstage = InterstageBasic()\n",
    "#interstage = InterstageElegant()\n",
    "interstage.beta0 = lambda E: stage.matched_beta_function(E)\n",
    "interstage.dipole_length = lambda E: 1 * np.sqrt(E/10e9) # [m(eV)]\n",
    "interstage.dipole_field = 1.  # [T]\n",
    "#interstage.dipole_field = lambda E: np.min([1.0, 100e9/E]) # [T]\n",
    "\n",
    "# beam delivery system\n",
    "bds = BeamDeliverySystemBasic()\n",
    "bds.beta_x, bds.beta_y = 8e-3, 0.4e-3 # [m]\n",
    "bds.bunch_length = 0.75 * bds.beta_y\n",
    "\n",
    "# define linac\n",
    "linac = Linac()\n",
    "linac.source = source\n",
    "linac.stage = stage\n",
    "linac.first_stage = first_stage\n",
    "linac.interstage = interstage\n",
    "linac.num_stages = 16"
   ]
  },
  {
   "cell_type": "markdown",
   "id": "7c58144f-67e5-4047-b8e1-3cac91160274",
   "metadata": {},
   "source": [
    "### Run simulations"
   ]
  },
  {
   "cell_type": "code",
   "execution_count": 3,
   "id": "fb254ebe-bfea-4903-b1a9-e13f833f763c",
   "metadata": {},
   "outputs": [
    {
     "name": "stdout",
     "output_type": "stream",
     "text": [
      "Tracking element 1 (SourceBasic, stage 0, s = 0.0 m, 5.0 GeV, -1.60 nC, 1.0% rms, 160.5/0.6 µm-rad)\n",
      "Tracking element 2 (StageQuasistatic2d, stage 1, s = 5.5 m, 21.0 GeV, -1.60 nC, 3.1% rms, 160.0/0.6 µm-rad)\n",
      "Tracking element 3 (InterstageBasic, stage 1, s = 12.4 m, 21.0 GeV, -1.60 nC, 3.1% rms, 159.9/0.6 µm-rad)\n",
      "Tracking element 4 (StageQuasistatic2d, stage 2, s = 23.4 m, 52.8 GeV, -1.60 nC, 1.5% rms, 160.4/0.6 µm-rad)\n",
      "Tracking element 5 (InterstageBasic, stage 2, s = 34.4 m, 52.8 GeV, -1.60 nC, 1.5% rms, 160.4/0.6 µm-rad)\n",
      "Tracking element 6 (StageQuasistatic2d, stage 3, s = 45.4 m, 84.6 GeV, -1.60 nC, 0.8% rms, 160.0/0.6 µm-rad)\n",
      "Tracking element 7 (InterstageBasic, stage 3, s = 59.4 m, 84.6 GeV, -1.60 nC, 0.8% rms, 160.1/0.6 µm-rad)\n",
      "Tracking element 8 (StageQuasistatic2d, stage 4, s = 70.4 m, 116.5 GeV, -1.60 nC, 0.5% rms, 159.7/0.6 µm-rad)\n",
      "Tracking element 9 (InterstageBasic, stage 4, s = 86.7 m, 116.5 GeV, -1.60 nC, 0.5% rms, 159.7/0.6 µm-rad)\n",
      "Tracking element 10 (StageQuasistatic2d, stage 5, s = 97.7 m, 148.4 GeV, -1.60 nC, 0.4% rms, 159.6/0.6 µm-rad)\n",
      "Tracking element 11 (InterstageBasic, stage 5, s = 116.2 m, 148.4 GeV, -1.60 nC, 0.4% rms, 159.5/0.6 µm-rad)\n",
      "Tracking element 12 (StageQuasistatic2d, stage 6, s = 127.2 m, 180.3 GeV, -1.60 nC, 0.4% rms, 159.4/0.6 µm-rad)\n",
      "Tracking element 13 (InterstageBasic, stage 6, s = 147.5 m, 180.3 GeV, -1.60 nC, 0.4% rms, 159.3/0.6 µm-rad)\n",
      "Tracking element 14 (StageQuasistatic2d, stage 7, s = 158.5 m, 212.3 GeV, -1.60 nC, 0.4% rms, 159.4/0.6 µm-rad)\n",
      "Tracking element 15 (InterstageBasic, stage 7, s = 180.6 m, 212.3 GeV, -1.60 nC, 0.4% rms, 159.4/0.6 µm-rad)\n",
      "Tracking element 16 (StageQuasistatic2d, stage 8, s = 191.6 m, 244.1 GeV, -1.60 nC, 0.4% rms, 159.7/0.6 µm-rad)\n",
      "Tracking element 17 (InterstageBasic, stage 8, s = 215.2 m, 244.1 GeV, -1.60 nC, 0.4% rms, 159.7/0.6 µm-rad)\n",
      "Tracking element 18 (StageQuasistatic2d, stage 9, s = 226.2 m, 276.1 GeV, -1.60 nC, 0.4% rms, 159.8/0.6 µm-rad)\n",
      "Tracking element 19 (InterstageBasic, stage 9, s = 251.4 m, 276.1 GeV, -1.60 nC, 0.4% rms, 159.8/0.6 µm-rad)\n",
      "Tracking element 20 (StageQuasistatic2d, stage 10, s = 262.4 m, 308.0 GeV, -1.60 nC, 0.4% rms, 159.9/0.6 µm-rad)\n",
      "Tracking element 21 (InterstageBasic, stage 10, s = 289.0 m, 308.0 GeV, -1.60 nC, 0.4% rms, 160.0/0.6 µm-rad)\n",
      "Tracking element 22 (StageQuasistatic2d, stage 11, s = 300.0 m, 339.9 GeV, -1.60 nC, 0.4% rms, 160.1/0.6 µm-rad)\n",
      "Tracking element 23 (InterstageBasic, stage 11, s = 327.9 m, 339.9 GeV, -1.60 nC, 0.4% rms, 160.1/0.6 µm-rad)\n",
      "Tracking element 24 (StageQuasistatic2d, stage 12, s = 338.9 m, 371.8 GeV, -1.60 nC, 0.4% rms, 160.2/0.6 µm-rad)\n",
      "Tracking element 25 (InterstageBasic, stage 12, s = 368.1 m, 371.8 GeV, -1.60 nC, 0.4% rms, 160.1/0.6 µm-rad)\n",
      "Tracking element 26 (StageQuasistatic2d, stage 13, s = 379.1 m, 403.7 GeV, -1.60 nC, 0.3% rms, 160.2/0.6 µm-rad)\n",
      "Tracking element 27 (InterstageBasic, stage 13, s = 409.5 m, 403.7 GeV, -1.60 nC, 0.3% rms, 160.2/0.6 µm-rad)\n",
      "Tracking element 28 (StageQuasistatic2d, stage 14, s = 420.5 m, 435.7 GeV, -1.60 nC, 0.3% rms, 160.3/0.6 µm-rad)\n",
      "Tracking element 29 (InterstageBasic, stage 14, s = 452.1 m, 435.7 GeV, -1.60 nC, 0.3% rms, 160.3/0.6 µm-rad)\n",
      "Tracking element 30 (StageQuasistatic2d, stage 15, s = 463.1 m, 467.6 GeV, -1.60 nC, 0.3% rms, 160.3/0.6 µm-rad)\n",
      "Tracking element 31 (InterstageBasic, stage 15, s = 495.8 m, 467.6 GeV, -1.60 nC, 0.3% rms, 160.3/0.6 µm-rad)\n",
      "Tracking element 32 (StageQuasistatic2d, stage 16, s = 506.8 m, 499.5 GeV, -1.60 nC, 0.2% rms, 160.3/0.6 µm-rad)\n",
      "0.9542404055595398  min\n"
     ]
    }
   ],
   "source": [
    "start = time.time()\n",
    "linac.run('linac_energy_loss_first_stages', num_shots=1, overwrite=True, parallel=False);\n",
    "end = time.time()\n",
    "\n",
    "print((end - start)/60, ' min') # time in minutes"
   ]
  },
  {
   "cell_type": "markdown",
   "id": "be3e5073-4225-461b-ba48-a1046a273183",
   "metadata": {},
   "source": [
    "### Plot the wakefield"
   ]
  },
  {
   "cell_type": "code",
   "execution_count": 4,
   "id": "e400fdd1-a859-477d-b4e1-c6fa466fb645",
   "metadata": {},
   "outputs": [],
   "source": [
    "# define driver\n",
    "driver = SourceBasic()\n",
    "driver.charge = -2.7e10 * SI.e # [C]\n",
    "driver.energy = 31.25e9 # [eV]\n",
    "driver.rel_energy_spread = 0.01\n",
    "driver.bunch_length = 50e-6 # [m]\n",
    "driver.z_offset = 580e-6 # [m]\n",
    "driver.emit_nx, driver.emit_ny = 80e-6, 80e-6 # [m rad]\n",
    "driver.beta_x, driver.beta_y = 5, 5 #30e-3, 30e-3 # [m]\n",
    "driver.num_particles = 100000\n",
    "driver.jitter.x = 0 # [m] 2e-6\n",
    "driver.jitter.y = 0 # [m] 100e-9\n",
    "driver.jitter.t = 0 # 10e-15 # [m]\n",
    "drive_beam = driver.track()  # Convert a Source object to a Beam object.  ######\n",
    "\n",
    "# define stage\n",
    "stage = StageQuasistatic2d()\n",
    "#stage = StagePrtclTransWakeInstability()                      #######\n",
    "stage.drive_beam = drive_beam                                 #######\n",
    "stage.driver_source = driver\n",
    "stage.nom_energy_gain = 31.9e9 # [eV]\n",
    "stage.length = 11 # [m]\n",
    "stage.plasma_density = 2e21 # [m^-3]\n",
    "stage.ramp_beta_mag = 5\n",
    "stage.radiation_reaction = False\n",
    "stage.save_evolution = False\n",
    "\n",
    "end_beam = linac.get_beam(-1)\n",
    "new_source = SourceBasic()\n",
    "new_source.charge = end_beam.charge()\n",
    "new_source.energy = end_beam.energy()\n",
    "new_source.rel_energy_spread = end_beam.rel_energy_spread()\n",
    "new_source.bunch_length = end_beam.bunch_length()\n",
    "new_source.z_offset = end_beam.z_offset()\n",
    "new_source.emit_nx, source.emit_ny = end_beam.norm_emittance_x(), end_beam.norm_emittance_y()\n",
    "new_source.beta_x = end_beam.beta_x()\n",
    "new_source.beta_y = end_beam.beta_y()\n",
    "new_source.num_particles = len(end_beam.xs())\n",
    "new_source.jitter.t = driver.jitter.t"
   ]
  },
  {
   "cell_type": "code",
   "execution_count": 5,
   "id": "01aae75b-5c7a-44bf-8e1f-98f80c4054f8",
   "metadata": {},
   "outputs": [],
   "source": [
    "new_linac = Linac()\n",
    "new_linac.source = new_source\n",
    "new_linac.stage = stage\n",
    "#linac.first_stage = first_stage\n",
    "#linac.interstage = interstage\n",
    "new_linac.num_stages = 1"
   ]
  },
  {
   "cell_type": "code",
   "execution_count": 6,
   "id": "cd65d747-3efd-4c13-8b43-dd81d3cf9dbc",
   "metadata": {},
   "outputs": [
    {
     "ename": "ZeroDivisionError",
     "evalue": "Weights sum to zero, can't be normalized",
     "output_type": "error",
     "traceback": [
      "\u001b[0;31m---------------------------------------------------------------------------\u001b[0m",
      "\u001b[0;31mZeroDivisionError\u001b[0m                         Traceback (most recent call last)",
      "Cell \u001b[0;32mIn[6], line 2\u001b[0m\n\u001b[1;32m      1\u001b[0m start \u001b[38;5;241m=\u001b[39m time\u001b[38;5;241m.\u001b[39mtime()\n\u001b[0;32m----> 2\u001b[0m \u001b[43mnew_linac\u001b[49m\u001b[38;5;241;43m.\u001b[39;49m\u001b[43mrun\u001b[49m\u001b[43m(\u001b[49m\u001b[38;5;124;43m'\u001b[39;49m\u001b[38;5;124;43mlinac_Energy_loss_new_source\u001b[39;49m\u001b[38;5;124;43m'\u001b[39;49m\u001b[43m,\u001b[49m\u001b[43m \u001b[49m\u001b[43mnum_shots\u001b[49m\u001b[38;5;241;43m=\u001b[39;49m\u001b[38;5;241;43m1\u001b[39;49m\u001b[43m,\u001b[49m\u001b[43m \u001b[49m\u001b[43moverwrite\u001b[49m\u001b[38;5;241;43m=\u001b[39;49m\u001b[38;5;28;43;01mTrue\u001b[39;49;00m\u001b[43m,\u001b[49m\u001b[43m \u001b[49m\u001b[43mparallel\u001b[49m\u001b[38;5;241;43m=\u001b[39;49m\u001b[38;5;28;43;01mFalse\u001b[39;49;00m\u001b[43m)\u001b[49m;\n\u001b[1;32m      3\u001b[0m end \u001b[38;5;241m=\u001b[39m time\u001b[38;5;241m.\u001b[39mtime()\n\u001b[1;32m      5\u001b[0m \u001b[38;5;28mprint\u001b[39m((end \u001b[38;5;241m-\u001b[39m start)\u001b[38;5;241m/\u001b[39m\u001b[38;5;241m60\u001b[39m, \u001b[38;5;124m'\u001b[39m\u001b[38;5;124m min\u001b[39m\u001b[38;5;124m'\u001b[39m) \u001b[38;5;66;03m# time in minutes\u001b[39;00m\n",
      "File \u001b[0;32m/pfs/lustrep2/scratch/project_465000445/kalvik/ABEL/examples/../abel/classes/runnable.py:50\u001b[0m, in \u001b[0;36mRunnable.run\u001b[0;34m(self, run_name, num_shots, savedepth, verbose, overwrite, parallel, max_cores)\u001b[0m\n\u001b[1;32m     46\u001b[0m \u001b[38;5;28;01melse\u001b[39;00m:   \n\u001b[1;32m     47\u001b[0m     \n\u001b[1;32m     48\u001b[0m     \u001b[38;5;66;03m# perform in-series tracking\u001b[39;00m\n\u001b[1;32m     49\u001b[0m     \u001b[38;5;28;01mfor\u001b[39;00m shot \u001b[38;5;129;01min\u001b[39;00m \u001b[38;5;28mrange\u001b[39m(num_shots):\n\u001b[0;32m---> 50\u001b[0m         \u001b[38;5;28;43mself\u001b[39;49m\u001b[38;5;241;43m.\u001b[39;49m\u001b[43mperform_shot\u001b[49m\u001b[43m(\u001b[49m\u001b[43mshot\u001b[49m\u001b[43m)\u001b[49m\n\u001b[1;32m     52\u001b[0m \u001b[38;5;66;03m# return final beam from first shot\u001b[39;00m\n\u001b[1;32m     53\u001b[0m \u001b[38;5;28mself\u001b[39m\u001b[38;5;241m.\u001b[39m\u001b[38;5;18m__dict__\u001b[39m\u001b[38;5;241m.\u001b[39mupdate(\u001b[38;5;28mself\u001b[39m[\u001b[38;5;241m0\u001b[39m]\u001b[38;5;241m.\u001b[39m\u001b[38;5;18m__dict__\u001b[39m)\n",
      "File \u001b[0;32m/pfs/lustrep2/scratch/project_465000445/kalvik/ABEL/examples/../abel/classes/runnable.py:83\u001b[0m, in \u001b[0;36mRunnable.perform_shot\u001b[0;34m(self, shot)\u001b[0m\n\u001b[1;32m     80\u001b[0m     \u001b[38;5;28mprint\u001b[39m(\u001b[38;5;124m'\u001b[39m\u001b[38;5;124m>> SHOT \u001b[39m\u001b[38;5;124m'\u001b[39m \u001b[38;5;241m+\u001b[39m \u001b[38;5;28mstr\u001b[39m(shot\u001b[38;5;241m+\u001b[39m\u001b[38;5;241m1\u001b[39m) \u001b[38;5;241m+\u001b[39m \u001b[38;5;124m'\u001b[39m\u001b[38;5;124m/\u001b[39m\u001b[38;5;124m'\u001b[39m \u001b[38;5;241m+\u001b[39m \u001b[38;5;28mstr\u001b[39m(\u001b[38;5;28mself\u001b[39m\u001b[38;5;241m.\u001b[39mnum_shots), flush\u001b[38;5;241m=\u001b[39m\u001b[38;5;28;01mTrue\u001b[39;00m)\n\u001b[1;32m     82\u001b[0m \u001b[38;5;66;03m#if overwrite_from is None: # TODO\u001b[39;00m\n\u001b[0;32m---> 83\u001b[0m beam \u001b[38;5;241m=\u001b[39m \u001b[38;5;28;43mself\u001b[39;49m\u001b[38;5;241;43m.\u001b[39;49m\u001b[43mtrack\u001b[49m\u001b[43m(\u001b[49m\u001b[43mbeam\u001b[49m\u001b[38;5;241;43m=\u001b[39;49m\u001b[38;5;28;43;01mNone\u001b[39;49;00m\u001b[43m,\u001b[49m\u001b[43m \u001b[49m\u001b[43msavedepth\u001b[49m\u001b[38;5;241;43m=\u001b[39;49m\u001b[38;5;28;43mself\u001b[39;49m\u001b[38;5;241;43m.\u001b[39;49m\u001b[43msavedepth\u001b[49m\u001b[43m,\u001b[49m\u001b[43m \u001b[49m\u001b[43mrunnable\u001b[49m\u001b[38;5;241;43m=\u001b[39;49m\u001b[38;5;28;43mself\u001b[39;49m\u001b[43m,\u001b[49m\u001b[43m \u001b[49m\u001b[43mverbose\u001b[49m\u001b[38;5;241;43m=\u001b[39;49m\u001b[38;5;28;43mself\u001b[39;49m\u001b[38;5;241;43m.\u001b[39;49m\u001b[43mverbose\u001b[49m\u001b[43m)\u001b[49m\n\u001b[1;32m     85\u001b[0m \u001b[38;5;66;03m# save object to file\u001b[39;00m\n\u001b[1;32m     86\u001b[0m \u001b[38;5;28mself\u001b[39m\u001b[38;5;241m.\u001b[39msave()\n",
      "File \u001b[0;32m/pfs/lustrep2/scratch/project_465000445/kalvik/ABEL/examples/../abel/classes/beamline/beamline.py:36\u001b[0m, in \u001b[0;36mBeamline.track\u001b[0;34m(self, beam, savedepth, runnable, verbose)\u001b[0m\n\u001b[1;32m     34\u001b[0m \u001b[38;5;66;03m# perform element-wise tracking\u001b[39;00m\n\u001b[1;32m     35\u001b[0m \u001b[38;5;28;01mfor\u001b[39;00m trackable \u001b[38;5;129;01min\u001b[39;00m \u001b[38;5;28mself\u001b[39m\u001b[38;5;241m.\u001b[39mtrackables:\n\u001b[0;32m---> 36\u001b[0m     beam \u001b[38;5;241m=\u001b[39m \u001b[43mtrackable\u001b[49m\u001b[38;5;241;43m.\u001b[39;49m\u001b[43mtrack\u001b[49m\u001b[43m(\u001b[49m\u001b[43mbeam\u001b[49m\u001b[43m,\u001b[49m\u001b[43m \u001b[49m\u001b[43msavedepth\u001b[49m\u001b[38;5;241;43m-\u001b[39;49m\u001b[38;5;241;43m1\u001b[39;49m\u001b[43m,\u001b[49m\u001b[43m \u001b[49m\u001b[43mrunnable\u001b[49m\u001b[43m,\u001b[49m\u001b[43m \u001b[49m\u001b[43mverbose\u001b[49m\u001b[43m)\u001b[49m\n\u001b[1;32m     38\u001b[0m \u001b[38;5;28;01mreturn\u001b[39;00m beam\n",
      "File \u001b[0;32m/pfs/lustrep2/scratch/project_465000445/kalvik/ABEL/examples/../abel/classes/source/impl/source_basic.py:95\u001b[0m, in \u001b[0;36mSourceBasic.track\u001b[0;34m(self, _, savedepth, runnable, verbose)\u001b[0m\n\u001b[1;32m     92\u001b[0m \u001b[38;5;66;03m# create phase space\u001b[39;00m\n\u001b[1;32m     93\u001b[0m beam\u001b[38;5;241m.\u001b[39mset_phase_space(xs\u001b[38;5;241m=\u001b[39mxs, ys\u001b[38;5;241m=\u001b[39mys, zs\u001b[38;5;241m=\u001b[39mzs, xps\u001b[38;5;241m=\u001b[39mxps, yps\u001b[38;5;241m=\u001b[39myps, Es\u001b[38;5;241m=\u001b[39mEs, Q\u001b[38;5;241m=\u001b[39m\u001b[38;5;28mself\u001b[39m\u001b[38;5;241m.\u001b[39mcharge)\n\u001b[0;32m---> 95\u001b[0m \u001b[38;5;28;01mreturn\u001b[39;00m \u001b[38;5;28;43msuper\u001b[39;49m\u001b[43m(\u001b[49m\u001b[43m)\u001b[49m\u001b[38;5;241;43m.\u001b[39;49m\u001b[43mtrack\u001b[49m\u001b[43m(\u001b[49m\u001b[43mbeam\u001b[49m\u001b[43m,\u001b[49m\u001b[43m \u001b[49m\u001b[43msavedepth\u001b[49m\u001b[43m,\u001b[49m\u001b[43m \u001b[49m\u001b[43mrunnable\u001b[49m\u001b[43m,\u001b[49m\u001b[43m \u001b[49m\u001b[43mverbose\u001b[49m\u001b[43m)\u001b[49m\n",
      "File \u001b[0;32m/pfs/lustrep2/scratch/project_465000445/kalvik/ABEL/examples/../abel/classes/source/source.py:15\u001b[0m, in \u001b[0;36mSource.track\u001b[0;34m(self, beam, savedepth, runnable, verbose)\u001b[0m\n\u001b[1;32m     13\u001b[0m beam\u001b[38;5;241m.\u001b[39mstage_number \u001b[38;5;241m=\u001b[39m \u001b[38;5;241m0\u001b[39m\n\u001b[1;32m     14\u001b[0m beam\u001b[38;5;241m.\u001b[39mtrackable_number \u001b[38;5;241m=\u001b[39m \u001b[38;5;241m-\u001b[39m\u001b[38;5;241m1\u001b[39m\n\u001b[0;32m---> 15\u001b[0m \u001b[38;5;28;01mreturn\u001b[39;00m \u001b[38;5;28;43msuper\u001b[39;49m\u001b[43m(\u001b[49m\u001b[43m)\u001b[49m\u001b[38;5;241;43m.\u001b[39;49m\u001b[43mtrack\u001b[49m\u001b[43m(\u001b[49m\u001b[43mbeam\u001b[49m\u001b[43m,\u001b[49m\u001b[43m \u001b[49m\u001b[43msavedepth\u001b[49m\u001b[43m,\u001b[49m\u001b[43m \u001b[49m\u001b[43mrunnable\u001b[49m\u001b[43m,\u001b[49m\u001b[43m \u001b[49m\u001b[43mverbose\u001b[49m\u001b[43m)\u001b[49m\n",
      "File \u001b[0;32m/pfs/lustrep2/scratch/project_465000445/kalvik/ABEL/examples/../abel/classes/trackable.py:22\u001b[0m, in \u001b[0;36mTrackable.track\u001b[0;34m(self, beam, savedepth, runnable, verbose)\u001b[0m\n\u001b[1;32m     18\u001b[0m \u001b[38;5;28;01mif\u001b[39;00m savedepth \u001b[38;5;241m>\u001b[39m\u001b[38;5;241m=\u001b[39m \u001b[38;5;241m0\u001b[39m:\n\u001b[1;32m     19\u001b[0m     \n\u001b[1;32m     20\u001b[0m     \u001b[38;5;66;03m# describe tracking\u001b[39;00m\n\u001b[1;32m     21\u001b[0m     \u001b[38;5;28;01mif\u001b[39;00m verbose:\n\u001b[0;32m---> 22\u001b[0m         \u001b[38;5;28mprint\u001b[39m(\u001b[38;5;124mf\u001b[39m\u001b[38;5;124m\"\u001b[39m\u001b[38;5;124mTracking element \u001b[39m\u001b[38;5;132;01m{\u001b[39;00mbeam\u001b[38;5;241m.\u001b[39mtrackable_number\u001b[38;5;241m+\u001b[39m\u001b[38;5;241m1\u001b[39m\u001b[38;5;132;01m}\u001b[39;00m\u001b[38;5;124m (\u001b[39m\u001b[38;5;132;01m{\u001b[39;00m\u001b[38;5;28mtype\u001b[39m(\u001b[38;5;28mself\u001b[39m)\u001b[38;5;241m.\u001b[39m\u001b[38;5;18m__name__\u001b[39m\u001b[38;5;132;01m}\u001b[39;00m\u001b[38;5;124m, stage \u001b[39m\u001b[38;5;132;01m{\u001b[39;00mbeam\u001b[38;5;241m.\u001b[39mstage_number\u001b[38;5;132;01m}\u001b[39;00m\u001b[38;5;124m, s = \u001b[39m\u001b[38;5;132;01m{\u001b[39;00mbeam\u001b[38;5;241m.\u001b[39mlocation\u001b[38;5;132;01m:\u001b[39;00m\u001b[38;5;124m.1f\u001b[39m\u001b[38;5;132;01m}\u001b[39;00m\u001b[38;5;124m m, \u001b[39m\u001b[38;5;132;01m{\u001b[39;00mbeam\u001b[38;5;241m.\u001b[39menergy()\u001b[38;5;241m/\u001b[39m\u001b[38;5;241m1e9\u001b[39m\u001b[38;5;132;01m:\u001b[39;00m\u001b[38;5;124m.1f\u001b[39m\u001b[38;5;132;01m}\u001b[39;00m\u001b[38;5;124m GeV, \u001b[39m\u001b[38;5;132;01m{\u001b[39;00mbeam\u001b[38;5;241m.\u001b[39mcharge()\u001b[38;5;241m*\u001b[39m\u001b[38;5;241m1e9\u001b[39m\u001b[38;5;132;01m:\u001b[39;00m\u001b[38;5;124m.2f\u001b[39m\u001b[38;5;132;01m}\u001b[39;00m\u001b[38;5;124m nC, \u001b[39m\u001b[38;5;132;01m{\u001b[39;00mbeam\u001b[38;5;241m.\u001b[39mrel_energy_spread()\u001b[38;5;241m/\u001b[39m\u001b[38;5;241m1e-2\u001b[39m\u001b[38;5;132;01m:\u001b[39;00m\u001b[38;5;124m.1f\u001b[39m\u001b[38;5;132;01m}\u001b[39;00m\u001b[38;5;124m% rms, \u001b[39m\u001b[38;5;132;01m{\u001b[39;00mbeam\u001b[38;5;241m.\u001b[39mnorm_emittance_x()\u001b[38;5;241m/\u001b[39m\u001b[38;5;241m1e-6\u001b[39m\u001b[38;5;132;01m:\u001b[39;00m\u001b[38;5;124m.1f\u001b[39m\u001b[38;5;132;01m}\u001b[39;00m\u001b[38;5;124m/\u001b[39m\u001b[38;5;132;01m{\u001b[39;00mbeam\u001b[38;5;241m.\u001b[39mnorm_emittance_y()\u001b[38;5;241m/\u001b[39m\u001b[38;5;241m1e-6\u001b[39m\u001b[38;5;132;01m:\u001b[39;00m\u001b[38;5;124m.1f\u001b[39m\u001b[38;5;132;01m}\u001b[39;00m\u001b[38;5;124m µm-rad)\u001b[39m\u001b[38;5;124m\"\u001b[39m)\n\u001b[1;32m     24\u001b[0m     \u001b[38;5;66;03m# save to file\u001b[39;00m\n\u001b[1;32m     25\u001b[0m     \u001b[38;5;28;01mif\u001b[39;00m runnable \u001b[38;5;129;01mis\u001b[39;00m \u001b[38;5;129;01mnot\u001b[39;00m \u001b[38;5;28;01mNone\u001b[39;00m:\n",
      "File \u001b[0;32m/pfs/lustrep2/scratch/project_465000445/kalvik/ABEL/examples/../abel/classes/beam.py:235\u001b[0m, in \u001b[0;36mBeam.energy\u001b[0;34m(self, clean)\u001b[0m\n\u001b[1;32m    234\u001b[0m \u001b[38;5;28;01mdef\u001b[39;00m \u001b[38;5;21menergy\u001b[39m(\u001b[38;5;28mself\u001b[39m, clean\u001b[38;5;241m=\u001b[39m\u001b[38;5;28;01mFalse\u001b[39;00m):\n\u001b[0;32m--> 235\u001b[0m     \u001b[38;5;28;01mreturn\u001b[39;00m \u001b[43mweighted_mean\u001b[49m\u001b[43m(\u001b[49m\u001b[38;5;28;43mself\u001b[39;49m\u001b[38;5;241;43m.\u001b[39;49m\u001b[43mEs\u001b[49m\u001b[43m(\u001b[49m\u001b[43m)\u001b[49m\u001b[43m,\u001b[49m\u001b[43m \u001b[49m\u001b[38;5;28;43mself\u001b[39;49m\u001b[38;5;241;43m.\u001b[39;49m\u001b[43mweightings\u001b[49m\u001b[43m(\u001b[49m\u001b[43m)\u001b[49m\u001b[43m,\u001b[49m\u001b[43m \u001b[49m\u001b[43mclean\u001b[49m\u001b[43m)\u001b[49m\n",
      "File \u001b[0;32m/pfs/lustrep2/scratch/project_465000445/kalvik/ABEL/examples/../abel/utilities/statistics.py:24\u001b[0m, in \u001b[0;36mweighted_mean\u001b[0;34m(values, weights, clean, cut_percentile)\u001b[0m\n\u001b[1;32m     22\u001b[0m \u001b[38;5;28;01mdef\u001b[39;00m \u001b[38;5;21mweighted_mean\u001b[39m(values, weights, clean\u001b[38;5;241m=\u001b[39m\u001b[38;5;28;01mFalse\u001b[39;00m, cut_percentile\u001b[38;5;241m=\u001b[39m\u001b[38;5;241m5\u001b[39m):\n\u001b[1;32m     23\u001b[0m     mask \u001b[38;5;241m=\u001b[39m clean_mask(values, enable\u001b[38;5;241m=\u001b[39mclean, cut_percentile\u001b[38;5;241m=\u001b[39m\u001b[38;5;241m5\u001b[39m)\n\u001b[0;32m---> 24\u001b[0m     \u001b[38;5;28;01mreturn\u001b[39;00m \u001b[43mnp\u001b[49m\u001b[38;5;241;43m.\u001b[39;49m\u001b[43maverage\u001b[49m\u001b[43m(\u001b[49m\u001b[43mvalues\u001b[49m\u001b[43m[\u001b[49m\u001b[43mmask\u001b[49m\u001b[43m]\u001b[49m\u001b[43m,\u001b[49m\u001b[43m \u001b[49m\u001b[43mweights\u001b[49m\u001b[38;5;241;43m=\u001b[39;49m\u001b[43mweights\u001b[49m\u001b[43m[\u001b[49m\u001b[43mmask\u001b[49m\u001b[43m]\u001b[49m\u001b[43m)\u001b[49m\n",
      "File \u001b[0;32m<__array_function__ internals>:200\u001b[0m, in \u001b[0;36maverage\u001b[0;34m(*args, **kwargs)\u001b[0m\n",
      "File \u001b[0;32m/pfs/lustrep2/scratch/project_465000445/kalvik/master_kalvik/lib/python3.9/site-packages/numpy/lib/function_base.py:548\u001b[0m, in \u001b[0;36maverage\u001b[0;34m(a, axis, weights, returned, keepdims)\u001b[0m\n\u001b[1;32m    546\u001b[0m     scl \u001b[38;5;241m=\u001b[39m wgt\u001b[38;5;241m.\u001b[39msum(axis\u001b[38;5;241m=\u001b[39maxis, dtype\u001b[38;5;241m=\u001b[39mresult_dtype, \u001b[38;5;241m*\u001b[39m\u001b[38;5;241m*\u001b[39mkeepdims_kw)\n\u001b[1;32m    547\u001b[0m     \u001b[38;5;28;01mif\u001b[39;00m np\u001b[38;5;241m.\u001b[39many(scl \u001b[38;5;241m==\u001b[39m \u001b[38;5;241m0.0\u001b[39m):\n\u001b[0;32m--> 548\u001b[0m         \u001b[38;5;28;01mraise\u001b[39;00m \u001b[38;5;167;01mZeroDivisionError\u001b[39;00m(\n\u001b[1;32m    549\u001b[0m             \u001b[38;5;124m\"\u001b[39m\u001b[38;5;124mWeights sum to zero, can\u001b[39m\u001b[38;5;124m'\u001b[39m\u001b[38;5;124mt be normalized\u001b[39m\u001b[38;5;124m\"\u001b[39m)\n\u001b[1;32m    551\u001b[0m     avg \u001b[38;5;241m=\u001b[39m avg_as_array \u001b[38;5;241m=\u001b[39m np\u001b[38;5;241m.\u001b[39mmultiply(a, wgt,\n\u001b[1;32m    552\u001b[0m                       dtype\u001b[38;5;241m=\u001b[39mresult_dtype)\u001b[38;5;241m.\u001b[39msum(axis, \u001b[38;5;241m*\u001b[39m\u001b[38;5;241m*\u001b[39mkeepdims_kw) \u001b[38;5;241m/\u001b[39m scl\n\u001b[1;32m    554\u001b[0m \u001b[38;5;28;01mif\u001b[39;00m returned:\n",
      "\u001b[0;31mZeroDivisionError\u001b[0m: Weights sum to zero, can't be normalized"
     ]
    }
   ],
   "source": [
    "start = time.time()\n",
    "new_linac.run('linac_Energy_loss_new_source', num_shots=1, overwrite=True, parallel=False);\n",
    "end = time.time()\n",
    "\n",
    "print((end - start)/60, ' min') # time in minutes"
   ]
  },
  {
   "cell_type": "code",
   "execution_count": null,
   "id": "88f5f86d-c148-4c26-9bb3-3a1fefbe21af",
   "metadata": {},
   "outputs": [],
   "source": []
  }
 ],
 "metadata": {
  "kernelspec": {
   "display_name": "Python 3 (ipykernel)",
   "language": "python",
   "name": "python3"
  },
  "language_info": {
   "codemirror_mode": {
    "name": "ipython",
    "version": 3
   },
   "file_extension": ".py",
   "mimetype": "text/x-python",
   "name": "python",
   "nbconvert_exporter": "python",
   "pygments_lexer": "ipython3",
   "version": "3.9.12"
  }
 },
 "nbformat": 4,
 "nbformat_minor": 5
}
