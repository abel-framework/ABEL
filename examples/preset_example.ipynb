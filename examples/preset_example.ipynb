{
 "cells": [
  {
   "cell_type": "code",
   "execution_count": null,
   "id": "18c3b576-cabe-45a2-a2f5-051ad236d31b",
   "metadata": {},
   "outputs": [
    {
     "name": "stdout",
     "output_type": "stream",
     "text": [
      "/users/lindstrm/.abelconfig.toml\n",
      "Loading ABEL config from '/users/lindstrm/.abelconfig.toml'\n",
      "CONFIG.bind_path = \"/pfs/lustrep4/scratch/project_465001375\"\n",
      "CONFIG.cluster_name = \"lumi\"\n",
      "CONFIG.default_cmap = <matplotlib.colors.ListedColormap object at 0x7f7f43a98810>\n",
      "CONFIG.elegant_exec = \"singularity exec --bind /pfs/lustrep4/scratch/project_465001375:/pfs/lustrep4/scratch/project_465001375 /project/project_465001375/software/elegantelegant.sif \"\n",
      "CONFIG.elegant_path = \"/project/project_465001375/software/elegant\"\n",
      "CONFIG.elegant_rpnflag = \"\"\n",
      "CONFIG.elegant_use_container = True\n",
      "CONFIG.guineapig_path = \"/project/project_465001375/software/guinea-pig/bin\"\n",
      "CONFIG.hipace_binary = \"/project/project_465001375/software/hipace/build/bin/hipace\"\n",
      "CONFIG.hipace_path = \"/project/project_465001375/software/hipace\"\n",
      "CONFIG.partition_name_small = \"small-g\"\n",
      "CONFIG.partition_name_standard = \"standard-g\"\n",
      "CONFIG.plot_fullwidth_default = 18\n",
      "CONFIG.plot_width_default = 8\n",
      "CONFIG.project_name = \"project_465001379\"\n",
      "CONFIG.run_data_path = \"run_data/\"\n",
      "CONFIG.software_path = \"/project/project_465001375/software/\"\n",
      "CONFIG.temp_path = \"run_data/temp/\"\n"
     ]
    }
   ],
   "source": [
    "from abel import HALHFv1, HALHFv2, HALHFgg, Collider, C3\n",
    "import numpy as np\n",
    "%load_ext autoreload\n",
    "%autoreload 2"
   ]
  },
  {
   "cell_type": "markdown",
   "id": "1eba742c-f6b4-4b40-8a6b-a5d5be6fc29e",
   "metadata": {},
   "source": [
    "## HALHF version 1.0 (original paper)"
   ]
  },
  {
   "cell_type": "code",
   "execution_count": null,
   "id": "208ff2ce-1b07-4a88-a5aa-608dd41008af",
   "metadata": {
    "scrolled": true
   },
   "outputs": [],
   "source": [
    "halhf1 = HALHFv1()\n",
    "halhf1.run('preset_example_HALHF1', overwrite=True)"
   ]
  },
  {
   "cell_type": "code",
   "execution_count": null,
   "id": "d0c885c6-c0f8-4a24-911a-32f7b28d3a97",
   "metadata": {},
   "outputs": [],
   "source": [
    "halhf1.linac1.plot_evolution()\n",
    "halhf1.plot_survey()"
   ]
  },
  {
   "cell_type": "code",
   "execution_count": null,
   "id": "77c86797-7769-4b1c-be18-6a59aa04fcfb",
   "metadata": {},
   "outputs": [],
   "source": [
    "halhf1.print_cost()"
   ]
  },
  {
   "cell_type": "markdown",
   "id": "4dcfaad8-6328-4581-ab21-99bd27a85c17",
   "metadata": {},
   "source": [
    "## HALHF version 2.0 (baseline update)"
   ]
  },
  {
   "cell_type": "code",
   "execution_count": null,
   "id": "e1193761-9618-45be-9e75-1b1fac828fd9",
   "metadata": {},
   "outputs": [],
   "source": [
    "halhf2 = HALHFv2()\n",
    "halhf2.com_energy = 250e9\n",
    "halhf2.run('preset_example_HALHF2', overwrite=True, verbose=False)\n",
    "halhf2.plot_survey()\n",
    "halhf2.print_cost()\n",
    "halhf2.print_power()\n",
    "return"
   ]
  },
  {
   "cell_type": "code",
   "execution_count": null,
   "id": "abda8f87-f950-4587-968f-ec7da9d35cc9",
   "metadata": {},
   "outputs": [],
   "source": [
    "halhf2.linac1.driver_complex.rf_accelerator.plot_power_profile()\n",
    "halhf2.linac1.driver_complex.rf_accelerator.plot_gradient_profile()"
   ]
  },
  {
   "cell_type": "code",
   "execution_count": null,
   "id": "f9122060-99cc-4022-90a5-c00449eadb67",
   "metadata": {
    "scrolled": true
   },
   "outputs": [],
   "source": [
    "halhf2 = HALHFv2()\n",
    "halhf2.com_energy = 550e9\n",
    "best_parameters, best_values = halhf2.optimize('halhf2_optimization_cold', \n",
    "                    parameters=[\n",
    "                        {'name': 'energy_asymmetry', 'type': 'range', 'bounds': [2.0, 4.0], 'value_type': 'float', 'log_scale': True}, \n",
    "                        {'name': 'num_bunches_in_train', 'type': 'range', 'value_type': 'int', 'bounds': [100, 200], 'log_scale': True},\n",
    "                        #{'name': 'rep_rate_trains', 'type': 'range', 'value_type': 'float', 'bounds': [50, 200], 'log_scale': True},\n",
    "                        #{'name': 'combiner_ring_compression_factor', 'type': 'range', 'value_type': 'int', 'bounds': [2, 5]},\n",
    "                        {'name': 'driver_separation_num_buckets', 'type': 'range', 'value_type': 'int', 'bounds': [2, 7]},\n",
    "                        {'name': 'driver_linac_num_structures_per_klystron', 'type': 'range', 'value_type': 'float', 'bounds': [0.5, 2.0], 'log_scale': True},\n",
    "                        {'name': 'driver_linac_gradient', 'type': 'range', 'value_type': 'float', 'bounds': [1e6, 8e6], 'log_scale': True},\n",
    "                        {'name': 'positron_linac_gradient', 'type': 'range', 'value_type': 'float', 'bounds': [15e6, 60e6], 'log_scale': True},\n",
    "                        {'name': 'positron_linac_num_structures_per_klystron', 'type': 'range', 'value_type': 'int', 'bounds': [50, 400], 'log_scale': True},\n",
    "                        #{'name': 'positron_linac_num_rf_cells', 'type': 'range', 'value_type': 'int', 'bounds': [10, 150], 'log_scale': True},\n",
    "                        #{'name': 'pwfa_num_stages', 'type': 'range', 'value_type': 'int', 'bounds': [5, 50], 'log_scale': True}\n",
    "                    ], \n",
    "                    merit_fcn=Collider.full_programme_cost, label='Collider cost',\n",
    "                    num_shots_per_step=1, num_steps=80,\n",
    "                    parallel=False, overwrite=True, verbose=False)"
   ]
  },
  {
   "cell_type": "code",
   "execution_count": null,
   "id": "cc9ffd9a-0215-4f6a-bff2-643576c393d1",
   "metadata": {},
   "outputs": [],
   "source": [
    "best_parameters"
   ]
  },
  {
   "cell_type": "code",
   "execution_count": null,
   "id": "107924ad-ed48-4c10-b255-a2e1efd9dead",
   "metadata": {},
   "outputs": [],
   "source": [
    "halhf2 = HALHFv2()\n",
    "#halhf2.set_parameters(best_parameters)\n",
    "halhf2.com_energy = 550e9\n",
    "halhf2.run('preset_example_HALHF2', overwrite=True, verbose=True)\n",
    "halhf2.plot_survey()\n",
    "halhf2.print_cost()\n",
    "halhf2.print_power()"
   ]
  },
  {
   "cell_type": "code",
   "execution_count": null,
   "id": "6651d5e2-b8d7-4d42-bfe3-196f1f61ee40",
   "metadata": {},
   "outputs": [],
   "source": [
    "halhf2 = HALHFv2()\n",
    "halhf2.com_energy=550e9\n",
    "#halhf2.plot_cost_variation_for_parameter('driver_linac_gradient', lower=1e6, upper=10e6, scale=1e6, label='Driver linac gradient (MV/m)');\n",
    "#halhf2.plot_cost_variation_for_parameter('driver_separation_num_buckets', lower=1, upper=100, label='Driver separation (number of buckets)');\n",
    "halhf2.plot_cost_variation_for_parameter('combiner_ring_compression_factor', lower=1, upper=12, label='Combiner ring compression factor', xscale='linear', num_steps=12);\n",
    "#halhf2.plot_cost_variation_for_parameter('energy_asymmetry', lower=1, upper=4, label='Energy asymmetry', xscale='log', num_steps=21);\n",
    "#halhf2.plot_cost_variation_for_parameter('positron_linac_gradient', lower=10e6, upper=100e6, scale=1e6, label='Positron linac gradient (MV/m)');\n",
    "#halhf2.plot_cost_variation_for_parameter('pwfa_num_stages', lower=5, upper=100, label='Number of PWFA stages');"
   ]
  },
  {
   "cell_type": "markdown",
   "id": "fff1dccd-f4ce-49ba-b545-82cc16442ee7",
   "metadata": {},
   "source": [
    "## Cool Copper Collider"
   ]
  },
  {
   "cell_type": "code",
   "execution_count": null,
   "id": "a3421761-f2be-40fe-9e17-de5fe1e5ae09",
   "metadata": {},
   "outputs": [],
   "source": [
    "cool_copper_collider = C3()\n",
    "cool_copper_collider.run('preset_example_C3', overwrite=True)\n",
    "cool_copper_collider.plot_survey()\n",
    "cool_copper_collider.print_cost()\n",
    "cool_copper_collider.print_power()"
   ]
  },
  {
   "cell_type": "code",
   "execution_count": null,
   "id": "1c7ab0dc-b640-4e7a-8dde-5a68570f29a0",
   "metadata": {},
   "outputs": [],
   "source": [
    "cool_copper_collider = C3()\n",
    "cool_copper_collider.com_energy = 550e9\n",
    "best_parameters, best_values = cool_copper_collider.optimize('c3_optimization', \n",
    "                    parameters=[\n",
    "                        #{'name': 'num_bunches_in_train', 'type': 'range', 'value_type': 'int', 'bounds': [100, 200], 'log_scale': True},\n",
    "                        #{'name': 'rep_rate_trains', 'type': 'range', 'value_type': 'float', 'bounds': [50, 200], 'log_scale': True},\n",
    "                        #{'name': 'rf_frequency', 'type': 'range', 'value_type': 'float', 'bounds': [1e9, 12e9], 'log_scale': True},\n",
    "                        {'name': 'bunch_separation_ns', 'type': 'range', 'value_type': 'float', 'bounds': [0.5, 50], 'log_scale': True},\n",
    "                        {'name': 'linac_gradient', 'type': 'range', 'value_type': 'float', 'bounds': [10e6, 100e6], 'log_scale': True},\n",
    "                        {'name': 'num_structures_per_klystron', 'type': 'range', 'value_type': 'int', 'bounds': [50, 500], 'log_scale': True},\n",
    "                    ], \n",
    "                    merit_fcn=Collider.full_programme_cost, label='Collider cost',\n",
    "                    num_shots_per_step=1, num_steps=50,\n",
    "                    parallel=False, overwrite=True, verbose=False)"
   ]
  },
  {
   "cell_type": "code",
   "execution_count": null,
   "id": "2b0b3d06-354c-4ae6-bb94-a9668a94239f",
   "metadata": {},
   "outputs": [],
   "source": [
    "cool_copper_collider.set_parameters(best_parameters)\n",
    "cool_copper_collider.num_structures_per_klystron = 270\n",
    "cool_copper_collider.run('preset_example_C3_opt', overwrite=True)\n",
    "cool_copper_collider.plot_survey()\n",
    "cool_copper_collider.print_cost()\n",
    "cool_copper_collider.print_power()"
   ]
  },
  {
   "cell_type": "code",
   "execution_count": null,
   "id": "01842399-f6cd-4710-bc56-7abf769bcf3d",
   "metadata": {},
   "outputs": [],
   "source": []
  }
 ],
 "metadata": {
  "kernelspec": {
   "display_name": "Python 3 (ipykernel)",
   "language": "python",
   "name": "python3"
  },
  "language_info": {
   "codemirror_mode": {
    "name": "ipython",
    "version": 3
   },
   "file_extension": ".py",
   "mimetype": "text/x-python",
   "name": "python",
   "nbconvert_exporter": "python",
   "pygments_lexer": "ipython3",
   "version": "3.11.7"
  }
 },
 "nbformat": 4,
 "nbformat_minor": 5
}
