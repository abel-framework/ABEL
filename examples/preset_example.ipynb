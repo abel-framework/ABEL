{
 "cells": [
  {
   "cell_type": "code",
   "execution_count": 3,
   "id": "18c3b576-cabe-45a2-a2f5-051ad236d31b",
   "metadata": {},
   "outputs": [
    {
     "name": "stdout",
     "output_type": "stream",
     "text": [
      "/users/lindstrm/.abelconfig.toml\n",
      "Loading ABEL config from '/users/lindstrm/.abelconfig.toml'\n"
     ]
    },
    {
     "ename": "TypeError",
     "evalue": "Expecting something like a string",
     "output_type": "error",
     "traceback": [
      "\u001b[0;31m---------------------------------------------------------------------------\u001b[0m",
      "\u001b[0;31mTypeError\u001b[0m                                 Traceback (most recent call last)",
      "Cell \u001b[0;32mIn[3], line 1\u001b[0m\n\u001b[0;32m----> 1\u001b[0m \u001b[38;5;28;01mfrom\u001b[39;00m \u001b[38;5;21;01mabel\u001b[39;00m \u001b[38;5;28;01mimport\u001b[39;00m HALHFv1, HALHFv2, HALHFgg, Collider, C3\n\u001b[1;32m      2\u001b[0m \u001b[38;5;28;01mimport\u001b[39;00m \u001b[38;5;21;01mnumpy\u001b[39;00m \u001b[38;5;28;01mas\u001b[39;00m \u001b[38;5;21;01mnp\u001b[39;00m\n\u001b[1;32m      3\u001b[0m get_ipython()\u001b[38;5;241m.\u001b[39mrun_line_magic(\u001b[38;5;124m'\u001b[39m\u001b[38;5;124mload_ext\u001b[39m\u001b[38;5;124m'\u001b[39m, \u001b[38;5;124m'\u001b[39m\u001b[38;5;124mautoreload\u001b[39m\u001b[38;5;124m'\u001b[39m)\n",
      "File \u001b[0;32m/pfs/lustrep4/scratch/project_465001375/carlal/ABEL_dev/abel/__init__.py:9\u001b[0m\n\u001b[1;32m      7\u001b[0m \u001b[38;5;66;03m# import configuration class\u001b[39;00m\n\u001b[1;32m      8\u001b[0m \u001b[38;5;28;01mfrom\u001b[39;00m \u001b[38;5;21;01m.\u001b[39;00m\u001b[38;5;21;01mCONFIG\u001b[39;00m \u001b[38;5;28;01mimport\u001b[39;00m CONFIG\n\u001b[0;32m----> 9\u001b[0m \u001b[43mCONFIG\u001b[49m\u001b[38;5;241;43m.\u001b[39;49m\u001b[43minitialize\u001b[49m\u001b[43m(\u001b[49m\u001b[43m)\u001b[49m\n\u001b[1;32m     10\u001b[0m CONFIG\u001b[38;5;241m.\u001b[39mprintCONFIG()\n\u001b[1;32m     12\u001b[0m \u001b[38;5;66;03m# import all other classes\u001b[39;00m\n",
      "File \u001b[0;32m/pfs/lustrep4/scratch/project_465001375/carlal/ABEL_dev/abel/CONFIG.py:35\u001b[0m, in \u001b[0;36mCONFIG.initialize\u001b[0;34m(cls)\u001b[0m\n\u001b[1;32m     33\u001b[0m with open(configFile, 'rb') as cf:\n\u001b[1;32m     34\u001b[0m     cfdata = tomllib.load(cf)\n\u001b[0;32m---> 35\u001b[0m #print (cfdata)\n\u001b[1;32m     36\u001b[0m \n\u001b[1;32m     37\u001b[0m #TODO: Keep track of which variables from the toml have been used,\n\u001b[1;32m     38\u001b[0m #      and which haven't, then print a warning at the end\n\u001b[1;32m     40\u001b[0m def parsePath(pathData):\n\u001b[1;32m     41\u001b[0m     \"Helper function to parse abel's toml paths inside initialize()\"\n",
      "File \u001b[0;32m/pfs/lustrep4/scratch/project_465001375/carlal/abel_venv/lib/python3.10/site-packages/toml/decoder.py:156\u001b[0m, in \u001b[0;36mload\u001b[0;34m(f, _dict, decoder)\u001b[0m\n\u001b[1;32m    154\u001b[0m \u001b[38;5;28;01melse\u001b[39;00m:\n\u001b[1;32m    155\u001b[0m     \u001b[38;5;28;01mtry\u001b[39;00m:\n\u001b[0;32m--> 156\u001b[0m         \u001b[38;5;28;01mreturn\u001b[39;00m \u001b[43mloads\u001b[49m\u001b[43m(\u001b[49m\u001b[43mf\u001b[49m\u001b[38;5;241;43m.\u001b[39;49m\u001b[43mread\u001b[49m\u001b[43m(\u001b[49m\u001b[43m)\u001b[49m\u001b[43m,\u001b[49m\u001b[43m \u001b[49m\u001b[43m_dict\u001b[49m\u001b[43m,\u001b[49m\u001b[43m \u001b[49m\u001b[43mdecoder\u001b[49m\u001b[43m)\u001b[49m\n\u001b[1;32m    157\u001b[0m     \u001b[38;5;28;01mexcept\u001b[39;00m \u001b[38;5;167;01mAttributeError\u001b[39;00m:\n\u001b[1;32m    158\u001b[0m         \u001b[38;5;28;01mraise\u001b[39;00m \u001b[38;5;167;01mTypeError\u001b[39;00m(\u001b[38;5;124m\"\u001b[39m\u001b[38;5;124mYou can only load a file descriptor, filename or \u001b[39m\u001b[38;5;124m\"\u001b[39m\n\u001b[1;32m    159\u001b[0m                         \u001b[38;5;124m\"\u001b[39m\u001b[38;5;124mlist\u001b[39m\u001b[38;5;124m\"\u001b[39m)\n",
      "File \u001b[0;32m/pfs/lustrep4/scratch/project_465001375/carlal/abel_venv/lib/python3.10/site-packages/toml/decoder.py:186\u001b[0m, in \u001b[0;36mloads\u001b[0;34m(s, _dict, decoder)\u001b[0m\n\u001b[1;32m    184\u001b[0m currentlevel \u001b[38;5;241m=\u001b[39m retval\n\u001b[1;32m    185\u001b[0m \u001b[38;5;28;01mif\u001b[39;00m \u001b[38;5;129;01mnot\u001b[39;00m \u001b[38;5;28misinstance\u001b[39m(s, basestring):\n\u001b[0;32m--> 186\u001b[0m     \u001b[38;5;28;01mraise\u001b[39;00m \u001b[38;5;167;01mTypeError\u001b[39;00m(\u001b[38;5;124m\"\u001b[39m\u001b[38;5;124mExpecting something like a string\u001b[39m\u001b[38;5;124m\"\u001b[39m)\n\u001b[1;32m    188\u001b[0m \u001b[38;5;28;01mif\u001b[39;00m \u001b[38;5;129;01mnot\u001b[39;00m \u001b[38;5;28misinstance\u001b[39m(s, unicode):\n\u001b[1;32m    189\u001b[0m     s \u001b[38;5;241m=\u001b[39m s\u001b[38;5;241m.\u001b[39mdecode(\u001b[38;5;124m'\u001b[39m\u001b[38;5;124mutf8\u001b[39m\u001b[38;5;124m'\u001b[39m)\n",
      "\u001b[0;31mTypeError\u001b[0m: Expecting something like a string"
     ]
    }
   ],
   "source": [
    "from abel import HALHFv1, HALHFv2, HALHFgg, Collider, C3\n",
    "import numpy as np\n",
    "%load_ext autoreload\n",
    "%autoreload 2"
   ]
  },
  {
   "cell_type": "markdown",
   "id": "1eba742c-f6b4-4b40-8a6b-a5d5be6fc29e",
   "metadata": {},
   "source": [
    "## HALHF version 1.0 (original paper)"
   ]
  },
  {
   "cell_type": "code",
   "execution_count": null,
   "id": "208ff2ce-1b07-4a88-a5aa-608dd41008af",
   "metadata": {
    "scrolled": true
   },
   "outputs": [],
   "source": [
    "halhf1 = HALHFv1()\n",
    "halhf1.run('preset_example_HALHF1', overwrite=True)"
   ]
  },
  {
   "cell_type": "code",
   "execution_count": null,
   "id": "d0c885c6-c0f8-4a24-911a-32f7b28d3a97",
   "metadata": {},
   "outputs": [],
   "source": [
    "halhf1.linac1.plot_evolution()\n",
    "halhf1.plot_survey()"
   ]
  },
  {
   "cell_type": "code",
   "execution_count": null,
   "id": "77c86797-7769-4b1c-be18-6a59aa04fcfb",
   "metadata": {},
   "outputs": [],
   "source": [
    "halhf1.print_cost()"
   ]
  },
  {
   "cell_type": "markdown",
   "id": "4dcfaad8-6328-4581-ab21-99bd27a85c17",
   "metadata": {},
   "source": [
    "## HALHF version 2.0 (baseline update)"
   ]
  },
  {
   "cell_type": "code",
   "execution_count": null,
   "id": "e1193761-9618-45be-9e75-1b1fac828fd9",
   "metadata": {},
   "outputs": [],
   "source": [
    "halhf2 = HALHFv2()\n",
    "halhf2.com_energy = 250e9\n",
    "halhf2.run('preset_example_HALHF2', overwrite=True, verbose=False)\n",
    "halhf2.plot_survey()\n",
    "halhf2.print_cost()\n",
    "halhf2.print_power()\n",
    "return"
   ]
  },
  {
   "cell_type": "code",
   "execution_count": null,
   "id": "abda8f87-f950-4587-968f-ec7da9d35cc9",
   "metadata": {},
   "outputs": [],
   "source": [
    "halhf2.linac1.driver_complex.rf_accelerator.plot_power_profile()\n",
    "halhf2.linac1.driver_complex.rf_accelerator.plot_gradient_profile()"
   ]
  },
  {
   "cell_type": "code",
   "execution_count": null,
   "id": "f9122060-99cc-4022-90a5-c00449eadb67",
   "metadata": {
    "scrolled": true
   },
   "outputs": [],
   "source": [
    "halhf2 = HALHFv2()\n",
    "halhf2.com_energy = 550e9\n",
    "best_parameters, best_values = halhf2.optimize('halhf2_optimization_cold', \n",
    "                    parameters=[\n",
    "                        {'name': 'energy_asymmetry', 'type': 'range', 'bounds': [2.0, 4.0], 'value_type': 'float', 'log_scale': True}, \n",
    "                        {'name': 'num_bunches_in_train', 'type': 'range', 'value_type': 'int', 'bounds': [100, 200], 'log_scale': True},\n",
    "                        #{'name': 'rep_rate_trains', 'type': 'range', 'value_type': 'float', 'bounds': [50, 200], 'log_scale': True},\n",
    "                        #{'name': 'combiner_ring_compression_factor', 'type': 'range', 'value_type': 'int', 'bounds': [2, 5]},\n",
    "                        {'name': 'driver_separation_num_buckets', 'type': 'range', 'value_type': 'int', 'bounds': [2, 7]},\n",
    "                        {'name': 'driver_linac_num_structures_per_klystron', 'type': 'range', 'value_type': 'float', 'bounds': [0.5, 2.0], 'log_scale': True},\n",
    "                        {'name': 'driver_linac_gradient', 'type': 'range', 'value_type': 'float', 'bounds': [1e6, 8e6], 'log_scale': True},\n",
    "                        {'name': 'positron_linac_gradient', 'type': 'range', 'value_type': 'float', 'bounds': [15e6, 60e6], 'log_scale': True},\n",
    "                        {'name': 'positron_linac_num_structures_per_klystron', 'type': 'range', 'value_type': 'int', 'bounds': [50, 400], 'log_scale': True},\n",
    "                        #{'name': 'positron_linac_num_rf_cells', 'type': 'range', 'value_type': 'int', 'bounds': [10, 150], 'log_scale': True},\n",
    "                        #{'name': 'pwfa_num_stages', 'type': 'range', 'value_type': 'int', 'bounds': [5, 50], 'log_scale': True}\n",
    "                    ], \n",
    "                    merit_fcn=Collider.full_programme_cost, label='Collider cost',\n",
    "                    num_shots_per_step=1, num_steps=80,\n",
    "                    parallel=False, overwrite=True, verbose=False)"
   ]
  },
  {
   "cell_type": "code",
   "execution_count": null,
   "id": "cc9ffd9a-0215-4f6a-bff2-643576c393d1",
   "metadata": {},
   "outputs": [],
   "source": [
    "best_parameters"
   ]
  },
  {
   "cell_type": "code",
   "execution_count": null,
   "id": "107924ad-ed48-4c10-b255-a2e1efd9dead",
   "metadata": {},
   "outputs": [],
   "source": [
    "halhf2 = HALHFv2()\n",
    "#halhf2.set_parameters(best_parameters)\n",
    "halhf2.com_energy = 550e9\n",
    "halhf2.run('preset_example_HALHF2', overwrite=True, verbose=True)\n",
    "halhf2.plot_survey()\n",
    "halhf2.print_cost()\n",
    "halhf2.print_power()"
   ]
  },
  {
   "cell_type": "code",
   "execution_count": null,
   "id": "6651d5e2-b8d7-4d42-bfe3-196f1f61ee40",
   "metadata": {},
   "outputs": [],
   "source": [
    "halhf2 = HALHFv2()\n",
    "halhf2.com_energy=550e9\n",
    "#halhf2.plot_cost_variation_for_parameter('driver_linac_gradient', lower=1e6, upper=10e6, scale=1e6, label='Driver linac gradient (MV/m)');\n",
    "#halhf2.plot_cost_variation_for_parameter('driver_separation_num_buckets', lower=1, upper=100, label='Driver separation (number of buckets)');\n",
    "halhf2.plot_cost_variation_for_parameter('combiner_ring_compression_factor', lower=1, upper=12, label='Combiner ring compression factor', xscale='linear', num_steps=12);\n",
    "#halhf2.plot_cost_variation_for_parameter('energy_asymmetry', lower=1, upper=4, label='Energy asymmetry', xscale='log', num_steps=21);\n",
    "#halhf2.plot_cost_variation_for_parameter('positron_linac_gradient', lower=10e6, upper=100e6, scale=1e6, label='Positron linac gradient (MV/m)');\n",
    "#halhf2.plot_cost_variation_for_parameter('pwfa_num_stages', lower=5, upper=100, label='Number of PWFA stages');"
   ]
  },
  {
   "cell_type": "markdown",
   "id": "fff1dccd-f4ce-49ba-b545-82cc16442ee7",
   "metadata": {},
   "source": [
    "## Cool Copper Collider"
   ]
  },
  {
   "cell_type": "code",
   "execution_count": null,
   "id": "a3421761-f2be-40fe-9e17-de5fe1e5ae09",
   "metadata": {},
   "outputs": [],
   "source": [
    "cool_copper_collider = C3()\n",
    "cool_copper_collider.run('preset_example_C3', overwrite=True)\n",
    "cool_copper_collider.plot_survey()\n",
    "cool_copper_collider.print_cost()\n",
    "cool_copper_collider.print_power()"
   ]
  },
  {
   "cell_type": "code",
   "execution_count": null,
   "id": "1c7ab0dc-b640-4e7a-8dde-5a68570f29a0",
   "metadata": {},
   "outputs": [],
   "source": [
    "cool_copper_collider = C3()\n",
    "cool_copper_collider.com_energy = 550e9\n",
    "best_parameters, best_values = cool_copper_collider.optimize('c3_optimization', \n",
    "                    parameters=[\n",
    "                        #{'name': 'num_bunches_in_train', 'type': 'range', 'value_type': 'int', 'bounds': [100, 200], 'log_scale': True},\n",
    "                        #{'name': 'rep_rate_trains', 'type': 'range', 'value_type': 'float', 'bounds': [50, 200], 'log_scale': True},\n",
    "                        #{'name': 'rf_frequency', 'type': 'range', 'value_type': 'float', 'bounds': [1e9, 12e9], 'log_scale': True},\n",
    "                        {'name': 'bunch_separation_ns', 'type': 'range', 'value_type': 'float', 'bounds': [0.5, 50], 'log_scale': True},\n",
    "                        {'name': 'linac_gradient', 'type': 'range', 'value_type': 'float', 'bounds': [10e6, 100e6], 'log_scale': True},\n",
    "                        {'name': 'num_structures_per_klystron', 'type': 'range', 'value_type': 'int', 'bounds': [50, 500], 'log_scale': True},\n",
    "                    ], \n",
    "                    merit_fcn=Collider.full_programme_cost, label='Collider cost',\n",
    "                    num_shots_per_step=1, num_steps=50,\n",
    "                    parallel=False, overwrite=True, verbose=False)"
   ]
  },
  {
   "cell_type": "code",
   "execution_count": null,
   "id": "2b0b3d06-354c-4ae6-bb94-a9668a94239f",
   "metadata": {},
   "outputs": [],
   "source": [
    "cool_copper_collider.set_parameters(best_parameters)\n",
    "cool_copper_collider.num_structures_per_klystron = 270\n",
    "cool_copper_collider.run('preset_example_C3_opt', overwrite=True)\n",
    "cool_copper_collider.plot_survey()\n",
    "cool_copper_collider.print_cost()\n",
    "cool_copper_collider.print_power()"
   ]
  },
  {
   "cell_type": "code",
   "execution_count": null,
   "id": "01842399-f6cd-4710-bc56-7abf769bcf3d",
   "metadata": {},
   "outputs": [],
   "source": []
  }
 ],
 "metadata": {
  "kernelspec": {
   "display_name": "Python 3 (venv)",
   "language": "python",
   "name": "python3"
  },
  "language_info": {
   "codemirror_mode": {
    "name": "ipython",
    "version": 3
   },
   "file_extension": ".py",
   "mimetype": "text/x-python",
   "name": "python",
   "nbconvert_exporter": "python",
   "pygments_lexer": "ipython3",
   "version": "3.10.10"
  }
 },
 "nbformat": 4,
 "nbformat_minor": 5
}
